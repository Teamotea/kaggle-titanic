# 一つ上の階層からモジュールを参照できるようにする
import sys
sys.path.append('..')


# ロギング用
import os
from datetime import datetime, timezone, timedelta
from logs.logger import create_logger, get_logger
# モデル作成補助用
import numpy as np
import pandas as pd
import matplotlib.pyplot as plt
from features.funcs import load_feather, load_feather_ohe
from evals.funcs import get_pred_result, get_acc_and_logloss, print_conf_matrix
from inputs.funcs import load_data
# モデル作成用
from models.keras import ModelKeras
from keras.layers import Dense, Dropout


# モジュールの変更を自動的に反映する
get_ipython().run_line_magic("load_ext", " autoreload")
get_ipython().run_line_magic("autoreload", " 2")


# loggingの設定を行う
today = datetime.now(timezone(timedelta(hours=9))).strftime('%Y%m%d')
exp_version = today
os.environ['exp_version'] = exp_version
create_logger(exp_version)


os.listdir('../features/nn')


def save_submission(submission_df):
    file_name = 'keras_submission_{}'.format(today)
    file_name_suffix = input(f'Enter File Suffix: {file_name}_...')
    submission_file_path = f'submissions/nn/{file_name}_{file_name_suffix}.csv'
    submission_df.to_csv(submission_file_path, index=False)


train_x, train_y, test_x = load_data()


train_x = train_x.drop(['PassengerId', 'Name', 'Cabin', 'Ticket', 'Sex', 'Embarked'], axis=1)
train_x = train_x.dropna()
train_y = train_y.iloc[train_x.index]


model = ModelKeras(logging=True)
layer1 = Dense(1024, activation='relu', input_shape=(train_x.shape[1],))
layer2 = Dense(1024, activation='relu')
layer3 = Dense(1024, activation='relu')
layer3 = Dense(1024, activation='relu')
layer4 = Dense(1, activation='sigmoid')
model.add_layers(layer1, layer2, layer3, layer4)
model.compile()
model.set_fit_params(epochs=10, verbose=1)


pred_train = get_pred_result(model, train_x, train_y)
get_acc_and_logloss(pred_train, train_y, logging=True)


age_mean = train_x['Age'].mean()
fare_mean = train_x['Fare'].mean()
test_x = test_x.drop(['PassengerId', 'Name', 'Cabin', 'Ticket', 'Sex', 'Embarked'], axis=1)
test_x.loc[test_x['Age'].isna(), 'Age'] = age_mean
test_x.loc[test_x['Fare'].isna(), 'Fare'] = fare_mean
preds = model.predict(test_x)
preds = [round(pred[0]) for pred in preds]


submission = pd.DataFrame({'PassengerId': passenger_id, 'Survived': preds})
save_submission(submission)


train_x, train_y, test_x = load_data()


base_path = '../features/nn/'
cols_to_rplc_train = {
    'Age': base_path + 'age_train_std_te.feather',
    'Fare': base_path + 'fare_train_std_te.feather'
}
train_x = load_feather(train_x, cols_to_rplc_train)
train_x = load_feather_ohe(train_x, base_path + 'train_ohe.feather')
train_x = load_feather_ohe(train_x, base_path + 'train_ohe_2_z.feather')


train_x = train_x.drop(['PassengerId', 'Name', 'Cabin', 'Ticket', 'Sex', 'Embarked', 'Pclass'], axis=1)
train_x = train_x.drop([col for col in train_x.columns if 'Cabin' in col ], axis=1)
train_x = train_x.drop([col for col in train_x.columns if 'Ticket' in col ], axis=1)
train_x = train_x.drop([col for col in train_x.columns if 'Embarked' in col ], axis=1)


model = ModelKeras(logging=True)
layer1 = Dense(1024, activation='relu', input_shape=(train_x.shape[1],))
layer2 = Dense(1024, activation='relu')
layer3 = Dense(1024, activation='relu')
layer3 = Dense(1024, activation='relu')
layer4 = Dense(1, activation='sigmoid')
model.add_layers(layer1, layer2, layer3, layer4)
model.compile()
model.set_fit_params(epochs=3, verbose=1)


pred_train = get_pred_result(model, train_x, train_y)
get_acc_and_logloss(pred_train, train_y, logging=False)


model.fit(tr_x=train_x, tr_y=train_y, va_x=train_x, va_y=train_y)


passenger_id = test_x['PassengerId']


base_path = '../features/nn/'
cols_to_rplc_train = {
    'Age': base_path + 'age_test_std_te.feather',
    'Fare': base_path + 'fare_test_std_te.feather'
}
test_x = load_feather(test_x, cols_to_rplc_train)
test_x = load_feather_ohe(test_x, base_path + 'test_ohe.feather')
test_x = load_feather_ohe(test_x, base_path + 'test_ohe_2_z.feather')


test_x = test_x.drop(['PassengerId', 'Name', 'Cabin', 'Ticket', 'Sex', 'Embarked', 'Pclass'], axis=1)
test_x = test_x.drop([col for col in test_x.columns if 'Cabin' in col], axis=1)
test_x = test_x.drop([col for col in test_x.columns if 'Ticket' in col], axis=1)


prediction = model.model.predict(test_x).ravel()
# prediction = [int(pred) for pred in prediction]


submission = pd.DataFrame({'PassengerId': passenger_id, 'Survived': prediction})


file_number = input('Enter File Number')
submission_file_path = 'submissions/keras_submission_{}_{}.csv'.format(today, file_number)
if file_number != 0:
    submission.to_csv(submission_file_path, index=False)


train_x, train_y, _ = load_data()


base_path = '../features/nn/'
cols_to_rplc_train = {
    'Age': base_path + 'age_train_std_mean.feather',
    'Fare': base_path + 'fare_train_std_mean.feather'
}
train_x = load_feather(train_x, cols_to_rplc_train)


train_x = train_x.drop(['PassengerId', 'Name', 'Cabin', 'Ticket', 'Sex', 'Embarked', 'Pclass'], axis=1)
train_x = train_x.dropna()
train_y = train_y.iloc[train_x.index]


model = ModelKeras(logging=True)
layer1 = Dense(1024, activation='relu', input_shape=(train_x.shape[1],))
layer2 = Dense(1024, activation='relu')
layer3 = Dense(1024, activation='relu')
layer3 = Dense(1024, activation='relu')
layer4 = Dense(1, activation='sigmoid')
model.add_layers(layer1, layer2, layer3, layer4)
model.compile()
model.set_fit_params(epochs=10, verbose=0)


pred_train = get_pred_result(model, train_x, train_y)
get_acc_and_logloss(pred_train, train_y, logging=False)



