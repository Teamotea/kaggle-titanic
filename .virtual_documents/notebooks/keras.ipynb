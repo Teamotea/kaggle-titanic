# 一つ上の階層からモジュールを参照できるようにする
import sys
sys.path.append('..')


# ロギング用
import os
from datetime import datetime, timezone, timedelta
from logs.logger import create_logger, get_logger
# モデル作成補助用
import numpy as np
import pandas as pd
import matplotlib.pyplot as plt
from features.funcs import load_feather
from evals.funcs import get_pred_result, get_acc_and_logloss, print_conf_matrix
from inputs.funcs import load_data
# モデル作成用
from models.keras import ModelKeras
from keras.layers import Dense, Dropout


# モジュールの変更を自動的に反映する
get_ipython().run_line_magic("load_ext", " autoreload")
get_ipython().run_line_magic("autoreload", " 2")


# loggingの設定を行う
today = datetime.now(timezone(timedelta(hours=9)))
exp_version = today.strftime('%Y%m%d')
os.environ['exp_version'] = exp_version
create_logger(exp_version)


train_x, train_y, test_x = load_data()


train_x = train_x.drop(['Name', 'Cabin', 'Ticket', 'Sex', 'Embarked'], axis=1)
train_x = train_x.dropna()
train_y = train_y.iloc[train_x.index]
test_x = test_x.drop(['Name', 'Cabin', 'Ticket', 'Sex', 'Embarked'], axis=1)
test_x = test_x.dropna()


model = ModelKeras(logging=True)
layer1 = Dense(4096, activation='relu', input_shape=(train_x.shape[1],))
layer2 = Dense(4096, activation='relu')
layer3 = Dense(4096, activation='relu')
layer3 = Dense(4096, activation='relu')
layer4 = Dense(1, activation='sigmoid')
model.add_layers(layer1, layer2, layer3, layer4)
model.compile()
model.set_fit_params(epoch=10, verbose=0)


pred_train, preds_test = get_pred_result(model, train_x, train_y, test_x)


get_acc_and_logloss(pred_train, train_y, logging=False)
# print_conf_matrix(pred_train, train_y)



