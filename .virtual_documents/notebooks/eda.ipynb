import sys
sys.path.append("..")


get_ipython().run_line_magic("load_ext", " autoreload")
get_ipython().run_line_magic("autoreload", " 2")


import numpy as np
import pandas as pd
import matplotlib.pyplot as plt
from inputs.funcs import load_data


train_x, train_y, test_x = load_data()
train_df = pd.concat([train_x, train_y], axis=1)


train_df.head(3)


_, axes = plt.subplots(1,2, figsize=(16,6))
axes[0].set_title('train_x')
axes[0].hist(train_x['Age'])
axes[1].set_title('test_x')
axes[1].hist(test_x['Age'])
plt.show()


_, axes = plt.subplots(1,2, figsize=(16,6))
axes[0].set_title('train_x')
axes[0].hist(train_x['Parch'])
axes[1].set_title('test_x')
axes[1].hist(test_x['Parch'])
plt.show()


print('train_x', train_x.groupby('Embarked').size() / len(train_x), '\n')
print('test_x', test_x.groupby('Embarked').size() / len(test_x))


print('train_x', train_x.groupby('Sex').size() / len(train_x), '\n')
print('test_x', test_x.groupby('Sex').size() / len(test_x))


df = train_df
df_0 = df[df['Survived'] == 0]
df_1 = df[df['Survived'] == 1]


bins = list(range(0, int(df['Age'].max())+10, 10))


fig, axes = plt.subplots(1,2, figsize=(16,6))
axes[0].set_title('Did not survive')
axes[0].hist(df_0['Age'], bins=bins)
axes[0].set_xlim(-3, df['Age'].max()+3)
axes[1].set_title('Survived')
axes[1].hist(df_1['Age'], bins=bins)
axes[1].set_xlim(-3, df['Age'].max()+3)
plt.show()



