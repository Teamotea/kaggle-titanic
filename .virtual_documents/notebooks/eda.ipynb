import sys
sys.path.append("..")


get_ipython().run_line_magic("load_ext", " autoreload")
get_ipython().run_line_magic("autoreload", " 2")


import numpy as np
import pandas as pd
import matplotlib.pyplot as plt
from inputs.funcs import load_data


train_x, train_y, test_x = load_data()
train_df = pd.concat([train_x, train_y], axis=1)


train_df.head(3)


# Age
_, axes = plt.subplots(1,2, figsize=(6,3))
axes[0].set_title('Age_train')
axes[0].hist(train_x['Age'])
axes[1].set_title('Age_test')
axes[1].hist(test_x['Age'])
plt.show()


# Fare
_, axes = plt.subplots(1,2, figsize=(6,3))
axes[0].set_title('Fare_train')
axes[0].hist(train_x['Fare'])
axes[1].set_title('Fare_test')
axes[1].hist(test_x['Fare'])
plt.show()


# Parch
_, axes = plt.subplots(1,2, figsize=(6,3))
axes[0].set_title('Parch_train')
axes[0].hist(train_x['Parch'])
axes[1].set_title('Parch_test')
axes[1].hist(test_x['Parch'])
plt.show()


# Pclass
pclass_train = train_x.groupby('Pclass').size() / len(train_x)
pclass_test = test_x.groupby('Pclass').size() / len(test_x)

_, axes = plt.subplots(1,2, figsize=(6,3))
axes[0].set_title('Pclass_train')
axes[0].bar(pclass_train.index, pclass_train)
axes[1].set_title('Pclass_test')
axes[1].bar(pclass_test.index, pclass_test)
plt.show()


# embarked
embarked_train = train_x.groupby('Embarked').size() / len(train_x)
embarked_test = test_x.groupby('Embarked').size() / len(test_x)

_, axes = plt.subplots(1,2, figsize=(6,3))
axes[0].set_title('Embarked_train')
axes[0].bar(embarked_train.index, embarked_train)
axes[1].set_title('Embarked_test')
axes[1].bar(embarked_test.index, embarked_test)
plt.show()


# sex
sex_train = train_x.groupby('Sex').size() / len(train_x)
sex_test = test_x.groupby('Sex').size() / len(test_x)

_, axes = plt.subplots(1,2, figsize=(6,3))
axes[0].set_title('Sex_train')
axes[0].bar(sex_train.index, sex_train)
axes[1].set_title('Sex_test')
axes[1].bar(sex_test.index, sex_test)
plt.show()


train_df.head(2)


survived = train_df.groupby('Survived').size() / len(train_df)
plt.figure(figsize=(3,3))
plt.bar([str(index) for index in survived.index], survived)
plt.title('Survived')
plt.show()


df = train_df
df_0 = df[df['Survived'] == 0]
df_1 = df[df['Survived'] == 1]


pclass_0 = df_0.groupby('Pclass').size() / len(df_0)
pclass_1 = df_1.groupby('Pclass').size() / len(df_1)


_, axes = plt.subplots(1,2,figsize=(6,3))
axes[0].bar(pclass_0.index, pclass_0)
axes[0].set_title('Not Survived')
axes[1].bar(pclass_1.index, pclass_1)
axes[1].set_title('Survived')
plt.show()


df = train_df
df_0 = df[df['Survived'] == 0]
df_1 = df[df['Survived'] == 1]


sex_0 = df_0.groupby('Sex').size() / len(df_0)
sex_1 = df_1.groupby('Sex').size() / len(df_1)


_, axes = plt.subplots(1,2,figsize=(6,3))
axes[0].bar(sex_0.index, sex_0)
axes[0].set_title('Not Survived')
axes[1].bar(sex_1.index, sex_1)
axes[1].set_title('Survived')
plt.show()


df = train_df
df_0 = df[df['Survived'] == 0].copy()
df_1 = df[df['Survived'] == 1].copy()


df_0['AgeGroup'] = df_0['Age'].apply(lambda x: int(x/10)*10 if not np.isnan(x) else x)
df_1['AgeGroup'] = df_1['Age'].apply(lambda x: int(x/10)*10 if not np.isnan(x) else x)


age_0 = df_0.groupby('AgeGroup').size() / len(df_0)
age_1 = df_1.groupby('AgeGroup').size() / len(df_1)


fig, axes = plt.subplots(1,2, figsize=(6,3))
axes[0].set_title('Not survived')
axes[0].bar(age_0.index, age_0, width=10)
axes[0].set_ylim(0, 0.275)
axes[1].set_title('Survived')
axes[1].bar(age_1.index, age_1, width=10)
axes[1].set_ylim(0, 0.275)
plt.show()


df = train_df
df_0 = df[df['Survived'] == 0].copy()
df_1 = df[df['Survived'] == 1].copy()


sibsp_0 = df_0.groupby('SibSp').size() / len(df_0)
sibsp_1 = df_1.groupby('SibSp').size() / len(df_1)


_, axes = plt.subplots(1,2,figsize=(6,3))
axes[0].bar(sibsp_0.index, sibsp_0)
axes[0].set_title('Not Survived')
axes[0].set_ylim(0, 0.75)
for sibsp, rate in zip(sibsp_0.index, sibsp_0):
    axes[0].text(sibsp-0.3, rate+0.01, f'{100*rate:.1f}', fontsize=9)
axes[1].bar(sibsp_1.index, sibsp_1)
axes[1].set_title('Survived')
axes[1].set_ylim(0, 0.75)
for sibsp, rate in zip(sibsp_1.index, sibsp_1):
    axes[1].text(sibsp-0.3, rate+0.01, f'{100*rate:.1f}', fontsize=9)
plt.show()


df = train_df
df_0 = df[df['Survived'] == 0].copy()
df_1 = df[df['Survived'] == 1].copy()


parch_0 = df_0.groupby('Parch').size() / len(df_0)
parch_1 = df_1.groupby('Parch').size() / len(df_1)


_, axes = plt.subplots(1,2,figsize=(6,3))
axes[0].bar(parch_0.index, parch_0)
axes[0].set_title('Not Survived')
axes[0].set_ylim(0, 0.85)
for parch, rate in zip(parch_0.index, parch_0):
    axes[0].text(parch-0.4, rate+0.007, f'{100*rate:.1f}', fontsize=9)
axes[1].bar(parch_1.index, parch_1)
axes[1].set_title('Survived')
axes[1].set_ylim(0, 0.85)
for parch, rate in zip(parch_1.index, parch_1):
    axes[1].text(parch-0.4, rate+0.007, f'{100*rate:.1f}', fontsize=9)
plt.show()


parch_s = df.groupby(['Parch', 'Survived']).size().to_frame('size').reset_index()
parch_t = df.groupby('Parch').size().to_frame('total').reset_index()


parch = pd.merge(parch_s, parch_t, on='Parch')
parch['rate'] = parch['size'] / parch['total']
parch


train_df['Ticket'].apply(lambda x: x[:2]).value_counts().sort_values(ascending=False).head()


df = train_df
df_0 = df[df['Survived'] == 0].copy()
df_1 = df[df['Survived'] == 1].copy()


df_0['FareGroup'] = df_0['Fare'].apply(lambda x: int(x/10)*10 if not np.isnan(x) else 0)
df_1['FareGroup'] = df_1['Fare'].apply(lambda x: int(x/10)*10 if not np.isnan(x) else 0)


fare_0 = df_0.groupby('FareGroup').size() / len(df_0)
fare_1 = df_1.groupby('FareGroup').size() / len(df_1)


fig, axes = plt.subplots(1,2, figsize=(12,3))
axes[0].set_title('Not survived')
axes[0].bar(fare_0.index, fare_0, width=10)
axes[0].set_xlim(-10, 300)
axes[0].set_ylim(0, 0.5)
axes[1].set_title('Survived')
axes[1].bar(fare_1.index, fare_1, width=10)
axes[1].set_xlim(-10, 300)
axes[1].set_ylim(0, 0.5)
plt.show()


cabin_na_rate = train_df['Cabin'].isna().sum() / len(train_df)
cabin_non_na_rate = 1 - cabin_na_rate
plt.figure(figsize=(4,3))
plt.bar(['Na', 'Not na'], [cabin_na_rate, cabin_non_na_rate])
plt.show()


cabin_df = train_df['Cabin'].dropna()
cabin_df[cabin_df.apply(lambda x: True if len(x) > 4 else False)].reset_index(drop=True).unique()


cabin_df.dropna().apply(lambda x: x[0]).unique()


df = train_df
df_0 = df[df['Survived'] == 0].copy()
df_1 = df[df['Survived'] == 1].copy()


df_0['Cabin_first'] = df_0['Cabin'].apply(lambda x: 'Z' if type(x) == float and np.isnan(x) else x[0])
df_1['Cabin_first'] = df_1['Cabin'].apply(lambda x: 'Z' if type(x) == float and np.isnan(x) else x[0])


cabin_0 = df_0.groupby('Cabin_first').size() / len(df_0)
cabin_1 = df_1.groupby('Cabin_first').size() / len(df_1)


fig, axes = plt.subplots(1,2, figsize=(6,3))
axes[0].set_title('Not survived')
axes[0].bar(cabin_0.index, cabin_0)
axes[0].set_ylim(0, 0.9)
axes[1].set_title('Survived')
axes[1].bar(cabin_1.index, cabin_1)
axes[1].set_ylim(0, 0.9)
plt.show()


train_df['Age'].unique()


df = train_df
df_0 = df[df['Survived'] == 0]
df_1 = df[df['Survived'] == 1]


embarked_0 = df_0.groupby('Embarked').size() / len(df_0)
embarked_1 = df_1.groupby('Embarked').size() / len(df_1)


_, axes = plt.subplots(1,2,figsize=(6,3))
axes[0].bar(embarked_0.index, embarked_0)
axes[0].set_title('Not Survived')
axes[1].bar(embarked_1.index, embarked_1)
axes[1].set_title('Survived')
plt.show()
