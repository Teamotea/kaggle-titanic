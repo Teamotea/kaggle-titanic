# 一つ上の階層からモジュールを参照できるようにする
import sys
sys.path.append('..')


# モジュールの変更を自動的に反映する
get_ipython().run_line_magic("load_ext", " autoreload")
get_ipython().run_line_magic("autoreload", " 2")


# loggingの設定を行う
from datetime import datetime, timezone, timedelta
today = datetime.now(timezone(timedelta(hours=9)))
exp_version = today.strftime('%Y%m%d')

import os
os.environ['exp_version'] = exp_version

from logs.logger import create_logger
create_logger(exp_version)


import numpy as np
import pandas as pd
from features.funcs import load_feather
from evals.funcs import get_pred_result, get_acc_and_logloss, print_conf_matrix
from models.xgb import ModelXGB, ModelXGBSklearn
import xgboost as xgb


input_files = os.listdir('../input/')
print(input_files)


base_path = '../input/'
train_df = pd.read_csv(base_path + 'train.csv')
test_df = pd.read_csv(base_path + 'test.csv')
print(f'Columns in the training data ({train_df.shape[1]}):')
print(train_df.columns)
print()
print(f'Columns in the test data ({test_df.shape[1]}):')
print(test_df.columns)


def load_data():
    train_x = train_df.drop(['Survived'], axis=1)
    train_y = train_df['Survived']
    test_x = test_df
    return train_x, train_y, test_x


os.environ['model_name'] = 'BASE MODEL'


train_x, train_y, test_x = load_data()
train_x = train_x.drop(['Name', 'Cabin', 'Ticket'], axis=1)
test_x = test_x.drop(['Name', 'Cabin', 'Ticket'], axis=1)

base_path = '../features/'

train_x = load_feather(train_x, base_path + 'sex_train.feather', 'Sex')
test_x = load_feather(test_x, base_path + 'sex_test.feather', 'Sex')

train_x = load_feather(train_x, base_path + 'embarked_train.feather', 'Embarked')
test_x = load_feather(test_x, base_path + 'embarked_test.feather', 'Embarked')


model = ModelXGB()
pred_train1, preds_test1 = get_pred_result(model, train_x, train_y, test_x)


get_acc_and_logloss(pred_train1, train_y)
print_conf_matrix(pred_train1, train_y)


os.environ['model_name'] = 'MODEL WITHOUT EMBARKED'


train_x, train_y, test_x = load_data()
train_x = train_x.drop(['Name', 'Cabin', 'Ticket', 'Embarked'], axis=1)
test_x = test_x.drop(['Name', 'Cabin', 'Ticket', 'Embarked'], axis=1)

base_path = '../features/'

train_x = load_feather(train_x, base_path + 'sex_train.feather', 'Sex')
test_x = load_feather(test_x, base_path + 'sex_test.feather', 'Sex')


model = ModelXGB()
pred_train1, preds_test1 = get_pred_result(model, train_x, train_y, test_x)


get_acc_and_logloss(pred_train1, train_y)


os.environ['model_name'] = 'MODEL WITH AGEGROUP'


train_x, train_y, test_x = load_data()
train_x = train_x.drop(['Name', 'Cabin', 'Ticket'], axis=1)
test_x = test_x.drop(['Name', 'Cabin', 'Ticket'], axis=1)

base_path = '../features/'

train_x = load_feather(train_x, base_path + 'sex_train.feather', 'Sex')
test_x = load_feather(test_x, base_path + 'sex_test.feather', 'Sex')

train_x = load_feather(train_x, base_path + 'embarked_train.feather', 'Embarked')
test_x = load_feather(test_x, base_path + 'embarked_test.feather', 'Embarked')

train_x = load_feather(train_x, base_path + 'age_train.feather', 'AgeGroup')
test_x = load_feather(test_x, base_path + 'age_test.feather', 'AgeGroup')


model = ModelXGB()
pred_train, preds_test = get_pred_result(model, train_x, train_y, test_x)


get_acc_and_logloss(pred_train, train_y)


xgb.plot_importance(model.get_model())


os.environ['model_name'] = 'MODEL WITH AGEGROUP WITH NUM ROUND CHANGED'


model = ModelXGB(num_round=15, verbose_eval=False)
pred_train, preds_test = get_pred_result(model, train_x, train_y, test_x)


get_acc_and_logloss(pred_train, train_y)


model = ModelXGBSklearn(n_estimators=15, learning_rate=0.2, verbose=False)
pred_train, preds_test = get_pred_result(model, train_x, train_y, test_x)
get_acc_and_logloss(pred_train, train_y)


xgb.plot_importance(model.get_model())


model = ModelXGBSklearn(n_estimators=100, learning_rate=0.03, verbose=False)
pred_train, preds_test = get_pred_result(model, train_x, train_y, test_x)
get_acc_and_logloss(pred_train, train_y)


xgb.plot_importance(model.get_model())


model = ModelXGBSklearn(n_estimators=20, learning_rate=0.2, verbose=False, max_depth=None)
pred_train, preds_test = get_pred_result(model, train_x.drop('PassengerId', axis=1), train_y, test_x.drop('PassengerId', axis=1))
get_acc_and_logloss(pred_train, train_y)


xgb.plot_importance(model.get_model())


from sklearn.model_selection import GridSearchCV

params = {
    'objective':['binary:logistic'],
    'learning_rate': [0.025, 0.05, 0.1, 0.2, 0.3],
    'max_depth': [5, 10, 15, 20, 40, 60, 100],
    'silent': [1],
    'n_estimators': [5, 10, 15, 20, 40, 60, 100, 1000],
    'seed': [1]
}


model = xgb.XGBClassifier()
clf = GridSearchCV(model, params, n_jobs=5, scoring='accuracy', verbose=2, refit=False)
clf.fit(train_x, train_y)


clf.best_score_


clf.best_params_


clf_2 = GridSearchCV(model, params, n_jobs=5, scoring='accuracy', verbose=2, refit=False)
clf_2.fit(train_x.drop('PassengerId', axis=1), train_y)


clf_2.best_score_


clf_2.best_params_


from sklearn.model_selection import KFold

best_params_lst = []
kf = KFold(n_splits=4, shuffle=True, random_state=1)

for tr_idx, va_idx in kf.split(train_x):
    tr_x, va_x = train_x.iloc[tr_idx], train_x.iloc[va_idx]
    tr_y, va_y = train_y.iloc[tr_idx], train_y.iloc[va_idx]
    
    model = xgb.XGBClassifier()
    clf_3 = GridSearchCV(model, params, n_jobs=5, scoring='accuracy', verbose=2, refit=False)
    clf_3.fit(tr_x.drop('PassengerId', axis=1), tr_y)

    best_params_lst.append({'best_params': clf_3.best_params_, 'best_score': clf_3.best_score_})


best_params_lst


print('learning_rate: 0.1/0.2')
print('max_depth: 5')
print('n_estimator: 5/60')


model = ModelXGBSklearn(n_estimators=5, learning_rate=0.2, verbose=False, max_depth=5)
pred_train, preds_test = get_pred_result(model, train_x.drop('PassengerId', axis=1), train_y, test_x.drop('PassengerId', axis=1))
get_acc_and_logloss(pred_train, train_y)


model = ModelXGBSklearn(n_estimators=60, learning_rate=0.1, verbose=False, max_depth=5)
pred_train, preds_test = get_pred_result(model, train_x.drop('PassengerId', axis=1), train_y, test_x.drop('PassengerId', axis=1))
get_acc_and_logloss(pred_train, train_y)


model = ModelXGBSklearn(n_estimators=100, learning_rate=0.1, verbose=False, max_depth=5)
pred_train, preds_test = get_pred_result(model, train_x.drop('PassengerId', axis=1), train_y, test_x.drop('PassengerId', axis=1))
get_acc_and_logloss(pred_train, train_y)


model = ModelXGBSklearn(n_estimators=40, learning_rate=0.2, verbose=False, max_depth=5)
pred_train, preds_test = get_pred_result(model, train_x.drop('PassengerId', axis=1), train_y, test_x.drop('PassengerId', axis=1))
get_acc_and_logloss(pred_train, train_y)


model = ModelXGBSklearn(n_estimators=60, learning_rate=0.1, verbose=False, max_depth=5)
model.model.fit(train_x.drop('PassengerId', axis=1), train_y, eval_metric='logloss', eval_set=[(train_x.drop('PassengerId', axis=1), train_y)], verbose=True)


prediction = model.predict(test_x.drop('PassengerId', axis=1))


submission = pd.DataFrame({'PassengerId': test_x['PassengerId'].values, 'Survived': prediction})


submission.to_csv('submission.csv', index=False)
