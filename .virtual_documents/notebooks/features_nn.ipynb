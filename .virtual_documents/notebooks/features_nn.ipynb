import sys
sys.path.append('..')


import os
import random
from scipy import stats
import numpy as np
import pandas as pd
import matplotlib.pyplot as plt
from inputs.funcs import load_data
from sklearn.preprocessing import StandardScaler
from sklearn.preprocessing import OneHotEncoder


os.listdir('../inputs/')


train_x, train_y, test_x = load_data()


print('train_x: ', train_x.columns.values)
print('train_y: ', test_x.columns.values)


train_x.head(3)


print('Col to drop:')
print(['PassengeId'])


print('Cols to normalize:')
print(['Age', 'Fare'])


print('Cols to one hot encode:')
print(['PClass'] + train_x.dtypes[~train_x.dtypes.isin([int, float])].index.to_list())


print('Cols to normalize:')
print(['Age', 'Fare'])


train_x, train_y, test_x = load_data()


print('Col has na in train_x: ', train_x['Age'].isna().any())
print('Col has na in test_x: ', test_x['Age'].isna().any())


data_tmp = pd.DataFrame({'Age': train_x['Age'], 'Survived': train_y})
target_mean = data_tmp.groupby('Survived').mean().to_dict()
index_nan_0 = train_x['Age'].isna() & train_y == 0
index_nan_1 = train_x['Age'].isna() & train_y == 1
train_x.loc[index_nan_0, 'Age'] = target_mean['Age'][0]
train_x.loc[index_nan_1, 'Age'] = target_mean['Age'][1]


random.seed(0)
index_nan = test_x['Age'].isna()
test_x['Age'] = test_x['Age'].apply(lambda x:
                                         random.choice([target_mean['Age'][0], target_mean['Age'][1]]) if np.isnan(x) else x
                                    )


scaler = StandardScaler()
train_x['Age'] = scaler.fit_transform(train_x['Age'].values.reshape(len(train_x), -1)).ravel()
test_x['Age'] = scaler.transform(test_x['Age'].values.reshape(len(test_x), -1)).ravel()


train_x[['PassengerId', 'Age']].to_feather('../features/nn/age_train_std_te.feather')
test_x[['PassengerId', 'Age']].to_feather('../features/nn/age_test_std_te.feather')


train_x, train_y, test_x = load_data()


mean = train_x['Age'].mean()
index_nan = train_x['Age'].isna()
train_x.loc[index_nan, 'Age'] = mean


index_nan = test_x['Age'].isna()
test_x.loc[index_nan, 'Age'] = mean


scaler = StandardScaler()
train_x['Age'] = scaler.fit_transform(train_x['Age'].values.reshape(len(train_x), -1)).ravel()
test_x['Age'] = scaler.transform(test_x['Age'].values.reshape(len(test_x), -1)).ravel()


train_x[['PassengerId', 'Age']].to_feather('../features/nn/age_train_std_mean.feather')
test_x[['PassengerId', 'Age']].to_feather('../features/nn/age_test_std_mean.feather')


train_x, train_y, test_x = load_data()


print('Col has na in train_x: ', train_x['Age'].isna().any())
print('Col has na in test_x: ', test_x['Age'].isna().any())


data_tmp = pd.DataFrame({'Fare': train_x['Fare'], 'Survived': train_y})
target_mean = data_tmp.groupby('Survived').mean().to_dict()
index_nan_0 = train_x['Fare'].isna() & train_y == 0
index_nan_1 = train_x['Fare'].isna() & train_y == 1
train_x.loc[index_nan_0, 'Fare'] = target_mean['Fare'][0]
train_x.loc[index_nan_1, 'Fare'] = target_mean['Fare'][1]


random.seed(0)
index_nan = test_x['Fare'].isna()
test_x['Fare'] = test_x['Fare'].apply(lambda x:
                                         random.choice([target_mean['Fare'][0], target_mean['Fare'][1]]) if np.isnan(x) else x
                                     )


scaler = StandardScaler()
train_x['Fare'] = scaler.fit_transform(train_x['Fare'].values.reshape(len(train_x), -1)).ravel()
test_x['Fare'] = scaler.transform(test_x['Fare'].values.reshape(len(test_x), -1)).ravel()


train_x[['PassengerId', 'Fare']].to_feather('../features/nn/fare_train_std_te.feather')
test_x[['PassengerId', 'Fare']].to_feather('../features/nn/fare_test_std_te.feather')


train_x, train_y, test_x = load_data()


mean = train_x['Fare'].mean()
index_nan = train_x['Fare'].isna()
train_x.loc[index_nan, 'Fare'] = mean


index_nan = test_x['Fare'].isna()
test_x.loc[index_nan, 'Fare'] = mean


scaler = StandardScaler()
train_x['Fare'] = scaler.fit_transform(train_x['Fare'].values.reshape(len(train_x), -1)).ravel()
test_x['Fare'] = scaler.transform(test_x['Fare'].values.reshape(len(test_x), -1)).ravel()


train_x[['PassengerId', 'Fare']].to_feather('../features/nn/fare_train_std_mean.feather')
test_x[['PassengerId', 'Fare']].to_feather('../features/nn/fare_test_std_mean.feather')


train_x, train_y, test_x = load_data()
cat_cols = ['Pclass'] + train_x.dtypes[
                ~train_x.dtypes.isin([np.dtype('int64'), np.dtype('float64')])
            ].index.to_list()
print('Cols to one hot encode:')
print(cat_cols)


train_x[cat_cols].isna().any()


train_x, train_y, test_x = load_data()


cols_to_ohe = ['Pclass', 'Sex', 'Ticket']
all_x = pd.concat([train_x, test_x])
all_x = all_x[['PassengerId'] + cols_to_ohe]
all_x = pd.get_dummies(all_x, columns=cols_to_ohe)


is_in_train = all_x['PassengerId'].isin(train_x['PassengerId'])
is_in_test = all_x['PassengerId'].isin(test_x['PassengerId'])


all_x[is_in_train].to_feather('../features/nn/train_ohe.feather')
all_x[is_in_test].to_feather('../features/nn/test_ohe.feather')


train_x, train_y, test_x = load_data()


cols_to_ohe = ['Cabin', 'Embarked']
all_x = pd.concat([train_x, test_x])
all_x = all_x[['PassengerId'] + cols_to_ohe]


all_x['Cabin'] = all_x['Cabin'].apply(
    lambda x: 'Z' if type(x) == 'float' and np.isnan(x) else x
)
all_x['Embarked'] = all_x['Embarked'].apply(
    lambda x: 'Z' if type(x) == 'float' and np.isnan(x) else x
)


all_x = pd.get_dummies(all_x, columns=cols_to_ohe)


is_in_train = all_x['PassengerId'].isin(train_x['PassengerId'])
is_in_test = all_x['PassengerId'].isin(test_x['PassengerId'])


all_x[is_in_train].to_feather('../features/nn/train_ohe_2_z.feather')
all_x[is_in_test].to_feather('../features/nn/test_ohe_2_z.feather')



