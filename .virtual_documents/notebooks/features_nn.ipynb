import sys
sys.path.append('..')


import os
import random
from scipy import stats
import numpy as np
import pandas as pd
from sklearn.preprocessing import StandardScaler
import matplotlib.pyplot as plt
from inputs.funcs import load_data


os.listdir('../inputs/')


train_x, train_y, test_x = load_data()


print('train_x: ', train_x.columns.values)
print('train_y: ', test_x.columns.values)


train_x.head(3)


print('Col to drop:')
print(['PassengeId'])


print('Cols to normalize:')
print(['Age', 'Fare'])


print('Cols to one hot encode:')
print(['PClass'] + train_x.dtypes[~train_x.dtypes.isin([int, float])].index.to_list())


train_x, train_y, test_x = load_data()


print('Col has na in train_x: ', train_x['Age'].isna().any())
print('Col has na in test_x: ', test_x['Age'].isna().any())


data_tmp = pd.DataFrame({'Age': train_x['Age'], 'Survived': train_y})
target_mean = data_tmp.groupby('Survived').mean().to_dict()
index_nan_0 = train_x['Age'].isna() & train_y == 0
index_nan_1 = train_x['Age'].isna() & train_y == 1
train_x.loc[index_nan_0, 'Age'] = target_mean['Age'][0]
train_x.loc[index_nan_1, 'Age'] = target_mean['Age'][1]


random.seed(0)
index_nan = test_x['Age'].isna()
test_x['Age'] = test_x['Age'].apply(lambda x:
                                         random.choice([target_mean['Age'][0], target_mean['Age'][1]]) if np.isnan(x) else x
                                    )


scaler = StandardScaler()
train_x['Age'] = scaler.fit_transform(train_x['Age'].values.reshape(len(train_x), -1)).ravel()
test_x['Age'] = scaler.transform(test_x['Age'].values.reshape(len(test_x), -1)).ravel()


train_x[['PassengerId', 'Age']].to_feather('../features/nn/age_train_std_te.feather')
test_x[['PassengerId', 'Age']].to_feather('../features/nn/age_test_std_te.feather')


train_x, train_y, test_x = load_data()


mean = train_x['Age'].mean()
index_nan = train_x['Age'].isna()
train_x.loc[index_nan, 'Age'] = mean


index_nan = test_x['Age'].isna()
test_x.loc[index_nan, 'Age'] = mean


scaler = StandardScaler()
train_x['Age'] = scaler.fit_transform(train_x['Age'].values.reshape(len(train_x), -1)).ravel()
test_x['Age'] = scaler.transform(test_x['Age'].values.reshape(len(test_x), -1)).ravel()


train_x[['PassengerId', 'Age']].to_feather('../features/nn/age_train_std_mean.feather')
test_x[['PassengerId', 'Age']].to_feather('../features/nn/age_test_std_mean.feather')



