{
 "cells": [
  {
   "cell_type": "markdown",
   "id": "silent-floor",
   "metadata": {},
   "source": [
    "## Settings"
   ]
  },
  {
   "cell_type": "code",
   "execution_count": 1,
   "id": "beginning-halloween",
   "metadata": {},
   "outputs": [],
   "source": [
    "# 一つ上の階層からモジュールを参照できるようにする\n",
    "import sys\n",
    "sys.path.append('..')"
   ]
  },
  {
   "cell_type": "code",
   "execution_count": 2,
   "id": "fixed-teens",
   "metadata": {},
   "outputs": [],
   "source": [
    "# ロギング用\n",
    "import os\n",
    "from datetime import datetime, timezone, timedelta\n",
    "from logs.logger import create_logger, get_logger\n",
    "# モデル作成補助用\n",
    "import numpy as np\n",
    "import pandas as pd\n",
    "import matplotlib.pyplot as plt\n",
    "from features.funcs import load_feather\n",
    "from evals.funcs import get_pred_result, get_acc_and_logloss, print_conf_matrix\n",
    "from inputs.funcs import load_data\n",
    "# モデル作成用\n",
    "from models.keras import ModelKeras\n",
    "from keras.layers import Dense, Dropout"
   ]
  },
  {
   "cell_type": "code",
   "execution_count": 3,
   "id": "honest-petersburg",
   "metadata": {},
   "outputs": [],
   "source": [
    "# モジュールの変更を自動的に反映する\n",
    "%load_ext autoreload\n",
    "%autoreload 2"
   ]
  },
  {
   "cell_type": "code",
   "execution_count": 4,
   "id": "digital-glucose",
   "metadata": {},
   "outputs": [],
   "source": [
    "# loggingの設定を行う\n",
    "today = datetime.now(timezone(timedelta(hours=9)))\n",
    "exp_version = today.strftime('%Y%m%d')\n",
    "os.environ['exp_version'] = exp_version\n",
    "create_logger(exp_version)"
   ]
  },
  {
   "cell_type": "markdown",
   "id": "simple-assembly",
   "metadata": {},
   "source": [
    "## Keras"
   ]
  },
  {
   "cell_type": "markdown",
   "id": "union-defensive",
   "metadata": {},
   "source": [
    "### Base"
   ]
  },
  {
   "cell_type": "code",
   "execution_count": 5,
   "id": "selective-glory",
   "metadata": {},
   "outputs": [],
   "source": [
    "train_x, train_y, test_x = load_data()"
   ]
  },
  {
   "cell_type": "code",
   "execution_count": 6,
   "id": "refined-tamil",
   "metadata": {},
   "outputs": [],
   "source": [
    "train_x = train_x.drop(['Name', 'Cabin', 'Ticket', 'Sex', 'Embarked'], axis=1)\n",
    "train_x = train_x.dropna()\n",
    "train_y = train_y.iloc[train_x.index]\n",
    "test_x = test_x.drop(['Name', 'Cabin', 'Ticket', 'Sex', 'Embarked'], axis=1)\n",
    "test_x = test_x.dropna()"
   ]
  },
  {
   "cell_type": "code",
   "execution_count": 7,
   "id": "absent-frederick",
   "metadata": {},
   "outputs": [],
   "source": [
    "base_path = '../features/nn/'\n",
    "cols_to_rplc_train = {'Age': base_path + 'age_train_std_te.feather'}\n",
    "cols_to_rplc_test = {'Age': base_path + 'age_test_std_te.feather'}\n",
    "train_x = load_feather(train_x, cols_to_rplc_train)\n",
    "test_x = load_feather(test_x, cols_to_rplc_test)"
   ]
  },
  {
   "cell_type": "code",
   "execution_count": 8,
   "id": "federal-semiconductor",
   "metadata": {},
   "outputs": [
    {
     "name": "stderr",
     "output_type": "stream",
     "text": [
      "[INFO] 2021-02-11 14:44:32,996 >>\t=== NN KERAS MODEL ===\n"
     ]
    }
   ],
   "source": [
    "model = ModelKeras(logging=True)\n",
    "layer1 = Dense(1024, activation='relu', input_shape=(train_x.shape[1],))\n",
    "layer2 = Dense(1024, activation='relu')\n",
    "layer3 = Dense(1024, activation='relu')\n",
    "layer3 = Dense(1024, activation='relu')\n",
    "layer4 = Dense(1, activation='sigmoid')\n",
    "model.add_layers(layer1, layer2, layer3, layer4)\n",
    "model.compile()\n",
    "model.set_fit_params(epoch=10, verbose=0)"
   ]
  },
  {
   "cell_type": "code",
   "execution_count": 9,
   "id": "usual-script",
   "metadata": {},
   "outputs": [],
   "source": [
    "pred_train, preds_test = get_pred_result(model, train_x, train_y, test_x)"
   ]
  },
  {
   "cell_type": "code",
   "execution_count": 10,
   "id": "stuffed-waterproof",
   "metadata": {},
   "outputs": [
    {
     "name": "stdout",
     "output_type": "stream",
     "text": [
      "data size: 714\n",
      "correct predictions: 441\n",
      "accuracy: 0.6176470588\n",
      "logloss: 0.7487236281\n"
     ]
    }
   ],
   "source": [
    "get_acc_and_logloss(pred_train, train_y, logging=False)"
   ]
  },
  {
   "cell_type": "code",
   "execution_count": 30,
   "id": "checked-syndicate",
   "metadata": {},
   "outputs": [
    {
     "name": "stdout",
     "output_type": "stream",
     "text": [
      "data size: 714\n",
      "correct predictions: 490\n",
      "accuracy: 0.6862745098\n",
      "logloss: 0.6398117990\n"
     ]
    }
   ],
   "source": [
    "get_acc_and_logloss(pred_train, train_y, logging=False)\n",
    "# print_conf_matrix(pred_train, train_y)"
   ]
  },
  {
   "cell_type": "code",
   "execution_count": null,
   "id": "growing-above",
   "metadata": {},
   "outputs": [],
   "source": []
  }
 ],
 "metadata": {
  "kernelspec": {
   "display_name": "Python 3",
   "language": "python",
   "name": "python3"
  },
  "language_info": {
   "codemirror_mode": {
    "name": "ipython",
    "version": 3
   },
   "file_extension": ".py",
   "mimetype": "text/x-python",
   "name": "python",
   "nbconvert_exporter": "python",
   "pygments_lexer": "ipython3",
   "version": "3.7.9"
  }
 },
 "nbformat": 4,
 "nbformat_minor": 5
}
