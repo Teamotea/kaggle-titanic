{
 "cells": [
  {
   "cell_type": "markdown",
   "id": "organized-costume",
   "metadata": {},
   "source": [
    "## Settings"
   ]
  },
  {
   "cell_type": "code",
   "execution_count": 1,
   "id": "ordinary-trial",
   "metadata": {},
   "outputs": [],
   "source": [
    "# 一つ上の階層からモジュールを参照できるようにする\n",
    "import sys\n",
    "sys.path.append('..')"
   ]
  },
  {
   "cell_type": "code",
   "execution_count": 2,
   "id": "czech-paper",
   "metadata": {},
   "outputs": [],
   "source": [
    "# ロギング用\n",
    "import os\n",
    "from datetime import datetime, timezone, timedelta\n",
    "from logs.logger import create_logger, get_logger\n",
    "# モデル作成補助用\n",
    "import numpy as np\n",
    "import pandas as pd\n",
    "import matplotlib.pyplot as plt\n",
    "from features.funcs import load_feather, load_feather_ohe\n",
    "from evals.funcs import get_pred_result, get_acc_and_logloss, print_conf_matrix\n",
    "from inputs.funcs import load_data\n",
    "# モデル作成用\n",
    "from models.keras import ModelKeras\n",
    "from keras.layers import Dense, Dropout"
   ]
  },
  {
   "cell_type": "code",
   "execution_count": 3,
   "id": "executive-thinking",
   "metadata": {},
   "outputs": [],
   "source": [
    "# モジュールの変更を自動的に反映する\n",
    "%load_ext autoreload\n",
    "%autoreload 2"
   ]
  },
  {
   "cell_type": "code",
   "execution_count": 4,
   "id": "accessory-extension",
   "metadata": {},
   "outputs": [],
   "source": [
    "# loggingの設定を行う\n",
    "today = datetime.now(timezone(timedelta(hours=9))).strftime('%Y%m%d')\n",
    "exp_version = today\n",
    "os.environ['exp_version'] = exp_version\n",
    "create_logger(exp_version)"
   ]
  },
  {
   "cell_type": "code",
   "execution_count": 5,
   "id": "posted-chain",
   "metadata": {},
   "outputs": [
    {
     "data": {
      "text/plain": [
       "['fare_test_std_te.feather',\n",
       " 'age_train_std_te.feather',\n",
       " 'fare_train_std_te.feather',\n",
       " 'age_test_std_mean.feather',\n",
       " 'test_ohe.feather',\n",
       " 'train_ohe_2_z.feather',\n",
       " 'age_train_std_mean.feather',\n",
       " 'age_test_std_te.feather',\n",
       " 'fare_test_std_mean.feather',\n",
       " 'train_ohe.feather',\n",
       " 'fare_train_std_mean.feather',\n",
       " 'test_ohe_2_z.feather']"
      ]
     },
     "execution_count": 5,
     "metadata": {},
     "output_type": "execute_result"
    }
   ],
   "source": [
    "os.listdir('../features/nn')"
   ]
  },
  {
   "cell_type": "code",
   "execution_count": 39,
   "id": "cubic-appendix",
   "metadata": {},
   "outputs": [],
   "source": [
    "def save_submission(submission_df):\n",
    "    file_name = 'keras_submission_{}'.format(today)\n",
    "    file_name_suffix = input(f'Enter File Suffix: {file_name}_...')\n",
    "    if file_name_suffix != str(0):\n",
    "        submission_file_path = f'submissions/{today}/{file_name}_{file_name_suffix}.csv'\n",
    "        submission_df.to_csv(submission_file_path, index=False)"
   ]
  },
  {
   "cell_type": "markdown",
   "id": "solved-connection",
   "metadata": {},
   "source": [
    "## Keras"
   ]
  },
  {
   "cell_type": "markdown",
   "id": "announced-duncan",
   "metadata": {},
   "source": [
    "### Base"
   ]
  },
  {
   "cell_type": "code",
   "execution_count": 32,
   "id": "olympic-hayes",
   "metadata": {},
   "outputs": [],
   "source": [
    "train_x, train_y, test_x = load_data()"
   ]
  },
  {
   "cell_type": "code",
   "execution_count": 33,
   "id": "second-trust",
   "metadata": {},
   "outputs": [],
   "source": [
    "train_x = train_x.drop(['PassengerId', 'Name', 'Cabin', 'Ticket', 'Sex', 'Embarked'], axis=1)\n",
    "train_x = train_x.dropna()\n",
    "train_y = train_y.iloc[train_x.index]"
   ]
  },
  {
   "cell_type": "code",
   "execution_count": 34,
   "id": "configured-pressing",
   "metadata": {},
   "outputs": [
    {
     "name": "stderr",
     "output_type": "stream",
     "text": [
      "[INFO] 2021-02-14 14:46:28,380 >>\t=== NN KERAS MODEL ===\n"
     ]
    }
   ],
   "source": [
    "model = ModelKeras(logging=True)\n",
    "layer1 = Dense(1024, activation='relu', input_shape=(train_x.shape[1],))\n",
    "layer2 = Dense(1024, activation='relu')\n",
    "layer3 = Dense(1024, activation='relu')\n",
    "layer3 = Dense(1024, activation='relu')\n",
    "layer4 = Dense(1, activation='sigmoid')\n",
    "model.add_layers(layer1, layer2, layer3, layer4)\n",
    "model.compile()\n",
    "model.set_fit_params(epochs=5, verbose=1)"
   ]
  },
  {
   "cell_type": "code",
   "execution_count": 35,
   "id": "indirect-billy",
   "metadata": {},
   "outputs": [
    {
     "name": "stdout",
     "output_type": "stream",
     "text": [
      "Epoch 1/5\n",
      "17/17 [==============================] - 0s 14ms/step - loss: 1.7096 - accuracy: 0.5738 - val_loss: 0.7922 - val_accuracy: 0.6257\n",
      "Epoch 2/5\n",
      "17/17 [==============================] - 0s 8ms/step - loss: 0.7003 - accuracy: 0.6505 - val_loss: 0.5910 - val_accuracy: 0.6648\n",
      "Epoch 3/5\n",
      "17/17 [==============================] - 0s 8ms/step - loss: 0.6373 - accuracy: 0.6505 - val_loss: 0.6357 - val_accuracy: 0.7151\n",
      "Epoch 4/5\n",
      "17/17 [==============================] - 0s 8ms/step - loss: 0.6376 - accuracy: 0.6561 - val_loss: 0.7106 - val_accuracy: 0.7207\n",
      "Epoch 5/5\n",
      "17/17 [==============================] - 0s 8ms/step - loss: 0.6476 - accuracy: 0.6579 - val_loss: 0.5845 - val_accuracy: 0.7095\n",
      "Epoch 1/5\n",
      "17/17 [==============================] - 0s 9ms/step - loss: 1.3144 - accuracy: 0.6112 - val_loss: 1.1104 - val_accuracy: 0.4413\n",
      "Epoch 2/5\n",
      "17/17 [==============================] - 0s 8ms/step - loss: 0.7357 - accuracy: 0.6280 - val_loss: 0.6024 - val_accuracy: 0.6927\n",
      "Epoch 3/5\n",
      "17/17 [==============================] - 0s 8ms/step - loss: 0.6443 - accuracy: 0.6598 - val_loss: 0.5945 - val_accuracy: 0.6983\n",
      "Epoch 4/5\n",
      "17/17 [==============================] - 0s 8ms/step - loss: 0.6212 - accuracy: 0.6766 - val_loss: 0.5930 - val_accuracy: 0.6872\n",
      "Epoch 5/5\n",
      "17/17 [==============================] - 0s 8ms/step - loss: 0.6274 - accuracy: 0.6561 - val_loss: 0.5980 - val_accuracy: 0.6927\n",
      "Epoch 1/5\n",
      "17/17 [==============================] - 0s 9ms/step - loss: 1.3012 - accuracy: 0.5951 - val_loss: 0.8806 - val_accuracy: 0.6742\n",
      "Epoch 2/5\n",
      "17/17 [==============================] - 0s 8ms/step - loss: 0.6681 - accuracy: 0.6586 - val_loss: 0.6898 - val_accuracy: 0.6742\n",
      "Epoch 3/5\n",
      "17/17 [==============================] - 0s 8ms/step - loss: 0.6210 - accuracy: 0.7071 - val_loss: 0.6426 - val_accuracy: 0.6798\n",
      "Epoch 4/5\n",
      "17/17 [==============================] - 0s 8ms/step - loss: 0.6144 - accuracy: 0.6903 - val_loss: 0.6171 - val_accuracy: 0.6629\n",
      "Epoch 5/5\n",
      "17/17 [==============================] - 0s 9ms/step - loss: 0.6113 - accuracy: 0.6903 - val_loss: 0.6877 - val_accuracy: 0.6742\n",
      "Epoch 1/5\n",
      "17/17 [==============================] - 0s 10ms/step - loss: 1.3613 - accuracy: 0.5802 - val_loss: 0.7889 - val_accuracy: 0.6517\n",
      "Epoch 2/5\n",
      "17/17 [==============================] - 0s 8ms/step - loss: 0.6964 - accuracy: 0.6772 - val_loss: 0.7220 - val_accuracy: 0.6180\n",
      "Epoch 3/5\n",
      "17/17 [==============================] - 0s 7ms/step - loss: 0.6536 - accuracy: 0.6866 - val_loss: 0.6458 - val_accuracy: 0.6404\n",
      "Epoch 4/5\n",
      "17/17 [==============================] - 0s 8ms/step - loss: 0.6025 - accuracy: 0.6903 - val_loss: 0.7302 - val_accuracy: 0.6517\n",
      "Epoch 5/5\n",
      "17/17 [==============================] - 0s 8ms/step - loss: 0.6115 - accuracy: 0.6978 - val_loss: 0.6774 - val_accuracy: 0.6517\n"
     ]
    },
    {
     "name": "stderr",
     "output_type": "stream",
     "text": [
      "[INFO] 2021-02-14 14:46:32,555 >>\tACCURACY: 0.6820728291316527\n",
      "[INFO] 2021-02-14 14:46:32,555 >>\tLOGLOSS: 0.6367720671554686\n",
      "[INFO] 2021-02-14 14:46:32,556 >>\tdata size: 714\n",
      "[INFO] 2021-02-14 14:46:32,557 >>\tcorrect predictions: 487\n",
      "[INFO] 2021-02-14 14:46:32,558 >>\t\n"
     ]
    }
   ],
   "source": [
    "pred_train = get_pred_result(model, train_x, train_y)\n",
    "get_acc_and_logloss(pred_train, train_y, logging=True)"
   ]
  },
  {
   "cell_type": "code",
   "execution_count": 36,
   "id": "least-buddy",
   "metadata": {},
   "outputs": [],
   "source": [
    "age_mean = train_x['Age'].mean()\n",
    "fare_mean = train_x['Fare'].mean()\n",
    "passenger_id = test_x['PassengerId']\n",
    "test_x = test_x.drop(['PassengerId', 'Name', 'Cabin', 'Ticket', 'Sex', 'Embarked'], axis=1)\n",
    "test_x.loc[test_x['Age'].isna(), 'Age'] = age_mean\n",
    "test_x.loc[test_x['Fare'].isna(), 'Fare'] = fare_mean\n",
    "preds = model.predict(test_x)\n",
    "preds = [round(pred[0]) for pred in preds]"
   ]
  },
  {
   "cell_type": "code",
   "execution_count": 42,
   "id": "constitutional-testing",
   "metadata": {},
   "outputs": [
    {
     "name": "stdin",
     "output_type": "stream",
     "text": [
      "Enter File Suffix: keras_submission_20210214_... 0\n"
     ]
    }
   ],
   "source": [
    "submission = pd.DataFrame({'PassengerId': passenger_id, 'Survived': preds})\n",
    "save_submission(submission)"
   ]
  },
  {
   "cell_type": "markdown",
   "id": "wicked-regard",
   "metadata": {},
   "source": [
    "## Age standardized and target encoding"
   ]
  },
  {
   "cell_type": "code",
   "execution_count": 443,
   "id": "ceramic-shanghai",
   "metadata": {},
   "outputs": [],
   "source": [
    "train_x, train_y, test_x = load_data()"
   ]
  },
  {
   "cell_type": "code",
   "execution_count": 444,
   "id": "normal-gauge",
   "metadata": {},
   "outputs": [],
   "source": [
    "base_path = '../features/nn/'\n",
    "cols_to_rplc_train = {\n",
    "    'Age': base_path + 'age_train_std_te.feather',\n",
    "    'Fare': base_path + 'fare_train_std_te.feather'\n",
    "}\n",
    "train_x = load_feather(train_x, cols_to_rplc_train)\n",
    "train_x = load_feather_ohe(train_x, base_path + 'train_ohe.feather')\n",
    "train_x = load_feather_ohe(train_x, base_path + 'train_ohe_2_z.feather')\n",
    "\n",
    "cols_train = {\n",
    "    'Age_<10': base_path + 'age_train_<10.feather',\n",
    "    'Age_30s': base_path + 'age_train_30s.feather',\n",
    "    'Fare_>50': base_path + 'fare_train_>50.feather',\n",
    "    'Fare_<10': base_path + 'fare_train_<10.feather',\n",
    "    'Cabin_exist': base_path + 'cabin_train_exist.feather',\n",
    "    'Cabin_B-F': base_path + 'cabin_train_B-F.feather'\n",
    "}\n",
    "train_x = load_feather(train_x, cols_train)"
   ]
  },
  {
   "cell_type": "code",
   "execution_count": 445,
   "id": "seven-charleston",
   "metadata": {},
   "outputs": [],
   "source": [
    "train_x = train_x.drop(['PassengerId', 'Name', 'Cabin', 'Ticket', 'Sex', 'Embarked', 'Pclass'], axis=1)\n",
    "train_x = train_x.drop([col for col in train_x.columns if 'Cabin' in col], axis=1)\n",
    "train_x = train_x.drop([col for col in train_x.columns if 'Ticket' in col], axis=1)\n",
    "train_x = train_x.drop(['Embarked_Q', 'Embarked_S'], axis=1)\n",
    "train_x = train_x.drop(['Pclass_1', 'Pclass_2'], axis=1)\n",
    "# train_x = train_x.drop(['Age'], axis=1)\n",
    "train_x = train_x.drop(['Fare'], axis=1)"
   ]
  },
  {
   "cell_type": "code",
   "execution_count": 459,
   "id": "linear-amazon",
   "metadata": {},
   "outputs": [
    {
     "name": "stderr",
     "output_type": "stream",
     "text": [
      "[INFO] 2021-02-14 21:31:39,885 >>\t=== NN KERAS MODEL ===\n",
      "[INFO] 2021-02-14 21:31:39,885 >>\tPARAMS: {'model_name': 'with_Embarked_C, with_Pclass_1, dropout:0.2, epochs: 10, learning_rate:0.001'}\n"
     ]
    }
   ],
   "source": [
    "model = ModelKeras(logging=True, model_name='with_Embarked_C, with_Pclass_1, dropout:0.2, epochs: 10, learning_rate:0.001')\n",
    "layer_d = Dropout(0.2)\n",
    "layer1 = Dense(2048, activation='relu', input_shape=(train_x.shape[1],))\n",
    "layer2 = Dense(1024, activation='relu')\n",
    "layer3 = Dense(1024, activation='relu')\n",
    "layer3 = Dense(1024, activation='relu')\n",
    "layer4 = Dense(1, activation='sigmoid')\n",
    "model.add_layers(layer1, layer_d, layer4)\n",
    "model.compile(learning_rate=0.001)\n",
    "model.set_fit_params(epochs=10, verbose=1)"
   ]
  },
  {
   "cell_type": "code",
   "execution_count": 460,
   "id": "japanese-bulletin",
   "metadata": {},
   "outputs": [
    {
     "name": "stdout",
     "output_type": "stream",
     "text": [
      "Epoch 1/10\n",
      "21/21 [==============================] - 0s 7ms/step - loss: 0.5700 - accuracy: 0.6946 - val_loss: 0.4557 - val_accuracy: 0.7982\n",
      "Epoch 2/10\n",
      "21/21 [==============================] - 0s 2ms/step - loss: 0.4527 - accuracy: 0.8039 - val_loss: 0.4137 - val_accuracy: 0.7982\n",
      "Epoch 3/10\n",
      "21/21 [==============================] - 0s 2ms/step - loss: 0.4343 - accuracy: 0.8144 - val_loss: 0.4063 - val_accuracy: 0.8117\n",
      "Epoch 4/10\n",
      "21/21 [==============================] - 0s 2ms/step - loss: 0.4270 - accuracy: 0.8189 - val_loss: 0.4011 - val_accuracy: 0.8072\n",
      "Epoch 5/10\n",
      "21/21 [==============================] - 0s 2ms/step - loss: 0.4226 - accuracy: 0.8278 - val_loss: 0.3996 - val_accuracy: 0.8206\n",
      "Epoch 6/10\n",
      "21/21 [==============================] - 0s 2ms/step - loss: 0.4175 - accuracy: 0.8368 - val_loss: 0.4094 - val_accuracy: 0.8117\n",
      "Epoch 7/10\n",
      "21/21 [==============================] - 0s 2ms/step - loss: 0.4098 - accuracy: 0.8323 - val_loss: 0.3973 - val_accuracy: 0.8161\n",
      "Epoch 8/10\n",
      "21/21 [==============================] - 0s 2ms/step - loss: 0.4082 - accuracy: 0.8398 - val_loss: 0.3933 - val_accuracy: 0.8117\n",
      "Epoch 9/10\n",
      "21/21 [==============================] - 0s 2ms/step - loss: 0.4051 - accuracy: 0.8428 - val_loss: 0.4036 - val_accuracy: 0.8206\n",
      "Epoch 10/10\n",
      "21/21 [==============================] - 0s 2ms/step - loss: 0.4006 - accuracy: 0.8428 - val_loss: 0.3993 - val_accuracy: 0.8206\n",
      "Epoch 1/10\n",
      "21/21 [==============================] - 0s 4ms/step - loss: 0.5851 - accuracy: 0.7231 - val_loss: 0.4888 - val_accuracy: 0.7937\n",
      "Epoch 2/10\n",
      "21/21 [==============================] - 0s 2ms/step - loss: 0.4467 - accuracy: 0.7949 - val_loss: 0.4526 - val_accuracy: 0.8027\n",
      "Epoch 3/10\n",
      "21/21 [==============================] - 0s 2ms/step - loss: 0.4282 - accuracy: 0.8144 - val_loss: 0.4546 - val_accuracy: 0.7892\n",
      "Epoch 4/10\n",
      "21/21 [==============================] - 0s 2ms/step - loss: 0.4151 - accuracy: 0.8234 - val_loss: 0.4478 - val_accuracy: 0.8117\n",
      "Epoch 5/10\n",
      "21/21 [==============================] - 0s 2ms/step - loss: 0.4138 - accuracy: 0.8219 - val_loss: 0.4591 - val_accuracy: 0.7623\n",
      "Epoch 6/10\n",
      "21/21 [==============================] - 0s 2ms/step - loss: 0.4093 - accuracy: 0.8204 - val_loss: 0.4388 - val_accuracy: 0.8161\n",
      "Epoch 7/10\n",
      "21/21 [==============================] - 0s 2ms/step - loss: 0.4043 - accuracy: 0.8368 - val_loss: 0.4427 - val_accuracy: 0.8161\n",
      "Epoch 8/10\n",
      "21/21 [==============================] - 0s 2ms/step - loss: 0.3988 - accuracy: 0.8293 - val_loss: 0.4400 - val_accuracy: 0.8161\n",
      "Epoch 9/10\n",
      "21/21 [==============================] - 0s 2ms/step - loss: 0.3960 - accuracy: 0.8368 - val_loss: 0.4451 - val_accuracy: 0.7937\n",
      "Epoch 10/10\n",
      "21/21 [==============================] - 0s 2ms/step - loss: 0.3904 - accuracy: 0.8353 - val_loss: 0.4420 - val_accuracy: 0.8251\n",
      "Epoch 1/10\n",
      "21/21 [==============================] - 0s 4ms/step - loss: 0.5778 - accuracy: 0.7021 - val_loss: 0.4984 - val_accuracy: 0.7892\n",
      "Epoch 2/10\n",
      "21/21 [==============================] - 0s 3ms/step - loss: 0.4502 - accuracy: 0.7919 - val_loss: 0.4650 - val_accuracy: 0.7937\n",
      "Epoch 3/10\n",
      "21/21 [==============================] - 0s 2ms/step - loss: 0.4265 - accuracy: 0.8144 - val_loss: 0.4620 - val_accuracy: 0.8027\n",
      "Epoch 4/10\n",
      "21/21 [==============================] - 0s 2ms/step - loss: 0.4111 - accuracy: 0.8219 - val_loss: 0.4612 - val_accuracy: 0.8072\n",
      "Epoch 5/10\n",
      "21/21 [==============================] - 0s 2ms/step - loss: 0.4061 - accuracy: 0.8204 - val_loss: 0.4634 - val_accuracy: 0.8161\n",
      "Epoch 6/10\n",
      "21/21 [==============================] - 0s 2ms/step - loss: 0.4012 - accuracy: 0.8234 - val_loss: 0.4605 - val_accuracy: 0.8251\n",
      "Epoch 7/10\n",
      "21/21 [==============================] - 0s 2ms/step - loss: 0.3990 - accuracy: 0.8278 - val_loss: 0.4641 - val_accuracy: 0.8117\n",
      "Epoch 8/10\n",
      "21/21 [==============================] - 0s 2ms/step - loss: 0.3938 - accuracy: 0.8308 - val_loss: 0.4559 - val_accuracy: 0.8251\n",
      "Epoch 9/10\n",
      "21/21 [==============================] - 0s 2ms/step - loss: 0.3887 - accuracy: 0.8443 - val_loss: 0.4646 - val_accuracy: 0.8296\n",
      "Epoch 10/10\n",
      "21/21 [==============================] - 0s 2ms/step - loss: 0.3851 - accuracy: 0.8398 - val_loss: 0.4616 - val_accuracy: 0.8206\n",
      "Epoch 1/10\n",
      "21/21 [==============================] - 0s 3ms/step - loss: 0.5826 - accuracy: 0.6786 - val_loss: 0.5049 - val_accuracy: 0.7613\n",
      "Epoch 2/10\n",
      "21/21 [==============================] - 0s 2ms/step - loss: 0.4619 - accuracy: 0.8027 - val_loss: 0.4328 - val_accuracy: 0.7928\n",
      "Epoch 3/10\n",
      "21/21 [==============================] - 0s 2ms/step - loss: 0.4358 - accuracy: 0.8087 - val_loss: 0.4181 - val_accuracy: 0.8243\n",
      "Epoch 4/10\n",
      "21/21 [==============================] - 0s 2ms/step - loss: 0.4222 - accuracy: 0.8176 - val_loss: 0.4339 - val_accuracy: 0.7838\n",
      "Epoch 5/10\n",
      "21/21 [==============================] - 0s 2ms/step - loss: 0.4173 - accuracy: 0.8221 - val_loss: 0.4400 - val_accuracy: 0.7883\n",
      "Epoch 6/10\n",
      "21/21 [==============================] - 0s 2ms/step - loss: 0.4098 - accuracy: 0.8281 - val_loss: 0.4185 - val_accuracy: 0.8243\n",
      "Epoch 7/10\n",
      "21/21 [==============================] - 0s 2ms/step - loss: 0.4088 - accuracy: 0.8326 - val_loss: 0.4327 - val_accuracy: 0.7973\n",
      "Epoch 8/10\n",
      "21/21 [==============================] - 0s 2ms/step - loss: 0.4032 - accuracy: 0.8251 - val_loss: 0.4468 - val_accuracy: 0.7748\n",
      "Epoch 9/10\n",
      "21/21 [==============================] - 0s 2ms/step - loss: 0.3999 - accuracy: 0.8296 - val_loss: 0.4182 - val_accuracy: 0.8423\n",
      "Epoch 10/10\n",
      "21/21 [==============================] - 0s 2ms/step - loss: 0.3893 - accuracy: 0.8356 - val_loss: 0.4595 - val_accuracy: 0.7658\n"
     ]
    },
    {
     "name": "stderr",
     "output_type": "stream",
     "text": [
      "[INFO] 2021-02-14 21:31:43,270 >>\tACCURACY: 0.8080808080808081\n",
      "[INFO] 2021-02-14 21:31:43,270 >>\tLOGLOSS: 0.44056861410304216\n",
      "[INFO] 2021-02-14 21:31:43,271 >>\tdata size: 891\n",
      "[INFO] 2021-02-14 21:31:43,272 >>\tcorrect predictions: 720\n",
      "[INFO] 2021-02-14 21:31:43,273 >>\t\n"
     ]
    }
   ],
   "source": [
    "pred_train = get_pred_result(model, train_x, train_y)\n",
    "get_acc_and_logloss(pred_train, train_y, logging=True)"
   ]
  },
  {
   "cell_type": "code",
   "execution_count": 461,
   "id": "congressional-priority",
   "metadata": {},
   "outputs": [
    {
     "name": "stdout",
     "output_type": "stream",
     "text": [
      "Epoch 1/10\n",
      "28/28 [==============================] - 0s 3ms/step - loss: 0.5592 - accuracy: 0.7127 - val_loss: 0.4638 - val_accuracy: 0.8025\n",
      "Epoch 2/10\n",
      "28/28 [==============================] - 0s 2ms/step - loss: 0.4441 - accuracy: 0.8114 - val_loss: 0.4247 - val_accuracy: 0.8126\n",
      "Epoch 3/10\n",
      "28/28 [==============================] - 0s 2ms/step - loss: 0.4260 - accuracy: 0.8137 - val_loss: 0.4163 - val_accuracy: 0.8238\n",
      "Epoch 4/10\n",
      "28/28 [==============================] - 0s 2ms/step - loss: 0.4186 - accuracy: 0.8238 - val_loss: 0.4080 - val_accuracy: 0.8294\n",
      "Epoch 5/10\n",
      "28/28 [==============================] - 0s 2ms/step - loss: 0.4157 - accuracy: 0.8305 - val_loss: 0.4054 - val_accuracy: 0.8384\n",
      "Epoch 6/10\n",
      "28/28 [==============================] - 0s 2ms/step - loss: 0.4079 - accuracy: 0.8249 - val_loss: 0.4251 - val_accuracy: 0.8081\n",
      "Epoch 7/10\n",
      "28/28 [==============================] - 0s 2ms/step - loss: 0.4135 - accuracy: 0.8361 - val_loss: 0.3967 - val_accuracy: 0.8406\n",
      "Epoch 8/10\n",
      "28/28 [==============================] - 0s 2ms/step - loss: 0.4018 - accuracy: 0.8406 - val_loss: 0.3929 - val_accuracy: 0.8361\n",
      "Epoch 9/10\n",
      "28/28 [==============================] - 0s 2ms/step - loss: 0.3989 - accuracy: 0.8373 - val_loss: 0.3903 - val_accuracy: 0.8429\n",
      "Epoch 10/10\n",
      "28/28 [==============================] - 0s 2ms/step - loss: 0.3966 - accuracy: 0.8361 - val_loss: 0.3879 - val_accuracy: 0.8429\n"
     ]
    }
   ],
   "source": [
    "model.fit(tr_x=train_x, tr_y=train_y, va_x=train_x, va_y=train_y)"
   ]
  },
  {
   "cell_type": "code",
   "execution_count": 449,
   "id": "blind-insulation",
   "metadata": {},
   "outputs": [],
   "source": [
    "passenger_id = test_x['PassengerId']"
   ]
  },
  {
   "cell_type": "code",
   "execution_count": 450,
   "id": "superb-siemens",
   "metadata": {},
   "outputs": [],
   "source": [
    "base_path = '../features/nn/'\n",
    "cols_to_rplc_train = {\n",
    "    'Age': base_path + 'age_test_std_te.feather',\n",
    "    'Fare': base_path + 'fare_test_std_te.feather'\n",
    "}\n",
    "test_x = load_feather(test_x, cols_to_rplc_train)\n",
    "test_x = load_feather_ohe(test_x, base_path + 'test_ohe.feather')\n",
    "test_x = load_feather_ohe(test_x, base_path + 'test_ohe_2_z.feather')\n",
    "\n",
    "cols_test = {\n",
    "    'Age_<10': base_path + 'age_test_<10.feather',\n",
    "    'Age_30s': base_path + 'age_test_30s.feather',\n",
    "    'Fare_>50': base_path + 'fare_test_>50.feather',\n",
    "    'Fare_<10': base_path + 'fare_test_<10.feather',\n",
    "    'Cabin_exist': base_path + 'cabin_test_exist.feather',\n",
    "    'Cabin_B-F': base_path + 'cabin_test_B-F.feather'\n",
    "}\n",
    "test_x = load_feather(test_x, cols_test)"
   ]
  },
  {
   "cell_type": "code",
   "execution_count": 451,
   "id": "figured-angola",
   "metadata": {},
   "outputs": [],
   "source": [
    "test_x = test_x.drop(['PassengerId', 'Name', 'Cabin', 'Ticket', 'Sex', 'Embarked', 'Pclass'], axis=1)\n",
    "test_x = test_x.drop([col for col in test_x.columns if 'Cabin' in col], axis=1)\n",
    "test_x = test_x.drop([col for col in test_x.columns if 'Ticket' in col], axis=1)\n",
    "test_x = test_x.drop(['Embarked_Q', 'Embarked_S'], axis=1)\n",
    "test_x = test_x.drop(['Pclass_1', 'Pclass_2'], axis=1)\n",
    "# test_x = test_x.drop(['Age'], axis=1)\n",
    "test_x = test_x.drop(['Fare'], axis=1)"
   ]
  },
  {
   "cell_type": "code",
   "execution_count": 452,
   "id": "previous-lindsay",
   "metadata": {},
   "outputs": [],
   "source": [
    "prediction = model.predict(test_x).ravel()\n",
    "prediction = [round(pred) for pred in prediction]"
   ]
  },
  {
   "cell_type": "code",
   "execution_count": 453,
   "id": "wrapped-stand",
   "metadata": {},
   "outputs": [
    {
     "name": "stdin",
     "output_type": "stream",
     "text": [
      "Enter File Suffix: keras_submission_20210214_... 5\n"
     ]
    }
   ],
   "source": [
    "submission = pd.DataFrame({'PassengerId': passenger_id, 'Survived': prediction})\n",
    "save_submission(submission)"
   ]
  },
  {
   "cell_type": "markdown",
   "id": "green-tension",
   "metadata": {},
   "source": [
    "## Age standardized and mean"
   ]
  },
  {
   "cell_type": "code",
   "execution_count": 173,
   "id": "fixed-advance",
   "metadata": {},
   "outputs": [],
   "source": [
    "train_x, train_y, test_x = load_data()"
   ]
  },
  {
   "cell_type": "code",
   "execution_count": 174,
   "id": "corresponding-accessory",
   "metadata": {},
   "outputs": [],
   "source": [
    "base_path = '../features/nn/'\n",
    "cols_to_rplc_train = {\n",
    "    'Age': base_path + 'age_train_std_mean.feather',\n",
    "    'Fare': base_path + 'fare_train_std_mean.feather'\n",
    "}\n",
    "train_x = load_feather(train_x, cols_to_rplc_train)\n",
    "train_x = load_feather_ohe(train_x, base_path + 'train_ohe.feather')\n",
    "train_x = load_feather_ohe(train_x, base_path + 'train_ohe_2_z.feather')"
   ]
  },
  {
   "cell_type": "code",
   "execution_count": 175,
   "id": "bigger-armenia",
   "metadata": {},
   "outputs": [],
   "source": [
    "train_x = train_x.drop(['PassengerId', 'Name', 'Cabin', 'Ticket', 'Sex', 'Embarked', 'Pclass'], axis=1)\n",
    "train_x = train_x.drop([col for col in train_x.columns if 'Cabin' in col ], axis=1)\n",
    "train_x = train_x.drop([col for col in train_x.columns if 'Ticket' in col ], axis=1)\n",
    "train_x = train_x.drop(['Embarked_Q', 'Embarked_S'], axis=1)"
   ]
  },
  {
   "cell_type": "code",
   "execution_count": 176,
   "id": "welcome-choice",
   "metadata": {},
   "outputs": [
    {
     "name": "stderr",
     "output_type": "stream",
     "text": [
      "[INFO] 2021-02-14 15:42:27,920 >>\t=== NN KERAS MODEL ===\n",
      "[INFO] 2021-02-14 15:42:27,921 >>\tPARAMS: {'model_name': 'with_Embarked_C, dropout:0.2, epochs: 10, learning_rate:0.001'}\n"
     ]
    }
   ],
   "source": [
    "model = ModelKeras(logging=True, model_name='with_Embarked_C, dropout:0.2, epochs: 10, learning_rate:0.001')\n",
    "layer_d1 = Dropout(0.2)\n",
    "layer_d2 = Dropout(0.3)\n",
    "layer1 = Dense(2048, activation='relu', input_shape=(train_x.shape[1],))\n",
    "layer2 = Dense(512, activation='relu')\n",
    "layer3 = Dense(1024, activation='relu')\n",
    "layer3 = Dense(1024, activation='relu')\n",
    "layer4 = Dense(1, activation='sigmoid')\n",
    "model.add_layers(layer1, layer_d, layer2, layer_d2, layer4)\n",
    "model.compile(learning_rate=0.001)\n",
    "model.set_fit_params(epochs=10, verbose=1)"
   ]
  },
  {
   "cell_type": "code",
   "execution_count": 177,
   "id": "joint-event",
   "metadata": {},
   "outputs": [
    {
     "name": "stdout",
     "output_type": "stream",
     "text": [
      "Epoch 1/10\n",
      "21/21 [==============================] - 0s 11ms/step - loss: 0.4905 - accuracy: 0.7799 - val_loss: 0.5408 - val_accuracy: 0.7668\n",
      "Epoch 2/10\n",
      "21/21 [==============================] - 0s 7ms/step - loss: 0.4137 - accuracy: 0.8249 - val_loss: 0.4861 - val_accuracy: 0.7892\n",
      "Epoch 3/10\n",
      "21/21 [==============================] - 0s 7ms/step - loss: 0.3878 - accuracy: 0.8353 - val_loss: 0.4837 - val_accuracy: 0.7758\n",
      "Epoch 4/10\n",
      "21/21 [==============================] - 0s 7ms/step - loss: 0.3821 - accuracy: 0.8473 - val_loss: 0.5225 - val_accuracy: 0.7668\n",
      "Epoch 5/10\n",
      "21/21 [==============================] - 0s 8ms/step - loss: 0.3897 - accuracy: 0.8263 - val_loss: 0.4773 - val_accuracy: 0.8072\n",
      "Epoch 6/10\n",
      "21/21 [==============================] - 0s 7ms/step - loss: 0.3732 - accuracy: 0.8488 - val_loss: 0.4918 - val_accuracy: 0.7803\n",
      "Epoch 7/10\n",
      "21/21 [==============================] - 0s 7ms/step - loss: 0.3780 - accuracy: 0.8338 - val_loss: 0.5499 - val_accuracy: 0.7758\n",
      "Epoch 8/10\n",
      "21/21 [==============================] - 0s 7ms/step - loss: 0.3754 - accuracy: 0.8443 - val_loss: 0.5208 - val_accuracy: 0.7489\n",
      "Epoch 9/10\n",
      "21/21 [==============================] - 0s 6ms/step - loss: 0.3699 - accuracy: 0.8428 - val_loss: 0.4890 - val_accuracy: 0.7534\n",
      "Epoch 10/10\n",
      "21/21 [==============================] - 0s 8ms/step - loss: 0.3565 - accuracy: 0.8428 - val_loss: 0.5069 - val_accuracy: 0.7892\n",
      "Epoch 1/10\n",
      "21/21 [==============================] - 0s 9ms/step - loss: 0.5362 - accuracy: 0.7740 - val_loss: 0.5270 - val_accuracy: 0.7309\n",
      "Epoch 2/10\n",
      "21/21 [==============================] - 0s 8ms/step - loss: 0.4682 - accuracy: 0.7949 - val_loss: 0.4769 - val_accuracy: 0.7623\n",
      "Epoch 3/10\n",
      "21/21 [==============================] - 0s 8ms/step - loss: 0.4112 - accuracy: 0.8263 - val_loss: 0.4474 - val_accuracy: 0.7668\n",
      "Epoch 4/10\n",
      "21/21 [==============================] - 0s 7ms/step - loss: 0.4066 - accuracy: 0.8398 - val_loss: 0.4470 - val_accuracy: 0.7803\n",
      "Epoch 5/10\n",
      "21/21 [==============================] - 0s 7ms/step - loss: 0.3854 - accuracy: 0.8368 - val_loss: 0.4502 - val_accuracy: 0.7892\n",
      "Epoch 6/10\n",
      "21/21 [==============================] - 0s 7ms/step - loss: 0.3818 - accuracy: 0.8428 - val_loss: 0.4447 - val_accuracy: 0.7892\n",
      "Epoch 7/10\n",
      "21/21 [==============================] - 0s 7ms/step - loss: 0.3762 - accuracy: 0.8488 - val_loss: 0.4529 - val_accuracy: 0.7848\n",
      "Epoch 8/10\n",
      "21/21 [==============================] - 0s 7ms/step - loss: 0.3772 - accuracy: 0.8398 - val_loss: 0.4516 - val_accuracy: 0.7937\n",
      "Epoch 9/10\n",
      "21/21 [==============================] - 0s 7ms/step - loss: 0.3719 - accuracy: 0.8533 - val_loss: 0.4512 - val_accuracy: 0.7937\n",
      "Epoch 10/10\n",
      "21/21 [==============================] - 0s 7ms/step - loss: 0.3720 - accuracy: 0.8533 - val_loss: 0.4498 - val_accuracy: 0.7803\n",
      "Epoch 1/10\n",
      "21/21 [==============================] - 0s 8ms/step - loss: 0.5424 - accuracy: 0.7530 - val_loss: 0.4034 - val_accuracy: 0.8341\n",
      "Epoch 2/10\n",
      "21/21 [==============================] - 0s 7ms/step - loss: 0.4604 - accuracy: 0.7889 - val_loss: 0.3979 - val_accuracy: 0.8117\n",
      "Epoch 3/10\n",
      "21/21 [==============================] - 0s 7ms/step - loss: 0.4527 - accuracy: 0.7949 - val_loss: 0.4032 - val_accuracy: 0.8251\n",
      "Epoch 4/10\n",
      "21/21 [==============================] - 0s 7ms/step - loss: 0.4124 - accuracy: 0.8129 - val_loss: 0.4050 - val_accuracy: 0.8117\n",
      "Epoch 5/10\n",
      "21/21 [==============================] - 0s 7ms/step - loss: 0.4188 - accuracy: 0.8024 - val_loss: 0.3960 - val_accuracy: 0.8206\n",
      "Epoch 6/10\n",
      "21/21 [==============================] - 0s 8ms/step - loss: 0.4146 - accuracy: 0.7964 - val_loss: 0.3948 - val_accuracy: 0.8430\n",
      "Epoch 7/10\n",
      "21/21 [==============================] - 0s 8ms/step - loss: 0.3977 - accuracy: 0.8129 - val_loss: 0.3856 - val_accuracy: 0.8430\n",
      "Epoch 8/10\n",
      "21/21 [==============================] - 0s 7ms/step - loss: 0.3918 - accuracy: 0.8263 - val_loss: 0.3999 - val_accuracy: 0.8475\n",
      "Epoch 9/10\n",
      "21/21 [==============================] - 0s 7ms/step - loss: 0.3858 - accuracy: 0.8278 - val_loss: 0.3857 - val_accuracy: 0.8744\n",
      "Epoch 10/10\n",
      "21/21 [==============================] - 0s 6ms/step - loss: 0.3835 - accuracy: 0.8189 - val_loss: 0.3999 - val_accuracy: 0.8251\n",
      "Epoch 1/10\n",
      "21/21 [==============================] - 0s 8ms/step - loss: 0.5268 - accuracy: 0.7549 - val_loss: 0.4401 - val_accuracy: 0.8063\n",
      "Epoch 2/10\n",
      "21/21 [==============================] - 0s 7ms/step - loss: 0.4387 - accuracy: 0.8027 - val_loss: 0.4087 - val_accuracy: 0.8153\n",
      "Epoch 3/10\n",
      "21/21 [==============================] - 0s 7ms/step - loss: 0.4185 - accuracy: 0.8146 - val_loss: 0.4336 - val_accuracy: 0.8243\n",
      "Epoch 4/10\n",
      "21/21 [==============================] - 0s 7ms/step - loss: 0.4123 - accuracy: 0.8206 - val_loss: 0.4325 - val_accuracy: 0.8243\n",
      "Epoch 5/10\n",
      "21/21 [==============================] - 0s 7ms/step - loss: 0.4079 - accuracy: 0.8206 - val_loss: 0.4244 - val_accuracy: 0.8333\n",
      "Epoch 6/10\n",
      "21/21 [==============================] - 0s 7ms/step - loss: 0.4111 - accuracy: 0.8206 - val_loss: 0.4179 - val_accuracy: 0.8243\n",
      "Epoch 7/10\n",
      "21/21 [==============================] - 0s 7ms/step - loss: 0.3923 - accuracy: 0.8236 - val_loss: 0.4307 - val_accuracy: 0.8153\n",
      "Epoch 8/10\n",
      "21/21 [==============================] - 0s 8ms/step - loss: 0.3946 - accuracy: 0.8311 - val_loss: 0.4458 - val_accuracy: 0.8288\n",
      "Epoch 9/10\n",
      "21/21 [==============================] - 0s 7ms/step - loss: 0.3869 - accuracy: 0.8266 - val_loss: 0.4421 - val_accuracy: 0.8333\n",
      "Epoch 10/10\n",
      "21/21 [==============================] - 0s 7ms/step - loss: 0.3768 - accuracy: 0.8371 - val_loss: 0.4455 - val_accuracy: 0.8243\n"
     ]
    },
    {
     "name": "stderr",
     "output_type": "stream",
     "text": [
      "[INFO] 2021-02-14 15:42:37,899 >>\tACCURACY: 0.8047138047138047\n",
      "[INFO] 2021-02-14 15:42:37,900 >>\tLOGLOSS: 0.4505417245775857\n",
      "[INFO] 2021-02-14 15:42:37,900 >>\tdata size: 891\n",
      "[INFO] 2021-02-14 15:42:37,901 >>\tcorrect predictions: 717\n",
      "[INFO] 2021-02-14 15:42:37,902 >>\t\n"
     ]
    }
   ],
   "source": [
    "pred_train = get_pred_result(model, train_x, train_y)\n",
    "get_acc_and_logloss(pred_train, train_y, logging=True)"
   ]
  },
  {
   "cell_type": "code",
   "execution_count": 178,
   "id": "prepared-difference",
   "metadata": {},
   "outputs": [
    {
     "name": "stdout",
     "output_type": "stream",
     "text": [
      "Epoch 1/10\n",
      "28/28 [==============================] - 0s 9ms/step - loss: 0.5043 - accuracy: 0.7666 - val_loss: 0.4445 - val_accuracy: 0.8148\n",
      "Epoch 2/10\n",
      "28/28 [==============================] - 0s 8ms/step - loss: 0.4409 - accuracy: 0.8081 - val_loss: 0.4042 - val_accuracy: 0.8204\n",
      "Epoch 3/10\n",
      "28/28 [==============================] - 0s 8ms/step - loss: 0.4186 - accuracy: 0.8249 - val_loss: 0.4078 - val_accuracy: 0.8137\n",
      "Epoch 4/10\n",
      "28/28 [==============================] - 0s 8ms/step - loss: 0.4117 - accuracy: 0.8249 - val_loss: 0.3886 - val_accuracy: 0.8440\n",
      "Epoch 5/10\n",
      "28/28 [==============================] - 0s 8ms/step - loss: 0.3986 - accuracy: 0.8395 - val_loss: 0.3786 - val_accuracy: 0.8418\n",
      "Epoch 6/10\n",
      "28/28 [==============================] - 0s 7ms/step - loss: 0.3980 - accuracy: 0.8260 - val_loss: 0.3761 - val_accuracy: 0.8451\n",
      "Epoch 7/10\n",
      "28/28 [==============================] - 0s 8ms/step - loss: 0.3840 - accuracy: 0.8395 - val_loss: 0.3758 - val_accuracy: 0.8418\n",
      "Epoch 8/10\n",
      "28/28 [==============================] - 0s 8ms/step - loss: 0.3954 - accuracy: 0.8316 - val_loss: 0.3769 - val_accuracy: 0.8328\n",
      "Epoch 9/10\n",
      "28/28 [==============================] - 0s 8ms/step - loss: 0.3866 - accuracy: 0.8373 - val_loss: 0.3678 - val_accuracy: 0.8451\n",
      "Epoch 10/10\n",
      "28/28 [==============================] - 0s 8ms/step - loss: 0.3811 - accuracy: 0.8294 - val_loss: 0.3692 - val_accuracy: 0.8485\n"
     ]
    }
   ],
   "source": [
    "model.fit(tr_x=train_x, tr_y=train_y, va_x=train_x, va_y=train_y)"
   ]
  },
  {
   "cell_type": "code",
   "execution_count": 179,
   "id": "overall-emphasis",
   "metadata": {},
   "outputs": [],
   "source": [
    "passenger_id = test_x['PassengerId']"
   ]
  },
  {
   "cell_type": "code",
   "execution_count": 180,
   "id": "thermal-excellence",
   "metadata": {},
   "outputs": [],
   "source": [
    "base_path = '../features/nn/'\n",
    "cols_to_rplc_train = {\n",
    "    'Age': base_path + 'age_test_std_mean.feather',\n",
    "    'Fare': base_path + 'fare_test_std_mean.feather'\n",
    "}\n",
    "test_x = load_feather(test_x, cols_to_rplc_train)\n",
    "test_x = load_feather_ohe(test_x, base_path + 'test_ohe.feather')\n",
    "test_x = load_feather_ohe(test_x, base_path + 'test_ohe_2_z.feather')"
   ]
  },
  {
   "cell_type": "code",
   "execution_count": 181,
   "id": "intended-treaty",
   "metadata": {},
   "outputs": [],
   "source": [
    "test_x = test_x.drop(['PassengerId', 'Name', 'Cabin', 'Ticket', 'Sex', 'Embarked', 'Pclass'], axis=1)\n",
    "test_x = test_x.drop([col for col in test_x.columns if 'Cabin' in col ], axis=1)\n",
    "test_x = test_x.drop([col for col in test_x.columns if 'Ticket' in col ], axis=1)\n",
    "test_x = test_x.drop(['Embarked_Q', 'Embarked_S'], axis=1)"
   ]
  },
  {
   "cell_type": "code",
   "execution_count": 182,
   "id": "sunrise-waste",
   "metadata": {},
   "outputs": [],
   "source": [
    "prediction = model.predict(test_x).ravel()\n",
    "prediction = [round(pred) for pred in prediction]"
   ]
  },
  {
   "cell_type": "code",
   "execution_count": 183,
   "id": "wired-operations",
   "metadata": {},
   "outputs": [
    {
     "name": "stdin",
     "output_type": "stream",
     "text": [
      "Enter File Suffix: keras_submission_20210214_... 4\n"
     ]
    }
   ],
   "source": [
    "submission = pd.DataFrame({'PassengerId': passenger_id, 'Survived': prediction})\n",
    "save_submission(submission)"
   ]
  },
  {
   "cell_type": "code",
   "execution_count": null,
   "id": "closed-islam",
   "metadata": {},
   "outputs": [],
   "source": []
  }
 ],
 "metadata": {
  "kernelspec": {
   "display_name": "Python 3",
   "language": "python",
   "name": "python3"
  },
  "language_info": {
   "codemirror_mode": {
    "name": "ipython",
    "version": 3
   },
   "file_extension": ".py",
   "mimetype": "text/x-python",
   "name": "python",
   "nbconvert_exporter": "python",
   "pygments_lexer": "ipython3",
   "version": "3.7.9"
  }
 },
 "nbformat": 4,
 "nbformat_minor": 5
}
