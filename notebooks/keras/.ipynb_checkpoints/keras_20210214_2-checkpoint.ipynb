{
 "cells": [
  {
   "cell_type": "markdown",
   "id": "unable-angola",
   "metadata": {},
   "source": [
    "## Settings"
   ]
  },
  {
   "cell_type": "code",
   "execution_count": 1,
   "id": "solved-flooring",
   "metadata": {},
   "outputs": [],
   "source": [
    "# 一つ上の階層からモジュールを参照できるようにする\n",
    "import sys\n",
    "sys.path.append('..')"
   ]
  },
  {
   "cell_type": "code",
   "execution_count": 2,
   "id": "billion-candidate",
   "metadata": {},
   "outputs": [],
   "source": [
    "# ロギング用\n",
    "import os\n",
    "from datetime import datetime, timezone, timedelta\n",
    "from logs.logger import create_logger, get_logger\n",
    "# モデル作成補助用\n",
    "import numpy as np\n",
    "import pandas as pd\n",
    "import matplotlib.pyplot as plt\n",
    "from features.funcs import load_feather, load_feather_ohe\n",
    "from evals.funcs import get_pred_result, get_acc_and_logloss, print_conf_matrix\n",
    "from inputs.funcs import load_data\n",
    "# モデル作成用\n",
    "from models.keras import ModelKeras\n",
    "from keras.layers import Dense, Dropout"
   ]
  },
  {
   "cell_type": "code",
   "execution_count": 3,
   "id": "specific-hands",
   "metadata": {},
   "outputs": [],
   "source": [
    "# モジュールの変更を自動的に反映する\n",
    "%load_ext autoreload\n",
    "%autoreload 2"
   ]
  },
  {
   "cell_type": "code",
   "execution_count": 4,
   "id": "identified-tuner",
   "metadata": {},
   "outputs": [],
   "source": [
    "# loggingの設定を行う\n",
    "today = datetime.now(timezone(timedelta(hours=9))).strftime('%Y%m%d')\n",
    "exp_version = today\n",
    "os.environ['exp_version'] = exp_version\n",
    "create_logger(exp_version)"
   ]
  },
  {
   "cell_type": "code",
   "execution_count": 5,
   "id": "excited-penguin",
   "metadata": {},
   "outputs": [
    {
     "data": {
      "text/plain": [
       "['fare_test_std_te.feather',\n",
       " 'age_train_std_te.feather',\n",
       " 'fare_train_std_te.feather',\n",
       " 'age_test_std_mean.feather',\n",
       " 'test_ohe.feather',\n",
       " 'train_ohe_2_z.feather',\n",
       " 'age_train_std_mean.feather',\n",
       " 'age_test_std_te.feather',\n",
       " 'fare_test_std_mean.feather',\n",
       " 'train_ohe.feather',\n",
       " 'fare_train_std_mean.feather',\n",
       " 'test_ohe_2_z.feather']"
      ]
     },
     "execution_count": 5,
     "metadata": {},
     "output_type": "execute_result"
    }
   ],
   "source": [
    "os.listdir('../features/nn')"
   ]
  },
  {
   "cell_type": "code",
   "execution_count": 39,
   "id": "bored-completion",
   "metadata": {},
   "outputs": [],
   "source": [
    "def save_submission(submission_df):\n",
    "    file_name = 'keras_submission_{}'.format(today)\n",
    "    file_name_suffix = input(f'Enter File Suffix: {file_name}_...')\n",
    "    if file_name_suffix != str(0):\n",
    "        submission_file_path = f'submissions/{today}/{file_name}_{file_name_suffix}.csv'\n",
    "        submission_df.to_csv(submission_file_path, index=False)"
   ]
  },
  {
   "cell_type": "markdown",
   "id": "canadian-mobile",
   "metadata": {},
   "source": [
    "## Keras"
   ]
  },
  {
   "cell_type": "markdown",
   "id": "extreme-emperor",
   "metadata": {},
   "source": [
    "### Base"
   ]
  },
  {
   "cell_type": "code",
   "execution_count": 32,
   "id": "floral-surge",
   "metadata": {},
   "outputs": [],
   "source": [
    "train_x, train_y, test_x = load_data()"
   ]
  },
  {
   "cell_type": "code",
   "execution_count": 33,
   "id": "helpful-front",
   "metadata": {},
   "outputs": [],
   "source": [
    "train_x = train_x.drop(['PassengerId', 'Name', 'Cabin', 'Ticket', 'Sex', 'Embarked'], axis=1)\n",
    "train_x = train_x.dropna()\n",
    "train_y = train_y.iloc[train_x.index]"
   ]
  },
  {
   "cell_type": "code",
   "execution_count": 34,
   "id": "linear-friday",
   "metadata": {},
   "outputs": [
    {
     "name": "stderr",
     "output_type": "stream",
     "text": [
      "[INFO] 2021-02-14 14:46:28,380 >>\t=== NN KERAS MODEL ===\n"
     ]
    }
   ],
   "source": [
    "model = ModelKeras(logging=True)\n",
    "layer1 = Dense(1024, activation='relu', input_shape=(train_x.shape[1],))\n",
    "layer2 = Dense(1024, activation='relu')\n",
    "layer3 = Dense(1024, activation='relu')\n",
    "layer3 = Dense(1024, activation='relu')\n",
    "layer4 = Dense(1, activation='sigmoid')\n",
    "model.add_layers(layer1, layer2, layer3, layer4)\n",
    "model.compile()\n",
    "model.set_fit_params(epochs=5, verbose=1)"
   ]
  },
  {
   "cell_type": "code",
   "execution_count": 35,
   "id": "specialized-davis",
   "metadata": {},
   "outputs": [
    {
     "name": "stdout",
     "output_type": "stream",
     "text": [
      "Epoch 1/5\n",
      "17/17 [==============================] - 0s 14ms/step - loss: 1.7096 - accuracy: 0.5738 - val_loss: 0.7922 - val_accuracy: 0.6257\n",
      "Epoch 2/5\n",
      "17/17 [==============================] - 0s 8ms/step - loss: 0.7003 - accuracy: 0.6505 - val_loss: 0.5910 - val_accuracy: 0.6648\n",
      "Epoch 3/5\n",
      "17/17 [==============================] - 0s 8ms/step - loss: 0.6373 - accuracy: 0.6505 - val_loss: 0.6357 - val_accuracy: 0.7151\n",
      "Epoch 4/5\n",
      "17/17 [==============================] - 0s 8ms/step - loss: 0.6376 - accuracy: 0.6561 - val_loss: 0.7106 - val_accuracy: 0.7207\n",
      "Epoch 5/5\n",
      "17/17 [==============================] - 0s 8ms/step - loss: 0.6476 - accuracy: 0.6579 - val_loss: 0.5845 - val_accuracy: 0.7095\n",
      "Epoch 1/5\n",
      "17/17 [==============================] - 0s 9ms/step - loss: 1.3144 - accuracy: 0.6112 - val_loss: 1.1104 - val_accuracy: 0.4413\n",
      "Epoch 2/5\n",
      "17/17 [==============================] - 0s 8ms/step - loss: 0.7357 - accuracy: 0.6280 - val_loss: 0.6024 - val_accuracy: 0.6927\n",
      "Epoch 3/5\n",
      "17/17 [==============================] - 0s 8ms/step - loss: 0.6443 - accuracy: 0.6598 - val_loss: 0.5945 - val_accuracy: 0.6983\n",
      "Epoch 4/5\n",
      "17/17 [==============================] - 0s 8ms/step - loss: 0.6212 - accuracy: 0.6766 - val_loss: 0.5930 - val_accuracy: 0.6872\n",
      "Epoch 5/5\n",
      "17/17 [==============================] - 0s 8ms/step - loss: 0.6274 - accuracy: 0.6561 - val_loss: 0.5980 - val_accuracy: 0.6927\n",
      "Epoch 1/5\n",
      "17/17 [==============================] - 0s 9ms/step - loss: 1.3012 - accuracy: 0.5951 - val_loss: 0.8806 - val_accuracy: 0.6742\n",
      "Epoch 2/5\n",
      "17/17 [==============================] - 0s 8ms/step - loss: 0.6681 - accuracy: 0.6586 - val_loss: 0.6898 - val_accuracy: 0.6742\n",
      "Epoch 3/5\n",
      "17/17 [==============================] - 0s 8ms/step - loss: 0.6210 - accuracy: 0.7071 - val_loss: 0.6426 - val_accuracy: 0.6798\n",
      "Epoch 4/5\n",
      "17/17 [==============================] - 0s 8ms/step - loss: 0.6144 - accuracy: 0.6903 - val_loss: 0.6171 - val_accuracy: 0.6629\n",
      "Epoch 5/5\n",
      "17/17 [==============================] - 0s 9ms/step - loss: 0.6113 - accuracy: 0.6903 - val_loss: 0.6877 - val_accuracy: 0.6742\n",
      "Epoch 1/5\n",
      "17/17 [==============================] - 0s 10ms/step - loss: 1.3613 - accuracy: 0.5802 - val_loss: 0.7889 - val_accuracy: 0.6517\n",
      "Epoch 2/5\n",
      "17/17 [==============================] - 0s 8ms/step - loss: 0.6964 - accuracy: 0.6772 - val_loss: 0.7220 - val_accuracy: 0.6180\n",
      "Epoch 3/5\n",
      "17/17 [==============================] - 0s 7ms/step - loss: 0.6536 - accuracy: 0.6866 - val_loss: 0.6458 - val_accuracy: 0.6404\n",
      "Epoch 4/5\n",
      "17/17 [==============================] - 0s 8ms/step - loss: 0.6025 - accuracy: 0.6903 - val_loss: 0.7302 - val_accuracy: 0.6517\n",
      "Epoch 5/5\n",
      "17/17 [==============================] - 0s 8ms/step - loss: 0.6115 - accuracy: 0.6978 - val_loss: 0.6774 - val_accuracy: 0.6517\n"
     ]
    },
    {
     "name": "stderr",
     "output_type": "stream",
     "text": [
      "[INFO] 2021-02-14 14:46:32,555 >>\tACCURACY: 0.6820728291316527\n",
      "[INFO] 2021-02-14 14:46:32,555 >>\tLOGLOSS: 0.6367720671554686\n",
      "[INFO] 2021-02-14 14:46:32,556 >>\tdata size: 714\n",
      "[INFO] 2021-02-14 14:46:32,557 >>\tcorrect predictions: 487\n",
      "[INFO] 2021-02-14 14:46:32,558 >>\t\n"
     ]
    }
   ],
   "source": [
    "pred_train = get_pred_result(model, train_x, train_y)\n",
    "get_acc_and_logloss(pred_train, train_y, logging=True)"
   ]
  },
  {
   "cell_type": "code",
   "execution_count": 36,
   "id": "incredible-unemployment",
   "metadata": {},
   "outputs": [],
   "source": [
    "age_mean = train_x['Age'].mean()\n",
    "fare_mean = train_x['Fare'].mean()\n",
    "passenger_id = test_x['PassengerId']\n",
    "test_x = test_x.drop(['PassengerId', 'Name', 'Cabin', 'Ticket', 'Sex', 'Embarked'], axis=1)\n",
    "test_x.loc[test_x['Age'].isna(), 'Age'] = age_mean\n",
    "test_x.loc[test_x['Fare'].isna(), 'Fare'] = fare_mean\n",
    "preds = model.predict(test_x)\n",
    "preds = [round(pred[0]) for pred in preds]"
   ]
  },
  {
   "cell_type": "code",
   "execution_count": 42,
   "id": "least-tsunami",
   "metadata": {},
   "outputs": [
    {
     "name": "stdin",
     "output_type": "stream",
     "text": [
      "Enter File Suffix: keras_submission_20210214_... 0\n"
     ]
    }
   ],
   "source": [
    "submission = pd.DataFrame({'PassengerId': passenger_id, 'Survived': preds})\n",
    "save_submission(submission)"
   ]
  },
  {
   "cell_type": "markdown",
   "id": "mighty-amplifier",
   "metadata": {},
   "source": [
    "## Age standardized and target encoding"
   ]
  },
  {
   "cell_type": "code",
   "execution_count": 186,
   "id": "environmental-buying",
   "metadata": {},
   "outputs": [],
   "source": [
    "train_x, train_y, test_x = load_data()"
   ]
  },
  {
   "cell_type": "code",
   "execution_count": 187,
   "id": "greek-dependence",
   "metadata": {},
   "outputs": [],
   "source": [
    "base_path = '../features/nn/'\n",
    "cols_to_rplc_train = {\n",
    "    'Age': base_path + 'age_train_std_te.feather',\n",
    "    'Fare': base_path + 'fare_train_std_te.feather'\n",
    "}\n",
    "train_x = load_feather(train_x, cols_to_rplc_train)\n",
    "train_x = load_feather_ohe(train_x, base_path + 'train_ohe.feather')\n",
    "train_x = load_feather_ohe(train_x, base_path + 'train_ohe_2_z.feather')"
   ]
  },
  {
   "cell_type": "code",
   "execution_count": 188,
   "id": "hawaiian-ownership",
   "metadata": {},
   "outputs": [],
   "source": [
    "train_x = train_x.drop(['PassengerId', 'Name', 'Cabin', 'Ticket', 'Sex', 'Embarked', 'Pclass'], axis=1)\n",
    "train_x = train_x.drop([col for col in train_x.columns if 'Cabin' in col], axis=1)\n",
    "train_x = train_x.drop([col for col in train_x.columns if 'Ticket' in col], axis=1)\n",
    "train_x = train_x.drop(['Embarked_Q', 'Embarked_S'], axis=1)\n",
    "train_x = train_x.drop(['Pclass_2', 'Pclass_3'], axis=1)"
   ]
  },
  {
   "cell_type": "code",
   "execution_count": 189,
   "id": "correct-journalism",
   "metadata": {},
   "outputs": [
    {
     "name": "stderr",
     "output_type": "stream",
     "text": [
      "[INFO] 2021-02-14 15:51:03,145 >>\t=== NN KERAS MODEL ===\n",
      "[INFO] 2021-02-14 15:51:03,147 >>\tPARAMS: {'model_name': 'with_Embarked_C, with_Pclass_1, dropout:0.1, epochs: 10, learning_rate:0.001'}\n"
     ]
    }
   ],
   "source": [
    "model = ModelKeras(logging=True, model_name='with_Embarked_C, with_Pclass_1, dropout:0.1, epochs: 10, learning_rate:0.001')\n",
    "layer_d = Dropout(0.1)\n",
    "layer1 = Dense(2048, activation='relu', input_shape=(train_x.shape[1],))\n",
    "layer2 = Dense(1024, activation='relu')\n",
    "layer3 = Dense(1024, activation='relu')\n",
    "layer3 = Dense(1024, activation='relu')\n",
    "layer4 = Dense(1, activation='sigmoid')\n",
    "model.add_layers(layer1, layer_d, layer4)\n",
    "model.compile(learning_rate=0.001)\n",
    "model.set_fit_params(epochs=10, verbose=1)"
   ]
  },
  {
   "cell_type": "code",
   "execution_count": 190,
   "id": "flush-render",
   "metadata": {},
   "outputs": [
    {
     "name": "stdout",
     "output_type": "stream",
     "text": [
      "Epoch 1/10\n",
      "21/21 [==============================] - 0s 7ms/step - loss: 0.5561 - accuracy: 0.7470 - val_loss: 0.5011 - val_accuracy: 0.7848\n",
      "Epoch 2/10\n",
      "21/21 [==============================] - 0s 2ms/step - loss: 0.4489 - accuracy: 0.7889 - val_loss: 0.4830 - val_accuracy: 0.7982\n",
      "Epoch 3/10\n",
      "21/21 [==============================] - 0s 2ms/step - loss: 0.4248 - accuracy: 0.8024 - val_loss: 0.4764 - val_accuracy: 0.7982\n",
      "Epoch 4/10\n",
      "21/21 [==============================] - 0s 2ms/step - loss: 0.4199 - accuracy: 0.8054 - val_loss: 0.4851 - val_accuracy: 0.7937\n",
      "Epoch 5/10\n",
      "21/21 [==============================] - 0s 2ms/step - loss: 0.4086 - accuracy: 0.8219 - val_loss: 0.4819 - val_accuracy: 0.7892\n",
      "Epoch 6/10\n",
      "21/21 [==============================] - 0s 2ms/step - loss: 0.4035 - accuracy: 0.8234 - val_loss: 0.5015 - val_accuracy: 0.7848\n",
      "Epoch 7/10\n",
      "21/21 [==============================] - 0s 2ms/step - loss: 0.4004 - accuracy: 0.8278 - val_loss: 0.4893 - val_accuracy: 0.7892\n",
      "Epoch 8/10\n",
      "21/21 [==============================] - 0s 2ms/step - loss: 0.3954 - accuracy: 0.8323 - val_loss: 0.5031 - val_accuracy: 0.7892\n",
      "Epoch 9/10\n",
      "21/21 [==============================] - 0s 2ms/step - loss: 0.3929 - accuracy: 0.8398 - val_loss: 0.5024 - val_accuracy: 0.7848\n",
      "Epoch 10/10\n",
      "21/21 [==============================] - 0s 2ms/step - loss: 0.3915 - accuracy: 0.8368 - val_loss: 0.4944 - val_accuracy: 0.7892\n",
      "Epoch 1/10\n",
      "21/21 [==============================] - 0s 3ms/step - loss: 0.5816 - accuracy: 0.7290 - val_loss: 0.5378 - val_accuracy: 0.7623\n",
      "Epoch 2/10\n",
      "21/21 [==============================] - 0s 2ms/step - loss: 0.4554 - accuracy: 0.8129 - val_loss: 0.5076 - val_accuracy: 0.7489\n",
      "Epoch 3/10\n",
      "21/21 [==============================] - 0s 2ms/step - loss: 0.4314 - accuracy: 0.8099 - val_loss: 0.5030 - val_accuracy: 0.7578\n",
      "Epoch 4/10\n",
      "21/21 [==============================] - 0s 2ms/step - loss: 0.4230 - accuracy: 0.8099 - val_loss: 0.4923 - val_accuracy: 0.7623\n",
      "Epoch 5/10\n",
      "21/21 [==============================] - 0s 2ms/step - loss: 0.4164 - accuracy: 0.8174 - val_loss: 0.4884 - val_accuracy: 0.7668\n",
      "Epoch 6/10\n",
      "21/21 [==============================] - 0s 2ms/step - loss: 0.4129 - accuracy: 0.8219 - val_loss: 0.4902 - val_accuracy: 0.7578\n",
      "Epoch 7/10\n",
      "21/21 [==============================] - 0s 2ms/step - loss: 0.4105 - accuracy: 0.8219 - val_loss: 0.4839 - val_accuracy: 0.7489\n",
      "Epoch 8/10\n",
      "21/21 [==============================] - 0s 2ms/step - loss: 0.4101 - accuracy: 0.8144 - val_loss: 0.4824 - val_accuracy: 0.7668\n",
      "Epoch 9/10\n",
      "21/21 [==============================] - 0s 2ms/step - loss: 0.4034 - accuracy: 0.8234 - val_loss: 0.4864 - val_accuracy: 0.7489\n",
      "Epoch 10/10\n",
      "21/21 [==============================] - 0s 2ms/step - loss: 0.4034 - accuracy: 0.8263 - val_loss: 0.4802 - val_accuracy: 0.7758\n",
      "Epoch 1/10\n",
      "21/21 [==============================] - 0s 3ms/step - loss: 0.6026 - accuracy: 0.6976 - val_loss: 0.4840 - val_accuracy: 0.8251\n",
      "Epoch 2/10\n",
      "21/21 [==============================] - 0s 2ms/step - loss: 0.4814 - accuracy: 0.7799 - val_loss: 0.4404 - val_accuracy: 0.8117\n",
      "Epoch 3/10\n",
      "21/21 [==============================] - 0s 2ms/step - loss: 0.4597 - accuracy: 0.7859 - val_loss: 0.4041 - val_accuracy: 0.8386\n",
      "Epoch 4/10\n",
      "21/21 [==============================] - 0s 2ms/step - loss: 0.4491 - accuracy: 0.7889 - val_loss: 0.4102 - val_accuracy: 0.8475\n",
      "Epoch 5/10\n",
      "21/21 [==============================] - 0s 2ms/step - loss: 0.4386 - accuracy: 0.7919 - val_loss: 0.4027 - val_accuracy: 0.8386\n",
      "Epoch 6/10\n",
      "21/21 [==============================] - 0s 2ms/step - loss: 0.4354 - accuracy: 0.7949 - val_loss: 0.4100 - val_accuracy: 0.8341\n",
      "Epoch 7/10\n",
      "21/21 [==============================] - 0s 2ms/step - loss: 0.4390 - accuracy: 0.7859 - val_loss: 0.3924 - val_accuracy: 0.8565\n",
      "Epoch 8/10\n",
      "21/21 [==============================] - 0s 2ms/step - loss: 0.4288 - accuracy: 0.7994 - val_loss: 0.4096 - val_accuracy: 0.8341\n",
      "Epoch 9/10\n",
      "21/21 [==============================] - 0s 2ms/step - loss: 0.4229 - accuracy: 0.8039 - val_loss: 0.3973 - val_accuracy: 0.8520\n",
      "Epoch 10/10\n",
      "21/21 [==============================] - 0s 2ms/step - loss: 0.4238 - accuracy: 0.8069 - val_loss: 0.3992 - val_accuracy: 0.8520\n",
      "Epoch 1/10\n",
      "21/21 [==============================] - 0s 3ms/step - loss: 0.5930 - accuracy: 0.7190 - val_loss: 0.4699 - val_accuracy: 0.7883\n",
      "Epoch 2/10\n",
      "21/21 [==============================] - 0s 2ms/step - loss: 0.4774 - accuracy: 0.7892 - val_loss: 0.4334 - val_accuracy: 0.8018\n",
      "Epoch 3/10\n",
      "21/21 [==============================] - 0s 2ms/step - loss: 0.4487 - accuracy: 0.7967 - val_loss: 0.4222 - val_accuracy: 0.8153\n",
      "Epoch 4/10\n",
      "21/21 [==============================] - 0s 2ms/step - loss: 0.4402 - accuracy: 0.8042 - val_loss: 0.4190 - val_accuracy: 0.8063\n",
      "Epoch 5/10\n",
      "21/21 [==============================] - 0s 2ms/step - loss: 0.4357 - accuracy: 0.8012 - val_loss: 0.4166 - val_accuracy: 0.8108\n",
      "Epoch 6/10\n",
      "21/21 [==============================] - 0s 2ms/step - loss: 0.4315 - accuracy: 0.8057 - val_loss: 0.4120 - val_accuracy: 0.8108\n",
      "Epoch 7/10\n",
      "21/21 [==============================] - 0s 2ms/step - loss: 0.4281 - accuracy: 0.8087 - val_loss: 0.4113 - val_accuracy: 0.8153\n",
      "Epoch 8/10\n",
      "21/21 [==============================] - 0s 2ms/step - loss: 0.4228 - accuracy: 0.8102 - val_loss: 0.4144 - val_accuracy: 0.8333\n",
      "Epoch 9/10\n",
      "21/21 [==============================] - 0s 2ms/step - loss: 0.4236 - accuracy: 0.8117 - val_loss: 0.4159 - val_accuracy: 0.8153\n",
      "Epoch 10/10\n",
      "21/21 [==============================] - 0s 2ms/step - loss: 0.4174 - accuracy: 0.8191 - val_loss: 0.4100 - val_accuracy: 0.8333\n"
     ]
    },
    {
     "name": "stderr",
     "output_type": "stream",
     "text": [
      "[INFO] 2021-02-14 15:51:06,428 >>\tACCURACY: 0.8125701459034792\n",
      "[INFO] 2021-02-14 15:51:06,429 >>\tLOGLOSS: 0.4460045724408701\n",
      "[INFO] 2021-02-14 15:51:06,430 >>\tdata size: 891\n",
      "[INFO] 2021-02-14 15:51:06,430 >>\tcorrect predictions: 724\n",
      "[INFO] 2021-02-14 15:51:06,431 >>\t\n"
     ]
    }
   ],
   "source": [
    "pred_train = get_pred_result(model, train_x, train_y)\n",
    "get_acc_and_logloss(pred_train, train_y, logging=True)"
   ]
  },
  {
   "cell_type": "code",
   "execution_count": 201,
   "id": "pleased-persian",
   "metadata": {},
   "outputs": [
    {
     "name": "stdout",
     "output_type": "stream",
     "text": [
      "Epoch 1/10\n",
      "28/28 [==============================] - 0s 3ms/step - loss: 0.5663 - accuracy: 0.7284 - val_loss: 0.4698 - val_accuracy: 0.7969\n",
      "Epoch 2/10\n",
      "28/28 [==============================] - 0s 2ms/step - loss: 0.4555 - accuracy: 0.7946 - val_loss: 0.4413 - val_accuracy: 0.7957\n",
      "Epoch 3/10\n",
      "28/28 [==============================] - 0s 2ms/step - loss: 0.4411 - accuracy: 0.7991 - val_loss: 0.4288 - val_accuracy: 0.8047\n",
      "Epoch 4/10\n",
      "28/28 [==============================] - 0s 2ms/step - loss: 0.4342 - accuracy: 0.8081 - val_loss: 0.4245 - val_accuracy: 0.8114\n",
      "Epoch 5/10\n",
      "28/28 [==============================] - 0s 2ms/step - loss: 0.4232 - accuracy: 0.8103 - val_loss: 0.4177 - val_accuracy: 0.8182\n",
      "Epoch 6/10\n",
      "28/28 [==============================] - 0s 2ms/step - loss: 0.4227 - accuracy: 0.8227 - val_loss: 0.4175 - val_accuracy: 0.8126\n",
      "Epoch 7/10\n",
      "28/28 [==============================] - 0s 2ms/step - loss: 0.4196 - accuracy: 0.8137 - val_loss: 0.4104 - val_accuracy: 0.8204\n",
      "Epoch 8/10\n",
      "28/28 [==============================] - 0s 2ms/step - loss: 0.4146 - accuracy: 0.8171 - val_loss: 0.4079 - val_accuracy: 0.8294\n",
      "Epoch 9/10\n",
      "28/28 [==============================] - 0s 2ms/step - loss: 0.4114 - accuracy: 0.8204 - val_loss: 0.4067 - val_accuracy: 0.8204\n",
      "Epoch 10/10\n",
      "28/28 [==============================] - 0s 2ms/step - loss: 0.4122 - accuracy: 0.8238 - val_loss: 0.4063 - val_accuracy: 0.8305\n"
     ]
    }
   ],
   "source": [
    "model.fit(tr_x=train_x, tr_y=train_y, va_x=train_x, va_y=train_y)"
   ]
  },
  {
   "cell_type": "code",
   "execution_count": 139,
   "id": "bridal-father",
   "metadata": {},
   "outputs": [],
   "source": [
    "passenger_id = test_x['PassengerId']"
   ]
  },
  {
   "cell_type": "code",
   "execution_count": 140,
   "id": "parental-dollar",
   "metadata": {},
   "outputs": [],
   "source": [
    "base_path = '../features/nn/'\n",
    "cols_to_rplc_train = {\n",
    "    'Age': base_path + 'age_test_std_te.feather',\n",
    "    'Fare': base_path + 'fare_test_std_te.feather'\n",
    "}\n",
    "test_x = load_feather(test_x, cols_to_rplc_train)\n",
    "test_x = load_feather_ohe(test_x, base_path + 'test_ohe.feather')\n",
    "test_x = load_feather_ohe(test_x, base_path + 'test_ohe_2_z.feather')"
   ]
  },
  {
   "cell_type": "code",
   "execution_count": 141,
   "id": "welcome-coaching",
   "metadata": {},
   "outputs": [],
   "source": [
    "test_x = test_x.drop(['PassengerId', 'Name', 'Cabin', 'Ticket', 'Sex', 'Embarked', 'Pclass'], axis=1)\n",
    "test_x = test_x.drop([col for col in test_x.columns if 'Cabin' in col], axis=1)\n",
    "test_x = test_x.drop([col for col in test_x.columns if 'Ticket' in col], axis=1)\n",
    "test_x = test_x.drop(['Embarked_Q', 'Embarked_S'], axis=1)"
   ]
  },
  {
   "cell_type": "code",
   "execution_count": 142,
   "id": "eleven-dream",
   "metadata": {},
   "outputs": [],
   "source": [
    "prediction = model.predict(test_x).ravel()\n",
    "prediction = [round(pred) for pred in prediction]"
   ]
  },
  {
   "cell_type": "code",
   "execution_count": 143,
   "id": "level-logic",
   "metadata": {},
   "outputs": [
    {
     "name": "stdin",
     "output_type": "stream",
     "text": [
      "Enter File Suffix: keras_submission_20210214_... 3\n"
     ]
    }
   ],
   "source": [
    "submission = pd.DataFrame({'PassengerId': passenger_id, 'Survived': prediction})\n",
    "save_submission(submission)"
   ]
  },
  {
   "cell_type": "markdown",
   "id": "together-specialist",
   "metadata": {},
   "source": [
    "## Age standardized and mean"
   ]
  },
  {
   "cell_type": "code",
   "execution_count": 173,
   "id": "material-dominican",
   "metadata": {},
   "outputs": [],
   "source": [
    "train_x, train_y, test_x = load_data()"
   ]
  },
  {
   "cell_type": "code",
   "execution_count": 174,
   "id": "peaceful-anger",
   "metadata": {},
   "outputs": [],
   "source": [
    "base_path = '../features/nn/'\n",
    "cols_to_rplc_train = {\n",
    "    'Age': base_path + 'age_train_std_mean.feather',\n",
    "    'Fare': base_path + 'fare_train_std_mean.feather'\n",
    "}\n",
    "train_x = load_feather(train_x, cols_to_rplc_train)\n",
    "train_x = load_feather_ohe(train_x, base_path + 'train_ohe.feather')\n",
    "train_x = load_feather_ohe(train_x, base_path + 'train_ohe_2_z.feather')"
   ]
  },
  {
   "cell_type": "code",
   "execution_count": 175,
   "id": "obvious-right",
   "metadata": {},
   "outputs": [],
   "source": [
    "train_x = train_x.drop(['PassengerId', 'Name', 'Cabin', 'Ticket', 'Sex', 'Embarked', 'Pclass'], axis=1)\n",
    "train_x = train_x.drop([col for col in train_x.columns if 'Cabin' in col ], axis=1)\n",
    "train_x = train_x.drop([col for col in train_x.columns if 'Ticket' in col ], axis=1)\n",
    "train_x = train_x.drop(['Embarked_Q', 'Embarked_S'], axis=1)"
   ]
  },
  {
   "cell_type": "code",
   "execution_count": 176,
   "id": "reverse-threshold",
   "metadata": {},
   "outputs": [
    {
     "name": "stderr",
     "output_type": "stream",
     "text": [
      "[INFO] 2021-02-14 15:42:27,920 >>\t=== NN KERAS MODEL ===\n",
      "[INFO] 2021-02-14 15:42:27,921 >>\tPARAMS: {'model_name': 'with_Embarked_C, dropout:0.2, epochs: 10, learning_rate:0.001'}\n"
     ]
    }
   ],
   "source": [
    "model = ModelKeras(logging=True, model_name='with_Embarked_C, dropout:0.2, epochs: 10, learning_rate:0.001')\n",
    "layer_d1 = Dropout(0.2)\n",
    "layer_d2 = Dropout(0.3)\n",
    "layer1 = Dense(2048, activation='relu', input_shape=(train_x.shape[1],))\n",
    "layer2 = Dense(512, activation='relu')\n",
    "layer3 = Dense(1024, activation='relu')\n",
    "layer3 = Dense(1024, activation='relu')\n",
    "layer4 = Dense(1, activation='sigmoid')\n",
    "model.add_layers(layer1, layer_d, layer2, layer_d2, layer4)\n",
    "model.compile(learning_rate=0.001)\n",
    "model.set_fit_params(epochs=10, verbose=1)"
   ]
  },
  {
   "cell_type": "code",
   "execution_count": 177,
   "id": "immediate-parker",
   "metadata": {},
   "outputs": [
    {
     "name": "stdout",
     "output_type": "stream",
     "text": [
      "Epoch 1/10\n",
      "21/21 [==============================] - 0s 11ms/step - loss: 0.4905 - accuracy: 0.7799 - val_loss: 0.5408 - val_accuracy: 0.7668\n",
      "Epoch 2/10\n",
      "21/21 [==============================] - 0s 7ms/step - loss: 0.4137 - accuracy: 0.8249 - val_loss: 0.4861 - val_accuracy: 0.7892\n",
      "Epoch 3/10\n",
      "21/21 [==============================] - 0s 7ms/step - loss: 0.3878 - accuracy: 0.8353 - val_loss: 0.4837 - val_accuracy: 0.7758\n",
      "Epoch 4/10\n",
      "21/21 [==============================] - 0s 7ms/step - loss: 0.3821 - accuracy: 0.8473 - val_loss: 0.5225 - val_accuracy: 0.7668\n",
      "Epoch 5/10\n",
      "21/21 [==============================] - 0s 8ms/step - loss: 0.3897 - accuracy: 0.8263 - val_loss: 0.4773 - val_accuracy: 0.8072\n",
      "Epoch 6/10\n",
      "21/21 [==============================] - 0s 7ms/step - loss: 0.3732 - accuracy: 0.8488 - val_loss: 0.4918 - val_accuracy: 0.7803\n",
      "Epoch 7/10\n",
      "21/21 [==============================] - 0s 7ms/step - loss: 0.3780 - accuracy: 0.8338 - val_loss: 0.5499 - val_accuracy: 0.7758\n",
      "Epoch 8/10\n",
      "21/21 [==============================] - 0s 7ms/step - loss: 0.3754 - accuracy: 0.8443 - val_loss: 0.5208 - val_accuracy: 0.7489\n",
      "Epoch 9/10\n",
      "21/21 [==============================] - 0s 6ms/step - loss: 0.3699 - accuracy: 0.8428 - val_loss: 0.4890 - val_accuracy: 0.7534\n",
      "Epoch 10/10\n",
      "21/21 [==============================] - 0s 8ms/step - loss: 0.3565 - accuracy: 0.8428 - val_loss: 0.5069 - val_accuracy: 0.7892\n",
      "Epoch 1/10\n",
      "21/21 [==============================] - 0s 9ms/step - loss: 0.5362 - accuracy: 0.7740 - val_loss: 0.5270 - val_accuracy: 0.7309\n",
      "Epoch 2/10\n",
      "21/21 [==============================] - 0s 8ms/step - loss: 0.4682 - accuracy: 0.7949 - val_loss: 0.4769 - val_accuracy: 0.7623\n",
      "Epoch 3/10\n",
      "21/21 [==============================] - 0s 8ms/step - loss: 0.4112 - accuracy: 0.8263 - val_loss: 0.4474 - val_accuracy: 0.7668\n",
      "Epoch 4/10\n",
      "21/21 [==============================] - 0s 7ms/step - loss: 0.4066 - accuracy: 0.8398 - val_loss: 0.4470 - val_accuracy: 0.7803\n",
      "Epoch 5/10\n",
      "21/21 [==============================] - 0s 7ms/step - loss: 0.3854 - accuracy: 0.8368 - val_loss: 0.4502 - val_accuracy: 0.7892\n",
      "Epoch 6/10\n",
      "21/21 [==============================] - 0s 7ms/step - loss: 0.3818 - accuracy: 0.8428 - val_loss: 0.4447 - val_accuracy: 0.7892\n",
      "Epoch 7/10\n",
      "21/21 [==============================] - 0s 7ms/step - loss: 0.3762 - accuracy: 0.8488 - val_loss: 0.4529 - val_accuracy: 0.7848\n",
      "Epoch 8/10\n",
      "21/21 [==============================] - 0s 7ms/step - loss: 0.3772 - accuracy: 0.8398 - val_loss: 0.4516 - val_accuracy: 0.7937\n",
      "Epoch 9/10\n",
      "21/21 [==============================] - 0s 7ms/step - loss: 0.3719 - accuracy: 0.8533 - val_loss: 0.4512 - val_accuracy: 0.7937\n",
      "Epoch 10/10\n",
      "21/21 [==============================] - 0s 7ms/step - loss: 0.3720 - accuracy: 0.8533 - val_loss: 0.4498 - val_accuracy: 0.7803\n",
      "Epoch 1/10\n",
      "21/21 [==============================] - 0s 8ms/step - loss: 0.5424 - accuracy: 0.7530 - val_loss: 0.4034 - val_accuracy: 0.8341\n",
      "Epoch 2/10\n",
      "21/21 [==============================] - 0s 7ms/step - loss: 0.4604 - accuracy: 0.7889 - val_loss: 0.3979 - val_accuracy: 0.8117\n",
      "Epoch 3/10\n",
      "21/21 [==============================] - 0s 7ms/step - loss: 0.4527 - accuracy: 0.7949 - val_loss: 0.4032 - val_accuracy: 0.8251\n",
      "Epoch 4/10\n",
      "21/21 [==============================] - 0s 7ms/step - loss: 0.4124 - accuracy: 0.8129 - val_loss: 0.4050 - val_accuracy: 0.8117\n",
      "Epoch 5/10\n",
      "21/21 [==============================] - 0s 7ms/step - loss: 0.4188 - accuracy: 0.8024 - val_loss: 0.3960 - val_accuracy: 0.8206\n",
      "Epoch 6/10\n",
      "21/21 [==============================] - 0s 8ms/step - loss: 0.4146 - accuracy: 0.7964 - val_loss: 0.3948 - val_accuracy: 0.8430\n",
      "Epoch 7/10\n",
      "21/21 [==============================] - 0s 8ms/step - loss: 0.3977 - accuracy: 0.8129 - val_loss: 0.3856 - val_accuracy: 0.8430\n",
      "Epoch 8/10\n",
      "21/21 [==============================] - 0s 7ms/step - loss: 0.3918 - accuracy: 0.8263 - val_loss: 0.3999 - val_accuracy: 0.8475\n",
      "Epoch 9/10\n",
      "21/21 [==============================] - 0s 7ms/step - loss: 0.3858 - accuracy: 0.8278 - val_loss: 0.3857 - val_accuracy: 0.8744\n",
      "Epoch 10/10\n",
      "21/21 [==============================] - 0s 6ms/step - loss: 0.3835 - accuracy: 0.8189 - val_loss: 0.3999 - val_accuracy: 0.8251\n",
      "Epoch 1/10\n",
      "21/21 [==============================] - 0s 8ms/step - loss: 0.5268 - accuracy: 0.7549 - val_loss: 0.4401 - val_accuracy: 0.8063\n",
      "Epoch 2/10\n",
      "21/21 [==============================] - 0s 7ms/step - loss: 0.4387 - accuracy: 0.8027 - val_loss: 0.4087 - val_accuracy: 0.8153\n",
      "Epoch 3/10\n",
      "21/21 [==============================] - 0s 7ms/step - loss: 0.4185 - accuracy: 0.8146 - val_loss: 0.4336 - val_accuracy: 0.8243\n",
      "Epoch 4/10\n",
      "21/21 [==============================] - 0s 7ms/step - loss: 0.4123 - accuracy: 0.8206 - val_loss: 0.4325 - val_accuracy: 0.8243\n",
      "Epoch 5/10\n",
      "21/21 [==============================] - 0s 7ms/step - loss: 0.4079 - accuracy: 0.8206 - val_loss: 0.4244 - val_accuracy: 0.8333\n",
      "Epoch 6/10\n",
      "21/21 [==============================] - 0s 7ms/step - loss: 0.4111 - accuracy: 0.8206 - val_loss: 0.4179 - val_accuracy: 0.8243\n",
      "Epoch 7/10\n",
      "21/21 [==============================] - 0s 7ms/step - loss: 0.3923 - accuracy: 0.8236 - val_loss: 0.4307 - val_accuracy: 0.8153\n",
      "Epoch 8/10\n",
      "21/21 [==============================] - 0s 8ms/step - loss: 0.3946 - accuracy: 0.8311 - val_loss: 0.4458 - val_accuracy: 0.8288\n",
      "Epoch 9/10\n",
      "21/21 [==============================] - 0s 7ms/step - loss: 0.3869 - accuracy: 0.8266 - val_loss: 0.4421 - val_accuracy: 0.8333\n",
      "Epoch 10/10\n",
      "21/21 [==============================] - 0s 7ms/step - loss: 0.3768 - accuracy: 0.8371 - val_loss: 0.4455 - val_accuracy: 0.8243\n"
     ]
    },
    {
     "name": "stderr",
     "output_type": "stream",
     "text": [
      "[INFO] 2021-02-14 15:42:37,899 >>\tACCURACY: 0.8047138047138047\n",
      "[INFO] 2021-02-14 15:42:37,900 >>\tLOGLOSS: 0.4505417245775857\n",
      "[INFO] 2021-02-14 15:42:37,900 >>\tdata size: 891\n",
      "[INFO] 2021-02-14 15:42:37,901 >>\tcorrect predictions: 717\n",
      "[INFO] 2021-02-14 15:42:37,902 >>\t\n"
     ]
    }
   ],
   "source": [
    "pred_train = get_pred_result(model, train_x, train_y)\n",
    "get_acc_and_logloss(pred_train, train_y, logging=True)"
   ]
  },
  {
   "cell_type": "code",
   "execution_count": 178,
   "id": "weird-stadium",
   "metadata": {},
   "outputs": [
    {
     "name": "stdout",
     "output_type": "stream",
     "text": [
      "Epoch 1/10\n",
      "28/28 [==============================] - 0s 9ms/step - loss: 0.5043 - accuracy: 0.7666 - val_loss: 0.4445 - val_accuracy: 0.8148\n",
      "Epoch 2/10\n",
      "28/28 [==============================] - 0s 8ms/step - loss: 0.4409 - accuracy: 0.8081 - val_loss: 0.4042 - val_accuracy: 0.8204\n",
      "Epoch 3/10\n",
      "28/28 [==============================] - 0s 8ms/step - loss: 0.4186 - accuracy: 0.8249 - val_loss: 0.4078 - val_accuracy: 0.8137\n",
      "Epoch 4/10\n",
      "28/28 [==============================] - 0s 8ms/step - loss: 0.4117 - accuracy: 0.8249 - val_loss: 0.3886 - val_accuracy: 0.8440\n",
      "Epoch 5/10\n",
      "28/28 [==============================] - 0s 8ms/step - loss: 0.3986 - accuracy: 0.8395 - val_loss: 0.3786 - val_accuracy: 0.8418\n",
      "Epoch 6/10\n",
      "28/28 [==============================] - 0s 7ms/step - loss: 0.3980 - accuracy: 0.8260 - val_loss: 0.3761 - val_accuracy: 0.8451\n",
      "Epoch 7/10\n",
      "28/28 [==============================] - 0s 8ms/step - loss: 0.3840 - accuracy: 0.8395 - val_loss: 0.3758 - val_accuracy: 0.8418\n",
      "Epoch 8/10\n",
      "28/28 [==============================] - 0s 8ms/step - loss: 0.3954 - accuracy: 0.8316 - val_loss: 0.3769 - val_accuracy: 0.8328\n",
      "Epoch 9/10\n",
      "28/28 [==============================] - 0s 8ms/step - loss: 0.3866 - accuracy: 0.8373 - val_loss: 0.3678 - val_accuracy: 0.8451\n",
      "Epoch 10/10\n",
      "28/28 [==============================] - 0s 8ms/step - loss: 0.3811 - accuracy: 0.8294 - val_loss: 0.3692 - val_accuracy: 0.8485\n"
     ]
    }
   ],
   "source": [
    "model.fit(tr_x=train_x, tr_y=train_y, va_x=train_x, va_y=train_y)"
   ]
  },
  {
   "cell_type": "code",
   "execution_count": 179,
   "id": "military-spouse",
   "metadata": {},
   "outputs": [],
   "source": [
    "passenger_id = test_x['PassengerId']"
   ]
  },
  {
   "cell_type": "code",
   "execution_count": 180,
   "id": "cleared-understanding",
   "metadata": {},
   "outputs": [],
   "source": [
    "base_path = '../features/nn/'\n",
    "cols_to_rplc_train = {\n",
    "    'Age': base_path + 'age_test_std_mean.feather',\n",
    "    'Fare': base_path + 'fare_test_std_mean.feather'\n",
    "}\n",
    "test_x = load_feather(test_x, cols_to_rplc_train)\n",
    "test_x = load_feather_ohe(test_x, base_path + 'test_ohe.feather')\n",
    "test_x = load_feather_ohe(test_x, base_path + 'test_ohe_2_z.feather')"
   ]
  },
  {
   "cell_type": "code",
   "execution_count": 181,
   "id": "binary-airline",
   "metadata": {},
   "outputs": [],
   "source": [
    "test_x = test_x.drop(['PassengerId', 'Name', 'Cabin', 'Ticket', 'Sex', 'Embarked', 'Pclass'], axis=1)\n",
    "test_x = test_x.drop([col for col in test_x.columns if 'Cabin' in col ], axis=1)\n",
    "test_x = test_x.drop([col for col in test_x.columns if 'Ticket' in col ], axis=1)\n",
    "test_x = test_x.drop(['Embarked_Q', 'Embarked_S'], axis=1)"
   ]
  },
  {
   "cell_type": "code",
   "execution_count": 182,
   "id": "reflected-contamination",
   "metadata": {},
   "outputs": [],
   "source": [
    "prediction = model.predict(test_x).ravel()\n",
    "prediction = [round(pred) for pred in prediction]"
   ]
  },
  {
   "cell_type": "code",
   "execution_count": 183,
   "id": "approximate-expression",
   "metadata": {},
   "outputs": [
    {
     "name": "stdin",
     "output_type": "stream",
     "text": [
      "Enter File Suffix: keras_submission_20210214_... 4\n"
     ]
    }
   ],
   "source": [
    "submission = pd.DataFrame({'PassengerId': passenger_id, 'Survived': prediction})\n",
    "save_submission(submission)"
   ]
  },
  {
   "cell_type": "code",
   "execution_count": null,
   "id": "prerequisite-gambling",
   "metadata": {},
   "outputs": [],
   "source": []
  }
 ],
 "metadata": {
  "kernelspec": {
   "display_name": "Python 3",
   "language": "python",
   "name": "python3"
  },
  "language_info": {
   "codemirror_mode": {
    "name": "ipython",
    "version": 3
   },
   "file_extension": ".py",
   "mimetype": "text/x-python",
   "name": "python",
   "nbconvert_exporter": "python",
   "pygments_lexer": "ipython3",
   "version": "3.7.9"
  }
 },
 "nbformat": 4,
 "nbformat_minor": 5
}
