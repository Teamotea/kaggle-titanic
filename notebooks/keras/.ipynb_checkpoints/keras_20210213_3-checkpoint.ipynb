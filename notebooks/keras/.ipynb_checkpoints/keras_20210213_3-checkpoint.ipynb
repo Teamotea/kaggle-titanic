{
 "cells": [
  {
   "cell_type": "markdown",
   "id": "soviet-orleans",
   "metadata": {},
   "source": [
    "## Settings"
   ]
  },
  {
   "cell_type": "code",
   "execution_count": 1,
   "id": "bottom-serial",
   "metadata": {},
   "outputs": [],
   "source": [
    "# 一つ上の階層からモジュールを参照できるようにする\n",
    "import sys\n",
    "sys.path.append('..')"
   ]
  },
  {
   "cell_type": "code",
   "execution_count": 2,
   "id": "colonial-folder",
   "metadata": {},
   "outputs": [],
   "source": [
    "# ロギング用\n",
    "import os\n",
    "from datetime import datetime, timezone, timedelta\n",
    "from logs.logger import create_logger, get_logger\n",
    "# モデル作成補助用\n",
    "import numpy as np\n",
    "import pandas as pd\n",
    "import matplotlib.pyplot as plt\n",
    "from features.funcs import load_feather, load_feather_ohe\n",
    "from evals.funcs import get_pred_result, get_acc_and_logloss, print_conf_matrix\n",
    "from inputs.funcs import load_data\n",
    "# モデル作成用\n",
    "from models.keras import ModelKeras\n",
    "from keras.layers import Dense, Dropout"
   ]
  },
  {
   "cell_type": "code",
   "execution_count": 3,
   "id": "selected-america",
   "metadata": {},
   "outputs": [],
   "source": [
    "# モジュールの変更を自動的に反映する\n",
    "%load_ext autoreload\n",
    "%autoreload 2"
   ]
  },
  {
   "cell_type": "code",
   "execution_count": 4,
   "id": "coral-accent",
   "metadata": {},
   "outputs": [],
   "source": [
    "# loggingの設定を行う\n",
    "today = datetime.now(timezone(timedelta(hours=9))).strftime('%Y%m%d')\n",
    "exp_version = today\n",
    "os.environ['exp_version'] = exp_version\n",
    "create_logger(exp_version)"
   ]
  },
  {
   "cell_type": "code",
   "execution_count": 5,
   "id": "corrected-machinery",
   "metadata": {},
   "outputs": [
    {
     "data": {
      "text/plain": [
       "['fare_test_std_te.feather',\n",
       " 'age_train_std_te.feather',\n",
       " 'fare_train_std_te.feather',\n",
       " 'age_test_std_mean.feather',\n",
       " 'test_ohe.feather',\n",
       " 'train_ohe_2_z.feather',\n",
       " 'age_train_std_mean.feather',\n",
       " 'age_test_std_te.feather',\n",
       " 'fare_test_std_mean.feather',\n",
       " 'train_ohe.feather',\n",
       " 'fare_train_std_mean.feather',\n",
       " 'test_ohe_2_z.feather']"
      ]
     },
     "execution_count": 5,
     "metadata": {},
     "output_type": "execute_result"
    }
   ],
   "source": [
    "os.listdir('../features/nn')"
   ]
  },
  {
   "cell_type": "code",
   "execution_count": 63,
   "id": "municipal-exclusion",
   "metadata": {},
   "outputs": [],
   "source": [
    "def save_submission(submission_df):\n",
    "    file_name = 'keras_submission_{}'.format(today)\n",
    "    file_name_suffix = input(f'Enter File Suffix: {file_name}_...')\n",
    "    submission_file_path = f'submissions/nn/{file_name}_{file_name_suffix}.csv'\n",
    "    submission_df.to_csv(submission_file_path, index=False)"
   ]
  },
  {
   "cell_type": "markdown",
   "id": "collect-samuel",
   "metadata": {},
   "source": [
    "## Keras"
   ]
  },
  {
   "cell_type": "markdown",
   "id": "empty-socket",
   "metadata": {},
   "source": [
    "### Base"
   ]
  },
  {
   "cell_type": "code",
   "execution_count": 57,
   "id": "bacterial-death",
   "metadata": {},
   "outputs": [],
   "source": [
    "train_x, train_y, test_x = load_data()"
   ]
  },
  {
   "cell_type": "code",
   "execution_count": 58,
   "id": "entitled-charger",
   "metadata": {},
   "outputs": [],
   "source": [
    "train_x = train_x.drop(['PassengerId', 'Name', 'Cabin', 'Ticket', 'Sex', 'Embarked'], axis=1)\n",
    "train_x = train_x.dropna()\n",
    "train_y = train_y.iloc[train_x.index]"
   ]
  },
  {
   "cell_type": "code",
   "execution_count": 59,
   "id": "interstate-trinity",
   "metadata": {},
   "outputs": [
    {
     "name": "stderr",
     "output_type": "stream",
     "text": [
      "[INFO] 2021-02-14 09:21:22,291 >>\t=== NN KERAS MODEL ===\n"
     ]
    }
   ],
   "source": [
    "model = ModelKeras(logging=True)\n",
    "layer1 = Dense(1024, activation='relu', input_shape=(train_x.shape[1],))\n",
    "layer2 = Dense(1024, activation='relu')\n",
    "layer3 = Dense(1024, activation='relu')\n",
    "layer3 = Dense(1024, activation='relu')\n",
    "layer4 = Dense(1, activation='sigmoid')\n",
    "model.add_layers(layer1, layer2, layer3, layer4)\n",
    "model.compile()\n",
    "model.set_fit_params(epochs=10, verbose=0)"
   ]
  },
  {
   "cell_type": "code",
   "execution_count": 60,
   "id": "nuclear-collect",
   "metadata": {},
   "outputs": [
    {
     "name": "stderr",
     "output_type": "stream",
     "text": [
      "[INFO] 2021-02-14 09:21:27,981 >>\tACCURACY: 0.6792717086834734\n",
      "[INFO] 2021-02-14 09:21:27,982 >>\tLOGLOSS: 0.6165512822206677\n",
      "[INFO] 2021-02-14 09:21:27,983 >>\tdata size: 714\n",
      "[INFO] 2021-02-14 09:21:27,983 >>\tcorrect predictions: 485\n",
      "[INFO] 2021-02-14 09:21:27,984 >>\t\n"
     ]
    }
   ],
   "source": [
    "pred_train = get_pred_result(model, train_x, train_y)\n",
    "get_acc_and_logloss(pred_train, train_y, logging=True)"
   ]
  },
  {
   "cell_type": "code",
   "execution_count": 61,
   "id": "threatened-forward",
   "metadata": {},
   "outputs": [],
   "source": [
    "age_mean = train_x['Age'].mean()\n",
    "fare_mean = train_x['Fare'].mean()\n",
    "test_x = test_x.drop(['PassengerId', 'Name', 'Cabin', 'Ticket', 'Sex', 'Embarked'], axis=1)\n",
    "test_x.loc[test_x['Age'].isna(), 'Age'] = age_mean\n",
    "test_x.loc[test_x['Fare'].isna(), 'Fare'] = fare_mean\n",
    "preds = model.predict(test_x)\n",
    "preds = [round(pred[0]) for pred in preds]"
   ]
  },
  {
   "cell_type": "code",
   "execution_count": 68,
   "id": "structured-lindsay",
   "metadata": {},
   "outputs": [
    {
     "name": "stdin",
     "output_type": "stream",
     "text": [
      "Enter File Suffix: keras_submission_20210214_... 1\n"
     ]
    }
   ],
   "source": [
    "submission = pd.DataFrame({'PassengerId': passenger_id, 'Survived': preds})\n",
    "save_submission(submission)"
   ]
  },
  {
   "cell_type": "markdown",
   "id": "crude-mediterranean",
   "metadata": {},
   "source": [
    "#### Age standardized and target encoding"
   ]
  },
  {
   "cell_type": "code",
   "execution_count": 69,
   "id": "medical-bunch",
   "metadata": {},
   "outputs": [],
   "source": [
    "train_x, train_y, test_x = load_data()"
   ]
  },
  {
   "cell_type": "code",
   "execution_count": 70,
   "id": "impaired-indicator",
   "metadata": {},
   "outputs": [],
   "source": [
    "base_path = '../features/nn/'\n",
    "cols_to_rplc_train = {\n",
    "    'Age': base_path + 'age_train_std_te.feather',\n",
    "    'Fare': base_path + 'fare_train_std_te.feather'\n",
    "}\n",
    "train_x = load_feather(train_x, cols_to_rplc_train)\n",
    "train_x = load_feather_ohe(train_x, base_path + 'train_ohe.feather')\n",
    "train_x = load_feather_ohe(train_x, base_path + 'train_ohe_2_z.feather')"
   ]
  },
  {
   "cell_type": "code",
   "execution_count": 71,
   "id": "ongoing-glucose",
   "metadata": {},
   "outputs": [],
   "source": [
    "train_x = train_x.drop(['PassengerId', 'Name', 'Cabin', 'Ticket', 'Sex', 'Embarked', 'Pclass'], axis=1)\n",
    "train_x = train_x.drop([col for col in train_x.columns if 'Cabin' in col ], axis=1)\n",
    "train_x = train_x.drop([col for col in train_x.columns if 'Ticket' in col ], axis=1)"
   ]
  },
  {
   "cell_type": "code",
   "execution_count": 72,
   "id": "furnished-congress",
   "metadata": {},
   "outputs": [
    {
     "name": "stderr",
     "output_type": "stream",
     "text": [
      "[INFO] 2021-02-14 10:37:05,956 >>\t=== NN KERAS MODEL ===\n"
     ]
    }
   ],
   "source": [
    "model = ModelKeras(logging=True)\n",
    "layer1 = Dense(1024, activation='relu', input_shape=(train_x.shape[1],))\n",
    "layer2 = Dense(1024, activation='relu')\n",
    "layer3 = Dense(1024, activation='relu')\n",
    "layer3 = Dense(1024, activation='relu')\n",
    "layer4 = Dense(1, activation='sigmoid')\n",
    "model.add_layers(layer1, layer2, layer3, layer4)\n",
    "model.compile()\n",
    "model.set_fit_params(epochs=10, verbose=1)"
   ]
  },
  {
   "cell_type": "code",
   "execution_count": 73,
   "id": "thousand-instrumentation",
   "metadata": {},
   "outputs": [
    {
     "name": "stdout",
     "output_type": "stream",
     "text": [
      "Epoch 1/10\n",
      "21/21 [==============================] - 0s 13ms/step - loss: 0.5051 - accuracy: 0.7605 - val_loss: 0.3859 - val_accuracy: 0.8206\n",
      "Epoch 2/10\n",
      "21/21 [==============================] - 0s 8ms/step - loss: 0.3937 - accuracy: 0.8278 - val_loss: 0.4185 - val_accuracy: 0.8206\n",
      "Epoch 3/10\n",
      "21/21 [==============================] - 0s 7ms/step - loss: 0.3988 - accuracy: 0.8308 - val_loss: 0.4102 - val_accuracy: 0.8161\n",
      "Epoch 4/10\n",
      "21/21 [==============================] - 0s 7ms/step - loss: 0.3905 - accuracy: 0.8338 - val_loss: 0.3918 - val_accuracy: 0.8161\n",
      "Epoch 5/10\n",
      "21/21 [==============================] - 0s 8ms/step - loss: 0.3850 - accuracy: 0.8443 - val_loss: 0.3804 - val_accuracy: 0.8251\n",
      "Epoch 6/10\n",
      "21/21 [==============================] - 0s 8ms/step - loss: 0.3922 - accuracy: 0.8353 - val_loss: 0.3633 - val_accuracy: 0.8206\n",
      "Epoch 7/10\n",
      "21/21 [==============================] - 0s 8ms/step - loss: 0.3773 - accuracy: 0.8398 - val_loss: 0.3751 - val_accuracy: 0.8251\n",
      "Epoch 8/10\n",
      "21/21 [==============================] - 0s 8ms/step - loss: 0.3732 - accuracy: 0.8428 - val_loss: 0.3877 - val_accuracy: 0.8161\n",
      "Epoch 9/10\n",
      "21/21 [==============================] - 0s 8ms/step - loss: 0.3692 - accuracy: 0.8473 - val_loss: 0.3709 - val_accuracy: 0.8296\n",
      "Epoch 10/10\n",
      "21/21 [==============================] - 0s 8ms/step - loss: 0.3706 - accuracy: 0.8503 - val_loss: 0.3740 - val_accuracy: 0.8251\n",
      "Epoch 1/10\n",
      "21/21 [==============================] - 0s 8ms/step - loss: 0.4799 - accuracy: 0.7680 - val_loss: 0.4588 - val_accuracy: 0.8161\n",
      "Epoch 2/10\n",
      "21/21 [==============================] - 0s 7ms/step - loss: 0.3823 - accuracy: 0.8338 - val_loss: 0.4648 - val_accuracy: 0.8072\n",
      "Epoch 3/10\n",
      "21/21 [==============================] - 0s 7ms/step - loss: 0.3628 - accuracy: 0.8413 - val_loss: 0.4548 - val_accuracy: 0.7534\n",
      "Epoch 4/10\n",
      "21/21 [==============================] - 0s 7ms/step - loss: 0.3648 - accuracy: 0.8458 - val_loss: 0.4591 - val_accuracy: 0.7848\n",
      "Epoch 5/10\n",
      "21/21 [==============================] - 0s 7ms/step - loss: 0.3578 - accuracy: 0.8488 - val_loss: 0.4734 - val_accuracy: 0.8027\n",
      "Epoch 6/10\n",
      "21/21 [==============================] - 0s 7ms/step - loss: 0.3551 - accuracy: 0.8383 - val_loss: 0.4368 - val_accuracy: 0.7892\n",
      "Epoch 7/10\n",
      "21/21 [==============================] - 0s 8ms/step - loss: 0.3539 - accuracy: 0.8443 - val_loss: 0.4602 - val_accuracy: 0.7848\n",
      "Epoch 8/10\n",
      "21/21 [==============================] - 0s 8ms/step - loss: 0.3497 - accuracy: 0.8428 - val_loss: 0.4754 - val_accuracy: 0.7668\n",
      "Epoch 9/10\n",
      "21/21 [==============================] - 0s 7ms/step - loss: 0.3520 - accuracy: 0.8443 - val_loss: 0.4990 - val_accuracy: 0.7982\n",
      "Epoch 10/10\n",
      "21/21 [==============================] - 0s 8ms/step - loss: 0.3466 - accuracy: 0.8503 - val_loss: 0.4504 - val_accuracy: 0.7713\n",
      "Epoch 1/10\n",
      "21/21 [==============================] - 0s 8ms/step - loss: 0.4941 - accuracy: 0.7545 - val_loss: 0.4302 - val_accuracy: 0.7937\n",
      "Epoch 2/10\n",
      "21/21 [==============================] - 0s 7ms/step - loss: 0.4158 - accuracy: 0.8099 - val_loss: 0.3818 - val_accuracy: 0.8475\n",
      "Epoch 3/10\n",
      "21/21 [==============================] - 0s 7ms/step - loss: 0.4128 - accuracy: 0.8219 - val_loss: 0.3819 - val_accuracy: 0.8206\n",
      "Epoch 4/10\n",
      "21/21 [==============================] - 0s 8ms/step - loss: 0.3923 - accuracy: 0.8338 - val_loss: 0.3693 - val_accuracy: 0.8341\n",
      "Epoch 5/10\n",
      "21/21 [==============================] - 0s 9ms/step - loss: 0.3989 - accuracy: 0.8323 - val_loss: 0.3831 - val_accuracy: 0.8430\n",
      "Epoch 6/10\n",
      "21/21 [==============================] - 0s 9ms/step - loss: 0.3846 - accuracy: 0.8278 - val_loss: 0.3796 - val_accuracy: 0.8386\n",
      "Epoch 7/10\n",
      "21/21 [==============================] - 0s 9ms/step - loss: 0.3802 - accuracy: 0.8368 - val_loss: 0.3719 - val_accuracy: 0.8341\n",
      "Epoch 8/10\n",
      "21/21 [==============================] - 0s 10ms/step - loss: 0.3852 - accuracy: 0.8293 - val_loss: 0.3608 - val_accuracy: 0.8341\n",
      "Epoch 9/10\n",
      "21/21 [==============================] - 0s 8ms/step - loss: 0.3760 - accuracy: 0.8398 - val_loss: 0.3716 - val_accuracy: 0.8296\n",
      "Epoch 10/10\n",
      "21/21 [==============================] - 0s 8ms/step - loss: 0.3773 - accuracy: 0.8219 - val_loss: 0.3608 - val_accuracy: 0.8520\n",
      "Epoch 1/10\n",
      "21/21 [==============================] - 0s 9ms/step - loss: 0.5002 - accuracy: 0.7608 - val_loss: 0.4042 - val_accuracy: 0.8378\n",
      "Epoch 2/10\n",
      "21/21 [==============================] - 0s 7ms/step - loss: 0.4036 - accuracy: 0.8356 - val_loss: 0.3996 - val_accuracy: 0.8243\n",
      "Epoch 3/10\n",
      "21/21 [==============================] - 0s 8ms/step - loss: 0.3948 - accuracy: 0.8176 - val_loss: 0.4034 - val_accuracy: 0.8243\n",
      "Epoch 4/10\n",
      "21/21 [==============================] - 0s 7ms/step - loss: 0.3825 - accuracy: 0.8221 - val_loss: 0.4219 - val_accuracy: 0.8333\n",
      "Epoch 5/10\n",
      "21/21 [==============================] - 0s 7ms/step - loss: 0.4006 - accuracy: 0.8281 - val_loss: 0.3817 - val_accuracy: 0.8378\n",
      "Epoch 6/10\n",
      "21/21 [==============================] - 0s 7ms/step - loss: 0.3811 - accuracy: 0.8311 - val_loss: 0.4119 - val_accuracy: 0.8378\n",
      "Epoch 7/10\n",
      "21/21 [==============================] - 0s 8ms/step - loss: 0.3724 - accuracy: 0.8326 - val_loss: 0.3991 - val_accuracy: 0.8243\n",
      "Epoch 8/10\n",
      "21/21 [==============================] - 0s 8ms/step - loss: 0.3649 - accuracy: 0.8416 - val_loss: 0.3873 - val_accuracy: 0.8468\n",
      "Epoch 9/10\n",
      "21/21 [==============================] - 0s 8ms/step - loss: 0.3639 - accuracy: 0.8341 - val_loss: 0.3953 - val_accuracy: 0.8468\n",
      "Epoch 10/10\n",
      "21/21 [==============================] - 0s 8ms/step - loss: 0.3608 - accuracy: 0.8490 - val_loss: 0.4249 - val_accuracy: 0.8333\n",
      "data size: 891\n",
      "correct predictions: 731\n",
      "accuracy: 0.8204264871\n",
      "logloss: 0.4024849759\n"
     ]
    }
   ],
   "source": [
    "pred_train = get_pred_result(model, train_x, train_y)\n",
    "get_acc_and_logloss(pred_train, train_y, logging=False)"
   ]
  },
  {
   "cell_type": "code",
   "execution_count": 27,
   "id": "oriented-waste",
   "metadata": {},
   "outputs": [],
   "source": [
    "model.fit(tr_x=train_x, tr_y=train_y, va_x=train_x, va_y=train_y)"
   ]
  },
  {
   "cell_type": "code",
   "execution_count": 28,
   "id": "finished-warrant",
   "metadata": {},
   "outputs": [],
   "source": [
    "passenger_id = test_x['PassengerId']"
   ]
  },
  {
   "cell_type": "code",
   "execution_count": 29,
   "id": "accessory-insulation",
   "metadata": {},
   "outputs": [],
   "source": [
    "base_path = '../features/nn/'\n",
    "cols_to_rplc_train = {\n",
    "    'Age': base_path + 'age_test_std_te.feather',\n",
    "    'Fare': base_path + 'fare_test_std_te.feather'\n",
    "}\n",
    "test_x = load_feather(test_x, cols_to_rplc_train)\n",
    "test_x = load_feather_ohe(test_x, base_path + 'test_ohe.feather')\n",
    "test_x = load_feather_ohe(test_x, base_path + 'test_ohe_2_z.feather')"
   ]
  },
  {
   "cell_type": "code",
   "execution_count": 30,
   "id": "random-movie",
   "metadata": {},
   "outputs": [],
   "source": [
    "test_x = test_x.drop(['PassengerId', 'Name', 'Cabin', 'Ticket', 'Sex', 'Embarked', 'Pclass'], axis=1)\n",
    "test_x = test_x.drop([col for col in test_x.columns if 'Cabin' in col], axis=1)\n",
    "test_x = test_x.drop([col for col in test_x.columns if 'Ticket' in col], axis=1)"
   ]
  },
  {
   "cell_type": "code",
   "execution_count": 36,
   "id": "republican-parallel",
   "metadata": {},
   "outputs": [],
   "source": [
    "prediction = model.model.predict(test_x).ravel()\n",
    "# prediction = [int(pred) for pred in prediction]"
   ]
  },
  {
   "cell_type": "code",
   "execution_count": 32,
   "id": "stable-shell",
   "metadata": {},
   "outputs": [],
   "source": [
    "submission = pd.DataFrame({'PassengerId': passenger_id, 'Survived': prediction})"
   ]
  },
  {
   "cell_type": "code",
   "execution_count": 33,
   "id": "forward-bailey",
   "metadata": {},
   "outputs": [
    {
     "name": "stdin",
     "output_type": "stream",
     "text": [
      "Enter File Number 0\n"
     ]
    }
   ],
   "source": [
    "file_number = input('Enter File Number')\n",
    "submission_file_path = 'submissions/keras_submission_{}_{}.csv'.format(today, file_number)\n",
    "if file_number != 0:\n",
    "    submission.to_csv(submission_file_path, index=False)"
   ]
  },
  {
   "cell_type": "markdown",
   "id": "injured-drawing",
   "metadata": {},
   "source": [
    "#### Age standardized and mean"
   ]
  },
  {
   "cell_type": "code",
   "execution_count": 23,
   "id": "bacterial-prisoner",
   "metadata": {},
   "outputs": [],
   "source": [
    "train_x, train_y, _ = load_data()"
   ]
  },
  {
   "cell_type": "code",
   "execution_count": 24,
   "id": "satisfactory-belfast",
   "metadata": {},
   "outputs": [],
   "source": [
    "base_path = '../features/nn/'\n",
    "cols_to_rplc_train = {\n",
    "    'Age': base_path + 'age_train_std_mean.feather',\n",
    "    'Fare': base_path + 'fare_train_std_mean.feather'\n",
    "}\n",
    "train_x = load_feather(train_x, cols_to_rplc_train)"
   ]
  },
  {
   "cell_type": "code",
   "execution_count": 25,
   "id": "concrete-characterization",
   "metadata": {},
   "outputs": [],
   "source": [
    "train_x = train_x.drop(['PassengerId', 'Name', 'Cabin', 'Ticket', 'Sex', 'Embarked', 'Pclass'], axis=1)\n",
    "train_x = train_x.dropna()\n",
    "train_y = train_y.iloc[train_x.index]"
   ]
  },
  {
   "cell_type": "code",
   "execution_count": 26,
   "id": "eligible-cherry",
   "metadata": {},
   "outputs": [
    {
     "name": "stderr",
     "output_type": "stream",
     "text": [
      "[INFO] 2021-02-13 19:12:13,303 >>\t=== NN KERAS MODEL ===\n"
     ]
    }
   ],
   "source": [
    "model = ModelKeras(logging=True)\n",
    "layer1 = Dense(1024, activation='relu', input_shape=(train_x.shape[1],))\n",
    "layer2 = Dense(1024, activation='relu')\n",
    "layer3 = Dense(1024, activation='relu')\n",
    "layer3 = Dense(1024, activation='relu')\n",
    "layer4 = Dense(1, activation='sigmoid')\n",
    "model.add_layers(layer1, layer2, layer3, layer4)\n",
    "model.compile()\n",
    "model.set_fit_params(epochs=10, verbose=0)"
   ]
  },
  {
   "cell_type": "code",
   "execution_count": 27,
   "id": "empty-livestock",
   "metadata": {},
   "outputs": [
    {
     "name": "stdout",
     "output_type": "stream",
     "text": [
      "data size: 891\n",
      "correct predictions: 634\n",
      "accuracy: 0.7115600449\n",
      "logloss: 0.6090867461\n"
     ]
    }
   ],
   "source": [
    "pred_train = get_pred_result(model, train_x, train_y)\n",
    "get_acc_and_logloss(pred_train, train_y, logging=False)"
   ]
  },
  {
   "cell_type": "code",
   "execution_count": null,
   "id": "secure-substance",
   "metadata": {},
   "outputs": [],
   "source": []
  }
 ],
 "metadata": {
  "kernelspec": {
   "display_name": "Python 3",
   "language": "python",
   "name": "python3"
  },
  "language_info": {
   "codemirror_mode": {
    "name": "ipython",
    "version": 3
   },
   "file_extension": ".py",
   "mimetype": "text/x-python",
   "name": "python",
   "nbconvert_exporter": "python",
   "pygments_lexer": "ipython3",
   "version": "3.7.9"
  }
 },
 "nbformat": 4,
 "nbformat_minor": 5
}
