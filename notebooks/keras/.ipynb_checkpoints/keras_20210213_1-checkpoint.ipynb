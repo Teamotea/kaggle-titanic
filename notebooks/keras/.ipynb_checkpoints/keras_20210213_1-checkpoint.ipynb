{
 "cells": [
  {
   "cell_type": "markdown",
   "id": "consecutive-designer",
   "metadata": {},
   "source": [
    "## Settings"
   ]
  },
  {
   "cell_type": "code",
   "execution_count": 1,
   "id": "weighted-function",
   "metadata": {},
   "outputs": [],
   "source": [
    "# 一つ上の階層からモジュールを参照できるようにする\n",
    "import sys\n",
    "sys.path.append('..')"
   ]
  },
  {
   "cell_type": "code",
   "execution_count": 20,
   "id": "funny-frame",
   "metadata": {},
   "outputs": [],
   "source": [
    "# ロギング用\n",
    "import os\n",
    "from datetime import datetime, timezone, timedelta\n",
    "from logs.logger import create_logger, get_logger\n",
    "# モデル作成補助用\n",
    "import numpy as np\n",
    "import pandas as pd\n",
    "import matplotlib.pyplot as plt\n",
    "from features.funcs import load_feather, load_feather_ohe\n",
    "from evals.funcs import get_pred_result, get_acc_and_logloss, print_conf_matrix\n",
    "from inputs.funcs import load_data\n",
    "# モデル作成用\n",
    "from models.keras import ModelKeras\n",
    "from keras.layers import Dense, Dropout"
   ]
  },
  {
   "cell_type": "code",
   "execution_count": 3,
   "id": "studied-cuisine",
   "metadata": {},
   "outputs": [],
   "source": [
    "# モジュールの変更を自動的に反映する\n",
    "%load_ext autoreload\n",
    "%autoreload 2"
   ]
  },
  {
   "cell_type": "code",
   "execution_count": 4,
   "id": "catholic-belief",
   "metadata": {},
   "outputs": [],
   "source": [
    "# loggingの設定を行う\n",
    "today = datetime.now(timezone(timedelta(hours=9)))\n",
    "exp_version = today.strftime('%Y%m%d')\n",
    "os.environ['exp_version'] = exp_version\n",
    "create_logger(exp_version)"
   ]
  },
  {
   "cell_type": "code",
   "execution_count": 5,
   "id": "functioning-constraint",
   "metadata": {},
   "outputs": [
    {
     "data": {
      "text/plain": [
       "['fare_test_std_te.feather',\n",
       " 'age_train_std_te.feather',\n",
       " 'fare_train_std_te.feather',\n",
       " 'age_test_std_mean.feather',\n",
       " 'age_train_std_mean.feather',\n",
       " 'age_test_std_te.feather',\n",
       " 'fare_test_std_mean.feather',\n",
       " 'fare_train_std_mean.feather']"
      ]
     },
     "execution_count": 5,
     "metadata": {},
     "output_type": "execute_result"
    }
   ],
   "source": [
    "os.listdir('../features/nn')"
   ]
  },
  {
   "cell_type": "markdown",
   "id": "unlike-delaware",
   "metadata": {},
   "source": [
    "## Keras"
   ]
  },
  {
   "cell_type": "markdown",
   "id": "maritime-productivity",
   "metadata": {},
   "source": [
    "### Base"
   ]
  },
  {
   "cell_type": "code",
   "execution_count": 6,
   "id": "understanding-austria",
   "metadata": {},
   "outputs": [],
   "source": [
    "train_x, train_y, _ = load_data()"
   ]
  },
  {
   "cell_type": "code",
   "execution_count": 7,
   "id": "opposed-observer",
   "metadata": {},
   "outputs": [],
   "source": [
    "train_x = train_x.drop(['PassengerId', 'Name', 'Cabin', 'Ticket', 'Sex', 'Embarked'], axis=1)\n",
    "train_x = train_x.dropna()\n",
    "train_y = train_y.iloc[train_x.index]"
   ]
  },
  {
   "cell_type": "code",
   "execution_count": 8,
   "id": "pressing-gospel",
   "metadata": {},
   "outputs": [
    {
     "name": "stderr",
     "output_type": "stream",
     "text": [
      "[INFO] 2021-02-12 20:58:51,758 >>\t=== NN KERAS MODEL ===\n"
     ]
    }
   ],
   "source": [
    "model = ModelKeras(logging=True)\n",
    "layer1 = Dense(1024, activation='relu', input_shape=(train_x.shape[1],))\n",
    "layer2 = Dense(1024, activation='relu')\n",
    "layer3 = Dense(1024, activation='relu')\n",
    "layer3 = Dense(1024, activation='relu')\n",
    "layer4 = Dense(1, activation='sigmoid')\n",
    "model.add_layers(layer1, layer2, layer3, layer4)\n",
    "model.compile()\n",
    "model.set_fit_params(epochs=10, verbose=0)"
   ]
  },
  {
   "cell_type": "code",
   "execution_count": 9,
   "id": "different-criminal",
   "metadata": {},
   "outputs": [
    {
     "name": "stderr",
     "output_type": "stream",
     "text": [
      "[INFO] 2021-02-12 20:58:59,211 >>\tACCURACY: 0.7170868347338936\n",
      "[INFO] 2021-02-12 20:58:59,212 >>\tLOGLOSS: 0.6098663220217931\n",
      "[INFO] 2021-02-12 20:58:59,213 >>\tdata size: 714\n",
      "[INFO] 2021-02-12 20:58:59,214 >>\tcorrect predictions: 512\n",
      "[INFO] 2021-02-12 20:58:59,214 >>\t\n"
     ]
    }
   ],
   "source": [
    "pred_train = get_pred_result(model, train_x, train_y)\n",
    "get_acc_and_logloss(pred_train, train_y, logging=True)"
   ]
  },
  {
   "cell_type": "markdown",
   "id": "occupational-affiliation",
   "metadata": {},
   "source": [
    "#### Age standardized and target encoding"
   ]
  },
  {
   "cell_type": "code",
   "execution_count": 129,
   "id": "configured-photographer",
   "metadata": {},
   "outputs": [],
   "source": [
    "train_x, train_y, test_x = load_data()"
   ]
  },
  {
   "cell_type": "code",
   "execution_count": 130,
   "id": "twelve-hopkins",
   "metadata": {},
   "outputs": [],
   "source": [
    "base_path = '../features/nn/'\n",
    "cols_to_rplc_train = {\n",
    "    'Age': base_path + 'age_train_std_te.feather',\n",
    "    'Fare': base_path + 'fare_train_std_te.feather'\n",
    "}\n",
    "train_x = load_feather(train_x, cols_to_rplc_train)\n",
    "train_x = load_feather_ohe(train_x, base_path + 'train_ohe.feather')\n",
    "train_x = load_feather_ohe(train_x, '../features/nn/train_ohe_2_z.feather')"
   ]
  },
  {
   "cell_type": "code",
   "execution_count": 131,
   "id": "sustainable-finnish",
   "metadata": {},
   "outputs": [],
   "source": [
    "train_x = train_x.drop(['PassengerId', 'Name', 'Cabin', 'Ticket', 'Sex', 'Embarked'], axis=1)\n",
    "# train_x = train_x.dropna()\n",
    "# train_y = train_y.iloc[train_x.index]"
   ]
  },
  {
   "cell_type": "code",
   "execution_count": 132,
   "id": "enhanced-cooler",
   "metadata": {},
   "outputs": [
    {
     "name": "stderr",
     "output_type": "stream",
     "text": [
      "[INFO] 2021-02-13 00:14:18,142 >>\t=== NN KERAS MODEL ===\n"
     ]
    }
   ],
   "source": [
    "model = ModelKeras(logging=True)\n",
    "layer1 = Dense(1024, activation='relu', input_shape=(train_x.shape[1],))\n",
    "layer2 = Dense(1024, activation='relu')\n",
    "layer3 = Dense(1024, activation='relu')\n",
    "layer3 = Dense(1024, activation='relu')\n",
    "layer4 = Dense(1, activation='sigmoid')\n",
    "model.add_layers(layer1, layer2, layer3, layer4)\n",
    "model.compile()\n",
    "model.set_fit_params(epochs=10, verbose=1)"
   ]
  },
  {
   "cell_type": "code",
   "execution_count": 133,
   "id": "confident-visibility",
   "metadata": {},
   "outputs": [
    {
     "name": "stdout",
     "output_type": "stream",
     "text": [
      "Epoch 1/10\n",
      "21/21 [==============================] - 0s 15ms/step - loss: 0.4628 - accuracy: 0.7814 - val_loss: 0.3941 - val_accuracy: 0.8296\n",
      "Epoch 2/10\n",
      "21/21 [==============================] - 0s 10ms/step - loss: 0.3601 - accuracy: 0.8548 - val_loss: 0.3805 - val_accuracy: 0.8161\n",
      "Epoch 3/10\n",
      "21/21 [==============================] - 0s 9ms/step - loss: 0.2567 - accuracy: 0.9057 - val_loss: 0.4325 - val_accuracy: 0.8206\n",
      "Epoch 4/10\n",
      "21/21 [==============================] - 0s 9ms/step - loss: 0.1570 - accuracy: 0.9281 - val_loss: 0.5186 - val_accuracy: 0.8296\n",
      "Epoch 5/10\n",
      "21/21 [==============================] - 0s 9ms/step - loss: 0.0538 - accuracy: 0.9790 - val_loss: 0.4682 - val_accuracy: 0.8296\n",
      "Epoch 6/10\n",
      "21/21 [==============================] - 0s 9ms/step - loss: 0.0369 - accuracy: 0.9865 - val_loss: 0.7208 - val_accuracy: 0.6726\n",
      "Epoch 7/10\n",
      "21/21 [==============================] - 0s 10ms/step - loss: 0.0370 - accuracy: 0.9835 - val_loss: 0.4414 - val_accuracy: 0.8789\n",
      "Epoch 8/10\n",
      "21/21 [==============================] - 0s 10ms/step - loss: 0.0357 - accuracy: 0.9865 - val_loss: 0.4827 - val_accuracy: 0.8700\n",
      "Epoch 9/10\n",
      "21/21 [==============================] - 0s 9ms/step - loss: 0.0369 - accuracy: 0.9805 - val_loss: 0.5337 - val_accuracy: 0.8520\n",
      "Epoch 10/10\n",
      "21/21 [==============================] - 0s 10ms/step - loss: 0.0213 - accuracy: 0.9850 - val_loss: 0.5280 - val_accuracy: 0.8610\n",
      "Epoch 1/10\n",
      "21/21 [==============================] - 0s 12ms/step - loss: 0.1900 - accuracy: 0.9266 - val_loss: 0.1086 - val_accuracy: 0.9462\n",
      "Epoch 2/10\n",
      "21/21 [==============================] - 0s 13ms/step - loss: 0.0618 - accuracy: 0.9760 - val_loss: 0.0614 - val_accuracy: 0.9776\n",
      "Epoch 3/10\n",
      "21/21 [==============================] - 0s 12ms/step - loss: 0.0279 - accuracy: 0.9895 - val_loss: 0.0730 - val_accuracy: 0.9821\n",
      "Epoch 4/10\n",
      "21/21 [==============================] - 0s 11ms/step - loss: 0.0266 - accuracy: 0.9910 - val_loss: 0.1032 - val_accuracy: 0.9641\n",
      "Epoch 5/10\n",
      "21/21 [==============================] - 0s 11ms/step - loss: 0.0144 - accuracy: 0.9925 - val_loss: 0.1944 - val_accuracy: 0.9641\n",
      "Epoch 6/10\n",
      "21/21 [==============================] - 0s 11ms/step - loss: 0.0196 - accuracy: 0.9865 - val_loss: 0.1017 - val_accuracy: 0.9776\n",
      "Epoch 7/10\n",
      "21/21 [==============================] - 0s 11ms/step - loss: 0.0183 - accuracy: 0.9925 - val_loss: 0.1218 - val_accuracy: 0.9776\n",
      "Epoch 8/10\n",
      "21/21 [==============================] - 0s 18ms/step - loss: 0.0124 - accuracy: 0.9925 - val_loss: 0.1226 - val_accuracy: 0.9731\n",
      "Epoch 9/10\n",
      "21/21 [==============================] - 0s 10ms/step - loss: 0.0105 - accuracy: 0.9910 - val_loss: 0.1363 - val_accuracy: 0.9776\n",
      "Epoch 10/10\n",
      "21/21 [==============================] - 0s 10ms/step - loss: 0.0096 - accuracy: 0.9940 - val_loss: 0.1497 - val_accuracy: 0.9776\n",
      "Epoch 1/10\n",
      "21/21 [==============================] - 0s 11ms/step - loss: 0.0731 - accuracy: 0.9760 - val_loss: 0.0542 - val_accuracy: 0.9686\n",
      "Epoch 2/10\n",
      "21/21 [==============================] - 0s 10ms/step - loss: 0.0265 - accuracy: 0.9865 - val_loss: 0.0398 - val_accuracy: 0.9821\n",
      "Epoch 3/10\n",
      "21/21 [==============================] - 0s 11ms/step - loss: 0.0216 - accuracy: 0.9955 - val_loss: 0.0750 - val_accuracy: 0.9776\n",
      "Epoch 4/10\n",
      "21/21 [==============================] - 0s 10ms/step - loss: 0.0183 - accuracy: 0.9940 - val_loss: 0.0561 - val_accuracy: 0.9776\n",
      "Epoch 5/10\n",
      "21/21 [==============================] - 0s 9ms/step - loss: 0.0109 - accuracy: 0.9970 - val_loss: 0.0747 - val_accuracy: 0.9776\n",
      "Epoch 6/10\n",
      "21/21 [==============================] - 0s 10ms/step - loss: 0.0086 - accuracy: 0.9955 - val_loss: 0.1030 - val_accuracy: 0.9776\n",
      "Epoch 7/10\n",
      "21/21 [==============================] - 0s 9ms/step - loss: 0.0140 - accuracy: 0.9955 - val_loss: 0.0846 - val_accuracy: 0.9821\n",
      "Epoch 8/10\n",
      "21/21 [==============================] - 0s 9ms/step - loss: 0.0220 - accuracy: 0.9925 - val_loss: 0.0559 - val_accuracy: 0.9776\n",
      "Epoch 9/10\n",
      "21/21 [==============================] - 0s 9ms/step - loss: 0.0091 - accuracy: 0.9970 - val_loss: 0.0728 - val_accuracy: 0.9776\n",
      "Epoch 10/10\n",
      "21/21 [==============================] - 0s 9ms/step - loss: 0.0070 - accuracy: 0.9970 - val_loss: 0.1164 - val_accuracy: 0.9776\n",
      "Epoch 1/10\n",
      "21/21 [==============================] - 0s 12ms/step - loss: 0.0375 - accuracy: 0.9895 - val_loss: 0.0117 - val_accuracy: 0.9955\n",
      "Epoch 2/10\n",
      "21/21 [==============================] - 0s 11ms/step - loss: 0.0286 - accuracy: 0.9895 - val_loss: 0.0118 - val_accuracy: 0.9910\n",
      "Epoch 3/10\n",
      "21/21 [==============================] - 0s 11ms/step - loss: 0.0235 - accuracy: 0.9895 - val_loss: 0.0090 - val_accuracy: 0.9955\n",
      "Epoch 4/10\n",
      "21/21 [==============================] - 0s 11ms/step - loss: 0.0250 - accuracy: 0.9880 - val_loss: 0.0144 - val_accuracy: 0.9910\n",
      "Epoch 5/10\n",
      "21/21 [==============================] - 0s 11ms/step - loss: 0.0164 - accuracy: 0.9895 - val_loss: 0.0096 - val_accuracy: 0.9955\n",
      "Epoch 6/10\n",
      "21/21 [==============================] - 0s 12ms/step - loss: 0.0173 - accuracy: 0.9880 - val_loss: 0.0097 - val_accuracy: 0.9910\n",
      "Epoch 7/10\n",
      "21/21 [==============================] - 0s 13ms/step - loss: 0.0151 - accuracy: 0.9895 - val_loss: 0.0099 - val_accuracy: 0.9910\n",
      "Epoch 8/10\n",
      "21/21 [==============================] - 0s 11ms/step - loss: 0.0149 - accuracy: 0.9880 - val_loss: 0.0096 - val_accuracy: 0.9910\n",
      "Epoch 9/10\n",
      "21/21 [==============================] - 0s 11ms/step - loss: 0.0147 - accuracy: 0.9910 - val_loss: 0.0094 - val_accuracy: 0.9955\n",
      "Epoch 10/10\n",
      "21/21 [==============================] - 0s 10ms/step - loss: 0.0147 - accuracy: 0.9895 - val_loss: 0.0093 - val_accuracy: 0.9955\n",
      "data size: 891\n",
      "correct predictions: 849\n",
      "accuracy: 0.9528619529\n",
      "logloss: 0.2010790452\n"
     ]
    }
   ],
   "source": [
    "pred_train = get_pred_result(model, train_x, train_y)\n",
    "get_acc_and_logloss(pred_train, train_y, logging=False)"
   ]
  },
  {
   "cell_type": "code",
   "execution_count": 134,
   "id": "biblical-possible",
   "metadata": {},
   "outputs": [
    {
     "name": "stderr",
     "output_type": "stream",
     "text": [
      "[INFO] 2021-02-13 00:14:34,668 >>\t=== NN KERAS MODEL ===\n"
     ]
    }
   ],
   "source": [
    "model = ModelKeras(logging=True)\n",
    "layer1 = Dense(1024, activation='relu', input_shape=(train_x.shape[1],))\n",
    "layer2 = Dense(1024, activation='relu')\n",
    "layer3 = Dense(1024, activation='relu')\n",
    "layer3 = Dense(1024, activation='relu')\n",
    "layer4 = Dense(1, activation='sigmoid')\n",
    "model.add_layers(layer1, layer2, layer3, layer4)\n",
    "model.compile()\n",
    "model.set_fit_params(epochs=10, verbose=0)"
   ]
  },
  {
   "cell_type": "code",
   "execution_count": 135,
   "id": "prepared-equality",
   "metadata": {},
   "outputs": [],
   "source": [
    "model.fit(tr_x=train_x, tr_y=train_y, va_x=train_x, va_y=train_y)"
   ]
  },
  {
   "cell_type": "code",
   "execution_count": 136,
   "id": "ready-principle",
   "metadata": {},
   "outputs": [],
   "source": [
    "passenger_id = test_x['PassengerId']"
   ]
  },
  {
   "cell_type": "code",
   "execution_count": 137,
   "id": "solved-muslim",
   "metadata": {},
   "outputs": [],
   "source": [
    "base_path = '../features/nn/'\n",
    "cols_to_rplc_train = {\n",
    "    'Age': base_path + 'age_test_std_te.feather',\n",
    "    'Fare': base_path + 'fare_test_std_te.feather'\n",
    "}\n",
    "test_x = load_feather(test_x, cols_to_rplc_train)\n",
    "test_x = load_feather_ohe(test_x, base_path + 'test_ohe.feather')\n",
    "test_x = load_feather_ohe(test_x, '../features/nn/test_ohe_2_z.feather')"
   ]
  },
  {
   "cell_type": "code",
   "execution_count": 138,
   "id": "searching-vector",
   "metadata": {},
   "outputs": [],
   "source": [
    "test_x = test_x.drop(['PassengerId', 'Name', 'Cabin', 'Ticket', 'Sex', 'Embarked'], axis=1)"
   ]
  },
  {
   "cell_type": "code",
   "execution_count": 143,
   "id": "missing-disclaimer",
   "metadata": {},
   "outputs": [],
   "source": [
    "prediction = model.model.predict(test_x).ravel()\n",
    "prediction = [int(pred) for pred in prediction]"
   ]
  },
  {
   "cell_type": "code",
   "execution_count": 144,
   "id": "adjustable-receptor",
   "metadata": {},
   "outputs": [],
   "source": [
    "submission = pd.DataFrame({'PassengerId': passenger_id, 'Survived': prediction})"
   ]
  },
  {
   "cell_type": "code",
   "execution_count": 145,
   "id": "another-catch",
   "metadata": {},
   "outputs": [],
   "source": [
    "submission_file_path = 'submissions/keras_submission_{}.csv'.format(today.strftime('%Y%m%d'))\n",
    "submission.to_csv(submission_file_path, index=False)"
   ]
  },
  {
   "cell_type": "markdown",
   "id": "chinese-archive",
   "metadata": {},
   "source": [
    "#### Age standardized and mean"
   ]
  },
  {
   "cell_type": "code",
   "execution_count": 14,
   "id": "electric-roads",
   "metadata": {},
   "outputs": [],
   "source": [
    "train_x, train_y, _ = load_data()"
   ]
  },
  {
   "cell_type": "code",
   "execution_count": 15,
   "id": "instant-newark",
   "metadata": {},
   "outputs": [],
   "source": [
    "base_path = '../features/nn/'\n",
    "cols_to_rplc_train = {\n",
    "    'Age': base_path + 'age_train_std_mean.feather',\n",
    "    'Fare': base_path + 'fare_train_std_mean.feather'\n",
    "}\n",
    "train_x = load_feather(train_x, cols_to_rplc_train)"
   ]
  },
  {
   "cell_type": "code",
   "execution_count": 16,
   "id": "packed-allowance",
   "metadata": {},
   "outputs": [],
   "source": [
    "train_x = train_x.drop(['PassengerId', 'Name', 'Cabin', 'Ticket', 'Sex', 'Embarked'], axis=1)\n",
    "train_x = train_x.dropna()\n",
    "train_y = train_y.iloc[train_x.index]"
   ]
  },
  {
   "cell_type": "code",
   "execution_count": 17,
   "id": "aging-closing",
   "metadata": {},
   "outputs": [
    {
     "name": "stdout",
     "output_type": "stream",
     "text": [
      "data size: 891\n",
      "correct predictions: 653\n",
      "accuracy: 0.7328843996\n",
      "logloss: 0.5741233327\n"
     ]
    }
   ],
   "source": [
    "pred_train = get_pred_result(model, train_x, train_y)\n",
    "get_acc_and_logloss(pred_train, train_y, logging=False)"
   ]
  },
  {
   "cell_type": "code",
   "execution_count": null,
   "id": "simplified-stack",
   "metadata": {},
   "outputs": [],
   "source": []
  }
 ],
 "metadata": {
  "kernelspec": {
   "display_name": "Python 3",
   "language": "python",
   "name": "python3"
  },
  "language_info": {
   "codemirror_mode": {
    "name": "ipython",
    "version": 3
   },
   "file_extension": ".py",
   "mimetype": "text/x-python",
   "name": "python",
   "nbconvert_exporter": "python",
   "pygments_lexer": "ipython3",
   "version": "3.7.9"
  }
 },
 "nbformat": 4,
 "nbformat_minor": 5
}
