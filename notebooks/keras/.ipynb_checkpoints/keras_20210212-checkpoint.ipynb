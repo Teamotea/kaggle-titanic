{
 "cells": [
  {
   "cell_type": "markdown",
   "id": "expired-retailer",
   "metadata": {},
   "source": [
    "## Settings"
   ]
  },
  {
   "cell_type": "code",
   "execution_count": 1,
   "id": "toxic-carter",
   "metadata": {},
   "outputs": [],
   "source": [
    "# 一つ上の階層からモジュールを参照できるようにする\n",
    "import sys\n",
    "sys.path.append('..')"
   ]
  },
  {
   "cell_type": "code",
   "execution_count": 20,
   "id": "gross-resistance",
   "metadata": {},
   "outputs": [],
   "source": [
    "# ロギング用\n",
    "import os\n",
    "from datetime import datetime, timezone, timedelta\n",
    "from logs.logger import create_logger, get_logger\n",
    "# モデル作成補助用\n",
    "import numpy as np\n",
    "import pandas as pd\n",
    "import matplotlib.pyplot as plt\n",
    "from features.funcs import load_feather, load_feather_ohe\n",
    "from evals.funcs import get_pred_result, get_acc_and_logloss, print_conf_matrix\n",
    "from inputs.funcs import load_data\n",
    "# モデル作成用\n",
    "from models.keras import ModelKeras\n",
    "from keras.layers import Dense, Dropout"
   ]
  },
  {
   "cell_type": "code",
   "execution_count": 3,
   "id": "dying-norwegian",
   "metadata": {},
   "outputs": [],
   "source": [
    "# モジュールの変更を自動的に反映する\n",
    "%load_ext autoreload\n",
    "%autoreload 2"
   ]
  },
  {
   "cell_type": "code",
   "execution_count": 4,
   "id": "appropriate-diploma",
   "metadata": {},
   "outputs": [],
   "source": [
    "# loggingの設定を行う\n",
    "today = datetime.now(timezone(timedelta(hours=9)))\n",
    "exp_version = today.strftime('%Y%m%d')\n",
    "os.environ['exp_version'] = exp_version\n",
    "create_logger(exp_version)"
   ]
  },
  {
   "cell_type": "code",
   "execution_count": 5,
   "id": "color-badge",
   "metadata": {},
   "outputs": [
    {
     "data": {
      "text/plain": [
       "['fare_test_std_te.feather',\n",
       " 'age_train_std_te.feather',\n",
       " 'fare_train_std_te.feather',\n",
       " 'age_test_std_mean.feather',\n",
       " 'age_train_std_mean.feather',\n",
       " 'age_test_std_te.feather',\n",
       " 'fare_test_std_mean.feather',\n",
       " 'fare_train_std_mean.feather']"
      ]
     },
     "execution_count": 5,
     "metadata": {},
     "output_type": "execute_result"
    }
   ],
   "source": [
    "os.listdir('../features/nn')"
   ]
  },
  {
   "cell_type": "markdown",
   "id": "willing-remove",
   "metadata": {},
   "source": [
    "## Keras"
   ]
  },
  {
   "cell_type": "markdown",
   "id": "contrary-sound",
   "metadata": {},
   "source": [
    "### Base"
   ]
  },
  {
   "cell_type": "code",
   "execution_count": 6,
   "id": "twenty-measure",
   "metadata": {},
   "outputs": [],
   "source": [
    "train_x, train_y, _ = load_data()"
   ]
  },
  {
   "cell_type": "code",
   "execution_count": 7,
   "id": "polished-reconstruction",
   "metadata": {},
   "outputs": [],
   "source": [
    "train_x = train_x.drop(['PassengerId', 'Name', 'Cabin', 'Ticket', 'Sex', 'Embarked'], axis=1)\n",
    "train_x = train_x.dropna()\n",
    "train_y = train_y.iloc[train_x.index]"
   ]
  },
  {
   "cell_type": "code",
   "execution_count": 8,
   "id": "sapphire-touch",
   "metadata": {},
   "outputs": [
    {
     "name": "stderr",
     "output_type": "stream",
     "text": [
      "[INFO] 2021-02-12 20:58:51,758 >>\t=== NN KERAS MODEL ===\n"
     ]
    }
   ],
   "source": [
    "model = ModelKeras(logging=True)\n",
    "layer1 = Dense(1024, activation='relu', input_shape=(train_x.shape[1],))\n",
    "layer2 = Dense(1024, activation='relu')\n",
    "layer3 = Dense(1024, activation='relu')\n",
    "layer3 = Dense(1024, activation='relu')\n",
    "layer4 = Dense(1, activation='sigmoid')\n",
    "model.add_layers(layer1, layer2, layer3, layer4)\n",
    "model.compile()\n",
    "model.set_fit_params(epochs=10, verbose=0)"
   ]
  },
  {
   "cell_type": "code",
   "execution_count": 9,
   "id": "entire-stevens",
   "metadata": {},
   "outputs": [
    {
     "name": "stderr",
     "output_type": "stream",
     "text": [
      "[INFO] 2021-02-12 20:58:59,211 >>\tACCURACY: 0.7170868347338936\n",
      "[INFO] 2021-02-12 20:58:59,212 >>\tLOGLOSS: 0.6098663220217931\n",
      "[INFO] 2021-02-12 20:58:59,213 >>\tdata size: 714\n",
      "[INFO] 2021-02-12 20:58:59,214 >>\tcorrect predictions: 512\n",
      "[INFO] 2021-02-12 20:58:59,214 >>\t\n"
     ]
    }
   ],
   "source": [
    "pred_train = get_pred_result(model, train_x, train_y)\n",
    "get_acc_and_logloss(pred_train, train_y, logging=True)"
   ]
  },
  {
   "cell_type": "markdown",
   "id": "coastal-specialist",
   "metadata": {},
   "source": [
    "#### Age standardized and target encoding"
   ]
  },
  {
   "cell_type": "code",
   "execution_count": 72,
   "id": "norwegian-seller",
   "metadata": {},
   "outputs": [],
   "source": [
    "train_x, train_y, _ = load_data()"
   ]
  },
  {
   "cell_type": "code",
   "execution_count": 73,
   "id": "minute-morocco",
   "metadata": {},
   "outputs": [],
   "source": [
    "base_path = '../features/nn/'\n",
    "cols_to_rplc_train = {\n",
    "    'Age': base_path + 'age_train_std_te.feather',\n",
    "    'Fare': base_path + 'fare_train_std_te.feather'\n",
    "}\n",
    "train_x = load_feather(train_x, cols_to_rplc_train)\n",
    "train_x = load_feather_ohe(train_x, base_path + 'train_ohe.feather')\n",
    "# train_x = load_feather_ohe(train_x, '../features/nn/train_ohe_2_z.feather')"
   ]
  },
  {
   "cell_type": "code",
   "execution_count": 74,
   "id": "infectious-contamination",
   "metadata": {},
   "outputs": [],
   "source": [
    "train_x = train_x.drop(['PassengerId', 'Name', 'Cabin', 'Ticket', 'Sex', 'Embarked'], axis=1)\n",
    "train_x = train_x.dropna()\n",
    "train_y = train_y.iloc[train_x.index]"
   ]
  },
  {
   "cell_type": "code",
   "execution_count": 75,
   "id": "cordless-scroll",
   "metadata": {},
   "outputs": [
    {
     "name": "stderr",
     "output_type": "stream",
     "text": [
      "[INFO] 2021-02-12 23:45:50,538 >>\t=== NN KERAS MODEL ===\n"
     ]
    }
   ],
   "source": [
    "model = ModelKeras(logging=True)\n",
    "layer1 = Dense(1024, activation='relu', input_shape=(train_x.shape[1],))\n",
    "layer2 = Dense(1024, activation='relu')\n",
    "layer3 = Dense(1024, activation='relu')\n",
    "layer3 = Dense(1024, activation='relu')\n",
    "layer4 = Dense(1, activation='sigmoid')\n",
    "model.add_layers(layer1, layer2, layer3, layer4)\n",
    "model.compile()\n",
    "model.set_fit_params(epochs=10, verbose=1)"
   ]
  },
  {
   "cell_type": "code",
   "execution_count": 76,
   "id": "surface-honduras",
   "metadata": {},
   "outputs": [
    {
     "name": "stdout",
     "output_type": "stream",
     "text": [
      "Epoch 1/10\n",
      "21/21 [==============================] - 0s 16ms/step - loss: 0.4947 - accuracy: 0.7725 - val_loss: 0.4230 - val_accuracy: 0.8117\n",
      "Epoch 2/10\n",
      "21/21 [==============================] - 0s 9ms/step - loss: 0.3643 - accuracy: 0.8563 - val_loss: 0.3747 - val_accuracy: 0.8161\n",
      "Epoch 3/10\n",
      "21/21 [==============================] - 0s 9ms/step - loss: 0.2544 - accuracy: 0.9042 - val_loss: 0.4083 - val_accuracy: 0.8341\n",
      "Epoch 4/10\n",
      "21/21 [==============================] - 0s 11ms/step - loss: 0.1554 - accuracy: 0.9371 - val_loss: 0.4019 - val_accuracy: 0.8251\n",
      "Epoch 5/10\n",
      "21/21 [==============================] - 0s 10ms/step - loss: 0.0513 - accuracy: 0.9835 - val_loss: 0.4570 - val_accuracy: 0.8341\n",
      "Epoch 6/10\n",
      "21/21 [==============================] - 0s 10ms/step - loss: 0.0619 - accuracy: 0.9775 - val_loss: 0.5758 - val_accuracy: 0.8341\n",
      "Epoch 7/10\n",
      "21/21 [==============================] - 0s 12ms/step - loss: 0.0486 - accuracy: 0.9790 - val_loss: 0.4568 - val_accuracy: 0.8430\n",
      "Epoch 8/10\n",
      "21/21 [==============================] - 0s 10ms/step - loss: 0.0298 - accuracy: 0.9835 - val_loss: 0.6212 - val_accuracy: 0.8341\n",
      "Epoch 9/10\n",
      "21/21 [==============================] - 0s 12ms/step - loss: 0.0298 - accuracy: 0.9850 - val_loss: 0.5709 - val_accuracy: 0.8117\n",
      "Epoch 10/10\n",
      "21/21 [==============================] - 0s 11ms/step - loss: 0.0216 - accuracy: 0.9850 - val_loss: 0.5424 - val_accuracy: 0.8475\n",
      "Epoch 1/10\n",
      "21/21 [==============================] - 0s 12ms/step - loss: 0.1686 - accuracy: 0.9386 - val_loss: 0.1314 - val_accuracy: 0.9103\n",
      "Epoch 2/10\n",
      "21/21 [==============================] - 0s 11ms/step - loss: 0.0582 - accuracy: 0.9775 - val_loss: 0.0711 - val_accuracy: 0.9731\n",
      "Epoch 3/10\n",
      "21/21 [==============================] - 0s 10ms/step - loss: 0.0222 - accuracy: 0.9895 - val_loss: 0.1507 - val_accuracy: 0.9507\n",
      "Epoch 4/10\n",
      "21/21 [==============================] - 0s 11ms/step - loss: 0.0270 - accuracy: 0.9880 - val_loss: 0.1081 - val_accuracy: 0.9641\n",
      "Epoch 5/10\n",
      "21/21 [==============================] - 0s 10ms/step - loss: 0.0196 - accuracy: 0.9880 - val_loss: 0.1020 - val_accuracy: 0.9686\n",
      "Epoch 6/10\n",
      "21/21 [==============================] - 0s 10ms/step - loss: 0.0113 - accuracy: 0.9940 - val_loss: 0.1619 - val_accuracy: 0.9686\n",
      "Epoch 7/10\n",
      "21/21 [==============================] - 0s 12ms/step - loss: 0.0130 - accuracy: 0.9910 - val_loss: 0.1187 - val_accuracy: 0.9731\n",
      "Epoch 8/10\n",
      "21/21 [==============================] - 0s 12ms/step - loss: 0.0115 - accuracy: 0.9910 - val_loss: 0.1476 - val_accuracy: 0.9686\n",
      "Epoch 9/10\n",
      "21/21 [==============================] - 0s 11ms/step - loss: 0.0110 - accuracy: 0.9940 - val_loss: 0.1683 - val_accuracy: 0.9686\n",
      "Epoch 10/10\n",
      "21/21 [==============================] - 0s 12ms/step - loss: 0.0099 - accuracy: 0.9880 - val_loss: 0.1430 - val_accuracy: 0.9731\n",
      "Epoch 1/10\n",
      "21/21 [==============================] - 0s 15ms/step - loss: 0.0531 - accuracy: 0.9880 - val_loss: 0.0213 - val_accuracy: 0.9865\n",
      "Epoch 2/10\n",
      "21/21 [==============================] - 0s 11ms/step - loss: 0.0251 - accuracy: 0.9880 - val_loss: 0.0402 - val_accuracy: 0.9821\n",
      "Epoch 3/10\n",
      "21/21 [==============================] - 0s 10ms/step - loss: 0.0163 - accuracy: 0.9940 - val_loss: 0.0580 - val_accuracy: 0.9776\n",
      "Epoch 4/10\n",
      "21/21 [==============================] - 0s 12ms/step - loss: 0.0156 - accuracy: 0.9925 - val_loss: 0.0972 - val_accuracy: 0.9731\n",
      "Epoch 5/10\n",
      "21/21 [==============================] - 0s 10ms/step - loss: 0.0092 - accuracy: 0.9970 - val_loss: 0.0745 - val_accuracy: 0.9776\n",
      "Epoch 6/10\n",
      "21/21 [==============================] - 0s 9ms/step - loss: 0.0088 - accuracy: 0.9955 - val_loss: 0.0946 - val_accuracy: 0.9776\n",
      "Epoch 7/10\n",
      "21/21 [==============================] - 0s 10ms/step - loss: 0.0072 - accuracy: 0.9970 - val_loss: 0.1073 - val_accuracy: 0.9776\n",
      "Epoch 8/10\n",
      "21/21 [==============================] - 0s 10ms/step - loss: 0.0066 - accuracy: 0.9970 - val_loss: 0.1123 - val_accuracy: 0.9776\n",
      "Epoch 9/10\n",
      "21/21 [==============================] - 0s 12ms/step - loss: 0.0063 - accuracy: 0.9970 - val_loss: 0.1264 - val_accuracy: 0.9776\n",
      "Epoch 10/10\n",
      "21/21 [==============================] - 0s 13ms/step - loss: 0.0060 - accuracy: 0.9970 - val_loss: 0.1465 - val_accuracy: 0.9776\n",
      "Epoch 1/10\n",
      "21/21 [==============================] - 0s 12ms/step - loss: 0.0387 - accuracy: 0.9910 - val_loss: 0.0165 - val_accuracy: 0.9910\n",
      "Epoch 2/10\n",
      "21/21 [==============================] - 0s 11ms/step - loss: 0.0195 - accuracy: 0.9865 - val_loss: 0.0115 - val_accuracy: 0.9910\n",
      "Epoch 3/10\n",
      "21/21 [==============================] - 0s 11ms/step - loss: 0.0248 - accuracy: 0.9851 - val_loss: 0.0167 - val_accuracy: 0.9865\n",
      "Epoch 4/10\n",
      "21/21 [==============================] - 0s 10ms/step - loss: 0.0194 - accuracy: 0.9880 - val_loss: 0.0138 - val_accuracy: 0.9910\n",
      "Epoch 5/10\n",
      "21/21 [==============================] - 0s 10ms/step - loss: 0.0159 - accuracy: 0.9910 - val_loss: 0.0105 - val_accuracy: 0.9955\n",
      "Epoch 6/10\n",
      "21/21 [==============================] - 0s 10ms/step - loss: 0.0170 - accuracy: 0.9910 - val_loss: 0.0083 - val_accuracy: 0.9955\n",
      "Epoch 7/10\n",
      "21/21 [==============================] - 0s 9ms/step - loss: 0.0158 - accuracy: 0.9880 - val_loss: 0.0149 - val_accuracy: 0.9865\n",
      "Epoch 8/10\n",
      "21/21 [==============================] - 0s 10ms/step - loss: 0.0148 - accuracy: 0.9895 - val_loss: 0.0106 - val_accuracy: 0.9955\n",
      "Epoch 9/10\n",
      "21/21 [==============================] - 0s 10ms/step - loss: 0.0146 - accuracy: 0.9910 - val_loss: 0.0101 - val_accuracy: 0.9955\n",
      "Epoch 10/10\n",
      "21/21 [==============================] - 0s 10ms/step - loss: 0.0146 - accuracy: 0.9910 - val_loss: 0.0101 - val_accuracy: 0.9955\n",
      "data size: 891\n",
      "correct predictions: 845\n",
      "accuracy: 0.9483726150\n",
      "logloss: 0.2107200067\n"
     ]
    }
   ],
   "source": [
    "pred_train = get_pred_result(model, train_x, train_y)\n",
    "get_acc_and_logloss(pred_train, train_y, logging=False)"
   ]
  },
  {
   "cell_type": "markdown",
   "id": "terminal-fisher",
   "metadata": {},
   "source": [
    "#### Age standardized and mean"
   ]
  },
  {
   "cell_type": "code",
   "execution_count": 14,
   "id": "compliant-economics",
   "metadata": {},
   "outputs": [],
   "source": [
    "train_x, train_y, _ = load_data()"
   ]
  },
  {
   "cell_type": "code",
   "execution_count": 15,
   "id": "eight-galaxy",
   "metadata": {},
   "outputs": [],
   "source": [
    "base_path = '../features/nn/'\n",
    "cols_to_rplc_train = {\n",
    "    'Age': base_path + 'age_train_std_mean.feather',\n",
    "    'Fare': base_path + 'fare_train_std_mean.feather'\n",
    "}\n",
    "train_x = load_feather(train_x, cols_to_rplc_train)"
   ]
  },
  {
   "cell_type": "code",
   "execution_count": 16,
   "id": "understood-limit",
   "metadata": {},
   "outputs": [],
   "source": [
    "train_x = train_x.drop(['PassengerId', 'Name', 'Cabin', 'Ticket', 'Sex', 'Embarked'], axis=1)\n",
    "train_x = train_x.dropna()\n",
    "train_y = train_y.iloc[train_x.index]"
   ]
  },
  {
   "cell_type": "code",
   "execution_count": 17,
   "id": "previous-george",
   "metadata": {},
   "outputs": [
    {
     "name": "stdout",
     "output_type": "stream",
     "text": [
      "data size: 891\n",
      "correct predictions: 653\n",
      "accuracy: 0.7328843996\n",
      "logloss: 0.5741233327\n"
     ]
    }
   ],
   "source": [
    "pred_train = get_pred_result(model, train_x, train_y)\n",
    "get_acc_and_logloss(pred_train, train_y, logging=False)"
   ]
  },
  {
   "cell_type": "code",
   "execution_count": null,
   "id": "pointed-arbor",
   "metadata": {},
   "outputs": [],
   "source": []
  }
 ],
 "metadata": {
  "kernelspec": {
   "display_name": "Python 3",
   "language": "python",
   "name": "python3"
  },
  "language_info": {
   "codemirror_mode": {
    "name": "ipython",
    "version": 3
   },
   "file_extension": ".py",
   "mimetype": "text/x-python",
   "name": "python",
   "nbconvert_exporter": "python",
   "pygments_lexer": "ipython3",
   "version": "3.7.9"
  }
 },
 "nbformat": 4,
 "nbformat_minor": 5
}
