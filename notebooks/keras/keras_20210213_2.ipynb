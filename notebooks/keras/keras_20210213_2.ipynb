{
 "cells": [
  {
   "cell_type": "markdown",
   "id": "rotary-solution",
   "metadata": {},
   "source": [
    "## Settings"
   ]
  },
  {
   "cell_type": "code",
   "execution_count": null,
   "id": "together-paraguay",
   "metadata": {},
   "outputs": [],
   "source": [
    "# 一つ上の階層からモジュールを参照できるようにする\n",
    "import sys\n",
    "sys.path.append('..')"
   ]
  },
  {
   "cell_type": "code",
   "execution_count": 2,
   "id": "municipal-accreditation",
   "metadata": {},
   "outputs": [],
   "source": [
    "# ロギング用\n",
    "import os\n",
    "from datetime import datetime, timezone, timedelta\n",
    "from logs.logger import create_logger, get_logger\n",
    "# モデル作成補助用\n",
    "import numpy as np\n",
    "import pandas as pd\n",
    "import matplotlib.pyplot as plt\n",
    "from features.funcs import load_feather, load_feather_ohe\n",
    "from evals.funcs import get_pred_result, get_acc_and_logloss, print_conf_matrix\n",
    "from inputs.funcs import load_data\n",
    "# モデル作成用\n",
    "from models.keras import ModelKeras\n",
    "from keras.layers import Dense, Dropout"
   ]
  },
  {
   "cell_type": "code",
   "execution_count": null,
   "id": "forty-maryland",
   "metadata": {},
   "outputs": [],
   "source": [
    "# モジュールの変更を自動的に反映する\n",
    "%load_ext autoreload\n",
    "%autoreload 2"
   ]
  },
  {
   "cell_type": "code",
   "execution_count": 4,
   "id": "indian-indiana",
   "metadata": {},
   "outputs": [],
   "source": [
    "# loggingの設定を行う\n",
    "today = datetime.now(timezone(timedelta(hours=9))).strftime('%Y%m%d')\n",
    "exp_version = today\n",
    "os.environ['exp_version'] = exp_version\n",
    "create_logger(exp_version)"
   ]
  },
  {
   "cell_type": "code",
   "execution_count": 5,
   "id": "eleven-structure",
   "metadata": {},
   "outputs": [
    {
     "data": {
      "text/plain": [
       "['fare_test_std_te.feather',\n",
       " 'age_train_std_te.feather',\n",
       " 'fare_train_std_te.feather',\n",
       " 'age_test_std_mean.feather',\n",
       " 'test_ohe.feather',\n",
       " 'train_ohe_2_z.feather',\n",
       " 'age_train_std_mean.feather',\n",
       " 'age_test_std_te.feather',\n",
       " 'fare_test_std_mean.feather',\n",
       " 'train_ohe.feather',\n",
       " 'fare_train_std_mean.feather',\n",
       " 'test_ohe_2_z.feather']"
      ]
     },
     "execution_count": 5,
     "metadata": {},
     "output_type": "execute_result"
    }
   ],
   "source": [
    "os.listdir('../features/nn')"
   ]
  },
  {
   "cell_type": "code",
   "execution_count": 6,
   "id": "frank-thanks",
   "metadata": {},
   "outputs": [],
   "source": [
    "def save_submission(submission_df):\n",
    "    file_name = 'keras_submission_{}'.format(today)\n",
    "    file_name_suffix = input(f'Enter File Suffix: {file_name}_...')\n",
    "    submission_file_path = f'submissions/{file_name}_{file_suffix}.csv'\n",
    "    submission_df.to_csv(submission_file_path, index=False)"
   ]
  },
  {
   "cell_type": "markdown",
   "id": "little-equivalent",
   "metadata": {},
   "source": [
    "## Keras"
   ]
  },
  {
   "cell_type": "markdown",
   "id": "awful-effort",
   "metadata": {},
   "source": [
    "### Base"
   ]
  },
  {
   "cell_type": "code",
   "execution_count": 7,
   "id": "restricted-criminal",
   "metadata": {},
   "outputs": [],
   "source": [
    "train_x, train_y, _ = load_data()"
   ]
  },
  {
   "cell_type": "code",
   "execution_count": 8,
   "id": "successful-postcard",
   "metadata": {},
   "outputs": [],
   "source": [
    "train_x = train_x.drop(['PassengerId', 'Name', 'Cabin', 'Ticket', 'Sex', 'Embarked'], axis=1)\n",
    "train_x = train_x.dropna()\n",
    "train_y = train_y.iloc[train_x.index]"
   ]
  },
  {
   "cell_type": "code",
   "execution_count": 9,
   "id": "supposed-norfolk",
   "metadata": {},
   "outputs": [
    {
     "name": "stderr",
     "output_type": "stream",
     "text": [
      "[INFO] 2021-02-13 18:56:26,844 >>\t=== NN KERAS MODEL ===\n"
     ]
    }
   ],
   "source": [
    "model = ModelKeras(logging=True)\n",
    "layer1 = Dense(1024, activation='relu', input_shape=(train_x.shape[1],))\n",
    "layer2 = Dense(1024, activation='relu')\n",
    "layer3 = Dense(1024, activation='relu')\n",
    "layer3 = Dense(1024, activation='relu')\n",
    "layer4 = Dense(1, activation='sigmoid')\n",
    "model.add_layers(layer1, layer2, layer3, layer4)\n",
    "model.compile()\n",
    "model.set_fit_params(epochs=10, verbose=0)"
   ]
  },
  {
   "cell_type": "code",
   "execution_count": 14,
   "id": "crazy-saskatchewan",
   "metadata": {},
   "outputs": [
    {
     "name": "stderr",
     "output_type": "stream",
     "text": [
      "[INFO] 2021-02-13 18:57:28,122 >>\tACCURACY: 0.7044817927170869\n",
      "[INFO] 2021-02-13 18:57:28,123 >>\tLOGLOSS: 0.6108229512117898\n",
      "[INFO] 2021-02-13 18:57:28,124 >>\tdata size: 714\n",
      "[INFO] 2021-02-13 18:57:28,124 >>\tcorrect predictions: 503\n",
      "[INFO] 2021-02-13 18:57:28,125 >>\t\n"
     ]
    }
   ],
   "source": [
    "pred_train = get_pred_result(model, train_x, train_y)\n",
    "get_acc_and_logloss(pred_train, train_y, logging=True)"
   ]
  },
  {
   "cell_type": "markdown",
   "id": "postal-unknown",
   "metadata": {},
   "source": [
    "#### Age standardized and target encoding"
   ]
  },
  {
   "cell_type": "code",
   "execution_count": 143,
   "id": "comic-manchester",
   "metadata": {},
   "outputs": [],
   "source": [
    "train_x, train_y, test_x = load_data()"
   ]
  },
  {
   "cell_type": "code",
   "execution_count": 144,
   "id": "solid-scottish",
   "metadata": {},
   "outputs": [],
   "source": [
    "base_path = '../features/nn/'\n",
    "cols_to_rplc_train = {\n",
    "    'Age': base_path + 'age_train_std_te.feather',\n",
    "    'Fare': base_path + 'fare_train_std_te.feather'\n",
    "}\n",
    "train_x = load_feather(train_x, cols_to_rplc_train)\n",
    "train_x = load_feather_ohe(train_x, base_path + 'train_ohe.feather')\n",
    "train_x = load_feather_ohe(train_x, base_path + 'train_ohe_2_z.feather')"
   ]
  },
  {
   "cell_type": "code",
   "execution_count": 145,
   "id": "perfect-clothing",
   "metadata": {},
   "outputs": [],
   "source": [
    "train_x = train_x.drop(['PassengerId', 'Name', 'Cabin', 'Ticket', 'Sex', 'Embarked', 'Pclass'], axis=1)\n",
    "train_x = train_x.drop([col for col in train_x.columns if 'Cabin' in col ], axis=1)\n",
    "train_x = train_x.drop([col for col in train_x.columns if 'Ticket' in col ], axis=1)"
   ]
  },
  {
   "cell_type": "code",
   "execution_count": 160,
   "id": "social-flashing",
   "metadata": {},
   "outputs": [
    {
     "name": "stderr",
     "output_type": "stream",
     "text": [
      "[INFO] 2021-02-13 18:21:17,032 >>\t=== NN KERAS MODEL ===\n"
     ]
    }
   ],
   "source": [
    "model = ModelKeras(logging=True)\n",
    "layer1 = Dense(256, activation='relu', input_shape=(train_x.shape[1],))\n",
    "layer_d1 = Dropout(0.5)\n",
    "layer2 = Dense(256, activation='relu')\n",
    "layer3 = Dense(256, activation='relu')\n",
    "layer3 = Dense(256, activation='relu')\n",
    "layer4 = Dense(1, activation='sigmoid')\n",
    "model.add_layers(layer1, layer_d1, layer2, layer_d1, layer3, layer_d1, layer4)\n",
    "model.compile(learning_rate=0.0003)\n",
    "model.set_fit_params(epochs=20, verbose=0)"
   ]
  },
  {
   "cell_type": "code",
   "execution_count": 162,
   "id": "veterinary-sociology",
   "metadata": {},
   "outputs": [
    {
     "name": "stdout",
     "output_type": "stream",
     "text": [
      "data size: 891\n",
      "correct predictions: 729\n",
      "accuracy: 0.8181818182\n",
      "logloss: 0.3951195640\n"
     ]
    }
   ],
   "source": [
    "pred_train = get_pred_result(model, train_x, train_y)\n",
    "get_acc_and_logloss(pred_train, train_y, logging=False)"
   ]
  },
  {
   "cell_type": "code",
   "execution_count": 148,
   "id": "latest-legend",
   "metadata": {},
   "outputs": [
    {
     "name": "stderr",
     "output_type": "stream",
     "text": [
      "[INFO] 2021-02-13 17:42:16,216 >>\t=== NN KERAS MODEL ===\n"
     ]
    }
   ],
   "source": [
    "model = ModelKeras(logging=True)\n",
    "layer1 = Dense(256, activation='relu', input_shape=(train_x.shape[1],))\n",
    "layer_d1 = Dropout(0.2)\n",
    "layer2 = Dense(256, activation='relu')\n",
    "layer3 = Dense(256, activation='relu')\n",
    "layer3 = Dense(256, activation='relu')\n",
    "layer4 = Dense(1, activation='sigmoid')\n",
    "model.add_layers(layer1, layer2, layer3, layer4)\n",
    "model.compile(learning_rate=0.0003)\n",
    "model.set_fit_params(epochs=20, verbose=1)"
   ]
  },
  {
   "cell_type": "code",
   "execution_count": 149,
   "id": "lovely-accreditation",
   "metadata": {},
   "outputs": [
    {
     "name": "stdout",
     "output_type": "stream",
     "text": [
      "Epoch 1/20\n",
      "28/28 [==============================] - 0s 6ms/step - loss: 0.5756 - accuracy: 0.7677 - val_loss: 0.4790 - val_accuracy: 0.8272\n",
      "Epoch 2/20\n",
      "28/28 [==============================] - 0s 2ms/step - loss: 0.4351 - accuracy: 0.8182 - val_loss: 0.4004 - val_accuracy: 0.8283\n",
      "Epoch 3/20\n",
      "28/28 [==============================] - 0s 2ms/step - loss: 0.3972 - accuracy: 0.8260 - val_loss: 0.3831 - val_accuracy: 0.8395\n",
      "Epoch 4/20\n",
      "28/28 [==============================] - 0s 2ms/step - loss: 0.3882 - accuracy: 0.8283 - val_loss: 0.3757 - val_accuracy: 0.8395\n",
      "Epoch 5/20\n",
      "28/28 [==============================] - 0s 2ms/step - loss: 0.3798 - accuracy: 0.8395 - val_loss: 0.3708 - val_accuracy: 0.8440\n",
      "Epoch 6/20\n",
      "28/28 [==============================] - 0s 3ms/step - loss: 0.3736 - accuracy: 0.8406 - val_loss: 0.3826 - val_accuracy: 0.8204\n",
      "Epoch 7/20\n",
      "28/28 [==============================] - 0s 2ms/step - loss: 0.3795 - accuracy: 0.8305 - val_loss: 0.3660 - val_accuracy: 0.8440\n",
      "Epoch 8/20\n",
      "28/28 [==============================] - 0s 2ms/step - loss: 0.3725 - accuracy: 0.8429 - val_loss: 0.3696 - val_accuracy: 0.8350\n",
      "Epoch 9/20\n",
      "28/28 [==============================] - 0s 2ms/step - loss: 0.3706 - accuracy: 0.8384 - val_loss: 0.3628 - val_accuracy: 0.8451\n",
      "Epoch 10/20\n",
      "28/28 [==============================] - 0s 2ms/step - loss: 0.3694 - accuracy: 0.8294 - val_loss: 0.3658 - val_accuracy: 0.8406\n",
      "Epoch 11/20\n",
      "28/28 [==============================] - 0s 2ms/step - loss: 0.3670 - accuracy: 0.8384 - val_loss: 0.3617 - val_accuracy: 0.8440\n",
      "Epoch 12/20\n",
      "28/28 [==============================] - 0s 2ms/step - loss: 0.3665 - accuracy: 0.8429 - val_loss: 0.3592 - val_accuracy: 0.8462\n",
      "Epoch 13/20\n",
      "28/28 [==============================] - 0s 2ms/step - loss: 0.3704 - accuracy: 0.8429 - val_loss: 0.3603 - val_accuracy: 0.8440\n",
      "Epoch 14/20\n",
      "28/28 [==============================] - 0s 2ms/step - loss: 0.3669 - accuracy: 0.8429 - val_loss: 0.3587 - val_accuracy: 0.8451\n",
      "Epoch 15/20\n",
      "28/28 [==============================] - 0s 2ms/step - loss: 0.3649 - accuracy: 0.8373 - val_loss: 0.3601 - val_accuracy: 0.8462\n",
      "Epoch 16/20\n",
      "28/28 [==============================] - 0s 2ms/step - loss: 0.3630 - accuracy: 0.8440 - val_loss: 0.3561 - val_accuracy: 0.8451\n",
      "Epoch 17/20\n",
      "28/28 [==============================] - 0s 2ms/step - loss: 0.3620 - accuracy: 0.8406 - val_loss: 0.3552 - val_accuracy: 0.8451\n",
      "Epoch 18/20\n",
      "28/28 [==============================] - 0s 2ms/step - loss: 0.3613 - accuracy: 0.8451 - val_loss: 0.3539 - val_accuracy: 0.8462\n",
      "Epoch 19/20\n",
      "28/28 [==============================] - 0s 2ms/step - loss: 0.3610 - accuracy: 0.8451 - val_loss: 0.3537 - val_accuracy: 0.8485\n",
      "Epoch 20/20\n",
      "28/28 [==============================] - 0s 2ms/step - loss: 0.3620 - accuracy: 0.8373 - val_loss: 0.3567 - val_accuracy: 0.8451\n"
     ]
    }
   ],
   "source": [
    "model.fit(tr_x=train_x, tr_y=train_y, va_x=train_x, va_y=train_y)"
   ]
  },
  {
   "cell_type": "code",
   "execution_count": 150,
   "id": "clear-psychiatry",
   "metadata": {},
   "outputs": [],
   "source": [
    "passenger_id = test_x['PassengerId']"
   ]
  },
  {
   "cell_type": "code",
   "execution_count": 151,
   "id": "north-spread",
   "metadata": {},
   "outputs": [],
   "source": [
    "base_path = '../features/nn/'\n",
    "cols_to_rplc_train = {\n",
    "    'Age': base_path + 'age_test_std_te.feather',\n",
    "    'Fare': base_path + 'fare_test_std_te.feather'\n",
    "}\n",
    "test_x = load_feather(test_x, cols_to_rplc_train)\n",
    "test_x = load_feather_ohe(test_x, base_path + 'test_ohe.feather')\n",
    "test_x = load_feather_ohe(test_x, '../features/nn/test_ohe_2_z.feather')"
   ]
  },
  {
   "cell_type": "code",
   "execution_count": 152,
   "id": "defined-craft",
   "metadata": {},
   "outputs": [],
   "source": [
    "test_x = test_x.drop(['PassengerId', 'Name', 'Cabin', 'Ticket', 'Sex', 'Embarked', 'Pclass'], axis=1)\n",
    "test_x = test_x.drop([col for col in test_x.columns if 'Cabin' in col], axis=1)\n",
    "test_x = test_x.drop([col for col in test_x.columns if 'Ticket' in col], axis=1)"
   ]
  },
  {
   "cell_type": "code",
   "execution_count": 153,
   "id": "hidden-theology",
   "metadata": {},
   "outputs": [],
   "source": [
    "prediction = model.model.predict(test_x).ravel()\n",
    "prediction = [int(pred) for pred in prediction]"
   ]
  },
  {
   "cell_type": "code",
   "execution_count": 154,
   "id": "collectible-transformation",
   "metadata": {},
   "outputs": [],
   "source": [
    "submission = pd.DataFrame({'PassengerId': passenger_id, 'Survived': prediction})"
   ]
  },
  {
   "cell_type": "code",
   "execution_count": 155,
   "id": "toxic-gnome",
   "metadata": {},
   "outputs": [
    {
     "name": "stdin",
     "output_type": "stream",
     "text": [
      "Enter File Number 6\n"
     ]
    }
   ],
   "source": [
    "file_number = input('Enter File Number')\n",
    "submission_file_path = 'submissions/keras_submission_{}_{}.csv'.format(today.strftime('%Y%m%d'), file_number)\n",
    "submission.to_csv(submission_file_path, index=False)"
   ]
  },
  {
   "cell_type": "markdown",
   "id": "blocked-barbados",
   "metadata": {},
   "source": [
    "#### Age standardized and mean"
   ]
  },
  {
   "cell_type": "code",
   "execution_count": 14,
   "id": "greek-diary",
   "metadata": {},
   "outputs": [],
   "source": [
    "train_x, train_y, _ = load_data()"
   ]
  },
  {
   "cell_type": "code",
   "execution_count": 15,
   "id": "million-collector",
   "metadata": {},
   "outputs": [],
   "source": [
    "base_path = '../features/nn/'\n",
    "cols_to_rplc_train = {\n",
    "    'Age': base_path + 'age_train_std_mean.feather',\n",
    "    'Fare': base_path + 'fare_train_std_mean.feather'\n",
    "}\n",
    "train_x = load_feather(train_x, cols_to_rplc_train)"
   ]
  },
  {
   "cell_type": "code",
   "execution_count": 16,
   "id": "southeast-gibson",
   "metadata": {},
   "outputs": [],
   "source": [
    "train_x = train_x.drop(['PassengerId', 'Name', 'Cabin', 'Ticket', 'Sex', 'Embarked'], axis=1)\n",
    "train_x = train_x.dropna()\n",
    "train_y = train_y.iloc[train_x.index]"
   ]
  },
  {
   "cell_type": "code",
   "execution_count": 17,
   "id": "beautiful-building",
   "metadata": {},
   "outputs": [
    {
     "name": "stdout",
     "output_type": "stream",
     "text": [
      "data size: 891\n",
      "correct predictions: 653\n",
      "accuracy: 0.7328843996\n",
      "logloss: 0.5741233327\n"
     ]
    }
   ],
   "source": [
    "pred_train = get_pred_result(model, train_x, train_y)\n",
    "get_acc_and_logloss(pred_train, train_y, logging=False)"
   ]
  },
  {
   "cell_type": "code",
   "execution_count": null,
   "id": "piano-marker",
   "metadata": {},
   "outputs": [],
   "source": []
  }
 ],
 "metadata": {
  "kernelspec": {
   "display_name": "Python 3",
   "language": "python",
   "name": "python3"
  },
  "language_info": {
   "codemirror_mode": {
    "name": "ipython",
    "version": 3
   },
   "file_extension": ".py",
   "mimetype": "text/x-python",
   "name": "python",
   "nbconvert_exporter": "python",
   "pygments_lexer": "ipython3",
   "version": "3.7.9"
  }
 },
 "nbformat": 4,
 "nbformat_minor": 5
}
