{
 "cells": [
  {
   "cell_type": "markdown",
   "id": "patient-deputy",
   "metadata": {},
   "source": [
    "## Settings"
   ]
  },
  {
   "cell_type": "code",
   "execution_count": 1,
   "id": "proof-journey",
   "metadata": {},
   "outputs": [],
   "source": [
    "# 一つ上の階層からモジュールを参照できるようにする\n",
    "import sys\n",
    "sys.path.append('..')"
   ]
  },
  {
   "cell_type": "code",
   "execution_count": 2,
   "id": "special-antenna",
   "metadata": {},
   "outputs": [],
   "source": [
    "# ロギング用\n",
    "import os\n",
    "from datetime import datetime, timezone, timedelta\n",
    "from logs.logger import create_logger, get_logger\n",
    "# モデル作成補助用\n",
    "import numpy as np\n",
    "import pandas as pd\n",
    "import matplotlib.pyplot as plt\n",
    "from features.funcs import load_feather, load_feather_ohe\n",
    "from evals.funcs import get_pred_result, get_acc_and_logloss, print_conf_matrix\n",
    "from inputs.funcs import load_data\n",
    "# モデル作成用\n",
    "from models.keras import ModelKeras\n",
    "from keras.layers import Dense, Dropout"
   ]
  },
  {
   "cell_type": "code",
   "execution_count": 3,
   "id": "suspected-trainer",
   "metadata": {},
   "outputs": [],
   "source": [
    "# モジュールの変更を自動的に反映する\n",
    "%load_ext autoreload\n",
    "%autoreload 2"
   ]
  },
  {
   "cell_type": "code",
   "execution_count": 4,
   "id": "conservative-gateway",
   "metadata": {},
   "outputs": [],
   "source": [
    "# loggingの設定を行う\n",
    "today = datetime.now(timezone(timedelta(hours=9))).strftime('%Y%m%d')\n",
    "exp_version = today\n",
    "os.environ['exp_version'] = exp_version\n",
    "create_logger(exp_version)"
   ]
  },
  {
   "cell_type": "code",
   "execution_count": 5,
   "id": "plain-burner",
   "metadata": {},
   "outputs": [
    {
     "data": {
      "text/plain": [
       "['fare_test_std_te.feather',\n",
       " 'age_train_std_te.feather',\n",
       " 'fare_train_std_te.feather',\n",
       " 'age_test_std_mean.feather',\n",
       " 'cabin_train_exist.feather',\n",
       " 'cabin_train_B-F.feather',\n",
       " 'test_ohe.feather',\n",
       " 'train_ohe_2_z.feather',\n",
       " 'age_train_std_mean.feather',\n",
       " 'fare_test_<10.feather',\n",
       " 'age_train_30s.feather',\n",
       " 'age_test_std_te.feather',\n",
       " 'fare_test_std_mean.feather',\n",
       " 'age_train_<10.feather',\n",
       " 'cabin_test_B-F.feather',\n",
       " 'cabin_test_exist.feather',\n",
       " 'train_ohe.feather',\n",
       " 'fare_train_std_mean.feather',\n",
       " 'test_ohe_2_z.feather',\n",
       " 'fare_train_>50.feather',\n",
       " 'fare_test_>50.feather',\n",
       " 'age_test_30s.feather',\n",
       " 'fare_train_<10.feather',\n",
       " 'age_test_<10.feather']"
      ]
     },
     "execution_count": 5,
     "metadata": {},
     "output_type": "execute_result"
    }
   ],
   "source": [
    "os.listdir('../features/nn')"
   ]
  },
  {
   "cell_type": "code",
   "execution_count": 6,
   "id": "wanted-hollywood",
   "metadata": {},
   "outputs": [],
   "source": [
    "def save_submission(submission_df):\n",
    "    file_name = 'keras_submission_{}'.format(today)\n",
    "    file_name_suffix = input(f'Enter File Suffix: {file_name}_...')\n",
    "    if file_name_suffix != str(0):\n",
    "        submission_file_path = f'submissions/{today}/{file_name}_{file_name_suffix}.csv'\n",
    "        submission_df.to_csv(submission_file_path, index=False)"
   ]
  },
  {
   "cell_type": "markdown",
   "id": "instrumental-millennium",
   "metadata": {},
   "source": [
    "## Keras"
   ]
  },
  {
   "cell_type": "markdown",
   "id": "double-fluid",
   "metadata": {},
   "source": [
    "### Base"
   ]
  },
  {
   "cell_type": "code",
   "execution_count": 116,
   "id": "thorough-lighting",
   "metadata": {},
   "outputs": [],
   "source": [
    "train_x, train_y, test_x = load_data()"
   ]
  },
  {
   "cell_type": "code",
   "execution_count": 117,
   "id": "attractive-programmer",
   "metadata": {},
   "outputs": [],
   "source": [
    "train_x = train_x.drop(['PassengerId', 'Name', 'Cabin', 'Ticket', 'Sex', 'Embarked'], axis=1)\n",
    "train_x = train_x.dropna()\n",
    "train_y = train_y.iloc[train_x.index]"
   ]
  },
  {
   "cell_type": "code",
   "execution_count": 34,
   "id": "personalized-canal",
   "metadata": {},
   "outputs": [
    {
     "name": "stderr",
     "output_type": "stream",
     "text": [
      "[INFO] 2021-02-14 14:46:28,380 >>\t=== NN KERAS MODEL ===\n"
     ]
    }
   ],
   "source": [
    "model = ModelKeras(logging=True)\n",
    "layer1 = Dense(1024, activation='relu', input_shape=(train_x.shape[1],))\n",
    "layer2 = Dense(1024, activation='relu')\n",
    "layer3 = Dense(1024, activation='relu')\n",
    "layer3 = Dense(1024, activation='relu')\n",
    "layer4 = Dense(1, activation='sigmoid')\n",
    "model.add_layers(layer1, layer2, layer3, layer4)\n",
    "model.compile()\n",
    "model.set_fit_params(epochs=5, verbose=1)"
   ]
  },
  {
   "cell_type": "code",
   "execution_count": 35,
   "id": "royal-concern",
   "metadata": {},
   "outputs": [
    {
     "name": "stdout",
     "output_type": "stream",
     "text": [
      "Epoch 1/5\n",
      "17/17 [==============================] - 0s 14ms/step - loss: 1.7096 - accuracy: 0.5738 - val_loss: 0.7922 - val_accuracy: 0.6257\n",
      "Epoch 2/5\n",
      "17/17 [==============================] - 0s 8ms/step - loss: 0.7003 - accuracy: 0.6505 - val_loss: 0.5910 - val_accuracy: 0.6648\n",
      "Epoch 3/5\n",
      "17/17 [==============================] - 0s 8ms/step - loss: 0.6373 - accuracy: 0.6505 - val_loss: 0.6357 - val_accuracy: 0.7151\n",
      "Epoch 4/5\n",
      "17/17 [==============================] - 0s 8ms/step - loss: 0.6376 - accuracy: 0.6561 - val_loss: 0.7106 - val_accuracy: 0.7207\n",
      "Epoch 5/5\n",
      "17/17 [==============================] - 0s 8ms/step - loss: 0.6476 - accuracy: 0.6579 - val_loss: 0.5845 - val_accuracy: 0.7095\n",
      "Epoch 1/5\n",
      "17/17 [==============================] - 0s 9ms/step - loss: 1.3144 - accuracy: 0.6112 - val_loss: 1.1104 - val_accuracy: 0.4413\n",
      "Epoch 2/5\n",
      "17/17 [==============================] - 0s 8ms/step - loss: 0.7357 - accuracy: 0.6280 - val_loss: 0.6024 - val_accuracy: 0.6927\n",
      "Epoch 3/5\n",
      "17/17 [==============================] - 0s 8ms/step - loss: 0.6443 - accuracy: 0.6598 - val_loss: 0.5945 - val_accuracy: 0.6983\n",
      "Epoch 4/5\n",
      "17/17 [==============================] - 0s 8ms/step - loss: 0.6212 - accuracy: 0.6766 - val_loss: 0.5930 - val_accuracy: 0.6872\n",
      "Epoch 5/5\n",
      "17/17 [==============================] - 0s 8ms/step - loss: 0.6274 - accuracy: 0.6561 - val_loss: 0.5980 - val_accuracy: 0.6927\n",
      "Epoch 1/5\n",
      "17/17 [==============================] - 0s 9ms/step - loss: 1.3012 - accuracy: 0.5951 - val_loss: 0.8806 - val_accuracy: 0.6742\n",
      "Epoch 2/5\n",
      "17/17 [==============================] - 0s 8ms/step - loss: 0.6681 - accuracy: 0.6586 - val_loss: 0.6898 - val_accuracy: 0.6742\n",
      "Epoch 3/5\n",
      "17/17 [==============================] - 0s 8ms/step - loss: 0.6210 - accuracy: 0.7071 - val_loss: 0.6426 - val_accuracy: 0.6798\n",
      "Epoch 4/5\n",
      "17/17 [==============================] - 0s 8ms/step - loss: 0.6144 - accuracy: 0.6903 - val_loss: 0.6171 - val_accuracy: 0.6629\n",
      "Epoch 5/5\n",
      "17/17 [==============================] - 0s 9ms/step - loss: 0.6113 - accuracy: 0.6903 - val_loss: 0.6877 - val_accuracy: 0.6742\n",
      "Epoch 1/5\n",
      "17/17 [==============================] - 0s 10ms/step - loss: 1.3613 - accuracy: 0.5802 - val_loss: 0.7889 - val_accuracy: 0.6517\n",
      "Epoch 2/5\n",
      "17/17 [==============================] - 0s 8ms/step - loss: 0.6964 - accuracy: 0.6772 - val_loss: 0.7220 - val_accuracy: 0.6180\n",
      "Epoch 3/5\n",
      "17/17 [==============================] - 0s 7ms/step - loss: 0.6536 - accuracy: 0.6866 - val_loss: 0.6458 - val_accuracy: 0.6404\n",
      "Epoch 4/5\n",
      "17/17 [==============================] - 0s 8ms/step - loss: 0.6025 - accuracy: 0.6903 - val_loss: 0.7302 - val_accuracy: 0.6517\n",
      "Epoch 5/5\n",
      "17/17 [==============================] - 0s 8ms/step - loss: 0.6115 - accuracy: 0.6978 - val_loss: 0.6774 - val_accuracy: 0.6517\n"
     ]
    },
    {
     "name": "stderr",
     "output_type": "stream",
     "text": [
      "[INFO] 2021-02-14 14:46:32,555 >>\tACCURACY: 0.6820728291316527\n",
      "[INFO] 2021-02-14 14:46:32,555 >>\tLOGLOSS: 0.6367720671554686\n",
      "[INFO] 2021-02-14 14:46:32,556 >>\tdata size: 714\n",
      "[INFO] 2021-02-14 14:46:32,557 >>\tcorrect predictions: 487\n",
      "[INFO] 2021-02-14 14:46:32,558 >>\t\n"
     ]
    }
   ],
   "source": [
    "pred_train = get_pred_result(model, train_x, train_y)\n",
    "get_acc_and_logloss(pred_train, train_y, logging=True)"
   ]
  },
  {
   "cell_type": "code",
   "execution_count": 36,
   "id": "differential-start",
   "metadata": {},
   "outputs": [],
   "source": [
    "age_mean = train_x['Age'].mean()\n",
    "fare_mean = train_x['Fare'].mean()\n",
    "passenger_id = test_x['PassengerId']\n",
    "test_x = test_x.drop(['PassengerId', 'Name', 'Cabin', 'Ticket', 'Sex', 'Embarked'], axis=1)\n",
    "test_x.loc[test_x['Age'].isna(), 'Age'] = age_mean\n",
    "test_x.loc[test_x['Fare'].isna(), 'Fare'] = fare_mean\n",
    "preds = model.predict(test_x)\n",
    "preds = [round(pred[0]) for pred in preds]"
   ]
  },
  {
   "cell_type": "code",
   "execution_count": 42,
   "id": "straight-operations",
   "metadata": {},
   "outputs": [
    {
     "name": "stdin",
     "output_type": "stream",
     "text": [
      "Enter File Suffix: keras_submission_20210214_... 0\n"
     ]
    }
   ],
   "source": [
    "submission = pd.DataFrame({'PassengerId': passenger_id, 'Survived': preds})\n",
    "save_submission(submission)"
   ]
  },
  {
   "cell_type": "markdown",
   "id": "clinical-strengthening",
   "metadata": {},
   "source": [
    "## Age standardized and target encoding"
   ]
  },
  {
   "cell_type": "code",
   "execution_count": 194,
   "id": "assisted-electricity",
   "metadata": {},
   "outputs": [],
   "source": [
    "train_x, train_y, test_x = load_data()"
   ]
  },
  {
   "cell_type": "code",
   "execution_count": 195,
   "id": "premier-divorce",
   "metadata": {},
   "outputs": [],
   "source": [
    "base_path = '../features/nn/'\n",
    "cols_to_rplc_train = {\n",
    "    'Age': base_path + 'age_train_std_te.feather',\n",
    "    'Fare': base_path + 'fare_train_std_te.feather',\n",
    "    'SibSp': base_path + 'sibsp_train_std.feather',\n",
    "    'Parch': base_path + 'parch_train_std.feather'\n",
    "}\n",
    "train_x = load_feather(train_x, cols_to_rplc_train)\n",
    "train_x = load_feather_ohe(train_x, base_path + 'train_ohe.feather')\n",
    "train_x = load_feather_ohe(train_x, base_path + 'train_ohe_2_z.feather')\n",
    "\n",
    "cols_train = {\n",
    "    'Age_<10': base_path + 'age_train_<10.feather',\n",
    "    'Age_30s': base_path + 'age_train_30s.feather',\n",
    "    'Fare_>50': base_path + 'fare_train_>50.feather',\n",
    "    'Fare_<10': base_path + 'fare_train_<10.feather',\n",
    "    'Cabin_exist': base_path + 'cabin_train_exist.feather',\n",
    "    'Cabin_B-F': base_path + 'cabin_train_B-F.feather',\n",
    "    'SibSp_=1': base_path + 'sibsp_train_=1.feather',\n",
    "    'Parch_>1': base_path + 'parch_train_>1.feather'\n",
    "}\n",
    "train_x = load_feather(train_x, cols_train)"
   ]
  },
  {
   "cell_type": "code",
   "execution_count": 196,
   "id": "southern-survey",
   "metadata": {},
   "outputs": [],
   "source": [
    "train_x = train_x.drop(['PassengerId', 'Name', 'Cabin', 'Ticket', 'Sex', 'Embarked', 'Pclass'], axis=1)\n",
    "train_x = train_x.drop([col for col in train_x.columns if 'Cabin' in col], axis=1)\n",
    "train_x = train_x.drop([col for col in train_x.columns if 'Ticket' in col], axis=1)\n",
    "train_x = train_x.drop(['Embarked_Q', 'Embarked_S'], axis=1)\n",
    "train_x = train_x.drop(['Pclass_1', 'Pclass_2'], axis=1)\n",
    "train_x = train_x.drop(['Fare'], axis=1)\n",
    "# train_x = train_x.drop(['Age'], axis=1)\n",
    "train_x = train_x.drop(['SibSp'], axis=1)\n",
    "train_x = train_x.drop(['Parch'], axis=1)"
   ]
  },
  {
   "cell_type": "code",
   "execution_count": 197,
   "id": "equipped-exclusion",
   "metadata": {},
   "outputs": [
    {
     "data": {
      "text/html": [
       "<div>\n",
       "<style scoped>\n",
       "    .dataframe tbody tr th:only-of-type {\n",
       "        vertical-align: middle;\n",
       "    }\n",
       "\n",
       "    .dataframe tbody tr th {\n",
       "        vertical-align: top;\n",
       "    }\n",
       "\n",
       "    .dataframe thead th {\n",
       "        text-align: right;\n",
       "    }\n",
       "</style>\n",
       "<table border=\"1\" class=\"dataframe\">\n",
       "  <thead>\n",
       "    <tr style=\"text-align: right;\">\n",
       "      <th></th>\n",
       "      <th>Age</th>\n",
       "      <th>Pclass_3</th>\n",
       "      <th>Sex_female</th>\n",
       "      <th>Sex_male</th>\n",
       "      <th>Embarked_C</th>\n",
       "      <th>Age_&lt;10</th>\n",
       "      <th>Age_30s</th>\n",
       "      <th>Fare_&gt;50</th>\n",
       "      <th>Fare_&lt;10</th>\n",
       "      <th>SibSp_=1</th>\n",
       "      <th>Parch_&gt;1</th>\n",
       "    </tr>\n",
       "  </thead>\n",
       "  <tbody>\n",
       "    <tr>\n",
       "      <th>0</th>\n",
       "      <td>-0.596004</td>\n",
       "      <td>1</td>\n",
       "      <td>0</td>\n",
       "      <td>1</td>\n",
       "      <td>0</td>\n",
       "      <td>1</td>\n",
       "      <td>0</td>\n",
       "      <td>0</td>\n",
       "      <td>1</td>\n",
       "      <td>1</td>\n",
       "      <td>0</td>\n",
       "    </tr>\n",
       "    <tr>\n",
       "      <th>1</th>\n",
       "      <td>0.634445</td>\n",
       "      <td>0</td>\n",
       "      <td>1</td>\n",
       "      <td>0</td>\n",
       "      <td>1</td>\n",
       "      <td>1</td>\n",
       "      <td>0</td>\n",
       "      <td>1</td>\n",
       "      <td>0</td>\n",
       "      <td>1</td>\n",
       "      <td>0</td>\n",
       "    </tr>\n",
       "    <tr>\n",
       "      <th>2</th>\n",
       "      <td>-0.288392</td>\n",
       "      <td>1</td>\n",
       "      <td>1</td>\n",
       "      <td>0</td>\n",
       "      <td>0</td>\n",
       "      <td>1</td>\n",
       "      <td>0</td>\n",
       "      <td>0</td>\n",
       "      <td>1</td>\n",
       "      <td>0</td>\n",
       "      <td>0</td>\n",
       "    </tr>\n",
       "  </tbody>\n",
       "</table>\n",
       "</div>"
      ],
      "text/plain": [
       "        Age  Pclass_3  Sex_female  Sex_male  Embarked_C  Age_<10  Age_30s  \\\n",
       "0 -0.596004         1           0         1           0        1        0   \n",
       "1  0.634445         0           1         0           1        1        0   \n",
       "2 -0.288392         1           1         0           0        1        0   \n",
       "\n",
       "   Fare_>50  Fare_<10  SibSp_=1  Parch_>1  \n",
       "0         0         1         1         0  \n",
       "1         1         0         1         0  \n",
       "2         0         1         0         0  "
      ]
     },
     "execution_count": 197,
     "metadata": {},
     "output_type": "execute_result"
    }
   ],
   "source": [
    "train_x.head(3)"
   ]
  },
  {
   "cell_type": "code",
   "execution_count": 198,
   "id": "extensive-desperate",
   "metadata": {},
   "outputs": [
    {
     "name": "stderr",
     "output_type": "stream",
     "text": [
      "[INFO] 2021-02-21 22:06:18,464 >>\t=== NN KERAS MODEL ===\n",
      "[INFO] 2021-02-21 22:06:18,465 >>\tPARAMS: {'model_name': 'with_Embarked_C, with_Pclass_1, dropout:0.2, epochs: 10, learning_rate:0.001'}\n"
     ]
    }
   ],
   "source": [
    "model = ModelKeras(logging=True, model_name='with_Embarked_C, with_Pclass_1, dropout:0.2, epochs: 10, learning_rate:0.001')\n",
    "layer_d = Dropout(0.2)\n",
    "layer1 = Dense(2048, activation='relu', input_shape=(train_x.shape[1],))\n",
    "layer2 = Dense(1024, activation='relu')\n",
    "layer3 = Dense(1024, activation='relu')\n",
    "layer3 = Dense(1024, activation='relu')\n",
    "layer4 = Dense(1, activation='sigmoid')\n",
    "model.add_layers(layer1, layer_d, layer4)\n",
    "model.compile(learning_rate=0.001)\n",
    "model.set_fit_params(epochs=20, verbose=1)"
   ]
  },
  {
   "cell_type": "code",
   "execution_count": 199,
   "id": "formal-checkout",
   "metadata": {},
   "outputs": [
    {
     "name": "stdout",
     "output_type": "stream",
     "text": [
      "Epoch 1/20\n",
      "21/21 [==============================] - 0s 7ms/step - loss: 0.5525 - accuracy: 0.7665 - val_loss: 0.4514 - val_accuracy: 0.7892\n",
      "Epoch 2/20\n",
      "21/21 [==============================] - 0s 2ms/step - loss: 0.4621 - accuracy: 0.8039 - val_loss: 0.4347 - val_accuracy: 0.7848\n",
      "Epoch 3/20\n",
      "21/21 [==============================] - 0s 2ms/step - loss: 0.4458 - accuracy: 0.8039 - val_loss: 0.4270 - val_accuracy: 0.7892\n",
      "Epoch 4/20\n",
      "21/21 [==============================] - 0s 2ms/step - loss: 0.4397 - accuracy: 0.8204 - val_loss: 0.4264 - val_accuracy: 0.7892\n",
      "Epoch 5/20\n",
      "21/21 [==============================] - 0s 2ms/step - loss: 0.4359 - accuracy: 0.8234 - val_loss: 0.4353 - val_accuracy: 0.8027\n",
      "Epoch 6/20\n",
      "21/21 [==============================] - 0s 2ms/step - loss: 0.4349 - accuracy: 0.8159 - val_loss: 0.4226 - val_accuracy: 0.8027\n",
      "Epoch 7/20\n",
      "21/21 [==============================] - 0s 2ms/step - loss: 0.4246 - accuracy: 0.8249 - val_loss: 0.4185 - val_accuracy: 0.7937\n",
      "Epoch 8/20\n",
      "21/21 [==============================] - 0s 2ms/step - loss: 0.4181 - accuracy: 0.8353 - val_loss: 0.4234 - val_accuracy: 0.7982\n",
      "Epoch 9/20\n",
      "21/21 [==============================] - 0s 2ms/step - loss: 0.4123 - accuracy: 0.8323 - val_loss: 0.4143 - val_accuracy: 0.8072\n",
      "Epoch 10/20\n",
      "21/21 [==============================] - 0s 2ms/step - loss: 0.4133 - accuracy: 0.8383 - val_loss: 0.4154 - val_accuracy: 0.8027\n",
      "Epoch 11/20\n",
      "21/21 [==============================] - 0s 2ms/step - loss: 0.4078 - accuracy: 0.8428 - val_loss: 0.4141 - val_accuracy: 0.8027\n",
      "Epoch 12/20\n",
      "21/21 [==============================] - 0s 2ms/step - loss: 0.4086 - accuracy: 0.8338 - val_loss: 0.4258 - val_accuracy: 0.7982\n",
      "Epoch 13/20\n",
      "21/21 [==============================] - 0s 2ms/step - loss: 0.4040 - accuracy: 0.8368 - val_loss: 0.4198 - val_accuracy: 0.8072\n",
      "Epoch 14/20\n",
      "21/21 [==============================] - 0s 2ms/step - loss: 0.3973 - accuracy: 0.8443 - val_loss: 0.4120 - val_accuracy: 0.8072\n",
      "Epoch 15/20\n",
      "21/21 [==============================] - 0s 2ms/step - loss: 0.4040 - accuracy: 0.8368 - val_loss: 0.4191 - val_accuracy: 0.7982\n",
      "Epoch 16/20\n",
      "21/21 [==============================] - 0s 2ms/step - loss: 0.3960 - accuracy: 0.8413 - val_loss: 0.4203 - val_accuracy: 0.8027\n",
      "Epoch 17/20\n",
      "21/21 [==============================] - 0s 2ms/step - loss: 0.3979 - accuracy: 0.8398 - val_loss: 0.4236 - val_accuracy: 0.8027\n",
      "Epoch 18/20\n",
      "21/21 [==============================] - 0s 2ms/step - loss: 0.3940 - accuracy: 0.8383 - val_loss: 0.4103 - val_accuracy: 0.8161\n",
      "Epoch 19/20\n",
      "21/21 [==============================] - 0s 2ms/step - loss: 0.3923 - accuracy: 0.8383 - val_loss: 0.4288 - val_accuracy: 0.7982\n",
      "Epoch 20/20\n",
      "21/21 [==============================] - 0s 2ms/step - loss: 0.3876 - accuracy: 0.8443 - val_loss: 0.4126 - val_accuracy: 0.8117\n",
      "Epoch 1/20\n",
      "21/21 [==============================] - 0s 3ms/step - loss: 0.5656 - accuracy: 0.7605 - val_loss: 0.4879 - val_accuracy: 0.7758\n",
      "Epoch 2/20\n",
      "21/21 [==============================] - 0s 2ms/step - loss: 0.4609 - accuracy: 0.7919 - val_loss: 0.4729 - val_accuracy: 0.7713\n",
      "Epoch 3/20\n",
      "21/21 [==============================] - 0s 2ms/step - loss: 0.4425 - accuracy: 0.7994 - val_loss: 0.4579 - val_accuracy: 0.7892\n",
      "Epoch 4/20\n",
      "21/21 [==============================] - 0s 2ms/step - loss: 0.4379 - accuracy: 0.8084 - val_loss: 0.4484 - val_accuracy: 0.8161\n",
      "Epoch 5/20\n",
      "21/21 [==============================] - 0s 2ms/step - loss: 0.4346 - accuracy: 0.8054 - val_loss: 0.4405 - val_accuracy: 0.8251\n",
      "Epoch 6/20\n",
      "21/21 [==============================] - 0s 2ms/step - loss: 0.4298 - accuracy: 0.8054 - val_loss: 0.4361 - val_accuracy: 0.8341\n",
      "Epoch 7/20\n",
      "21/21 [==============================] - 0s 2ms/step - loss: 0.4273 - accuracy: 0.8174 - val_loss: 0.4326 - val_accuracy: 0.8341\n",
      "Epoch 8/20\n",
      "21/21 [==============================] - 0s 2ms/step - loss: 0.4153 - accuracy: 0.8144 - val_loss: 0.4300 - val_accuracy: 0.8296\n",
      "Epoch 9/20\n",
      "21/21 [==============================] - 0s 2ms/step - loss: 0.4150 - accuracy: 0.8249 - val_loss: 0.4309 - val_accuracy: 0.8251\n",
      "Epoch 10/20\n",
      "21/21 [==============================] - 0s 2ms/step - loss: 0.4109 - accuracy: 0.8278 - val_loss: 0.4238 - val_accuracy: 0.8341\n",
      "Epoch 11/20\n",
      "21/21 [==============================] - 0s 2ms/step - loss: 0.4103 - accuracy: 0.8234 - val_loss: 0.4296 - val_accuracy: 0.8206\n",
      "Epoch 12/20\n",
      "21/21 [==============================] - 0s 2ms/step - loss: 0.4102 - accuracy: 0.8159 - val_loss: 0.4225 - val_accuracy: 0.8296\n",
      "Epoch 13/20\n",
      "21/21 [==============================] - 0s 2ms/step - loss: 0.4079 - accuracy: 0.8308 - val_loss: 0.4179 - val_accuracy: 0.8251\n",
      "Epoch 14/20\n",
      "21/21 [==============================] - 0s 2ms/step - loss: 0.4026 - accuracy: 0.8338 - val_loss: 0.4177 - val_accuracy: 0.8251\n",
      "Epoch 15/20\n",
      "21/21 [==============================] - 0s 2ms/step - loss: 0.4012 - accuracy: 0.8204 - val_loss: 0.4237 - val_accuracy: 0.7892\n",
      "Epoch 16/20\n",
      "21/21 [==============================] - 0s 2ms/step - loss: 0.4012 - accuracy: 0.8338 - val_loss: 0.4165 - val_accuracy: 0.8341\n",
      "Epoch 17/20\n",
      "21/21 [==============================] - 0s 2ms/step - loss: 0.3973 - accuracy: 0.8398 - val_loss: 0.4135 - val_accuracy: 0.8296\n",
      "Epoch 18/20\n",
      "21/21 [==============================] - 0s 2ms/step - loss: 0.3927 - accuracy: 0.8353 - val_loss: 0.4189 - val_accuracy: 0.8206\n",
      "Epoch 19/20\n",
      "21/21 [==============================] - 0s 2ms/step - loss: 0.3913 - accuracy: 0.8428 - val_loss: 0.4190 - val_accuracy: 0.8206\n",
      "Epoch 20/20\n",
      "21/21 [==============================] - 0s 2ms/step - loss: 0.3865 - accuracy: 0.8383 - val_loss: 0.4114 - val_accuracy: 0.8296\n",
      "Epoch 1/20\n",
      "21/21 [==============================] - 0s 3ms/step - loss: 0.5660 - accuracy: 0.7380 - val_loss: 0.4991 - val_accuracy: 0.7937\n",
      "Epoch 2/20\n",
      "21/21 [==============================] - 0s 2ms/step - loss: 0.4666 - accuracy: 0.7949 - val_loss: 0.4879 - val_accuracy: 0.7803\n",
      "Epoch 3/20\n",
      "21/21 [==============================] - 0s 2ms/step - loss: 0.4356 - accuracy: 0.7964 - val_loss: 0.4810 - val_accuracy: 0.8027\n",
      "Epoch 4/20\n",
      "21/21 [==============================] - 0s 2ms/step - loss: 0.4260 - accuracy: 0.8084 - val_loss: 0.4813 - val_accuracy: 0.8072\n",
      "Epoch 5/20\n",
      "21/21 [==============================] - 0s 2ms/step - loss: 0.4233 - accuracy: 0.8099 - val_loss: 0.4777 - val_accuracy: 0.8206\n",
      "Epoch 6/20\n",
      "21/21 [==============================] - 0s 2ms/step - loss: 0.4102 - accuracy: 0.8234 - val_loss: 0.4817 - val_accuracy: 0.7848\n",
      "Epoch 7/20\n",
      "21/21 [==============================] - 0s 2ms/step - loss: 0.4127 - accuracy: 0.8219 - val_loss: 0.4798 - val_accuracy: 0.8027\n",
      "Epoch 8/20\n",
      "21/21 [==============================] - 0s 2ms/step - loss: 0.4047 - accuracy: 0.8234 - val_loss: 0.4743 - val_accuracy: 0.8117\n",
      "Epoch 9/20\n",
      "21/21 [==============================] - 0s 2ms/step - loss: 0.3959 - accuracy: 0.8293 - val_loss: 0.4837 - val_accuracy: 0.8027\n",
      "Epoch 10/20\n",
      "21/21 [==============================] - 0s 2ms/step - loss: 0.3982 - accuracy: 0.8308 - val_loss: 0.4760 - val_accuracy: 0.8072\n",
      "Epoch 11/20\n",
      "21/21 [==============================] - 0s 2ms/step - loss: 0.3921 - accuracy: 0.8368 - val_loss: 0.4770 - val_accuracy: 0.8161\n",
      "Epoch 12/20\n",
      "21/21 [==============================] - 0s 2ms/step - loss: 0.3961 - accuracy: 0.8293 - val_loss: 0.4743 - val_accuracy: 0.8206\n",
      "Epoch 13/20\n",
      "21/21 [==============================] - 0s 3ms/step - loss: 0.3847 - accuracy: 0.8353 - val_loss: 0.4781 - val_accuracy: 0.8161\n",
      "Epoch 14/20\n",
      "21/21 [==============================] - 0s 2ms/step - loss: 0.3887 - accuracy: 0.8308 - val_loss: 0.4745 - val_accuracy: 0.8117\n",
      "Epoch 15/20\n",
      "21/21 [==============================] - 0s 2ms/step - loss: 0.3852 - accuracy: 0.8278 - val_loss: 0.4835 - val_accuracy: 0.8161\n",
      "Epoch 16/20\n",
      "21/21 [==============================] - 0s 2ms/step - loss: 0.3766 - accuracy: 0.8383 - val_loss: 0.4825 - val_accuracy: 0.8206\n",
      "Epoch 17/20\n",
      "21/21 [==============================] - 0s 2ms/step - loss: 0.3844 - accuracy: 0.8383 - val_loss: 0.4802 - val_accuracy: 0.8117\n",
      "Epoch 18/20\n",
      "21/21 [==============================] - 0s 2ms/step - loss: 0.3780 - accuracy: 0.8368 - val_loss: 0.4921 - val_accuracy: 0.8117\n",
      "Epoch 19/20\n",
      "21/21 [==============================] - 0s 2ms/step - loss: 0.3850 - accuracy: 0.8308 - val_loss: 0.4813 - val_accuracy: 0.8251\n",
      "Epoch 20/20\n",
      "21/21 [==============================] - 0s 2ms/step - loss: 0.3706 - accuracy: 0.8428 - val_loss: 0.4836 - val_accuracy: 0.8072\n",
      "Epoch 1/20\n",
      "21/21 [==============================] - 0s 3ms/step - loss: 0.5742 - accuracy: 0.7429 - val_loss: 0.4900 - val_accuracy: 0.7523\n",
      "Epoch 2/20\n",
      "21/21 [==============================] - 0s 2ms/step - loss: 0.4701 - accuracy: 0.7877 - val_loss: 0.4471 - val_accuracy: 0.7838\n",
      "Epoch 3/20\n",
      "21/21 [==============================] - 0s 2ms/step - loss: 0.4485 - accuracy: 0.7997 - val_loss: 0.4440 - val_accuracy: 0.7793\n",
      "Epoch 4/20\n",
      "21/21 [==============================] - 0s 2ms/step - loss: 0.4431 - accuracy: 0.8042 - val_loss: 0.4302 - val_accuracy: 0.8243\n",
      "Epoch 5/20\n",
      "21/21 [==============================] - 0s 2ms/step - loss: 0.4381 - accuracy: 0.8132 - val_loss: 0.4498 - val_accuracy: 0.7658\n",
      "Epoch 6/20\n",
      "21/21 [==============================] - 0s 2ms/step - loss: 0.4243 - accuracy: 0.8191 - val_loss: 0.4345 - val_accuracy: 0.7883\n",
      "Epoch 7/20\n",
      "21/21 [==============================] - 0s 2ms/step - loss: 0.4193 - accuracy: 0.8132 - val_loss: 0.4311 - val_accuracy: 0.8288\n",
      "Epoch 8/20\n",
      "21/21 [==============================] - 0s 2ms/step - loss: 0.4133 - accuracy: 0.8176 - val_loss: 0.4462 - val_accuracy: 0.7928\n",
      "Epoch 9/20\n",
      "21/21 [==============================] - 0s 2ms/step - loss: 0.4079 - accuracy: 0.8311 - val_loss: 0.4341 - val_accuracy: 0.8333\n",
      "Epoch 10/20\n",
      "21/21 [==============================] - 0s 2ms/step - loss: 0.4059 - accuracy: 0.8296 - val_loss: 0.4497 - val_accuracy: 0.7838\n",
      "Epoch 11/20\n",
      "21/21 [==============================] - 0s 2ms/step - loss: 0.4037 - accuracy: 0.8326 - val_loss: 0.4488 - val_accuracy: 0.7928\n",
      "Epoch 12/20\n",
      "21/21 [==============================] - 0s 2ms/step - loss: 0.3997 - accuracy: 0.8401 - val_loss: 0.4416 - val_accuracy: 0.7838\n",
      "Epoch 13/20\n",
      "21/21 [==============================] - 0s 2ms/step - loss: 0.3987 - accuracy: 0.8341 - val_loss: 0.4485 - val_accuracy: 0.7838\n",
      "Epoch 14/20\n",
      "21/21 [==============================] - 0s 2ms/step - loss: 0.3959 - accuracy: 0.8371 - val_loss: 0.4532 - val_accuracy: 0.7838\n",
      "Epoch 15/20\n",
      "21/21 [==============================] - 0s 2ms/step - loss: 0.3904 - accuracy: 0.8401 - val_loss: 0.4404 - val_accuracy: 0.8243\n",
      "Epoch 16/20\n",
      "21/21 [==============================] - 0s 2ms/step - loss: 0.3851 - accuracy: 0.8401 - val_loss: 0.4608 - val_accuracy: 0.7703\n",
      "Epoch 17/20\n",
      "21/21 [==============================] - 0s 2ms/step - loss: 0.3880 - accuracy: 0.8416 - val_loss: 0.4627 - val_accuracy: 0.7658\n",
      "Epoch 18/20\n",
      "21/21 [==============================] - 0s 2ms/step - loss: 0.3828 - accuracy: 0.8401 - val_loss: 0.4413 - val_accuracy: 0.8198\n",
      "Epoch 19/20\n",
      "21/21 [==============================] - 0s 2ms/step - loss: 0.3813 - accuracy: 0.8371 - val_loss: 0.4446 - val_accuracy: 0.8198\n",
      "Epoch 20/20\n",
      "21/21 [==============================] - 0s 2ms/step - loss: 0.3806 - accuracy: 0.8445 - val_loss: 0.4751 - val_accuracy: 0.7613\n"
     ]
    },
    {
     "name": "stderr",
     "output_type": "stream",
     "text": [
      "[INFO] 2021-02-21 22:06:23,511 >>\tACCURACY: 0.8024691358024691\n",
      "[INFO] 2021-02-21 22:06:23,512 >>\tLOGLOSS: 0.4456393865525605\n",
      "[INFO] 2021-02-21 22:06:23,513 >>\tdata size: 891\n",
      "[INFO] 2021-02-21 22:06:23,513 >>\tcorrect predictions: 715\n",
      "[INFO] 2021-02-21 22:06:23,514 >>\t\n"
     ]
    }
   ],
   "source": [
    "pred_train = get_pred_result(model, train_x, train_y)\n",
    "get_acc_and_logloss(pred_train, train_y, logging=True)"
   ]
  },
  {
   "cell_type": "code",
   "execution_count": 200,
   "id": "logical-offer",
   "metadata": {},
   "outputs": [
    {
     "name": "stdout",
     "output_type": "stream",
     "text": [
      "Epoch 1/20\n",
      "28/28 [==============================] - 0s 3ms/step - loss: 0.5521 - accuracy: 0.7542 - val_loss: 0.4658 - val_accuracy: 0.7890\n",
      "Epoch 2/20\n",
      "28/28 [==============================] - 0s 2ms/step - loss: 0.4566 - accuracy: 0.7935 - val_loss: 0.4418 - val_accuracy: 0.8036\n",
      "Epoch 3/20\n",
      "28/28 [==============================] - 0s 2ms/step - loss: 0.4435 - accuracy: 0.7957 - val_loss: 0.4349 - val_accuracy: 0.8092\n",
      "Epoch 4/20\n",
      "28/28 [==============================] - 0s 2ms/step - loss: 0.4349 - accuracy: 0.8013 - val_loss: 0.4291 - val_accuracy: 0.8114\n",
      "Epoch 5/20\n",
      "28/28 [==============================] - 0s 2ms/step - loss: 0.4310 - accuracy: 0.8081 - val_loss: 0.4199 - val_accuracy: 0.8159\n",
      "Epoch 6/20\n",
      "28/28 [==============================] - 0s 3ms/step - loss: 0.4280 - accuracy: 0.8171 - val_loss: 0.4182 - val_accuracy: 0.8182\n",
      "Epoch 7/20\n",
      "28/28 [==============================] - 0s 2ms/step - loss: 0.4195 - accuracy: 0.8171 - val_loss: 0.4151 - val_accuracy: 0.8260\n",
      "Epoch 8/20\n",
      "28/28 [==============================] - 0s 2ms/step - loss: 0.4150 - accuracy: 0.8294 - val_loss: 0.4072 - val_accuracy: 0.8294\n",
      "Epoch 9/20\n",
      "28/28 [==============================] - 0s 2ms/step - loss: 0.4113 - accuracy: 0.8305 - val_loss: 0.4045 - val_accuracy: 0.8339\n",
      "Epoch 10/20\n",
      "28/28 [==============================] - 0s 2ms/step - loss: 0.4065 - accuracy: 0.8384 - val_loss: 0.4025 - val_accuracy: 0.8305\n",
      "Epoch 11/20\n",
      "28/28 [==============================] - 0s 2ms/step - loss: 0.4085 - accuracy: 0.8305 - val_loss: 0.4018 - val_accuracy: 0.8305\n",
      "Epoch 12/20\n",
      "28/28 [==============================] - 0s 3ms/step - loss: 0.4061 - accuracy: 0.8328 - val_loss: 0.3969 - val_accuracy: 0.8373\n",
      "Epoch 13/20\n",
      "28/28 [==============================] - 0s 2ms/step - loss: 0.4026 - accuracy: 0.8328 - val_loss: 0.3927 - val_accuracy: 0.8373\n",
      "Epoch 14/20\n",
      "28/28 [==============================] - 0s 2ms/step - loss: 0.3985 - accuracy: 0.8316 - val_loss: 0.4106 - val_accuracy: 0.8148\n",
      "Epoch 15/20\n",
      "28/28 [==============================] - 0s 2ms/step - loss: 0.4149 - accuracy: 0.8114 - val_loss: 0.4015 - val_accuracy: 0.8159\n",
      "Epoch 16/20\n",
      "28/28 [==============================] - 0s 2ms/step - loss: 0.3980 - accuracy: 0.8316 - val_loss: 0.3868 - val_accuracy: 0.8418\n",
      "Epoch 17/20\n",
      "28/28 [==============================] - 0s 3ms/step - loss: 0.3926 - accuracy: 0.8350 - val_loss: 0.4002 - val_accuracy: 0.8294\n",
      "Epoch 18/20\n",
      "28/28 [==============================] - 0s 2ms/step - loss: 0.4014 - accuracy: 0.8316 - val_loss: 0.3854 - val_accuracy: 0.8406\n",
      "Epoch 19/20\n",
      "28/28 [==============================] - 0s 2ms/step - loss: 0.3910 - accuracy: 0.8406 - val_loss: 0.3805 - val_accuracy: 0.8451\n",
      "Epoch 20/20\n",
      "28/28 [==============================] - 0s 2ms/step - loss: 0.3871 - accuracy: 0.8418 - val_loss: 0.3766 - val_accuracy: 0.8451\n"
     ]
    }
   ],
   "source": [
    "model.fit(tr_x=train_x, tr_y=train_y, va_x=train_x, va_y=train_y)"
   ]
  },
  {
   "cell_type": "code",
   "execution_count": 201,
   "id": "medium-pastor",
   "metadata": {},
   "outputs": [],
   "source": [
    "passenger_id = test_x['PassengerId']"
   ]
  },
  {
   "cell_type": "code",
   "execution_count": 202,
   "id": "biblical-rebate",
   "metadata": {},
   "outputs": [],
   "source": [
    "base_path = '../features/nn/'\n",
    "cols_to_rplc_train = {\n",
    "    'Age': base_path + 'age_test_std_te.feather',\n",
    "    'Fare': base_path + 'fare_test_std_te.feather',\n",
    "    'SibSp': base_path + 'sibsp_test_std.feather',\n",
    "    'Parch': base_path + 'parch_test_std.feather'\n",
    "}\n",
    "test_x = load_feather(test_x, cols_to_rplc_train)\n",
    "test_x = load_feather_ohe(test_x, base_path + 'test_ohe.feather')\n",
    "test_x = load_feather_ohe(test_x, base_path + 'test_ohe_2_z.feather')\n",
    "\n",
    "cols_test = {\n",
    "    'Age_<10': base_path + 'age_test_<10.feather',\n",
    "    'Age_30s': base_path + 'age_test_30s.feather',\n",
    "    'Fare_>50': base_path + 'fare_test_>50.feather',\n",
    "    'Fare_<10': base_path + 'fare_test_<10.feather',\n",
    "    'Cabin_exist': base_path + 'cabin_test_exist.feather',\n",
    "    'Cabin_B-F': base_path + 'cabin_test_B-F.feather',\n",
    "    'SibSp_=1': base_path + 'sibsp_test_=1.feather',\n",
    "    'Parch_>1': base_path + 'parch_test_>1.feather'\n",
    "}\n",
    "test_x = load_feather(test_x, cols_test)"
   ]
  },
  {
   "cell_type": "code",
   "execution_count": 203,
   "id": "secret-disney",
   "metadata": {},
   "outputs": [],
   "source": [
    "test_x = test_x.drop(['PassengerId', 'Name', 'Cabin', 'Ticket', 'Sex', 'Embarked', 'Pclass'], axis=1)\n",
    "test_x = test_x.drop([col for col in test_x.columns if 'Cabin' in col], axis=1)\n",
    "test_x = test_x.drop([col for col in test_x.columns if 'Ticket' in col], axis=1)\n",
    "test_x = test_x.drop(['Embarked_Q', 'Embarked_S'], axis=1)\n",
    "test_x = test_x.drop(['Pclass_1', 'Pclass_2'], axis=1)\n",
    "test_x = test_x.drop(['Fare'], axis=1)\n",
    "# test_x = test_x.drop(['Age'], axis=1)\n",
    "test_x = test_x.drop(['SibSp'], axis=1)\n",
    "test_x = test_x.drop(['Parch'], axis=1)"
   ]
  },
  {
   "cell_type": "code",
   "execution_count": 204,
   "id": "social-development",
   "metadata": {},
   "outputs": [],
   "source": [
    "prediction = model.predict(test_x).ravel()\n",
    "prediction = [round(pred) for pred in prediction]"
   ]
  },
  {
   "cell_type": "code",
   "execution_count": 205,
   "id": "together-pizza",
   "metadata": {},
   "outputs": [
    {
     "name": "stdin",
     "output_type": "stream",
     "text": [
      "Enter File Suffix: keras_submission_20210221_... 5\n"
     ]
    }
   ],
   "source": [
    "submission = pd.DataFrame({'PassengerId': passenger_id, 'Survived': prediction})\n",
    "save_submission(submission)"
   ]
  },
  {
   "cell_type": "markdown",
   "id": "extensive-refrigerator",
   "metadata": {},
   "source": [
    "## Age standardized and mean"
   ]
  },
  {
   "cell_type": "code",
   "execution_count": 173,
   "id": "musical-capital",
   "metadata": {},
   "outputs": [],
   "source": [
    "train_x, train_y, test_x = load_data()"
   ]
  },
  {
   "cell_type": "code",
   "execution_count": 174,
   "id": "armed-pattern",
   "metadata": {},
   "outputs": [],
   "source": [
    "base_path = '../features/nn/'\n",
    "cols_to_rplc_train = {\n",
    "    'Age': base_path + 'age_train_std_mean.feather',\n",
    "    'Fare': base_path + 'fare_train_std_mean.feather'\n",
    "}\n",
    "train_x = load_feather(train_x, cols_to_rplc_train)\n",
    "train_x = load_feather_ohe(train_x, base_path + 'train_ohe.feather')\n",
    "train_x = load_feather_ohe(train_x, base_path + 'train_ohe_2_z.feather')"
   ]
  },
  {
   "cell_type": "code",
   "execution_count": 175,
   "id": "forbidden-repeat",
   "metadata": {},
   "outputs": [],
   "source": [
    "train_x = train_x.drop(['PassengerId', 'Name', 'Cabin', 'Ticket', 'Sex', 'Embarked', 'Pclass'], axis=1)\n",
    "train_x = train_x.drop([col for col in train_x.columns if 'Cabin' in col ], axis=1)\n",
    "train_x = train_x.drop([col for col in train_x.columns if 'Ticket' in col ], axis=1)\n",
    "train_x = train_x.drop(['Embarked_Q', 'Embarked_S'], axis=1)"
   ]
  },
  {
   "cell_type": "code",
   "execution_count": 176,
   "id": "fancy-humor",
   "metadata": {},
   "outputs": [
    {
     "name": "stderr",
     "output_type": "stream",
     "text": [
      "[INFO] 2021-02-14 15:42:27,920 >>\t=== NN KERAS MODEL ===\n",
      "[INFO] 2021-02-14 15:42:27,921 >>\tPARAMS: {'model_name': 'with_Embarked_C, dropout:0.2, epochs: 10, learning_rate:0.001'}\n"
     ]
    }
   ],
   "source": [
    "model = ModelKeras(logging=True, model_name='with_Embarked_C, dropout:0.2, epochs: 10, learning_rate:0.001')\n",
    "layer_d1 = Dropout(0.2)\n",
    "layer_d2 = Dropout(0.3)\n",
    "layer1 = Dense(2048, activation='relu', input_shape=(train_x.shape[1],))\n",
    "layer2 = Dense(512, activation='relu')\n",
    "layer3 = Dense(1024, activation='relu')\n",
    "layer3 = Dense(1024, activation='relu')\n",
    "layer4 = Dense(1, activation='sigmoid')\n",
    "model.add_layers(layer1, layer_d, layer2, layer_d2, layer4)\n",
    "model.compile(learning_rate=0.001)\n",
    "model.set_fit_params(epochs=10, verbose=1)"
   ]
  },
  {
   "cell_type": "code",
   "execution_count": 177,
   "id": "excellent-union",
   "metadata": {},
   "outputs": [
    {
     "name": "stdout",
     "output_type": "stream",
     "text": [
      "Epoch 1/10\n",
      "21/21 [==============================] - 0s 11ms/step - loss: 0.4905 - accuracy: 0.7799 - val_loss: 0.5408 - val_accuracy: 0.7668\n",
      "Epoch 2/10\n",
      "21/21 [==============================] - 0s 7ms/step - loss: 0.4137 - accuracy: 0.8249 - val_loss: 0.4861 - val_accuracy: 0.7892\n",
      "Epoch 3/10\n",
      "21/21 [==============================] - 0s 7ms/step - loss: 0.3878 - accuracy: 0.8353 - val_loss: 0.4837 - val_accuracy: 0.7758\n",
      "Epoch 4/10\n",
      "21/21 [==============================] - 0s 7ms/step - loss: 0.3821 - accuracy: 0.8473 - val_loss: 0.5225 - val_accuracy: 0.7668\n",
      "Epoch 5/10\n",
      "21/21 [==============================] - 0s 8ms/step - loss: 0.3897 - accuracy: 0.8263 - val_loss: 0.4773 - val_accuracy: 0.8072\n",
      "Epoch 6/10\n",
      "21/21 [==============================] - 0s 7ms/step - loss: 0.3732 - accuracy: 0.8488 - val_loss: 0.4918 - val_accuracy: 0.7803\n",
      "Epoch 7/10\n",
      "21/21 [==============================] - 0s 7ms/step - loss: 0.3780 - accuracy: 0.8338 - val_loss: 0.5499 - val_accuracy: 0.7758\n",
      "Epoch 8/10\n",
      "21/21 [==============================] - 0s 7ms/step - loss: 0.3754 - accuracy: 0.8443 - val_loss: 0.5208 - val_accuracy: 0.7489\n",
      "Epoch 9/10\n",
      "21/21 [==============================] - 0s 6ms/step - loss: 0.3699 - accuracy: 0.8428 - val_loss: 0.4890 - val_accuracy: 0.7534\n",
      "Epoch 10/10\n",
      "21/21 [==============================] - 0s 8ms/step - loss: 0.3565 - accuracy: 0.8428 - val_loss: 0.5069 - val_accuracy: 0.7892\n",
      "Epoch 1/10\n",
      "21/21 [==============================] - 0s 9ms/step - loss: 0.5362 - accuracy: 0.7740 - val_loss: 0.5270 - val_accuracy: 0.7309\n",
      "Epoch 2/10\n",
      "21/21 [==============================] - 0s 8ms/step - loss: 0.4682 - accuracy: 0.7949 - val_loss: 0.4769 - val_accuracy: 0.7623\n",
      "Epoch 3/10\n",
      "21/21 [==============================] - 0s 8ms/step - loss: 0.4112 - accuracy: 0.8263 - val_loss: 0.4474 - val_accuracy: 0.7668\n",
      "Epoch 4/10\n",
      "21/21 [==============================] - 0s 7ms/step - loss: 0.4066 - accuracy: 0.8398 - val_loss: 0.4470 - val_accuracy: 0.7803\n",
      "Epoch 5/10\n",
      "21/21 [==============================] - 0s 7ms/step - loss: 0.3854 - accuracy: 0.8368 - val_loss: 0.4502 - val_accuracy: 0.7892\n",
      "Epoch 6/10\n",
      "21/21 [==============================] - 0s 7ms/step - loss: 0.3818 - accuracy: 0.8428 - val_loss: 0.4447 - val_accuracy: 0.7892\n",
      "Epoch 7/10\n",
      "21/21 [==============================] - 0s 7ms/step - loss: 0.3762 - accuracy: 0.8488 - val_loss: 0.4529 - val_accuracy: 0.7848\n",
      "Epoch 8/10\n",
      "21/21 [==============================] - 0s 7ms/step - loss: 0.3772 - accuracy: 0.8398 - val_loss: 0.4516 - val_accuracy: 0.7937\n",
      "Epoch 9/10\n",
      "21/21 [==============================] - 0s 7ms/step - loss: 0.3719 - accuracy: 0.8533 - val_loss: 0.4512 - val_accuracy: 0.7937\n",
      "Epoch 10/10\n",
      "21/21 [==============================] - 0s 7ms/step - loss: 0.3720 - accuracy: 0.8533 - val_loss: 0.4498 - val_accuracy: 0.7803\n",
      "Epoch 1/10\n",
      "21/21 [==============================] - 0s 8ms/step - loss: 0.5424 - accuracy: 0.7530 - val_loss: 0.4034 - val_accuracy: 0.8341\n",
      "Epoch 2/10\n",
      "21/21 [==============================] - 0s 7ms/step - loss: 0.4604 - accuracy: 0.7889 - val_loss: 0.3979 - val_accuracy: 0.8117\n",
      "Epoch 3/10\n",
      "21/21 [==============================] - 0s 7ms/step - loss: 0.4527 - accuracy: 0.7949 - val_loss: 0.4032 - val_accuracy: 0.8251\n",
      "Epoch 4/10\n",
      "21/21 [==============================] - 0s 7ms/step - loss: 0.4124 - accuracy: 0.8129 - val_loss: 0.4050 - val_accuracy: 0.8117\n",
      "Epoch 5/10\n",
      "21/21 [==============================] - 0s 7ms/step - loss: 0.4188 - accuracy: 0.8024 - val_loss: 0.3960 - val_accuracy: 0.8206\n",
      "Epoch 6/10\n",
      "21/21 [==============================] - 0s 8ms/step - loss: 0.4146 - accuracy: 0.7964 - val_loss: 0.3948 - val_accuracy: 0.8430\n",
      "Epoch 7/10\n",
      "21/21 [==============================] - 0s 8ms/step - loss: 0.3977 - accuracy: 0.8129 - val_loss: 0.3856 - val_accuracy: 0.8430\n",
      "Epoch 8/10\n",
      "21/21 [==============================] - 0s 7ms/step - loss: 0.3918 - accuracy: 0.8263 - val_loss: 0.3999 - val_accuracy: 0.8475\n",
      "Epoch 9/10\n",
      "21/21 [==============================] - 0s 7ms/step - loss: 0.3858 - accuracy: 0.8278 - val_loss: 0.3857 - val_accuracy: 0.8744\n",
      "Epoch 10/10\n",
      "21/21 [==============================] - 0s 6ms/step - loss: 0.3835 - accuracy: 0.8189 - val_loss: 0.3999 - val_accuracy: 0.8251\n",
      "Epoch 1/10\n",
      "21/21 [==============================] - 0s 8ms/step - loss: 0.5268 - accuracy: 0.7549 - val_loss: 0.4401 - val_accuracy: 0.8063\n",
      "Epoch 2/10\n",
      "21/21 [==============================] - 0s 7ms/step - loss: 0.4387 - accuracy: 0.8027 - val_loss: 0.4087 - val_accuracy: 0.8153\n",
      "Epoch 3/10\n",
      "21/21 [==============================] - 0s 7ms/step - loss: 0.4185 - accuracy: 0.8146 - val_loss: 0.4336 - val_accuracy: 0.8243\n",
      "Epoch 4/10\n",
      "21/21 [==============================] - 0s 7ms/step - loss: 0.4123 - accuracy: 0.8206 - val_loss: 0.4325 - val_accuracy: 0.8243\n",
      "Epoch 5/10\n",
      "21/21 [==============================] - 0s 7ms/step - loss: 0.4079 - accuracy: 0.8206 - val_loss: 0.4244 - val_accuracy: 0.8333\n",
      "Epoch 6/10\n",
      "21/21 [==============================] - 0s 7ms/step - loss: 0.4111 - accuracy: 0.8206 - val_loss: 0.4179 - val_accuracy: 0.8243\n",
      "Epoch 7/10\n",
      "21/21 [==============================] - 0s 7ms/step - loss: 0.3923 - accuracy: 0.8236 - val_loss: 0.4307 - val_accuracy: 0.8153\n",
      "Epoch 8/10\n",
      "21/21 [==============================] - 0s 8ms/step - loss: 0.3946 - accuracy: 0.8311 - val_loss: 0.4458 - val_accuracy: 0.8288\n",
      "Epoch 9/10\n",
      "21/21 [==============================] - 0s 7ms/step - loss: 0.3869 - accuracy: 0.8266 - val_loss: 0.4421 - val_accuracy: 0.8333\n",
      "Epoch 10/10\n",
      "21/21 [==============================] - 0s 7ms/step - loss: 0.3768 - accuracy: 0.8371 - val_loss: 0.4455 - val_accuracy: 0.8243\n"
     ]
    },
    {
     "name": "stderr",
     "output_type": "stream",
     "text": [
      "[INFO] 2021-02-14 15:42:37,899 >>\tACCURACY: 0.8047138047138047\n",
      "[INFO] 2021-02-14 15:42:37,900 >>\tLOGLOSS: 0.4505417245775857\n",
      "[INFO] 2021-02-14 15:42:37,900 >>\tdata size: 891\n",
      "[INFO] 2021-02-14 15:42:37,901 >>\tcorrect predictions: 717\n",
      "[INFO] 2021-02-14 15:42:37,902 >>\t\n"
     ]
    }
   ],
   "source": [
    "pred_train = get_pred_result(model, train_x, train_y)\n",
    "get_acc_and_logloss(pred_train, train_y, logging=True)"
   ]
  },
  {
   "cell_type": "code",
   "execution_count": 178,
   "id": "personal-professor",
   "metadata": {},
   "outputs": [
    {
     "name": "stdout",
     "output_type": "stream",
     "text": [
      "Epoch 1/10\n",
      "28/28 [==============================] - 0s 9ms/step - loss: 0.5043 - accuracy: 0.7666 - val_loss: 0.4445 - val_accuracy: 0.8148\n",
      "Epoch 2/10\n",
      "28/28 [==============================] - 0s 8ms/step - loss: 0.4409 - accuracy: 0.8081 - val_loss: 0.4042 - val_accuracy: 0.8204\n",
      "Epoch 3/10\n",
      "28/28 [==============================] - 0s 8ms/step - loss: 0.4186 - accuracy: 0.8249 - val_loss: 0.4078 - val_accuracy: 0.8137\n",
      "Epoch 4/10\n",
      "28/28 [==============================] - 0s 8ms/step - loss: 0.4117 - accuracy: 0.8249 - val_loss: 0.3886 - val_accuracy: 0.8440\n",
      "Epoch 5/10\n",
      "28/28 [==============================] - 0s 8ms/step - loss: 0.3986 - accuracy: 0.8395 - val_loss: 0.3786 - val_accuracy: 0.8418\n",
      "Epoch 6/10\n",
      "28/28 [==============================] - 0s 7ms/step - loss: 0.3980 - accuracy: 0.8260 - val_loss: 0.3761 - val_accuracy: 0.8451\n",
      "Epoch 7/10\n",
      "28/28 [==============================] - 0s 8ms/step - loss: 0.3840 - accuracy: 0.8395 - val_loss: 0.3758 - val_accuracy: 0.8418\n",
      "Epoch 8/10\n",
      "28/28 [==============================] - 0s 8ms/step - loss: 0.3954 - accuracy: 0.8316 - val_loss: 0.3769 - val_accuracy: 0.8328\n",
      "Epoch 9/10\n",
      "28/28 [==============================] - 0s 8ms/step - loss: 0.3866 - accuracy: 0.8373 - val_loss: 0.3678 - val_accuracy: 0.8451\n",
      "Epoch 10/10\n",
      "28/28 [==============================] - 0s 8ms/step - loss: 0.3811 - accuracy: 0.8294 - val_loss: 0.3692 - val_accuracy: 0.8485\n"
     ]
    }
   ],
   "source": [
    "model.fit(tr_x=train_x, tr_y=train_y, va_x=train_x, va_y=train_y)"
   ]
  },
  {
   "cell_type": "code",
   "execution_count": 179,
   "id": "solid-crazy",
   "metadata": {},
   "outputs": [],
   "source": [
    "passenger_id = test_x['PassengerId']"
   ]
  },
  {
   "cell_type": "code",
   "execution_count": 180,
   "id": "front-cloud",
   "metadata": {},
   "outputs": [],
   "source": [
    "base_path = '../features/nn/'\n",
    "cols_to_rplc_train = {\n",
    "    'Age': base_path + 'age_test_std_mean.feather',\n",
    "    'Fare': base_path + 'fare_test_std_mean.feather'\n",
    "}\n",
    "test_x = load_feather(test_x, cols_to_rplc_train)\n",
    "test_x = load_feather_ohe(test_x, base_path + 'test_ohe.feather')\n",
    "test_x = load_feather_ohe(test_x, base_path + 'test_ohe_2_z.feather')"
   ]
  },
  {
   "cell_type": "code",
   "execution_count": 181,
   "id": "close-comparative",
   "metadata": {},
   "outputs": [],
   "source": [
    "test_x = test_x.drop(['PassengerId', 'Name', 'Cabin', 'Ticket', 'Sex', 'Embarked', 'Pclass'], axis=1)\n",
    "test_x = test_x.drop([col for col in test_x.columns if 'Cabin' in col ], axis=1)\n",
    "test_x = test_x.drop([col for col in test_x.columns if 'Ticket' in col ], axis=1)\n",
    "test_x = test_x.drop(['Embarked_Q', 'Embarked_S'], axis=1)"
   ]
  },
  {
   "cell_type": "code",
   "execution_count": 182,
   "id": "fluid-logistics",
   "metadata": {},
   "outputs": [],
   "source": [
    "prediction = model.predict(test_x).ravel()\n",
    "prediction = [round(pred) for pred in prediction]"
   ]
  },
  {
   "cell_type": "code",
   "execution_count": 183,
   "id": "upper-discretion",
   "metadata": {},
   "outputs": [
    {
     "name": "stdin",
     "output_type": "stream",
     "text": [
      "Enter File Suffix: keras_submission_20210214_... 4\n"
     ]
    }
   ],
   "source": [
    "submission = pd.DataFrame({'PassengerId': passenger_id, 'Survived': prediction})\n",
    "save_submission(submission)"
   ]
  },
  {
   "cell_type": "code",
   "execution_count": null,
   "id": "brown-nigeria",
   "metadata": {},
   "outputs": [],
   "source": []
  }
 ],
 "metadata": {
  "kernelspec": {
   "display_name": "Python 3",
   "language": "python",
   "name": "python3"
  },
  "language_info": {
   "codemirror_mode": {
    "name": "ipython",
    "version": 3
   },
   "file_extension": ".py",
   "mimetype": "text/x-python",
   "name": "python",
   "nbconvert_exporter": "python",
   "pygments_lexer": "ipython3",
   "version": "3.7.9"
  }
 },
 "nbformat": 4,
 "nbformat_minor": 5
}
