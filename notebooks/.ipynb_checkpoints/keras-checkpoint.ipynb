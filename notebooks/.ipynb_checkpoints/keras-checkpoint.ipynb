{
 "cells": [
  {
   "cell_type": "markdown",
   "id": "circular-envelope",
   "metadata": {},
   "source": [
    "## Settings"
   ]
  },
  {
   "cell_type": "code",
   "execution_count": 1,
   "id": "removable-collective",
   "metadata": {},
   "outputs": [],
   "source": [
    "# 一つ上の階層からモジュールを参照できるようにする\n",
    "import sys\n",
    "sys.path.append('..')"
   ]
  },
  {
   "cell_type": "code",
   "execution_count": 2,
   "id": "solid-industry",
   "metadata": {},
   "outputs": [],
   "source": [
    "# ロギング用\n",
    "import os\n",
    "from datetime import datetime, timezone, timedelta\n",
    "from logs.logger import create_logger, get_logger\n",
    "# モデル作成補助用\n",
    "import numpy as np\n",
    "import pandas as pd\n",
    "import matplotlib.pyplot as plt\n",
    "from features.funcs import load_feather, load_feather_ohe\n",
    "from evals.funcs import get_pred_result, get_acc_and_logloss, print_conf_matrix\n",
    "from inputs.funcs import load_data\n",
    "# モデル作成用\n",
    "from models.keras import ModelKeras\n",
    "from keras.layers import Dense, Dropout"
   ]
  },
  {
   "cell_type": "code",
   "execution_count": 3,
   "id": "extraordinary-equity",
   "metadata": {},
   "outputs": [],
   "source": [
    "# モジュールの変更を自動的に反映する\n",
    "%load_ext autoreload\n",
    "%autoreload 2"
   ]
  },
  {
   "cell_type": "code",
   "execution_count": 4,
   "id": "young-mandate",
   "metadata": {},
   "outputs": [],
   "source": [
    "# loggingの設定を行う\n",
    "today = datetime.now(timezone(timedelta(hours=9))).strftime('%Y%m%d')\n",
    "exp_version = today\n",
    "os.environ['exp_version'] = exp_version\n",
    "create_logger(exp_version)"
   ]
  },
  {
   "cell_type": "code",
   "execution_count": 5,
   "id": "vulnerable-purchase",
   "metadata": {},
   "outputs": [
    {
     "data": {
      "text/plain": [
       "['fare_test_std_te.feather',\n",
       " 'age_train_std_te.feather',\n",
       " 'fare_train_std_te.feather',\n",
       " 'age_test_std_mean.feather',\n",
       " 'test_ohe.feather',\n",
       " 'train_ohe_2_z.feather',\n",
       " 'age_train_std_mean.feather',\n",
       " 'age_test_std_te.feather',\n",
       " 'fare_test_std_mean.feather',\n",
       " 'train_ohe.feather',\n",
       " 'fare_train_std_mean.feather',\n",
       " 'test_ohe_2_z.feather']"
      ]
     },
     "execution_count": 5,
     "metadata": {},
     "output_type": "execute_result"
    }
   ],
   "source": [
    "os.listdir('../features/nn')"
   ]
  },
  {
   "cell_type": "code",
   "execution_count": 63,
   "id": "fewer-vision",
   "metadata": {},
   "outputs": [],
   "source": [
    "def save_submission(submission_df):\n",
    "    file_name = 'keras_submission_{}'.format(today)\n",
    "    file_name_suffix = input(f'Enter File Suffix: {file_name}_...')\n",
    "    submission_file_path = f'submissions/nn/{file_name}_{file_name_suffix}.csv'\n",
    "    submission_df.to_csv(submission_file_path, index=False)"
   ]
  },
  {
   "cell_type": "markdown",
   "id": "hollywood-concentrate",
   "metadata": {},
   "source": [
    "## Keras"
   ]
  },
  {
   "cell_type": "markdown",
   "id": "organizational-mandate",
   "metadata": {},
   "source": [
    "### Base"
   ]
  },
  {
   "cell_type": "code",
   "execution_count": 74,
   "id": "sixth-exhibit",
   "metadata": {},
   "outputs": [],
   "source": [
    "train_x, train_y, test_x = load_data()"
   ]
  },
  {
   "cell_type": "code",
   "execution_count": 75,
   "id": "joint-sullivan",
   "metadata": {},
   "outputs": [],
   "source": [
    "train_x = train_x.drop(['PassengerId', 'Name', 'Cabin', 'Ticket', 'Sex', 'Embarked'], axis=1)\n",
    "train_x = train_x.dropna()\n",
    "train_y = train_y.iloc[train_x.index]"
   ]
  },
  {
   "cell_type": "code",
   "execution_count": 76,
   "id": "mature-energy",
   "metadata": {},
   "outputs": [
    {
     "name": "stderr",
     "output_type": "stream",
     "text": [
      "[INFO] 2021-02-14 10:47:43,949 >>\t=== NN KERAS MODEL ===\n"
     ]
    }
   ],
   "source": [
    "model = ModelKeras(logging=True)\n",
    "layer1 = Dense(1024, activation='relu', input_shape=(train_x.shape[1],))\n",
    "layer2 = Dense(1024, activation='relu')\n",
    "layer3 = Dense(1024, activation='relu')\n",
    "layer3 = Dense(1024, activation='relu')\n",
    "layer4 = Dense(1, activation='sigmoid')\n",
    "model.add_layers(layer1, layer2, layer3, layer4)\n",
    "model.compile()\n",
    "model.set_fit_params(epochs=10, verbose=1)"
   ]
  },
  {
   "cell_type": "code",
   "execution_count": 77,
   "id": "gorgeous-sending",
   "metadata": {},
   "outputs": [
    {
     "name": "stdout",
     "output_type": "stream",
     "text": [
      "Epoch 1/10\n",
      "17/17 [==============================] - 0s 14ms/step - loss: 2.0682 - accuracy: 0.5944 - val_loss: 0.5722 - val_accuracy: 0.7207\n",
      "Epoch 2/10\n",
      "17/17 [==============================] - 0s 7ms/step - loss: 0.7273 - accuracy: 0.6374 - val_loss: 0.7996 - val_accuracy: 0.6704\n",
      "Epoch 3/10\n",
      "17/17 [==============================] - 0s 7ms/step - loss: 0.7301 - accuracy: 0.6449 - val_loss: 0.6058 - val_accuracy: 0.7263\n",
      "Epoch 4/10\n",
      "17/17 [==============================] - 0s 7ms/step - loss: 0.6407 - accuracy: 0.6710 - val_loss: 0.5717 - val_accuracy: 0.7318\n",
      "Epoch 5/10\n",
      "17/17 [==============================] - 0s 7ms/step - loss: 0.6438 - accuracy: 0.6692 - val_loss: 0.5642 - val_accuracy: 0.7207\n",
      "Epoch 6/10\n",
      "17/17 [==============================] - 0s 7ms/step - loss: 0.6328 - accuracy: 0.6729 - val_loss: 0.5944 - val_accuracy: 0.7263\n",
      "Epoch 7/10\n",
      "17/17 [==============================] - 0s 8ms/step - loss: 0.6285 - accuracy: 0.6542 - val_loss: 0.5965 - val_accuracy: 0.7151\n",
      "Epoch 8/10\n",
      "17/17 [==============================] - 0s 8ms/step - loss: 0.6227 - accuracy: 0.6766 - val_loss: 0.5833 - val_accuracy: 0.7263\n",
      "Epoch 9/10\n",
      "17/17 [==============================] - 0s 8ms/step - loss: 0.6152 - accuracy: 0.6953 - val_loss: 0.5541 - val_accuracy: 0.7263\n",
      "Epoch 10/10\n",
      "17/17 [==============================] - 0s 8ms/step - loss: 0.6188 - accuracy: 0.6822 - val_loss: 0.5605 - val_accuracy: 0.7430\n",
      "Epoch 1/10\n",
      "17/17 [==============================] - 0s 9ms/step - loss: 1.4283 - accuracy: 0.6374 - val_loss: 0.5968 - val_accuracy: 0.7039\n",
      "Epoch 2/10\n",
      "17/17 [==============================] - 0s 7ms/step - loss: 0.6569 - accuracy: 0.6299 - val_loss: 0.6093 - val_accuracy: 0.7039\n",
      "Epoch 3/10\n",
      "17/17 [==============================] - 0s 7ms/step - loss: 0.6261 - accuracy: 0.6617 - val_loss: 0.6152 - val_accuracy: 0.6872\n",
      "Epoch 4/10\n",
      "17/17 [==============================] - 0s 7ms/step - loss: 0.6381 - accuracy: 0.6617 - val_loss: 0.6249 - val_accuracy: 0.6145\n",
      "Epoch 5/10\n",
      "17/17 [==============================] - 0s 7ms/step - loss: 0.6392 - accuracy: 0.6561 - val_loss: 0.5893 - val_accuracy: 0.6927\n",
      "Epoch 6/10\n",
      "17/17 [==============================] - 0s 7ms/step - loss: 0.6165 - accuracy: 0.6935 - val_loss: 0.5960 - val_accuracy: 0.6704\n",
      "Epoch 7/10\n",
      "17/17 [==============================] - 0s 7ms/step - loss: 0.6026 - accuracy: 0.6972 - val_loss: 0.5968 - val_accuracy: 0.6983\n",
      "Epoch 8/10\n",
      "17/17 [==============================] - 0s 7ms/step - loss: 0.6049 - accuracy: 0.6879 - val_loss: 0.5944 - val_accuracy: 0.6760\n",
      "Epoch 9/10\n",
      "17/17 [==============================] - 0s 8ms/step - loss: 0.6076 - accuracy: 0.6953 - val_loss: 0.6155 - val_accuracy: 0.6816\n",
      "Epoch 10/10\n",
      "17/17 [==============================] - 0s 8ms/step - loss: 0.6075 - accuracy: 0.6916 - val_loss: 0.5811 - val_accuracy: 0.7095\n",
      "Epoch 1/10\n",
      "17/17 [==============================] - 0s 10ms/step - loss: 0.9161 - accuracy: 0.6007 - val_loss: 0.8827 - val_accuracy: 0.5449\n",
      "Epoch 2/10\n",
      "17/17 [==============================] - 0s 8ms/step - loss: 0.6928 - accuracy: 0.6549 - val_loss: 0.7455 - val_accuracy: 0.6573\n",
      "Epoch 3/10\n",
      "17/17 [==============================] - 0s 8ms/step - loss: 0.6351 - accuracy: 0.6884 - val_loss: 0.6353 - val_accuracy: 0.6517\n",
      "Epoch 4/10\n",
      "17/17 [==============================] - 0s 8ms/step - loss: 0.6274 - accuracy: 0.6642 - val_loss: 0.6250 - val_accuracy: 0.6798\n",
      "Epoch 5/10\n",
      "17/17 [==============================] - 0s 8ms/step - loss: 0.6270 - accuracy: 0.6828 - val_loss: 0.6270 - val_accuracy: 0.6854\n",
      "Epoch 6/10\n",
      "17/17 [==============================] - 0s 9ms/step - loss: 0.6300 - accuracy: 0.6604 - val_loss: 0.6321 - val_accuracy: 0.5899\n",
      "Epoch 7/10\n",
      "17/17 [==============================] - 0s 8ms/step - loss: 0.6234 - accuracy: 0.6959 - val_loss: 0.6347 - val_accuracy: 0.7303\n",
      "Epoch 8/10\n",
      "17/17 [==============================] - 0s 8ms/step - loss: 0.6256 - accuracy: 0.6884 - val_loss: 0.6144 - val_accuracy: 0.6910\n",
      "Epoch 9/10\n",
      "17/17 [==============================] - 0s 9ms/step - loss: 0.6047 - accuracy: 0.6922 - val_loss: 0.6142 - val_accuracy: 0.6910\n",
      "Epoch 10/10\n",
      "17/17 [==============================] - 0s 9ms/step - loss: 0.6038 - accuracy: 0.6959 - val_loss: 0.6165 - val_accuracy: 0.6517\n",
      "Epoch 1/10\n",
      "17/17 [==============================] - 0s 9ms/step - loss: 1.4480 - accuracy: 0.6493 - val_loss: 0.9313 - val_accuracy: 0.5955\n",
      "Epoch 2/10\n",
      "17/17 [==============================] - 0s 7ms/step - loss: 0.7274 - accuracy: 0.6493 - val_loss: 0.6533 - val_accuracy: 0.6404\n",
      "Epoch 3/10\n",
      "17/17 [==============================] - 0s 7ms/step - loss: 0.6073 - accuracy: 0.6940 - val_loss: 0.6639 - val_accuracy: 0.6404\n",
      "Epoch 4/10\n",
      "17/17 [==============================] - 0s 7ms/step - loss: 0.5997 - accuracy: 0.6940 - val_loss: 0.7087 - val_accuracy: 0.5955\n",
      "Epoch 5/10\n",
      "17/17 [==============================] - 0s 7ms/step - loss: 0.6045 - accuracy: 0.6903 - val_loss: 0.6694 - val_accuracy: 0.6461\n",
      "Epoch 6/10\n",
      "17/17 [==============================] - 0s 8ms/step - loss: 0.5947 - accuracy: 0.7071 - val_loss: 0.6457 - val_accuracy: 0.6573\n",
      "Epoch 7/10\n",
      "17/17 [==============================] - 0s 8ms/step - loss: 0.5935 - accuracy: 0.7090 - val_loss: 0.6464 - val_accuracy: 0.6742\n",
      "Epoch 8/10\n",
      "17/17 [==============================] - 0s 8ms/step - loss: 0.5770 - accuracy: 0.7351 - val_loss: 0.6927 - val_accuracy: 0.6011\n",
      "Epoch 9/10\n",
      "17/17 [==============================] - 0s 7ms/step - loss: 0.5902 - accuracy: 0.7164 - val_loss: 0.6781 - val_accuracy: 0.6742\n",
      "Epoch 10/10\n",
      "17/17 [==============================] - 0s 7ms/step - loss: 0.5778 - accuracy: 0.7369 - val_loss: 0.6570 - val_accuracy: 0.6742\n"
     ]
    },
    {
     "name": "stderr",
     "output_type": "stream",
     "text": [
      "[INFO] 2021-02-14 10:47:51,176 >>\tACCURACY: 0.6946778711484594\n",
      "[INFO] 2021-02-14 10:47:51,176 >>\tLOGLOSS: 0.6036814957027551\n",
      "[INFO] 2021-02-14 10:47:51,177 >>\tdata size: 714\n",
      "[INFO] 2021-02-14 10:47:51,178 >>\tcorrect predictions: 496\n",
      "[INFO] 2021-02-14 10:47:51,179 >>\t\n"
     ]
    }
   ],
   "source": [
    "pred_train = get_pred_result(model, train_x, train_y)\n",
    "get_acc_and_logloss(pred_train, train_y, logging=True)"
   ]
  },
  {
   "cell_type": "code",
   "execution_count": 61,
   "id": "occasional-sugar",
   "metadata": {},
   "outputs": [],
   "source": [
    "age_mean = train_x['Age'].mean()\n",
    "fare_mean = train_x['Fare'].mean()\n",
    "test_x = test_x.drop(['PassengerId', 'Name', 'Cabin', 'Ticket', 'Sex', 'Embarked'], axis=1)\n",
    "test_x.loc[test_x['Age'].isna(), 'Age'] = age_mean\n",
    "test_x.loc[test_x['Fare'].isna(), 'Fare'] = fare_mean\n",
    "preds = model.predict(test_x)\n",
    "preds = [round(pred[0]) for pred in preds]"
   ]
  },
  {
   "cell_type": "code",
   "execution_count": 68,
   "id": "alert-bankruptcy",
   "metadata": {},
   "outputs": [
    {
     "name": "stdin",
     "output_type": "stream",
     "text": [
      "Enter File Suffix: keras_submission_20210214_... 1\n"
     ]
    }
   ],
   "source": [
    "submission = pd.DataFrame({'PassengerId': passenger_id, 'Survived': preds})\n",
    "save_submission(submission)"
   ]
  },
  {
   "cell_type": "markdown",
   "id": "mysterious-folder",
   "metadata": {},
   "source": [
    "#### Age standardized and target encoding"
   ]
  },
  {
   "cell_type": "code",
   "execution_count": 84,
   "id": "metric-youth",
   "metadata": {},
   "outputs": [],
   "source": [
    "train_x, train_y, test_x = load_data()"
   ]
  },
  {
   "cell_type": "code",
   "execution_count": 85,
   "id": "welcome-romania",
   "metadata": {},
   "outputs": [],
   "source": [
    "base_path = '../features/nn/'\n",
    "cols_to_rplc_train = {\n",
    "    'Age': base_path + 'age_train_std_te.feather',\n",
    "    'Fare': base_path + 'fare_train_std_te.feather'\n",
    "}\n",
    "train_x = load_feather(train_x, cols_to_rplc_train)\n",
    "train_x = load_feather_ohe(train_x, base_path + 'train_ohe.feather')\n",
    "train_x = load_feather_ohe(train_x, base_path + 'train_ohe_2_z.feather')"
   ]
  },
  {
   "cell_type": "code",
   "execution_count": 86,
   "id": "developing-federal",
   "metadata": {},
   "outputs": [],
   "source": [
    "train_x = train_x.drop(['PassengerId', 'Name', 'Cabin', 'Ticket', 'Sex', 'Embarked', 'Pclass'], axis=1)\n",
    "train_x = train_x.drop([col for col in train_x.columns if 'Cabin' in col ], axis=1)\n",
    "train_x = train_x.drop([col for col in train_x.columns if 'Ticket' in col ], axis=1)\n",
    "train_x = train_x.drop([col for col in train_x.columns if 'Embarked' in col ], axis=1)"
   ]
  },
  {
   "cell_type": "code",
   "execution_count": 89,
   "id": "specified-blank",
   "metadata": {},
   "outputs": [
    {
     "name": "stderr",
     "output_type": "stream",
     "text": [
      "[INFO] 2021-02-14 10:51:35,786 >>\t=== NN KERAS MODEL ===\n"
     ]
    }
   ],
   "source": [
    "model = ModelKeras(logging=True)\n",
    "layer1 = Dense(1024, activation='relu', input_shape=(train_x.shape[1],))\n",
    "layer2 = Dense(1024, activation='relu')\n",
    "layer3 = Dense(1024, activation='relu')\n",
    "layer3 = Dense(1024, activation='relu')\n",
    "layer4 = Dense(1, activation='sigmoid')\n",
    "model.add_layers(layer1, layer2, layer3, layer4)\n",
    "model.compile()\n",
    "model.set_fit_params(epochs=3, verbose=1)"
   ]
  },
  {
   "cell_type": "code",
   "execution_count": 90,
   "id": "christian-float",
   "metadata": {},
   "outputs": [
    {
     "name": "stdout",
     "output_type": "stream",
     "text": [
      "Epoch 1/3\n",
      "21/21 [==============================] - 0s 13ms/step - loss: 0.4907 - accuracy: 0.7680 - val_loss: 0.4098 - val_accuracy: 0.8161\n",
      "Epoch 2/3\n",
      "21/21 [==============================] - 0s 8ms/step - loss: 0.3986 - accuracy: 0.8278 - val_loss: 0.3841 - val_accuracy: 0.8117\n",
      "Epoch 3/3\n",
      "21/21 [==============================] - 0s 7ms/step - loss: 0.3883 - accuracy: 0.8353 - val_loss: 0.3739 - val_accuracy: 0.8161\n",
      "Epoch 1/3\n",
      "21/21 [==============================] - 0s 9ms/step - loss: 0.4643 - accuracy: 0.8009 - val_loss: 0.5042 - val_accuracy: 0.7758\n",
      "Epoch 2/3\n",
      "21/21 [==============================] - 0s 9ms/step - loss: 0.3830 - accuracy: 0.8338 - val_loss: 0.4623 - val_accuracy: 0.8161\n",
      "Epoch 3/3\n",
      "21/21 [==============================] - 0s 8ms/step - loss: 0.3798 - accuracy: 0.8338 - val_loss: 0.4517 - val_accuracy: 0.7848\n",
      "Epoch 1/3\n",
      "21/21 [==============================] - 0s 9ms/step - loss: 0.5102 - accuracy: 0.7620 - val_loss: 0.3993 - val_accuracy: 0.8386\n",
      "Epoch 2/3\n",
      "21/21 [==============================] - 0s 8ms/step - loss: 0.4253 - accuracy: 0.8099 - val_loss: 0.3558 - val_accuracy: 0.8430\n",
      "Epoch 3/3\n",
      "21/21 [==============================] - 0s 7ms/step - loss: 0.3985 - accuracy: 0.8189 - val_loss: 0.3435 - val_accuracy: 0.8520\n",
      "Epoch 1/3\n",
      "21/21 [==============================] - 0s 8ms/step - loss: 0.5044 - accuracy: 0.7564 - val_loss: 0.4118 - val_accuracy: 0.8378\n",
      "Epoch 2/3\n",
      "21/21 [==============================] - 0s 7ms/step - loss: 0.4018 - accuracy: 0.8236 - val_loss: 0.4013 - val_accuracy: 0.8378\n",
      "Epoch 3/3\n",
      "21/21 [==============================] - 0s 7ms/step - loss: 0.4013 - accuracy: 0.8266 - val_loss: 0.4037 - val_accuracy: 0.8378\n",
      "data size: 891\n",
      "correct predictions: 733\n",
      "accuracy: 0.8226711560\n",
      "logloss: 0.3931954080\n"
     ]
    }
   ],
   "source": [
    "pred_train = get_pred_result(model, train_x, train_y)\n",
    "get_acc_and_logloss(pred_train, train_y, logging=False)"
   ]
  },
  {
   "cell_type": "code",
   "execution_count": 27,
   "id": "advanced-western",
   "metadata": {},
   "outputs": [],
   "source": [
    "model.fit(tr_x=train_x, tr_y=train_y, va_x=train_x, va_y=train_y)"
   ]
  },
  {
   "cell_type": "code",
   "execution_count": 28,
   "id": "moved-cradle",
   "metadata": {},
   "outputs": [],
   "source": [
    "passenger_id = test_x['PassengerId']"
   ]
  },
  {
   "cell_type": "code",
   "execution_count": 29,
   "id": "communist-january",
   "metadata": {},
   "outputs": [],
   "source": [
    "base_path = '../features/nn/'\n",
    "cols_to_rplc_train = {\n",
    "    'Age': base_path + 'age_test_std_te.feather',\n",
    "    'Fare': base_path + 'fare_test_std_te.feather'\n",
    "}\n",
    "test_x = load_feather(test_x, cols_to_rplc_train)\n",
    "test_x = load_feather_ohe(test_x, base_path + 'test_ohe.feather')\n",
    "test_x = load_feather_ohe(test_x, base_path + 'test_ohe_2_z.feather')"
   ]
  },
  {
   "cell_type": "code",
   "execution_count": 30,
   "id": "heard-momentum",
   "metadata": {},
   "outputs": [],
   "source": [
    "test_x = test_x.drop(['PassengerId', 'Name', 'Cabin', 'Ticket', 'Sex', 'Embarked', 'Pclass'], axis=1)\n",
    "test_x = test_x.drop([col for col in test_x.columns if 'Cabin' in col], axis=1)\n",
    "test_x = test_x.drop([col for col in test_x.columns if 'Ticket' in col], axis=1)"
   ]
  },
  {
   "cell_type": "code",
   "execution_count": 36,
   "id": "local-religion",
   "metadata": {},
   "outputs": [],
   "source": [
    "prediction = model.model.predict(test_x).ravel()\n",
    "# prediction = [int(pred) for pred in prediction]"
   ]
  },
  {
   "cell_type": "code",
   "execution_count": 32,
   "id": "sitting-bryan",
   "metadata": {},
   "outputs": [],
   "source": [
    "submission = pd.DataFrame({'PassengerId': passenger_id, 'Survived': prediction})"
   ]
  },
  {
   "cell_type": "code",
   "execution_count": 33,
   "id": "descending-brother",
   "metadata": {},
   "outputs": [
    {
     "name": "stdin",
     "output_type": "stream",
     "text": [
      "Enter File Number 0\n"
     ]
    }
   ],
   "source": [
    "file_number = input('Enter File Number')\n",
    "submission_file_path = 'submissions/keras_submission_{}_{}.csv'.format(today, file_number)\n",
    "if file_number != 0:\n",
    "    submission.to_csv(submission_file_path, index=False)"
   ]
  },
  {
   "cell_type": "markdown",
   "id": "equivalent-massachusetts",
   "metadata": {},
   "source": [
    "#### Age standardized and mean"
   ]
  },
  {
   "cell_type": "code",
   "execution_count": 23,
   "id": "medical-genius",
   "metadata": {},
   "outputs": [],
   "source": [
    "train_x, train_y, _ = load_data()"
   ]
  },
  {
   "cell_type": "code",
   "execution_count": 24,
   "id": "designed-bottle",
   "metadata": {},
   "outputs": [],
   "source": [
    "base_path = '../features/nn/'\n",
    "cols_to_rplc_train = {\n",
    "    'Age': base_path + 'age_train_std_mean.feather',\n",
    "    'Fare': base_path + 'fare_train_std_mean.feather'\n",
    "}\n",
    "train_x = load_feather(train_x, cols_to_rplc_train)"
   ]
  },
  {
   "cell_type": "code",
   "execution_count": 25,
   "id": "indie-theta",
   "metadata": {},
   "outputs": [],
   "source": [
    "train_x = train_x.drop(['PassengerId', 'Name', 'Cabin', 'Ticket', 'Sex', 'Embarked', 'Pclass'], axis=1)\n",
    "train_x = train_x.dropna()\n",
    "train_y = train_y.iloc[train_x.index]"
   ]
  },
  {
   "cell_type": "code",
   "execution_count": 26,
   "id": "interracial-exhibit",
   "metadata": {},
   "outputs": [
    {
     "name": "stderr",
     "output_type": "stream",
     "text": [
      "[INFO] 2021-02-13 19:12:13,303 >>\t=== NN KERAS MODEL ===\n"
     ]
    }
   ],
   "source": [
    "model = ModelKeras(logging=True)\n",
    "layer1 = Dense(1024, activation='relu', input_shape=(train_x.shape[1],))\n",
    "layer2 = Dense(1024, activation='relu')\n",
    "layer3 = Dense(1024, activation='relu')\n",
    "layer3 = Dense(1024, activation='relu')\n",
    "layer4 = Dense(1, activation='sigmoid')\n",
    "model.add_layers(layer1, layer2, layer3, layer4)\n",
    "model.compile()\n",
    "model.set_fit_params(epochs=10, verbose=0)"
   ]
  },
  {
   "cell_type": "code",
   "execution_count": 27,
   "id": "altered-disposal",
   "metadata": {},
   "outputs": [
    {
     "name": "stdout",
     "output_type": "stream",
     "text": [
      "data size: 891\n",
      "correct predictions: 634\n",
      "accuracy: 0.7115600449\n",
      "logloss: 0.6090867461\n"
     ]
    }
   ],
   "source": [
    "pred_train = get_pred_result(model, train_x, train_y)\n",
    "get_acc_and_logloss(pred_train, train_y, logging=False)"
   ]
  },
  {
   "cell_type": "code",
   "execution_count": null,
   "id": "approved-brain",
   "metadata": {},
   "outputs": [],
   "source": []
  }
 ],
 "metadata": {
  "kernelspec": {
   "display_name": "Python 3",
   "language": "python",
   "name": "python3"
  },
  "language_info": {
   "codemirror_mode": {
    "name": "ipython",
    "version": 3
   },
   "file_extension": ".py",
   "mimetype": "text/x-python",
   "name": "python",
   "nbconvert_exporter": "python",
   "pygments_lexer": "ipython3",
   "version": "3.7.9"
  }
 },
 "nbformat": 4,
 "nbformat_minor": 5
}
