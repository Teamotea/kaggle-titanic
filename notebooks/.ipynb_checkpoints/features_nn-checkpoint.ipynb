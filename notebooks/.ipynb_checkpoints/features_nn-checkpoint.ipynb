{
 "cells": [
  {
   "cell_type": "markdown",
   "id": "chicken-second",
   "metadata": {},
   "source": [
    "## Settings"
   ]
  },
  {
   "cell_type": "code",
   "execution_count": 2,
   "id": "serial-covering",
   "metadata": {},
   "outputs": [],
   "source": [
    "import sys\n",
    "sys.path.append('..')"
   ]
  },
  {
   "cell_type": "code",
   "execution_count": 35,
   "id": "objective-infection",
   "metadata": {},
   "outputs": [],
   "source": [
    "import os\n",
    "import random\n",
    "from scipy import stats\n",
    "import numpy as np\n",
    "import pandas as pd\n",
    "import matplotlib.pyplot as plt\n",
    "from inputs.funcs import load_data\n",
    "from sklearn.preprocessing import StandardScaler\n",
    "from sklearn.preprocessing import OneHotEncoder"
   ]
  },
  {
   "cell_type": "code",
   "execution_count": 4,
   "id": "offshore-allocation",
   "metadata": {},
   "outputs": [
    {
     "data": {
      "text/plain": [
       "['test.csv',\n",
       " '__init__.py',\n",
       " '__pycache__',\n",
       " 'funcs.py',\n",
       " 'train.csv',\n",
       " 'gender_submission.csv']"
      ]
     },
     "execution_count": 4,
     "metadata": {},
     "output_type": "execute_result"
    }
   ],
   "source": [
    "os.listdir('../inputs/')"
   ]
  },
  {
   "cell_type": "code",
   "execution_count": 5,
   "id": "universal-workplace",
   "metadata": {},
   "outputs": [],
   "source": [
    "train_x, train_y, test_x = load_data()"
   ]
  },
  {
   "cell_type": "code",
   "execution_count": 6,
   "id": "chinese-scope",
   "metadata": {},
   "outputs": [
    {
     "name": "stdout",
     "output_type": "stream",
     "text": [
      "train_x:  ['PassengerId' 'Pclass' 'Name' 'Sex' 'Age' 'SibSp' 'Parch' 'Ticket' 'Fare'\n",
      " 'Cabin' 'Embarked']\n",
      "train_y:  ['PassengerId' 'Pclass' 'Name' 'Sex' 'Age' 'SibSp' 'Parch' 'Ticket' 'Fare'\n",
      " 'Cabin' 'Embarked']\n"
     ]
    }
   ],
   "source": [
    "print('train_x: ', train_x.columns.values)\n",
    "print('train_y: ', test_x.columns.values)"
   ]
  },
  {
   "cell_type": "code",
   "execution_count": 7,
   "id": "theoretical-algorithm",
   "metadata": {},
   "outputs": [
    {
     "data": {
      "text/html": [
       "<div>\n",
       "<style scoped>\n",
       "    .dataframe tbody tr th:only-of-type {\n",
       "        vertical-align: middle;\n",
       "    }\n",
       "\n",
       "    .dataframe tbody tr th {\n",
       "        vertical-align: top;\n",
       "    }\n",
       "\n",
       "    .dataframe thead th {\n",
       "        text-align: right;\n",
       "    }\n",
       "</style>\n",
       "<table border=\"1\" class=\"dataframe\">\n",
       "  <thead>\n",
       "    <tr style=\"text-align: right;\">\n",
       "      <th></th>\n",
       "      <th>PassengerId</th>\n",
       "      <th>Pclass</th>\n",
       "      <th>Name</th>\n",
       "      <th>Sex</th>\n",
       "      <th>Age</th>\n",
       "      <th>SibSp</th>\n",
       "      <th>Parch</th>\n",
       "      <th>Ticket</th>\n",
       "      <th>Fare</th>\n",
       "      <th>Cabin</th>\n",
       "      <th>Embarked</th>\n",
       "    </tr>\n",
       "  </thead>\n",
       "  <tbody>\n",
       "    <tr>\n",
       "      <th>0</th>\n",
       "      <td>1</td>\n",
       "      <td>3</td>\n",
       "      <td>Braund, Mr. Owen Harris</td>\n",
       "      <td>male</td>\n",
       "      <td>22.0</td>\n",
       "      <td>1</td>\n",
       "      <td>0</td>\n",
       "      <td>A/5 21171</td>\n",
       "      <td>7.2500</td>\n",
       "      <td>NaN</td>\n",
       "      <td>S</td>\n",
       "    </tr>\n",
       "    <tr>\n",
       "      <th>1</th>\n",
       "      <td>2</td>\n",
       "      <td>1</td>\n",
       "      <td>Cumings, Mrs. John Bradley (Florence Briggs Th...</td>\n",
       "      <td>female</td>\n",
       "      <td>38.0</td>\n",
       "      <td>1</td>\n",
       "      <td>0</td>\n",
       "      <td>PC 17599</td>\n",
       "      <td>71.2833</td>\n",
       "      <td>C85</td>\n",
       "      <td>C</td>\n",
       "    </tr>\n",
       "    <tr>\n",
       "      <th>2</th>\n",
       "      <td>3</td>\n",
       "      <td>3</td>\n",
       "      <td>Heikkinen, Miss. Laina</td>\n",
       "      <td>female</td>\n",
       "      <td>26.0</td>\n",
       "      <td>0</td>\n",
       "      <td>0</td>\n",
       "      <td>STON/O2. 3101282</td>\n",
       "      <td>7.9250</td>\n",
       "      <td>NaN</td>\n",
       "      <td>S</td>\n",
       "    </tr>\n",
       "  </tbody>\n",
       "</table>\n",
       "</div>"
      ],
      "text/plain": [
       "   PassengerId  Pclass                                               Name  \\\n",
       "0            1       3                            Braund, Mr. Owen Harris   \n",
       "1            2       1  Cumings, Mrs. John Bradley (Florence Briggs Th...   \n",
       "2            3       3                             Heikkinen, Miss. Laina   \n",
       "\n",
       "      Sex   Age  SibSp  Parch            Ticket     Fare Cabin Embarked  \n",
       "0    male  22.0      1      0         A/5 21171   7.2500   NaN        S  \n",
       "1  female  38.0      1      0          PC 17599  71.2833   C85        C  \n",
       "2  female  26.0      0      0  STON/O2. 3101282   7.9250   NaN        S  "
      ]
     },
     "execution_count": 7,
     "metadata": {},
     "output_type": "execute_result"
    }
   ],
   "source": [
    "train_x.head(3)"
   ]
  },
  {
   "cell_type": "code",
   "execution_count": 8,
   "id": "electrical-tourist",
   "metadata": {},
   "outputs": [
    {
     "name": "stdout",
     "output_type": "stream",
     "text": [
      "Col to drop:\n",
      "['PassengeId']\n"
     ]
    }
   ],
   "source": [
    "print('Col to drop:')\n",
    "print(['PassengeId'])"
   ]
  },
  {
   "cell_type": "code",
   "execution_count": 33,
   "id": "armed-immunology",
   "metadata": {},
   "outputs": [
    {
     "name": "stdout",
     "output_type": "stream",
     "text": [
      "Cols to normalize:\n",
      "['Age', 'Fare']\n"
     ]
    }
   ],
   "source": [
    "print('Cols to normalize:')\n",
    "print(['Age', 'Fare'])"
   ]
  },
  {
   "cell_type": "code",
   "execution_count": 34,
   "id": "boxed-tomorrow",
   "metadata": {},
   "outputs": [
    {
     "name": "stdout",
     "output_type": "stream",
     "text": [
      "Cols to one hot encode:\n",
      "['PClass', 'Name', 'Sex', 'Age', 'Ticket', 'Fare', 'Cabin', 'Embarked']\n"
     ]
    }
   ],
   "source": [
    "print('Cols to one hot encode:')\n",
    "print(['PClass'] + train_x.dtypes[~train_x.dtypes.isin([int, float])].index.to_list())"
   ]
  },
  {
   "cell_type": "markdown",
   "id": "recorded-hunter",
   "metadata": {},
   "source": [
    "## Cols to nomalize"
   ]
  },
  {
   "cell_type": "code",
   "execution_count": 9,
   "id": "blessed-accountability",
   "metadata": {},
   "outputs": [
    {
     "name": "stdout",
     "output_type": "stream",
     "text": [
      "Cols to normalize:\n",
      "['Age', 'Fare']\n"
     ]
    }
   ],
   "source": [
    "print('Cols to normalize:')\n",
    "print(['Age', 'Fare'])"
   ]
  },
  {
   "cell_type": "markdown",
   "id": "billion-payment",
   "metadata": {},
   "source": [
    "### Age "
   ]
  },
  {
   "cell_type": "code",
   "execution_count": 11,
   "id": "systematic-absence",
   "metadata": {},
   "outputs": [],
   "source": [
    "train_x, train_y, test_x = load_data()"
   ]
  },
  {
   "cell_type": "code",
   "execution_count": 12,
   "id": "center-boutique",
   "metadata": {},
   "outputs": [
    {
     "name": "stdout",
     "output_type": "stream",
     "text": [
      "Col has na in train_x:  True\n",
      "Col has na in test_x:  True\n"
     ]
    }
   ],
   "source": [
    "print('Col has na in train_x: ', train_x['Age'].isna().any())\n",
    "print('Col has na in test_x: ', test_x['Age'].isna().any())"
   ]
  },
  {
   "cell_type": "markdown",
   "id": "urban-highland",
   "metadata": {},
   "source": [
    "#### Fill na by target encoding"
   ]
  },
  {
   "cell_type": "code",
   "execution_count": 13,
   "id": "deadly-typing",
   "metadata": {},
   "outputs": [],
   "source": [
    "data_tmp = pd.DataFrame({'Age': train_x['Age'], 'Survived': train_y})\n",
    "target_mean = data_tmp.groupby('Survived').mean().to_dict()\n",
    "index_nan_0 = train_x['Age'].isna() & train_y == 0\n",
    "index_nan_1 = train_x['Age'].isna() & train_y == 1\n",
    "train_x.loc[index_nan_0, 'Age'] = target_mean['Age'][0]\n",
    "train_x.loc[index_nan_1, 'Age'] = target_mean['Age'][1]"
   ]
  },
  {
   "cell_type": "code",
   "execution_count": 14,
   "id": "indonesian-action",
   "metadata": {},
   "outputs": [],
   "source": [
    "random.seed(0)\n",
    "index_nan = test_x['Age'].isna()\n",
    "test_x['Age'] = test_x['Age'].apply(lambda x:\n",
    "                                         random.choice([target_mean['Age'][0], target_mean['Age'][1]]) if np.isnan(x) else x\n",
    "                                    )"
   ]
  },
  {
   "cell_type": "code",
   "execution_count": 15,
   "id": "usual-newcastle",
   "metadata": {},
   "outputs": [],
   "source": [
    "scaler = StandardScaler()\n",
    "train_x['Age'] = scaler.fit_transform(train_x['Age'].values.reshape(len(train_x), -1)).ravel()\n",
    "test_x['Age'] = scaler.transform(test_x['Age'].values.reshape(len(test_x), -1)).ravel()"
   ]
  },
  {
   "cell_type": "code",
   "execution_count": 16,
   "id": "charming-thing",
   "metadata": {},
   "outputs": [],
   "source": [
    "train_x[['PassengerId', 'Age']].to_feather('../features/nn/age_train_std_te.feather')\n",
    "test_x[['PassengerId', 'Age']].to_feather('../features/nn/age_test_std_te.feather')"
   ]
  },
  {
   "cell_type": "markdown",
   "id": "signed-reality",
   "metadata": {},
   "source": [
    "#### Fill na with average"
   ]
  },
  {
   "cell_type": "code",
   "execution_count": 17,
   "id": "necessary-booth",
   "metadata": {},
   "outputs": [],
   "source": [
    "train_x, train_y, test_x = load_data()"
   ]
  },
  {
   "cell_type": "code",
   "execution_count": 18,
   "id": "mechanical-algorithm",
   "metadata": {},
   "outputs": [],
   "source": [
    "mean = train_x['Age'].mean()\n",
    "index_nan = train_x['Age'].isna()\n",
    "train_x.loc[index_nan, 'Age'] = mean"
   ]
  },
  {
   "cell_type": "code",
   "execution_count": 19,
   "id": "assigned-gathering",
   "metadata": {},
   "outputs": [],
   "source": [
    "index_nan = test_x['Age'].isna()\n",
    "test_x.loc[index_nan, 'Age'] = mean"
   ]
  },
  {
   "cell_type": "code",
   "execution_count": 20,
   "id": "indonesian-insight",
   "metadata": {},
   "outputs": [],
   "source": [
    "scaler = StandardScaler()\n",
    "train_x['Age'] = scaler.fit_transform(train_x['Age'].values.reshape(len(train_x), -1)).ravel()\n",
    "test_x['Age'] = scaler.transform(test_x['Age'].values.reshape(len(test_x), -1)).ravel()"
   ]
  },
  {
   "cell_type": "code",
   "execution_count": 21,
   "id": "challenging-pregnancy",
   "metadata": {},
   "outputs": [],
   "source": [
    "train_x[['PassengerId', 'Age']].to_feather('../features/nn/age_train_std_mean.feather')\n",
    "test_x[['PassengerId', 'Age']].to_feather('../features/nn/age_test_std_mean.feather')"
   ]
  },
  {
   "cell_type": "markdown",
   "id": "adapted-marshall",
   "metadata": {},
   "source": [
    "### Fare"
   ]
  },
  {
   "cell_type": "code",
   "execution_count": 22,
   "id": "explicit-cache",
   "metadata": {},
   "outputs": [],
   "source": [
    "train_x, train_y, test_x = load_data()"
   ]
  },
  {
   "cell_type": "code",
   "execution_count": 23,
   "id": "complete-virgin",
   "metadata": {},
   "outputs": [
    {
     "name": "stdout",
     "output_type": "stream",
     "text": [
      "Col has na in train_x:  True\n",
      "Col has na in test_x:  True\n"
     ]
    }
   ],
   "source": [
    "print('Col has na in train_x: ', train_x['Age'].isna().any())\n",
    "print('Col has na in test_x: ', test_x['Age'].isna().any())"
   ]
  },
  {
   "cell_type": "markdown",
   "id": "finished-increase",
   "metadata": {},
   "source": [
    "#### Fill na by target encoding"
   ]
  },
  {
   "cell_type": "code",
   "execution_count": 24,
   "id": "spoken-edwards",
   "metadata": {},
   "outputs": [],
   "source": [
    "data_tmp = pd.DataFrame({'Fare': train_x['Fare'], 'Survived': train_y})\n",
    "target_mean = data_tmp.groupby('Survived').mean().to_dict()\n",
    "index_nan_0 = train_x['Fare'].isna() & train_y == 0\n",
    "index_nan_1 = train_x['Fare'].isna() & train_y == 1\n",
    "train_x.loc[index_nan_0, 'Fare'] = target_mean['Fare'][0]\n",
    "train_x.loc[index_nan_1, 'Fare'] = target_mean['Fare'][1]"
   ]
  },
  {
   "cell_type": "code",
   "execution_count": 25,
   "id": "every-timothy",
   "metadata": {},
   "outputs": [],
   "source": [
    "random.seed(0)\n",
    "index_nan = test_x['Fare'].isna()\n",
    "test_x['Fare'] = test_x['Fare'].apply(lambda x:\n",
    "                                         random.choice([target_mean['Fare'][0], target_mean['Fare'][1]]) if np.isnan(x) else x\n",
    "                                     )"
   ]
  },
  {
   "cell_type": "code",
   "execution_count": 26,
   "id": "parliamentary-folder",
   "metadata": {},
   "outputs": [],
   "source": [
    "scaler = StandardScaler()\n",
    "train_x['Fare'] = scaler.fit_transform(train_x['Fare'].values.reshape(len(train_x), -1)).ravel()\n",
    "test_x['Fare'] = scaler.transform(test_x['Fare'].values.reshape(len(test_x), -1)).ravel()"
   ]
  },
  {
   "cell_type": "code",
   "execution_count": 27,
   "id": "large-registrar",
   "metadata": {},
   "outputs": [],
   "source": [
    "train_x[['PassengerId', 'Fare']].to_feather('../features/nn/fare_train_std_te.feather')\n",
    "test_x[['PassengerId', 'Fare']].to_feather('../features/nn/fare_test_std_te.feather')"
   ]
  },
  {
   "cell_type": "markdown",
   "id": "quantitative-prior",
   "metadata": {},
   "source": [
    "#### Fill na with average"
   ]
  },
  {
   "cell_type": "code",
   "execution_count": 28,
   "id": "understood-hudson",
   "metadata": {},
   "outputs": [],
   "source": [
    "train_x, train_y, test_x = load_data()"
   ]
  },
  {
   "cell_type": "code",
   "execution_count": 29,
   "id": "resident-metropolitan",
   "metadata": {},
   "outputs": [],
   "source": [
    "mean = train_x['Fare'].mean()\n",
    "index_nan = train_x['Fare'].isna()\n",
    "train_x.loc[index_nan, 'Fare'] = mean"
   ]
  },
  {
   "cell_type": "code",
   "execution_count": 30,
   "id": "tired-ethiopia",
   "metadata": {},
   "outputs": [],
   "source": [
    "index_nan = test_x['Fare'].isna()\n",
    "test_x.loc[index_nan, 'Fare'] = mean"
   ]
  },
  {
   "cell_type": "code",
   "execution_count": 31,
   "id": "better-window",
   "metadata": {},
   "outputs": [],
   "source": [
    "scaler = StandardScaler()\n",
    "train_x['Fare'] = scaler.fit_transform(train_x['Fare'].values.reshape(len(train_x), -1)).ravel()\n",
    "test_x['Fare'] = scaler.transform(test_x['Fare'].values.reshape(len(test_x), -1)).ravel()"
   ]
  },
  {
   "cell_type": "code",
   "execution_count": 32,
   "id": "facial-saturn",
   "metadata": {},
   "outputs": [],
   "source": [
    "train_x[['PassengerId', 'Fare']].to_feather('../features/nn/fare_train_std_mean.feather')\n",
    "test_x[['PassengerId', 'Fare']].to_feather('../features/nn/fare_test_std_mean.feather')"
   ]
  },
  {
   "cell_type": "markdown",
   "id": "spare-reply",
   "metadata": {},
   "source": [
    "## Cols to one hot encode"
   ]
  },
  {
   "cell_type": "code",
   "execution_count": 119,
   "id": "moving-nashville",
   "metadata": {},
   "outputs": [
    {
     "name": "stdout",
     "output_type": "stream",
     "text": [
      "Cols to one hot encode:\n",
      "['Pclass', 'Name', 'Sex', 'Ticket', 'Cabin', 'Embarked']\n"
     ]
    }
   ],
   "source": [
    "train_x, train_y, test_x = load_data()\n",
    "cat_cols = ['Pclass'] + train_x.dtypes[\n",
    "                ~train_x.dtypes.isin([np.dtype('int64'), np.dtype('float64')])\n",
    "            ].index.to_list()\n",
    "print('Cols to one hot encode:')\n",
    "print(cat_cols)"
   ]
  },
  {
   "cell_type": "code",
   "execution_count": 120,
   "id": "short-coach",
   "metadata": {},
   "outputs": [
    {
     "data": {
      "text/plain": [
       "Pclass      False\n",
       "Name        False\n",
       "Sex         False\n",
       "Ticket      False\n",
       "Cabin        True\n",
       "Embarked     True\n",
       "dtype: bool"
      ]
     },
     "execution_count": 120,
     "metadata": {},
     "output_type": "execute_result"
    }
   ],
   "source": [
    "train_x[cat_cols].isna().any()"
   ]
  },
  {
   "cell_type": "markdown",
   "id": "expanded-yemen",
   "metadata": {},
   "source": [
    "### Pclass, Sex, Ticket"
   ]
  },
  {
   "cell_type": "code",
   "execution_count": 140,
   "id": "bearing-voltage",
   "metadata": {},
   "outputs": [],
   "source": [
    "train_x, train_y, test_x = load_data()"
   ]
  },
  {
   "cell_type": "code",
   "execution_count": 141,
   "id": "miniature-compromise",
   "metadata": {},
   "outputs": [],
   "source": [
    "cols_to_ohe = ['Pclass', 'Sex', 'Ticket']\n",
    "all_x = pd.concat([train_x, test_x])\n",
    "all_x = all_x[['PassengerId'] + cols_to_ohe]\n",
    "all_x = pd.get_dummies(all_x, columns=cols_to_ohe)"
   ]
  },
  {
   "cell_type": "code",
   "execution_count": 142,
   "id": "nonprofit-small",
   "metadata": {},
   "outputs": [],
   "source": [
    "is_in_train = all_x['PassengerId'].isin(train_x['PassengerId'])\n",
    "is_in_test = all_x['PassengerId'].isin(test_x['PassengerId'])"
   ]
  },
  {
   "cell_type": "code",
   "execution_count": 143,
   "id": "respective-weight",
   "metadata": {},
   "outputs": [],
   "source": [
    "all_x[is_in_train].to_feather('../features/nn/train_ohe.feather')\n",
    "all_x[is_in_test].to_feather('../features/nn/test_ohe.feather')"
   ]
  },
  {
   "cell_type": "markdown",
   "id": "handed-preview",
   "metadata": {},
   "source": [
    "### Cabin, Embarked"
   ]
  },
  {
   "cell_type": "code",
   "execution_count": 165,
   "id": "alternate-investigation",
   "metadata": {},
   "outputs": [],
   "source": [
    "train_x, train_y, test_x = load_data()"
   ]
  },
  {
   "cell_type": "code",
   "execution_count": 166,
   "id": "danish-hypothesis",
   "metadata": {},
   "outputs": [],
   "source": [
    "cols_to_ohe = ['Cabin', 'Embarked']\n",
    "all_x = pd.concat([train_x, test_x])\n",
    "all_x = all_x[['PassengerId'] + cols_to_ohe]"
   ]
  },
  {
   "cell_type": "code",
   "execution_count": 167,
   "id": "periodic-hollywood",
   "metadata": {},
   "outputs": [],
   "source": [
    "all_x['Cabin'] = all_x['Cabin'].apply(\n",
    "    lambda x: 'Z' if type(x) == 'float' and np.isnan(x) else x\n",
    ")\n",
    "all_x['Embarked'] = all_x['Embarked'].apply(\n",
    "    lambda x: 'Z' if type(x) == 'float' and np.isnan(x) else x\n",
    ")"
   ]
  },
  {
   "cell_type": "code",
   "execution_count": 168,
   "id": "regulated-arthur",
   "metadata": {},
   "outputs": [],
   "source": [
    "all_x = pd.get_dummies(all_x, columns=cols_to_ohe)"
   ]
  },
  {
   "cell_type": "code",
   "execution_count": 169,
   "id": "signal-tribute",
   "metadata": {},
   "outputs": [],
   "source": [
    "is_in_train = all_x['PassengerId'].isin(train_x['PassengerId'])\n",
    "is_in_test = all_x['PassengerId'].isin(test_x['PassengerId'])"
   ]
  },
  {
   "cell_type": "code",
   "execution_count": 170,
   "id": "color-animation",
   "metadata": {},
   "outputs": [],
   "source": [
    "all_x[is_in_train].to_feather('../features/nn/train_ohe_2_z.feather')\n",
    "all_x[is_in_test].to_feather('../features/nn/test_ohe_2_z.feather')"
   ]
  },
  {
   "cell_type": "code",
   "execution_count": null,
   "id": "south-little",
   "metadata": {},
   "outputs": [],
   "source": []
  }
 ],
 "metadata": {
  "kernelspec": {
   "display_name": "Python 3",
   "language": "python",
   "name": "python3"
  },
  "language_info": {
   "codemirror_mode": {
    "name": "ipython",
    "version": 3
   },
   "file_extension": ".py",
   "mimetype": "text/x-python",
   "name": "python",
   "nbconvert_exporter": "python",
   "pygments_lexer": "ipython3",
   "version": "3.7.9"
  }
 },
 "nbformat": 4,
 "nbformat_minor": 5
}
