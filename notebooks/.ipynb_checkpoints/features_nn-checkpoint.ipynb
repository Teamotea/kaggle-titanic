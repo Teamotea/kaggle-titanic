{
 "cells": [
  {
   "cell_type": "markdown",
   "id": "unnecessary-ridge",
   "metadata": {},
   "source": [
    "## Settings"
   ]
  },
  {
   "cell_type": "code",
   "execution_count": 1,
   "id": "specialized-complaint",
   "metadata": {},
   "outputs": [],
   "source": [
    "import sys\n",
    "sys.path.append('..')"
   ]
  },
  {
   "cell_type": "code",
   "execution_count": 2,
   "id": "intermediate-warrior",
   "metadata": {},
   "outputs": [],
   "source": [
    "import os\n",
    "import random\n",
    "from scipy import stats\n",
    "import numpy as np\n",
    "import pandas as pd\n",
    "from sklearn.preprocessing import StandardScaler\n",
    "import matplotlib.pyplot as plt\n",
    "from inputs.funcs import load_data"
   ]
  },
  {
   "cell_type": "code",
   "execution_count": 3,
   "id": "developing-consensus",
   "metadata": {},
   "outputs": [
    {
     "data": {
      "text/plain": [
       "['test.csv',\n",
       " '__init__.py',\n",
       " '__pycache__',\n",
       " 'funcs.py',\n",
       " 'train.csv',\n",
       " 'gender_submission.csv']"
      ]
     },
     "execution_count": 3,
     "metadata": {},
     "output_type": "execute_result"
    }
   ],
   "source": [
    "os.listdir('../inputs/')"
   ]
  },
  {
   "cell_type": "code",
   "execution_count": 4,
   "id": "assumed-arabic",
   "metadata": {},
   "outputs": [],
   "source": [
    "train_x, train_y, test_x = load_data()"
   ]
  },
  {
   "cell_type": "code",
   "execution_count": 5,
   "id": "dominant-behalf",
   "metadata": {},
   "outputs": [
    {
     "name": "stdout",
     "output_type": "stream",
     "text": [
      "train_x:  ['PassengerId' 'Pclass' 'Name' 'Sex' 'Age' 'SibSp' 'Parch' 'Ticket' 'Fare'\n",
      " 'Cabin' 'Embarked']\n",
      "train_y:  ['PassengerId' 'Pclass' 'Name' 'Sex' 'Age' 'SibSp' 'Parch' 'Ticket' 'Fare'\n",
      " 'Cabin' 'Embarked']\n"
     ]
    }
   ],
   "source": [
    "print('train_x: ', train_x.columns.values)\n",
    "print('train_y: ', test_x.columns.values)"
   ]
  },
  {
   "cell_type": "code",
   "execution_count": 6,
   "id": "restricted-stone",
   "metadata": {},
   "outputs": [
    {
     "data": {
      "text/html": [
       "<div>\n",
       "<style scoped>\n",
       "    .dataframe tbody tr th:only-of-type {\n",
       "        vertical-align: middle;\n",
       "    }\n",
       "\n",
       "    .dataframe tbody tr th {\n",
       "        vertical-align: top;\n",
       "    }\n",
       "\n",
       "    .dataframe thead th {\n",
       "        text-align: right;\n",
       "    }\n",
       "</style>\n",
       "<table border=\"1\" class=\"dataframe\">\n",
       "  <thead>\n",
       "    <tr style=\"text-align: right;\">\n",
       "      <th></th>\n",
       "      <th>PassengerId</th>\n",
       "      <th>Pclass</th>\n",
       "      <th>Name</th>\n",
       "      <th>Sex</th>\n",
       "      <th>Age</th>\n",
       "      <th>SibSp</th>\n",
       "      <th>Parch</th>\n",
       "      <th>Ticket</th>\n",
       "      <th>Fare</th>\n",
       "      <th>Cabin</th>\n",
       "      <th>Embarked</th>\n",
       "    </tr>\n",
       "  </thead>\n",
       "  <tbody>\n",
       "    <tr>\n",
       "      <th>0</th>\n",
       "      <td>1</td>\n",
       "      <td>3</td>\n",
       "      <td>Braund, Mr. Owen Harris</td>\n",
       "      <td>male</td>\n",
       "      <td>22.0</td>\n",
       "      <td>1</td>\n",
       "      <td>0</td>\n",
       "      <td>A/5 21171</td>\n",
       "      <td>7.2500</td>\n",
       "      <td>NaN</td>\n",
       "      <td>S</td>\n",
       "    </tr>\n",
       "    <tr>\n",
       "      <th>1</th>\n",
       "      <td>2</td>\n",
       "      <td>1</td>\n",
       "      <td>Cumings, Mrs. John Bradley (Florence Briggs Th...</td>\n",
       "      <td>female</td>\n",
       "      <td>38.0</td>\n",
       "      <td>1</td>\n",
       "      <td>0</td>\n",
       "      <td>PC 17599</td>\n",
       "      <td>71.2833</td>\n",
       "      <td>C85</td>\n",
       "      <td>C</td>\n",
       "    </tr>\n",
       "    <tr>\n",
       "      <th>2</th>\n",
       "      <td>3</td>\n",
       "      <td>3</td>\n",
       "      <td>Heikkinen, Miss. Laina</td>\n",
       "      <td>female</td>\n",
       "      <td>26.0</td>\n",
       "      <td>0</td>\n",
       "      <td>0</td>\n",
       "      <td>STON/O2. 3101282</td>\n",
       "      <td>7.9250</td>\n",
       "      <td>NaN</td>\n",
       "      <td>S</td>\n",
       "    </tr>\n",
       "  </tbody>\n",
       "</table>\n",
       "</div>"
      ],
      "text/plain": [
       "   PassengerId  Pclass                                               Name  \\\n",
       "0            1       3                            Braund, Mr. Owen Harris   \n",
       "1            2       1  Cumings, Mrs. John Bradley (Florence Briggs Th...   \n",
       "2            3       3                             Heikkinen, Miss. Laina   \n",
       "\n",
       "      Sex   Age  SibSp  Parch            Ticket     Fare Cabin Embarked  \n",
       "0    male  22.0      1      0         A/5 21171   7.2500   NaN        S  \n",
       "1  female  38.0      1      0          PC 17599  71.2833   C85        C  \n",
       "2  female  26.0      0      0  STON/O2. 3101282   7.9250   NaN        S  "
      ]
     },
     "execution_count": 6,
     "metadata": {},
     "output_type": "execute_result"
    }
   ],
   "source": [
    "train_x.head(3)"
   ]
  },
  {
   "cell_type": "code",
   "execution_count": 7,
   "id": "specific-bride",
   "metadata": {},
   "outputs": [
    {
     "name": "stdout",
     "output_type": "stream",
     "text": [
      "Col to drop:\n",
      "['PassengeId']\n"
     ]
    }
   ],
   "source": [
    "print('Col to drop:')\n",
    "print(['PassengeId'])"
   ]
  },
  {
   "cell_type": "code",
   "execution_count": 8,
   "id": "blond-detector",
   "metadata": {},
   "outputs": [
    {
     "name": "stdout",
     "output_type": "stream",
     "text": [
      "Cols to normalize:\n",
      "['Age', 'Fare']\n"
     ]
    }
   ],
   "source": [
    "print('Cols to normalize:')\n",
    "print(['Age', 'Fare'])"
   ]
  },
  {
   "cell_type": "code",
   "execution_count": 9,
   "id": "unique-camel",
   "metadata": {},
   "outputs": [
    {
     "name": "stdout",
     "output_type": "stream",
     "text": [
      "Cols to one hot encode:\n",
      "['PClass', 'PassengerId', 'Pclass', 'Name', 'Sex', 'Age', 'SibSp', 'Parch', 'Ticket', 'Fare', 'Cabin', 'Embarked']\n"
     ]
    }
   ],
   "source": [
    "print('Cols to one hot encode:')\n",
    "print(['PClass'] + train_x.dtypes[~train_x.dtypes.isin([int, float])].index.to_list())"
   ]
  },
  {
   "cell_type": "markdown",
   "id": "declared-collectible",
   "metadata": {},
   "source": [
    "## Cols to nomalize"
   ]
  },
  {
   "cell_type": "markdown",
   "id": "proved-emerald",
   "metadata": {},
   "source": [
    "### Age "
   ]
  },
  {
   "cell_type": "code",
   "execution_count": 10,
   "id": "eleven-alias",
   "metadata": {},
   "outputs": [],
   "source": [
    "train_x, train_y, test_x = load_data()"
   ]
  },
  {
   "cell_type": "code",
   "execution_count": 11,
   "id": "acoustic-harmony",
   "metadata": {},
   "outputs": [
    {
     "name": "stdout",
     "output_type": "stream",
     "text": [
      "Col has na in train_x:  True\n",
      "Col has na in test_x:  True\n"
     ]
    }
   ],
   "source": [
    "print('Col has na in train_x: ', train_x['Age'].isna().any())\n",
    "print('Col has na in test_x: ', test_x['Age'].isna().any())"
   ]
  },
  {
   "cell_type": "markdown",
   "id": "duplicate-midwest",
   "metadata": {},
   "source": [
    "#### Fill na by target encoding"
   ]
  },
  {
   "cell_type": "code",
   "execution_count": 12,
   "id": "blocked-spine",
   "metadata": {},
   "outputs": [],
   "source": [
    "data_tmp = pd.DataFrame({'Age': train_x['Age'], 'Survived': train_y})\n",
    "target_mean = data_tmp.groupby('Survived').mean().to_dict()\n",
    "index_nan_0 = train_x['Age'].isna() & train_y == 0\n",
    "index_nan_1 = train_x['Age'].isna() & train_y == 1\n",
    "train_x.loc[index_nan_0, 'Age'] = target_mean['Age'][0]\n",
    "train_x.loc[index_nan_1, 'Age'] = target_mean['Age'][1]"
   ]
  },
  {
   "cell_type": "code",
   "execution_count": 13,
   "id": "timely-craps",
   "metadata": {},
   "outputs": [],
   "source": [
    "random.seed(0)\n",
    "index_nan = test_x['Age'].isna()\n",
    "test_x['Age'] = test_x['Age'].apply(lambda x:\n",
    "                                         random.choice([target_mean['Age'][0], target_mean['Age'][1]]) if np.isnan(x) else x\n",
    "                                    )"
   ]
  },
  {
   "cell_type": "code",
   "execution_count": 14,
   "id": "decimal-montana",
   "metadata": {},
   "outputs": [],
   "source": [
    "scaler = StandardScaler()\n",
    "train_x['Age'] = scaler.fit_transform(train_x['Age'].values.reshape(len(train_x), -1)).ravel()\n",
    "test_x['Age'] = scaler.transform(test_x['Age'].values.reshape(len(test_x), -1)).ravel()"
   ]
  },
  {
   "cell_type": "code",
   "execution_count": 15,
   "id": "square-access",
   "metadata": {},
   "outputs": [],
   "source": [
    "train_x[['PassengerId', 'Age']].to_feather('../features/nn/age_train_std_te.feather')\n",
    "test_x[['PassengerId', 'Age']].to_feather('../features/nn/age_test_std_te.feather')"
   ]
  },
  {
   "cell_type": "markdown",
   "id": "interior-genius",
   "metadata": {},
   "source": [
    "#### Fill na with average"
   ]
  },
  {
   "cell_type": "code",
   "execution_count": 16,
   "id": "protected-johnston",
   "metadata": {},
   "outputs": [],
   "source": [
    "train_x, train_y, test_x = load_data()"
   ]
  },
  {
   "cell_type": "code",
   "execution_count": 17,
   "id": "injured-fitting",
   "metadata": {},
   "outputs": [],
   "source": [
    "mean = train_x['Age'].mean()\n",
    "index_nan = train_x['Age'].isna()\n",
    "train_x.loc[index_nan, 'Age'] = mean"
   ]
  },
  {
   "cell_type": "code",
   "execution_count": 18,
   "id": "generous-foster",
   "metadata": {},
   "outputs": [],
   "source": [
    "index_nan = test_x['Age'].isna()\n",
    "test_x.loc[index_nan, 'Age'] = mean"
   ]
  },
  {
   "cell_type": "code",
   "execution_count": 19,
   "id": "clean-focus",
   "metadata": {},
   "outputs": [],
   "source": [
    "scaler = StandardScaler()\n",
    "train_x['Age'] = scaler.fit_transform(train_x['Age'].values.reshape(len(train_x), -1)).ravel()\n",
    "test_x['Age'] = scaler.transform(test_x['Age'].values.reshape(len(test_x), -1)).ravel()"
   ]
  },
  {
   "cell_type": "code",
   "execution_count": 20,
   "id": "finnish-bookmark",
   "metadata": {},
   "outputs": [],
   "source": [
    "train_x[['PassengerId', 'Age']].to_feather('../features/nn/age_train_std_mean.feather')\n",
    "test_x[['PassengerId', 'Age']].to_feather('../features/nn/age_test_std_mean.feather')"
   ]
  },
  {
   "cell_type": "markdown",
   "id": "becoming-rendering",
   "metadata": {},
   "source": [
    "### Fare"
   ]
  },
  {
   "cell_type": "code",
   "execution_count": null,
   "id": "numerous-belize",
   "metadata": {},
   "outputs": [],
   "source": []
  }
 ],
 "metadata": {
  "kernelspec": {
   "display_name": "Python 3",
   "language": "python",
   "name": "python3"
  },
  "language_info": {
   "codemirror_mode": {
    "name": "ipython",
    "version": 3
   },
   "file_extension": ".py",
   "mimetype": "text/x-python",
   "name": "python",
   "nbconvert_exporter": "python",
   "pygments_lexer": "ipython3",
   "version": "3.7.9"
  }
 },
 "nbformat": 4,
 "nbformat_minor": 5
}
