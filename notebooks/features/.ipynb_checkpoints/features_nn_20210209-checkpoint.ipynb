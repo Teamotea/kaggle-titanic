{
 "cells": [
  {
   "cell_type": "markdown",
   "id": "confident-animation",
   "metadata": {},
   "source": [
    "## Settings"
   ]
  },
  {
   "cell_type": "code",
   "execution_count": 1,
   "id": "polyphonic-overhead",
   "metadata": {},
   "outputs": [],
   "source": [
    "import sys\n",
    "sys.path.append('..')"
   ]
  },
  {
   "cell_type": "code",
   "execution_count": 2,
   "id": "greek-convertible",
   "metadata": {},
   "outputs": [],
   "source": [
    "import os\n",
    "import numpy as np\n",
    "import pandas as pd\n",
    "from sklearn.preprocessing import StandardScaler\n",
    "import matplotlib.pyplot as plt\n",
    "from inputs.funcs import load_data"
   ]
  },
  {
   "cell_type": "code",
   "execution_count": 3,
   "id": "hairy-lender",
   "metadata": {},
   "outputs": [
    {
     "data": {
      "text/plain": [
       "['test.csv',\n",
       " '__init__.py',\n",
       " '__pycache__',\n",
       " 'funcs.py',\n",
       " 'train.csv',\n",
       " 'gender_submission.csv']"
      ]
     },
     "execution_count": 3,
     "metadata": {},
     "output_type": "execute_result"
    }
   ],
   "source": [
    "os.listdir('../inputs/')"
   ]
  },
  {
   "cell_type": "code",
   "execution_count": 4,
   "id": "eligible-newman",
   "metadata": {},
   "outputs": [],
   "source": [
    "train_x, train_y, test_x = load_data()"
   ]
  },
  {
   "cell_type": "code",
   "execution_count": 5,
   "id": "animated-savings",
   "metadata": {},
   "outputs": [
    {
     "name": "stdout",
     "output_type": "stream",
     "text": [
      "train_x:  ['PassengerId' 'Pclass' 'Name' 'Sex' 'Age' 'SibSp' 'Parch' 'Ticket' 'Fare'\n",
      " 'Cabin' 'Embarked']\n",
      "train_y:  ['PassengerId' 'Pclass' 'Name' 'Sex' 'Age' 'SibSp' 'Parch' 'Ticket' 'Fare'\n",
      " 'Cabin' 'Embarked']\n"
     ]
    }
   ],
   "source": [
    "print('train_x: ', train_x.columns.values)\n",
    "print('train_y: ', test_x.columns.values)"
   ]
  },
  {
   "cell_type": "code",
   "execution_count": 6,
   "id": "regulation-massage",
   "metadata": {},
   "outputs": [
    {
     "data": {
      "text/html": [
       "<div>\n",
       "<style scoped>\n",
       "    .dataframe tbody tr th:only-of-type {\n",
       "        vertical-align: middle;\n",
       "    }\n",
       "\n",
       "    .dataframe tbody tr th {\n",
       "        vertical-align: top;\n",
       "    }\n",
       "\n",
       "    .dataframe thead th {\n",
       "        text-align: right;\n",
       "    }\n",
       "</style>\n",
       "<table border=\"1\" class=\"dataframe\">\n",
       "  <thead>\n",
       "    <tr style=\"text-align: right;\">\n",
       "      <th></th>\n",
       "      <th>PassengerId</th>\n",
       "      <th>Pclass</th>\n",
       "      <th>Name</th>\n",
       "      <th>Sex</th>\n",
       "      <th>Age</th>\n",
       "      <th>SibSp</th>\n",
       "      <th>Parch</th>\n",
       "      <th>Ticket</th>\n",
       "      <th>Fare</th>\n",
       "      <th>Cabin</th>\n",
       "      <th>Embarked</th>\n",
       "    </tr>\n",
       "  </thead>\n",
       "  <tbody>\n",
       "    <tr>\n",
       "      <th>0</th>\n",
       "      <td>1</td>\n",
       "      <td>3</td>\n",
       "      <td>Braund, Mr. Owen Harris</td>\n",
       "      <td>male</td>\n",
       "      <td>22.0</td>\n",
       "      <td>1</td>\n",
       "      <td>0</td>\n",
       "      <td>A/5 21171</td>\n",
       "      <td>7.2500</td>\n",
       "      <td>NaN</td>\n",
       "      <td>S</td>\n",
       "    </tr>\n",
       "    <tr>\n",
       "      <th>1</th>\n",
       "      <td>2</td>\n",
       "      <td>1</td>\n",
       "      <td>Cumings, Mrs. John Bradley (Florence Briggs Th...</td>\n",
       "      <td>female</td>\n",
       "      <td>38.0</td>\n",
       "      <td>1</td>\n",
       "      <td>0</td>\n",
       "      <td>PC 17599</td>\n",
       "      <td>71.2833</td>\n",
       "      <td>C85</td>\n",
       "      <td>C</td>\n",
       "    </tr>\n",
       "    <tr>\n",
       "      <th>2</th>\n",
       "      <td>3</td>\n",
       "      <td>3</td>\n",
       "      <td>Heikkinen, Miss. Laina</td>\n",
       "      <td>female</td>\n",
       "      <td>26.0</td>\n",
       "      <td>0</td>\n",
       "      <td>0</td>\n",
       "      <td>STON/O2. 3101282</td>\n",
       "      <td>7.9250</td>\n",
       "      <td>NaN</td>\n",
       "      <td>S</td>\n",
       "    </tr>\n",
       "  </tbody>\n",
       "</table>\n",
       "</div>"
      ],
      "text/plain": [
       "   PassengerId  Pclass                                               Name  \\\n",
       "0            1       3                            Braund, Mr. Owen Harris   \n",
       "1            2       1  Cumings, Mrs. John Bradley (Florence Briggs Th...   \n",
       "2            3       3                             Heikkinen, Miss. Laina   \n",
       "\n",
       "      Sex   Age  SibSp  Parch            Ticket     Fare Cabin Embarked  \n",
       "0    male  22.0      1      0         A/5 21171   7.2500   NaN        S  \n",
       "1  female  38.0      1      0          PC 17599  71.2833   C85        C  \n",
       "2  female  26.0      0      0  STON/O2. 3101282   7.9250   NaN        S  "
      ]
     },
     "execution_count": 6,
     "metadata": {},
     "output_type": "execute_result"
    }
   ],
   "source": [
    "train_x.head(3)"
   ]
  },
  {
   "cell_type": "code",
   "execution_count": 7,
   "id": "seeing-healthcare",
   "metadata": {},
   "outputs": [
    {
     "name": "stdout",
     "output_type": "stream",
     "text": [
      "Col to drop:\n",
      "['PassengeId']\n"
     ]
    }
   ],
   "source": [
    "print('Col to drop:')\n",
    "print(['PassengeId'])"
   ]
  },
  {
   "cell_type": "code",
   "execution_count": 8,
   "id": "former-president",
   "metadata": {},
   "outputs": [
    {
     "name": "stdout",
     "output_type": "stream",
     "text": [
      "Cols to normalize:\n",
      "['Age', 'Fare']\n"
     ]
    }
   ],
   "source": [
    "print('Cols to normalize:')\n",
    "print(['Age', 'Fare'])"
   ]
  },
  {
   "cell_type": "code",
   "execution_count": 9,
   "id": "dramatic-crisis",
   "metadata": {},
   "outputs": [
    {
     "name": "stdout",
     "output_type": "stream",
     "text": [
      "Cols to one hot encode:\n",
      "['PClass', 'Name', 'Sex', 'Ticket', 'Cabin', 'Embarked']\n"
     ]
    }
   ],
   "source": [
    "print('Cols to one hot encode:')\n",
    "print(['PClass'] + train_x.dtypes[~train_x.dtypes.isin([int, float])].index.to_list())"
   ]
  },
  {
   "cell_type": "markdown",
   "id": "nonprofit-assembly",
   "metadata": {},
   "source": [
    "## Cols to nomalize"
   ]
  },
  {
   "cell_type": "markdown",
   "id": "painted-majority",
   "metadata": {},
   "source": [
    "### Age "
   ]
  },
  {
   "cell_type": "code",
   "execution_count": 12,
   "id": "italic-rating",
   "metadata": {},
   "outputs": [
    {
     "name": "stdout",
     "output_type": "stream",
     "text": [
      "Col has na:  True\n"
     ]
    }
   ],
   "source": [
    "print('Col has na: ', train_x['Age'].isna().any())"
   ]
  },
  {
   "cell_type": "markdown",
   "id": "covered-lambda",
   "metadata": {},
   "source": [
    "#### Fill na by target encoding"
   ]
  },
  {
   "cell_type": "code",
   "execution_count": 23,
   "id": "downtown-dealing",
   "metadata": {},
   "outputs": [],
   "source": [
    "# Age に target encoding の値を入れる\n",
    "data_tmp = pd.DataFrame({'Age': train_x['Age'], 'Survived': train_y})\n",
    "target_mean = data_tmp.groupby('Survived').mean().to_dict()\n",
    "index_nan = train_x[train_x['Age'].isna()].index\n",
    "index_nan_0 = train_x['Age'].isna() & train_y == 0\n",
    "index_nan_1 = train_x['Age'].isna() & train_y == 1\n",
    "# train_x['Age'] = train_x['Age'].iat()\n",
    "# train_x = train_x.apply(lambda x: target_mean['Age'][x['Survived']] if np.isnan(x.index) else x['Age'], axis=1)"
   ]
  },
  {
   "cell_type": "code",
   "execution_count": 46,
   "id": "sustainable-attribute",
   "metadata": {
    "collapsed": true,
    "jupyter": {
     "outputs_hidden": true
    }
   },
   "outputs": [
    {
     "ename": "ValueError",
     "evalue": "Expected 2D array, got 1D array instead:\narray=[22.   38.   26.   35.   35.     nan 54.    2.   27.   14.    4.   58.\n 20.   39.   14.   55.    2.     nan 31.     nan 35.   34.   15.   28.\n  8.   38.     nan 19.     nan   nan 40.     nan   nan 66.   28.   42.\n   nan 21.   18.   14.   40.   27.     nan  3.   19.     nan   nan   nan\n   nan 18.    7.   21.   49.   29.   65.     nan 21.   28.5   5.   11.\n 22.   38.   45.    4.     nan   nan 29.   19.   17.   26.   32.   16.\n 21.   26.   32.   25.     nan   nan  0.83 30.   22.   29.     nan 28.\n 17.   33.   16.     nan 23.   24.   29.   20.   46.   26.   59.     nan\n 71.   23.   34.   34.   28.     nan 21.   33.   37.   28.   21.     nan\n 38.     nan 47.   14.5  22.   20.   17.   21.   70.5  29.   24.    2.\n 21.     nan 32.5  32.5  54.   12.     nan 24.     nan 45.   33.   20.\n 47.   29.   25.   23.   19.   37.   16.   24.     nan 22.   24.   19.\n 18.   19.   27.    9.   36.5  42.   51.   22.   55.5  40.5    nan 51.\n 16.   30.     nan   nan 44.   40.   26.   17.    1.    9.     nan 45.\n   nan 28.   61.    4.    1.   21.   56.   18.     nan 50.   30.   36.\n   nan   nan  9.    1.    4.     nan   nan 45.   40.   36.   32.   19.\n 19.    3.   44.   58.     nan 42.     nan 24.   28.     nan 34.   45.5\n 18.    2.   32.   26.   16.   40.   24.   35.   22.   30.     nan 31.\n 27.   42.   32.   30.   16.   27.   51.     nan 38.   22.   19.   20.5\n 18.     nan 35.   29.   59.    5.   24.     nan 44.    8.   19.   33.\n   nan   nan 29.   22.   30.   44.   25.   24.   37.   54.     nan 29.\n 62.   30.   41.   29.     nan 30.   35.   50.     nan  3.   52.   40.\n   nan 36.   16.   25.   58.   35.     nan 25.   41.   37.     nan 63.\n 45.     nan  7.   35.   65.   28.   16.   19.     nan 33.   30.   22.\n 42.   22.   26.   19.   36.   24.   24.     nan 23.5   2.     nan 50.\n   nan   nan 19.     nan   nan  0.92   nan 17.   30.   30.   24.   18.\n 26.   28.   43.   26.   24.   54.   31.   40.   22.   27.   30.   22.\n   nan 36.   61.   36.   31.   16.     nan 45.5  38.   16.     nan   nan\n 29.   41.   45.   45.    2.   24.   28.   25.   36.   24.   40.     nan\n  3.   42.   23.     nan 15.   25.     nan 28.   22.   38.     nan   nan\n 40.   29.   45.   35.     nan 30.   60.     nan   nan 24.   25.   18.\n 19.   22.    3.     nan 22.   27.   20.   19.   42.    1.   32.   35.\n   nan 18.    1.   36.     nan 17.   36.   21.   28.   23.   24.   22.\n 31.   46.   23.   28.   39.   26.   21.   28.   20.   34.   51.    3.\n 21.     nan   nan   nan 33.     nan 44.     nan 34.   18.   30.   10.\n   nan 21.   29.   28.   18.     nan 28.   19.     nan 32.   28.     nan\n 42.   17.   50.   14.   21.   24.   64.   31.   45.   20.   25.   28.\n   nan  4.   13.   34.    5.   52.   36.     nan 30.   49.     nan 29.\n 65.     nan 50.     nan 48.   34.   47.   48.     nan 38.     nan 56.\n   nan  0.75   nan 38.   33.   23.   22.     nan 34.   29.   22.    2.\n  9.     nan 50.   63.   25.     nan 35.   58.   30.    9.     nan 21.\n 55.   71.   21.     nan 54.     nan 25.   24.   17.   21.     nan 37.\n 16.   18.   33.     nan 28.   26.   29.     nan 36.   54.   24.   47.\n 34.     nan 36.   32.   30.   22.     nan 44.     nan 40.5  50.     nan\n 39.   23.    2.     nan 17.     nan 30.    7.   45.   30.     nan 22.\n 36.    9.   11.   32.   50.   64.   19.     nan 33.    8.   17.   27.\n   nan 22.   22.   62.   48.     nan 39.   36.     nan 40.   28.     nan\n   nan 24.   19.   29.     nan 32.   62.   53.   36.     nan 16.   19.\n 34.   39.     nan 32.   25.   39.   54.   36.     nan 18.   47.   60.\n 22.     nan 35.   52.   47.     nan 37.   36.     nan 49.     nan 49.\n 24.     nan   nan 44.   35.   36.   30.   27.   22.   40.   39.     nan\n   nan   nan 35.   24.   34.   26.    4.   26.   27.   42.   20.   21.\n 21.   61.   57.   21.   26.     nan 80.   51.   32.     nan  9.   28.\n 32.   31.   41.     nan 20.   24.    2.     nan  0.75 48.   19.   56.\n   nan 23.     nan 18.   21.     nan 18.   24.     nan 32.   23.   58.\n 50.   40.   47.   36.   20.   32.   25.     nan 43.     nan 40.   31.\n 70.   31.     nan 18.   24.5  18.   43.   36.     nan 27.   20.   14.\n 60.   25.   14.   19.   18.   15.   31.    4.     nan 25.   60.   52.\n 44.     nan 49.   42.   18.   35.   18.   25.   26.   39.   45.   42.\n 22.     nan 24.     nan 48.   29.   52.   19.   38.   27.     nan 33.\n  6.   17.   34.   50.   27.   20.   30.     nan 25.   25.   29.   11.\n   nan 23.   23.   28.5  48.   35.     nan   nan   nan 36.   21.   24.\n 31.   70.   16.   30.   19.   31.    4.    6.   33.   23.   48.    0.67\n 28.   18.   34.   33.     nan 41.   20.   36.   16.   51.     nan 30.5\n   nan 32.   24.   48.   57.     nan 54.   18.     nan  5.     nan 43.\n 13.   17.   29.     nan 25.   25.   18.    8.    1.   46.     nan 16.\n   nan   nan 25.   39.   49.   31.   30.   30.   34.   31.   11.    0.42\n 27.   31.   39.   18.   39.   33.   26.   39.   35.    6.   30.5    nan\n 23.   31.   43.   10.   52.   27.   38.   27.    2.     nan   nan  1.\n   nan 62.   15.    0.83   nan 23.   18.   39.   21.     nan 32.     nan\n 20.   16.   30.   34.5  17.   42.     nan 35.   28.     nan  4.   74.\n  9.   16.   44.   18.   45.   51.   24.     nan 41.   21.   48.     nan\n 24.   42.   27.   31.     nan  4.   26.   47.   33.   47.   28.   15.\n 20.   19.     nan 56.   25.   33.   22.   28.   25.   39.   27.   19.\n   nan 26.   32.  ].\nReshape your data either using array.reshape(-1, 1) if your data has a single feature or array.reshape(1, -1) if it contains a single sample.",
     "output_type": "error",
     "traceback": [
      "\u001b[0;31m---------------------------------------------------------------------------\u001b[0m",
      "\u001b[0;31mValueError\u001b[0m                                Traceback (most recent call last)",
      "\u001b[0;32m<ipython-input-46-5e535606bf7f>\u001b[0m in \u001b[0;36m<module>\u001b[0;34m\u001b[0m\n\u001b[1;32m      1\u001b[0m \u001b[0mscaler\u001b[0m \u001b[0;34m=\u001b[0m \u001b[0mStandardScaler\u001b[0m\u001b[0;34m(\u001b[0m\u001b[0;34m)\u001b[0m\u001b[0;34m\u001b[0m\u001b[0;34m\u001b[0m\u001b[0m\n\u001b[0;32m----> 2\u001b[0;31m \u001b[0mscaler\u001b[0m\u001b[0;34m.\u001b[0m\u001b[0mfit_transform\u001b[0m\u001b[0;34m(\u001b[0m\u001b[0mtrain_x\u001b[0m\u001b[0;34m[\u001b[0m\u001b[0;34m'Age'\u001b[0m\u001b[0;34m]\u001b[0m\u001b[0;34m)\u001b[0m\u001b[0;34m\u001b[0m\u001b[0;34m\u001b[0m\u001b[0m\n\u001b[0m",
      "\u001b[0;32m/opt/anaconda3/lib/python3.7/site-packages/sklearn/base.py\u001b[0m in \u001b[0;36mfit_transform\u001b[0;34m(self, X, y, **fit_params)\u001b[0m\n\u001b[1;32m    688\u001b[0m         \u001b[0;32mif\u001b[0m \u001b[0my\u001b[0m \u001b[0;32mis\u001b[0m \u001b[0;32mNone\u001b[0m\u001b[0;34m:\u001b[0m\u001b[0;34m\u001b[0m\u001b[0;34m\u001b[0m\u001b[0m\n\u001b[1;32m    689\u001b[0m             \u001b[0;31m# fit method of arity 1 (unsupervised transformation)\u001b[0m\u001b[0;34m\u001b[0m\u001b[0;34m\u001b[0m\u001b[0;34m\u001b[0m\u001b[0m\n\u001b[0;32m--> 690\u001b[0;31m             \u001b[0;32mreturn\u001b[0m \u001b[0mself\u001b[0m\u001b[0;34m.\u001b[0m\u001b[0mfit\u001b[0m\u001b[0;34m(\u001b[0m\u001b[0mX\u001b[0m\u001b[0;34m,\u001b[0m \u001b[0;34m**\u001b[0m\u001b[0mfit_params\u001b[0m\u001b[0;34m)\u001b[0m\u001b[0;34m.\u001b[0m\u001b[0mtransform\u001b[0m\u001b[0;34m(\u001b[0m\u001b[0mX\u001b[0m\u001b[0;34m)\u001b[0m\u001b[0;34m\u001b[0m\u001b[0;34m\u001b[0m\u001b[0m\n\u001b[0m\u001b[1;32m    691\u001b[0m         \u001b[0;32melse\u001b[0m\u001b[0;34m:\u001b[0m\u001b[0;34m\u001b[0m\u001b[0;34m\u001b[0m\u001b[0m\n\u001b[1;32m    692\u001b[0m             \u001b[0;31m# fit method of arity 2 (supervised transformation)\u001b[0m\u001b[0;34m\u001b[0m\u001b[0;34m\u001b[0m\u001b[0;34m\u001b[0m\u001b[0m\n",
      "\u001b[0;32m/opt/anaconda3/lib/python3.7/site-packages/sklearn/preprocessing/_data.py\u001b[0m in \u001b[0;36mfit\u001b[0;34m(self, X, y)\u001b[0m\n\u001b[1;32m    665\u001b[0m         \u001b[0;31m# Reset internal state before fitting\u001b[0m\u001b[0;34m\u001b[0m\u001b[0;34m\u001b[0m\u001b[0;34m\u001b[0m\u001b[0m\n\u001b[1;32m    666\u001b[0m         \u001b[0mself\u001b[0m\u001b[0;34m.\u001b[0m\u001b[0m_reset\u001b[0m\u001b[0;34m(\u001b[0m\u001b[0;34m)\u001b[0m\u001b[0;34m\u001b[0m\u001b[0;34m\u001b[0m\u001b[0m\n\u001b[0;32m--> 667\u001b[0;31m         \u001b[0;32mreturn\u001b[0m \u001b[0mself\u001b[0m\u001b[0;34m.\u001b[0m\u001b[0mpartial_fit\u001b[0m\u001b[0;34m(\u001b[0m\u001b[0mX\u001b[0m\u001b[0;34m,\u001b[0m \u001b[0my\u001b[0m\u001b[0;34m)\u001b[0m\u001b[0;34m\u001b[0m\u001b[0;34m\u001b[0m\u001b[0m\n\u001b[0m\u001b[1;32m    668\u001b[0m \u001b[0;34m\u001b[0m\u001b[0m\n\u001b[1;32m    669\u001b[0m     \u001b[0;32mdef\u001b[0m \u001b[0mpartial_fit\u001b[0m\u001b[0;34m(\u001b[0m\u001b[0mself\u001b[0m\u001b[0;34m,\u001b[0m \u001b[0mX\u001b[0m\u001b[0;34m,\u001b[0m \u001b[0my\u001b[0m\u001b[0;34m=\u001b[0m\u001b[0;32mNone\u001b[0m\u001b[0;34m)\u001b[0m\u001b[0;34m:\u001b[0m\u001b[0;34m\u001b[0m\u001b[0;34m\u001b[0m\u001b[0m\n",
      "\u001b[0;32m/opt/anaconda3/lib/python3.7/site-packages/sklearn/preprocessing/_data.py\u001b[0m in \u001b[0;36mpartial_fit\u001b[0;34m(self, X, y)\u001b[0m\n\u001b[1;32m    696\u001b[0m         X = self._validate_data(X, accept_sparse=('csr', 'csc'),\n\u001b[1;32m    697\u001b[0m                                 \u001b[0mestimator\u001b[0m\u001b[0;34m=\u001b[0m\u001b[0mself\u001b[0m\u001b[0;34m,\u001b[0m \u001b[0mdtype\u001b[0m\u001b[0;34m=\u001b[0m\u001b[0mFLOAT_DTYPES\u001b[0m\u001b[0;34m,\u001b[0m\u001b[0;34m\u001b[0m\u001b[0;34m\u001b[0m\u001b[0m\n\u001b[0;32m--> 698\u001b[0;31m                                 force_all_finite='allow-nan')\n\u001b[0m\u001b[1;32m    699\u001b[0m \u001b[0;34m\u001b[0m\u001b[0m\n\u001b[1;32m    700\u001b[0m         \u001b[0;31m# Even in the case of `with_mean=False`, we update the mean anyway\u001b[0m\u001b[0;34m\u001b[0m\u001b[0;34m\u001b[0m\u001b[0;34m\u001b[0m\u001b[0m\n",
      "\u001b[0;32m/opt/anaconda3/lib/python3.7/site-packages/sklearn/base.py\u001b[0m in \u001b[0;36m_validate_data\u001b[0;34m(self, X, y, reset, validate_separately, **check_params)\u001b[0m\n\u001b[1;32m    418\u001b[0m                     \u001b[0;34mf\"requires y to be passed, but the target y is None.\"\u001b[0m\u001b[0;34m\u001b[0m\u001b[0;34m\u001b[0m\u001b[0m\n\u001b[1;32m    419\u001b[0m                 )\n\u001b[0;32m--> 420\u001b[0;31m             \u001b[0mX\u001b[0m \u001b[0;34m=\u001b[0m \u001b[0mcheck_array\u001b[0m\u001b[0;34m(\u001b[0m\u001b[0mX\u001b[0m\u001b[0;34m,\u001b[0m \u001b[0;34m**\u001b[0m\u001b[0mcheck_params\u001b[0m\u001b[0;34m)\u001b[0m\u001b[0;34m\u001b[0m\u001b[0;34m\u001b[0m\u001b[0m\n\u001b[0m\u001b[1;32m    421\u001b[0m             \u001b[0mout\u001b[0m \u001b[0;34m=\u001b[0m \u001b[0mX\u001b[0m\u001b[0;34m\u001b[0m\u001b[0;34m\u001b[0m\u001b[0m\n\u001b[1;32m    422\u001b[0m         \u001b[0;32melse\u001b[0m\u001b[0;34m:\u001b[0m\u001b[0;34m\u001b[0m\u001b[0;34m\u001b[0m\u001b[0m\n",
      "\u001b[0;32m/opt/anaconda3/lib/python3.7/site-packages/sklearn/utils/validation.py\u001b[0m in \u001b[0;36minner_f\u001b[0;34m(*args, **kwargs)\u001b[0m\n\u001b[1;32m     70\u001b[0m                           FutureWarning)\n\u001b[1;32m     71\u001b[0m         \u001b[0mkwargs\u001b[0m\u001b[0;34m.\u001b[0m\u001b[0mupdate\u001b[0m\u001b[0;34m(\u001b[0m\u001b[0;34m{\u001b[0m\u001b[0mk\u001b[0m\u001b[0;34m:\u001b[0m \u001b[0marg\u001b[0m \u001b[0;32mfor\u001b[0m \u001b[0mk\u001b[0m\u001b[0;34m,\u001b[0m \u001b[0marg\u001b[0m \u001b[0;32min\u001b[0m \u001b[0mzip\u001b[0m\u001b[0;34m(\u001b[0m\u001b[0msig\u001b[0m\u001b[0;34m.\u001b[0m\u001b[0mparameters\u001b[0m\u001b[0;34m,\u001b[0m \u001b[0margs\u001b[0m\u001b[0;34m)\u001b[0m\u001b[0;34m}\u001b[0m\u001b[0;34m)\u001b[0m\u001b[0;34m\u001b[0m\u001b[0;34m\u001b[0m\u001b[0m\n\u001b[0;32m---> 72\u001b[0;31m         \u001b[0;32mreturn\u001b[0m \u001b[0mf\u001b[0m\u001b[0;34m(\u001b[0m\u001b[0;34m**\u001b[0m\u001b[0mkwargs\u001b[0m\u001b[0;34m)\u001b[0m\u001b[0;34m\u001b[0m\u001b[0;34m\u001b[0m\u001b[0m\n\u001b[0m\u001b[1;32m     73\u001b[0m     \u001b[0;32mreturn\u001b[0m \u001b[0minner_f\u001b[0m\u001b[0;34m\u001b[0m\u001b[0;34m\u001b[0m\u001b[0m\n\u001b[1;32m     74\u001b[0m \u001b[0;34m\u001b[0m\u001b[0m\n",
      "\u001b[0;32m/opt/anaconda3/lib/python3.7/site-packages/sklearn/utils/validation.py\u001b[0m in \u001b[0;36mcheck_array\u001b[0;34m(array, accept_sparse, accept_large_sparse, dtype, order, copy, force_all_finite, ensure_2d, allow_nd, ensure_min_samples, ensure_min_features, estimator)\u001b[0m\n\u001b[1;32m    621\u001b[0m                     \u001b[0;34m\"Reshape your data either using array.reshape(-1, 1) if \"\u001b[0m\u001b[0;34m\u001b[0m\u001b[0;34m\u001b[0m\u001b[0m\n\u001b[1;32m    622\u001b[0m                     \u001b[0;34m\"your data has a single feature or array.reshape(1, -1) \"\u001b[0m\u001b[0;34m\u001b[0m\u001b[0;34m\u001b[0m\u001b[0m\n\u001b[0;32m--> 623\u001b[0;31m                     \"if it contains a single sample.\".format(array))\n\u001b[0m\u001b[1;32m    624\u001b[0m \u001b[0;34m\u001b[0m\u001b[0m\n\u001b[1;32m    625\u001b[0m         \u001b[0;31m# in the future np.flexible dtypes will be handled like object dtypes\u001b[0m\u001b[0;34m\u001b[0m\u001b[0;34m\u001b[0m\u001b[0;34m\u001b[0m\u001b[0m\n",
      "\u001b[0;31mValueError\u001b[0m: Expected 2D array, got 1D array instead:\narray=[22.   38.   26.   35.   35.     nan 54.    2.   27.   14.    4.   58.\n 20.   39.   14.   55.    2.     nan 31.     nan 35.   34.   15.   28.\n  8.   38.     nan 19.     nan   nan 40.     nan   nan 66.   28.   42.\n   nan 21.   18.   14.   40.   27.     nan  3.   19.     nan   nan   nan\n   nan 18.    7.   21.   49.   29.   65.     nan 21.   28.5   5.   11.\n 22.   38.   45.    4.     nan   nan 29.   19.   17.   26.   32.   16.\n 21.   26.   32.   25.     nan   nan  0.83 30.   22.   29.     nan 28.\n 17.   33.   16.     nan 23.   24.   29.   20.   46.   26.   59.     nan\n 71.   23.   34.   34.   28.     nan 21.   33.   37.   28.   21.     nan\n 38.     nan 47.   14.5  22.   20.   17.   21.   70.5  29.   24.    2.\n 21.     nan 32.5  32.5  54.   12.     nan 24.     nan 45.   33.   20.\n 47.   29.   25.   23.   19.   37.   16.   24.     nan 22.   24.   19.\n 18.   19.   27.    9.   36.5  42.   51.   22.   55.5  40.5    nan 51.\n 16.   30.     nan   nan 44.   40.   26.   17.    1.    9.     nan 45.\n   nan 28.   61.    4.    1.   21.   56.   18.     nan 50.   30.   36.\n   nan   nan  9.    1.    4.     nan   nan 45.   40.   36.   32.   19.\n 19.    3.   44.   58.     nan 42.     nan 24.   28.     nan 34.   45.5\n 18.    2.   32.   26.   16.   40.   24.   35.   22.   30.     nan 31.\n 27.   42.   32.   30.   16.   27.   51.     nan 38.   22.   19.   20.5\n 18.     nan 35.   29.   59.    5.   24.     nan 44.    8.   19.   33.\n   nan   nan 29.   22.   30.   44.   25.   24.   37.   54.     nan 29.\n 62.   30.   41.   29.     nan 30.   35.   50.     nan  3.   52.   40.\n   nan 36.   16.   25.   58.   35.     nan 25.   41.   37.     nan 63.\n 45.     nan  7.   35.   65.   28.   16.   19.     nan 33.   30.   22.\n 42.   22.   26.   19.   36.   24.   24.     nan 23.5   2.     nan 50.\n   nan   nan 19.     nan   nan  0.92   nan 17.   30.   30.   24.   18.\n 26.   28.   43.   26.   24.   54.   31.   40.   22.   27.   30.   22.\n   nan 36.   61.   36.   31.   16.     nan 45.5  38.   16.     nan   nan\n 29.   41.   45.   45.    2.   24.   28.   25.   36.   24.   40.     nan\n  3.   42.   23.     nan 15.   25.     nan 28.   22.   38.     nan   nan\n 40.   29.   45.   35.     nan 30.   60.     nan   nan 24.   25.   18.\n 19.   22.    3.     nan 22.   27.   20.   19.   42.    1.   32.   35.\n   nan 18.    1.   36.     nan 17.   36.   21.   28.   23.   24.   22.\n 31.   46.   23.   28.   39.   26.   21.   28.   20.   34.   51.    3.\n 21.     nan   nan   nan 33.     nan 44.     nan 34.   18.   30.   10.\n   nan 21.   29.   28.   18.     nan 28.   19.     nan 32.   28.     nan\n 42.   17.   50.   14.   21.   24.   64.   31.   45.   20.   25.   28.\n   nan  4.   13.   34.    5.   52.   36.     nan 30.   49.     nan 29.\n 65.     nan 50.     nan 48.   34.   47.   48.     nan 38.     nan 56.\n   nan  0.75   nan 38.   33.   23.   22.     nan 34.   29.   22.    2.\n  9.     nan 50.   63.   25.     nan 35.   58.   30.    9.     nan 21.\n 55.   71.   21.     nan 54.     nan 25.   24.   17.   21.     nan 37.\n 16.   18.   33.     nan 28.   26.   29.     nan 36.   54.   24.   47.\n 34.     nan 36.   32.   30.   22.     nan 44.     nan 40.5  50.     nan\n 39.   23.    2.     nan 17.     nan 30.    7.   45.   30.     nan 22.\n 36.    9.   11.   32.   50.   64.   19.     nan 33.    8.   17.   27.\n   nan 22.   22.   62.   48.     nan 39.   36.     nan 40.   28.     nan\n   nan 24.   19.   29.     nan 32.   62.   53.   36.     nan 16.   19.\n 34.   39.     nan 32.   25.   39.   54.   36.     nan 18.   47.   60.\n 22.     nan 35.   52.   47.     nan 37.   36.     nan 49.     nan 49.\n 24.     nan   nan 44.   35.   36.   30.   27.   22.   40.   39.     nan\n   nan   nan 35.   24.   34.   26.    4.   26.   27.   42.   20.   21.\n 21.   61.   57.   21.   26.     nan 80.   51.   32.     nan  9.   28.\n 32.   31.   41.     nan 20.   24.    2.     nan  0.75 48.   19.   56.\n   nan 23.     nan 18.   21.     nan 18.   24.     nan 32.   23.   58.\n 50.   40.   47.   36.   20.   32.   25.     nan 43.     nan 40.   31.\n 70.   31.     nan 18.   24.5  18.   43.   36.     nan 27.   20.   14.\n 60.   25.   14.   19.   18.   15.   31.    4.     nan 25.   60.   52.\n 44.     nan 49.   42.   18.   35.   18.   25.   26.   39.   45.   42.\n 22.     nan 24.     nan 48.   29.   52.   19.   38.   27.     nan 33.\n  6.   17.   34.   50.   27.   20.   30.     nan 25.   25.   29.   11.\n   nan 23.   23.   28.5  48.   35.     nan   nan   nan 36.   21.   24.\n 31.   70.   16.   30.   19.   31.    4.    6.   33.   23.   48.    0.67\n 28.   18.   34.   33.     nan 41.   20.   36.   16.   51.     nan 30.5\n   nan 32.   24.   48.   57.     nan 54.   18.     nan  5.     nan 43.\n 13.   17.   29.     nan 25.   25.   18.    8.    1.   46.     nan 16.\n   nan   nan 25.   39.   49.   31.   30.   30.   34.   31.   11.    0.42\n 27.   31.   39.   18.   39.   33.   26.   39.   35.    6.   30.5    nan\n 23.   31.   43.   10.   52.   27.   38.   27.    2.     nan   nan  1.\n   nan 62.   15.    0.83   nan 23.   18.   39.   21.     nan 32.     nan\n 20.   16.   30.   34.5  17.   42.     nan 35.   28.     nan  4.   74.\n  9.   16.   44.   18.   45.   51.   24.     nan 41.   21.   48.     nan\n 24.   42.   27.   31.     nan  4.   26.   47.   33.   47.   28.   15.\n 20.   19.     nan 56.   25.   33.   22.   28.   25.   39.   27.   19.\n   nan 26.   32.  ].\nReshape your data either using array.reshape(-1, 1) if your data has a single feature or array.reshape(1, -1) if it contains a single sample."
     ]
    }
   ],
   "source": [
    "scaler = StandardScaler()\n",
    "scaler.fit_transform(train_x['Age'])"
   ]
  },
  {
   "cell_type": "markdown",
   "id": "detailed-lodging",
   "metadata": {},
   "source": [
    "#### Fill na with average"
   ]
  },
  {
   "cell_type": "code",
   "execution_count": null,
   "id": "convenient-pontiac",
   "metadata": {},
   "outputs": [],
   "source": []
  }
 ],
 "metadata": {
  "kernelspec": {
   "display_name": "Python 3",
   "language": "python",
   "name": "python3"
  },
  "language_info": {
   "codemirror_mode": {
    "name": "ipython",
    "version": 3
   },
   "file_extension": ".py",
   "mimetype": "text/x-python",
   "name": "python",
   "nbconvert_exporter": "python",
   "pygments_lexer": "ipython3",
   "version": "3.7.9"
  }
 },
 "nbformat": 4,
 "nbformat_minor": 5
}
