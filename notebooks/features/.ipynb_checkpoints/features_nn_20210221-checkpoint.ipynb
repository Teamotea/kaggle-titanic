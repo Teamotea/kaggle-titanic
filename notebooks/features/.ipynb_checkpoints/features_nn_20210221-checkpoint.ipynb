{
 "cells": [
  {
   "cell_type": "markdown",
   "id": "certified-fever",
   "metadata": {},
   "source": [
    "## Settings"
   ]
  },
  {
   "cell_type": "code",
   "execution_count": 1,
   "id": "british-tuning",
   "metadata": {},
   "outputs": [],
   "source": [
    "import sys\n",
    "sys.path.append('..')"
   ]
  },
  {
   "cell_type": "code",
   "execution_count": 2,
   "id": "modified-relevance",
   "metadata": {},
   "outputs": [],
   "source": [
    "import os\n",
    "import random\n",
    "from scipy import stats\n",
    "import numpy as np\n",
    "import pandas as pd\n",
    "import matplotlib.pyplot as plt\n",
    "from inputs.funcs import load_data\n",
    "from sklearn.preprocessing import StandardScaler\n",
    "from sklearn.preprocessing import OneHotEncoder"
   ]
  },
  {
   "cell_type": "code",
   "execution_count": 3,
   "id": "animal-being",
   "metadata": {},
   "outputs": [
    {
     "data": {
      "text/plain": [
       "['test.csv',\n",
       " '__init__.py',\n",
       " '__pycache__',\n",
       " 'funcs.py',\n",
       " 'train.csv',\n",
       " 'gender_submission.csv']"
      ]
     },
     "execution_count": 3,
     "metadata": {},
     "output_type": "execute_result"
    }
   ],
   "source": [
    "os.listdir('../inputs/')"
   ]
  },
  {
   "cell_type": "code",
   "execution_count": 4,
   "id": "intimate-satisfaction",
   "metadata": {},
   "outputs": [],
   "source": [
    "train_x, train_y, test_x = load_data()"
   ]
  },
  {
   "cell_type": "code",
   "execution_count": 5,
   "id": "cleared-cleaning",
   "metadata": {},
   "outputs": [
    {
     "name": "stdout",
     "output_type": "stream",
     "text": [
      "train_x:  ['PassengerId' 'Pclass' 'Name' 'Sex' 'Age' 'SibSp' 'Parch' 'Ticket' 'Fare'\n",
      " 'Cabin' 'Embarked']\n",
      "train_y:  ['PassengerId' 'Pclass' 'Name' 'Sex' 'Age' 'SibSp' 'Parch' 'Ticket' 'Fare'\n",
      " 'Cabin' 'Embarked']\n"
     ]
    }
   ],
   "source": [
    "print('train_x: ', train_x.columns.values)\n",
    "print('train_y: ', test_x.columns.values)"
   ]
  },
  {
   "cell_type": "code",
   "execution_count": 6,
   "id": "divine-poison",
   "metadata": {},
   "outputs": [
    {
     "data": {
      "text/html": [
       "<div>\n",
       "<style scoped>\n",
       "    .dataframe tbody tr th:only-of-type {\n",
       "        vertical-align: middle;\n",
       "    }\n",
       "\n",
       "    .dataframe tbody tr th {\n",
       "        vertical-align: top;\n",
       "    }\n",
       "\n",
       "    .dataframe thead th {\n",
       "        text-align: right;\n",
       "    }\n",
       "</style>\n",
       "<table border=\"1\" class=\"dataframe\">\n",
       "  <thead>\n",
       "    <tr style=\"text-align: right;\">\n",
       "      <th></th>\n",
       "      <th>PassengerId</th>\n",
       "      <th>Pclass</th>\n",
       "      <th>Name</th>\n",
       "      <th>Sex</th>\n",
       "      <th>Age</th>\n",
       "      <th>SibSp</th>\n",
       "      <th>Parch</th>\n",
       "      <th>Ticket</th>\n",
       "      <th>Fare</th>\n",
       "      <th>Cabin</th>\n",
       "      <th>Embarked</th>\n",
       "    </tr>\n",
       "  </thead>\n",
       "  <tbody>\n",
       "    <tr>\n",
       "      <th>0</th>\n",
       "      <td>1</td>\n",
       "      <td>3</td>\n",
       "      <td>Braund, Mr. Owen Harris</td>\n",
       "      <td>male</td>\n",
       "      <td>22.0</td>\n",
       "      <td>1</td>\n",
       "      <td>0</td>\n",
       "      <td>A/5 21171</td>\n",
       "      <td>7.2500</td>\n",
       "      <td>NaN</td>\n",
       "      <td>S</td>\n",
       "    </tr>\n",
       "    <tr>\n",
       "      <th>1</th>\n",
       "      <td>2</td>\n",
       "      <td>1</td>\n",
       "      <td>Cumings, Mrs. John Bradley (Florence Briggs Th...</td>\n",
       "      <td>female</td>\n",
       "      <td>38.0</td>\n",
       "      <td>1</td>\n",
       "      <td>0</td>\n",
       "      <td>PC 17599</td>\n",
       "      <td>71.2833</td>\n",
       "      <td>C85</td>\n",
       "      <td>C</td>\n",
       "    </tr>\n",
       "    <tr>\n",
       "      <th>2</th>\n",
       "      <td>3</td>\n",
       "      <td>3</td>\n",
       "      <td>Heikkinen, Miss. Laina</td>\n",
       "      <td>female</td>\n",
       "      <td>26.0</td>\n",
       "      <td>0</td>\n",
       "      <td>0</td>\n",
       "      <td>STON/O2. 3101282</td>\n",
       "      <td>7.9250</td>\n",
       "      <td>NaN</td>\n",
       "      <td>S</td>\n",
       "    </tr>\n",
       "  </tbody>\n",
       "</table>\n",
       "</div>"
      ],
      "text/plain": [
       "   PassengerId  Pclass                                               Name  \\\n",
       "0            1       3                            Braund, Mr. Owen Harris   \n",
       "1            2       1  Cumings, Mrs. John Bradley (Florence Briggs Th...   \n",
       "2            3       3                             Heikkinen, Miss. Laina   \n",
       "\n",
       "      Sex   Age  SibSp  Parch            Ticket     Fare Cabin Embarked  \n",
       "0    male  22.0      1      0         A/5 21171   7.2500   NaN        S  \n",
       "1  female  38.0      1      0          PC 17599  71.2833   C85        C  \n",
       "2  female  26.0      0      0  STON/O2. 3101282   7.9250   NaN        S  "
      ]
     },
     "execution_count": 6,
     "metadata": {},
     "output_type": "execute_result"
    }
   ],
   "source": [
    "train_x.head(3)"
   ]
  },
  {
   "cell_type": "code",
   "execution_count": 7,
   "id": "artificial-greenhouse",
   "metadata": {},
   "outputs": [
    {
     "name": "stdout",
     "output_type": "stream",
     "text": [
      "Col to drop:\n",
      "['PassengeId']\n"
     ]
    }
   ],
   "source": [
    "print('Col to drop:')\n",
    "print(['PassengeId'])"
   ]
  },
  {
   "cell_type": "code",
   "execution_count": 8,
   "id": "spread-documentation",
   "metadata": {},
   "outputs": [
    {
     "name": "stdout",
     "output_type": "stream",
     "text": [
      "Cols to normalize:\n",
      "['Age', 'Fare']\n"
     ]
    }
   ],
   "source": [
    "print('Cols to normalize:')\n",
    "print(['Age', 'Fare'])"
   ]
  },
  {
   "cell_type": "code",
   "execution_count": 46,
   "id": "undefined-frost",
   "metadata": {},
   "outputs": [
    {
     "name": "stdout",
     "output_type": "stream",
     "text": [
      "Cols to one hot encode:\n",
      "['PassengerId', 'Pclass', 'Name', 'Sex', 'Age', 'SibSp', 'Parch', 'Ticket', 'Fare', 'Cabin', 'Embarked']\n"
     ]
    }
   ],
   "source": [
    "print('Cols to one hot encode:')\n",
    "print(train_x.dtypes[~train_x.dtypes.isin([int, float])].index.to_list())"
   ]
  },
  {
   "cell_type": "markdown",
   "id": "secondary-miniature",
   "metadata": {},
   "source": [
    "## Cols to nomalize"
   ]
  },
  {
   "cell_type": "code",
   "execution_count": 10,
   "id": "liquid-prerequisite",
   "metadata": {},
   "outputs": [
    {
     "name": "stdout",
     "output_type": "stream",
     "text": [
      "Cols to normalize:\n",
      "['Age', 'Fare']\n"
     ]
    }
   ],
   "source": [
    "print('Cols to normalize:')\n",
    "print(['Age', 'Fare'])"
   ]
  },
  {
   "cell_type": "markdown",
   "id": "viral-visit",
   "metadata": {},
   "source": [
    "### Age "
   ]
  },
  {
   "cell_type": "code",
   "execution_count": 48,
   "id": "phantom-rachel",
   "metadata": {},
   "outputs": [],
   "source": [
    "train_x, train_y, test_x = load_data()"
   ]
  },
  {
   "cell_type": "code",
   "execution_count": 54,
   "id": "outstanding-lesson",
   "metadata": {},
   "outputs": [
    {
     "name": "stdout",
     "output_type": "stream",
     "text": [
      "Col has na in train_x:  177 / 891\n",
      "Col has na in test_x:  86 / 418\n"
     ]
    }
   ],
   "source": [
    "print('Col has na in train_x: ', train_x['Age'].isna().sum(), '/', len(train_x))\n",
    "print('Col has na in test_x: ', test_x['Age'].isna().sum(), '/', len(test_x))"
   ]
  },
  {
   "cell_type": "markdown",
   "id": "eleven-batch",
   "metadata": {},
   "source": [
    "#### Fill na by target encoding"
   ]
  },
  {
   "cell_type": "code",
   "execution_count": 13,
   "id": "lonely-relief",
   "metadata": {},
   "outputs": [],
   "source": [
    "data_tmp = pd.DataFrame({'Age': train_x['Age'], 'Survived': train_y})\n",
    "target_mean = data_tmp.groupby('Survived').mean().to_dict()\n",
    "index_nan_0 = (train_x['Age'].isna()) & (train_y == 0)\n",
    "index_nan_1 = (train_x['Age'].isna()) & (train_y == 1)\n",
    "train_x.loc[index_nan_0, 'Age'] = target_mean['Age'][0]\n",
    "train_x.loc[index_nan_1, 'Age'] = target_mean['Age'][1]"
   ]
  },
  {
   "cell_type": "code",
   "execution_count": 14,
   "id": "planned-mining",
   "metadata": {},
   "outputs": [],
   "source": [
    "random.seed(0)\n",
    "index_nan = test_x['Age'].isna()\n",
    "test_x['Age'] = test_x['Age'].apply(lambda x:\n",
    "                                         random.choice([target_mean['Age'][0], target_mean['Age'][1]]) if np.isnan(x) else x\n",
    "                                    )"
   ]
  },
  {
   "cell_type": "code",
   "execution_count": 15,
   "id": "double-angle",
   "metadata": {},
   "outputs": [],
   "source": [
    "scaler = StandardScaler()\n",
    "train_x['Age'] = scaler.fit_transform(train_x['Age'].values.reshape(len(train_x), -1)).ravel()\n",
    "test_x['Age'] = scaler.transform(test_x['Age'].values.reshape(len(test_x), -1)).ravel()"
   ]
  },
  {
   "cell_type": "code",
   "execution_count": 16,
   "id": "tender-chase",
   "metadata": {},
   "outputs": [],
   "source": [
    "train_x[['PassengerId', 'Age']].to_feather('../features/nn/age_train_std_te.feather')\n",
    "test_x[['PassengerId', 'Age']].to_feather('../features/nn/age_test_std_te.feather')"
   ]
  },
  {
   "cell_type": "markdown",
   "id": "differential-vulnerability",
   "metadata": {},
   "source": [
    "#### Fill na with average"
   ]
  },
  {
   "cell_type": "code",
   "execution_count": 17,
   "id": "minute-halifax",
   "metadata": {},
   "outputs": [],
   "source": [
    "train_x, train_y, test_x = load_data()"
   ]
  },
  {
   "cell_type": "code",
   "execution_count": 18,
   "id": "automatic-butter",
   "metadata": {},
   "outputs": [],
   "source": [
    "all_x = pd.concat([train_x, test_x])\n",
    "mean = train_x['Age'].mean()"
   ]
  },
  {
   "cell_type": "code",
   "execution_count": 19,
   "id": "vocational-railway",
   "metadata": {},
   "outputs": [],
   "source": [
    "index_nan = train_x['Age'].isna()\n",
    "train_x.loc[index_nan, 'Age'] = mean"
   ]
  },
  {
   "cell_type": "code",
   "execution_count": 20,
   "id": "postal-rating",
   "metadata": {},
   "outputs": [],
   "source": [
    "index_nan = test_x['Age'].isna()\n",
    "test_x.loc[index_nan, 'Age'] = mean"
   ]
  },
  {
   "cell_type": "code",
   "execution_count": 21,
   "id": "recognized-hunger",
   "metadata": {},
   "outputs": [],
   "source": [
    "scaler = StandardScaler()\n",
    "train_x['Age'] = scaler.fit_transform(train_x['Age'].values.reshape(len(train_x), -1)).ravel()\n",
    "test_x['Age'] = scaler.transform(test_x['Age'].values.reshape(len(test_x), -1)).ravel()"
   ]
  },
  {
   "cell_type": "code",
   "execution_count": 22,
   "id": "burning-spotlight",
   "metadata": {},
   "outputs": [],
   "source": [
    "train_x[['PassengerId', 'Age']].to_feather('../features/nn/age_train_std_mean.feather')\n",
    "test_x[['PassengerId', 'Age']].to_feather('../features/nn/age_test_std_mean.feather')"
   ]
  },
  {
   "cell_type": "markdown",
   "id": "charming-tumor",
   "metadata": {},
   "source": [
    "#### Is under 10"
   ]
  },
  {
   "cell_type": "code",
   "execution_count": 55,
   "id": "structural-speaker",
   "metadata": {},
   "outputs": [],
   "source": [
    "train_x, train_y, test_x = load_data()"
   ]
  },
  {
   "cell_type": "code",
   "execution_count": 56,
   "id": "cognitive-precipitation",
   "metadata": {},
   "outputs": [],
   "source": [
    "train_x['Age_<10'] = train_x['Age'].apply(lambda x: 0 if x < 10 else 1)\n",
    "test_x['Age_<10'] = test_x['Age'].apply(lambda x: 0 if x < 10 else 1)"
   ]
  },
  {
   "cell_type": "code",
   "execution_count": 57,
   "id": "basic-venue",
   "metadata": {},
   "outputs": [],
   "source": [
    "train_x[['PassengerId', 'Age_<10']].to_feather('../features/nn/age_train_<10.feather')\n",
    "test_x[['PassengerId', 'Age_<10']].to_feather('../features/nn/age_test_<10.feather')"
   ]
  },
  {
   "cell_type": "markdown",
   "id": "russian-boxing",
   "metadata": {},
   "source": [
    "#### In 30s"
   ]
  },
  {
   "cell_type": "code",
   "execution_count": 59,
   "id": "other-organ",
   "metadata": {},
   "outputs": [],
   "source": [
    "train_x, train_y, test_x = load_data()"
   ]
  },
  {
   "cell_type": "code",
   "execution_count": 60,
   "id": "cordless-scheme",
   "metadata": {},
   "outputs": [],
   "source": [
    "train_x['Age_30s'] = train_x['Age'].apply(lambda x: 0 if x > 30 or x < 30 else 1)\n",
    "test_x['Age_30s'] = test_x['Age'].apply(lambda x: 0 if x > 30 or x < 30 else 1)"
   ]
  },
  {
   "cell_type": "code",
   "execution_count": 61,
   "id": "turkish-verification",
   "metadata": {},
   "outputs": [],
   "source": [
    "train_x[['PassengerId', 'Age_30s']].to_feather('../features/nn/age_train_30s.feather')\n",
    "test_x[['PassengerId', 'Age_30s']].to_feather('../features/nn/age_test_30s.feather')"
   ]
  },
  {
   "cell_type": "markdown",
   "id": "acute-reform",
   "metadata": {},
   "source": [
    "### Fare"
   ]
  },
  {
   "cell_type": "code",
   "execution_count": 23,
   "id": "animal-christmas",
   "metadata": {},
   "outputs": [],
   "source": [
    "train_x, train_y, test_x = load_data()"
   ]
  },
  {
   "cell_type": "code",
   "execution_count": 24,
   "id": "prompt-plymouth",
   "metadata": {},
   "outputs": [
    {
     "name": "stdout",
     "output_type": "stream",
     "text": [
      "Col has na in train_x:  False\n",
      "Col has na in test_x:  True\n"
     ]
    }
   ],
   "source": [
    "print('Col has na in train_x: ', train_x['Fare'].isna().any())\n",
    "print('Col has na in test_x: ', test_x['Fare'].isna().any())"
   ]
  },
  {
   "cell_type": "markdown",
   "id": "southeast-commons",
   "metadata": {},
   "source": [
    "#### Fill na by target encoding"
   ]
  },
  {
   "cell_type": "code",
   "execution_count": 25,
   "id": "tired-carter",
   "metadata": {},
   "outputs": [],
   "source": [
    "data_tmp = pd.DataFrame({'Fare': train_x['Fare'], 'Survived': train_y})\n",
    "target_mean = data_tmp.groupby('Survived').mean().to_dict()\n",
    "index_nan_0 = (train_x['Fare'].isna()) & (train_y == 0)\n",
    "index_nan_1 = (train_x['Fare'].isna()) & (train_y == 1)\n",
    "train_x.loc[index_nan_0, 'Fare'] = target_mean['Fare'][0]\n",
    "train_x.loc[index_nan_1, 'Fare'] = target_mean['Fare'][1]"
   ]
  },
  {
   "cell_type": "code",
   "execution_count": 26,
   "id": "married-contamination",
   "metadata": {},
   "outputs": [],
   "source": [
    "random.seed(0)\n",
    "index_nan = test_x['Fare'].isna()\n",
    "test_x['Fare'] = test_x['Fare'].apply(lambda x:\n",
    "                                         random.choice([target_mean['Fare'][0], target_mean['Fare'][1]]) if np.isnan(x) else x\n",
    "                                     )"
   ]
  },
  {
   "cell_type": "code",
   "execution_count": 27,
   "id": "boxed-panic",
   "metadata": {},
   "outputs": [],
   "source": [
    "scaler = StandardScaler()\n",
    "train_x['Fare'] = scaler.fit_transform(train_x['Fare'].values.reshape(len(train_x), -1)).ravel()\n",
    "test_x['Fare'] = scaler.transform(test_x['Fare'].values.reshape(len(test_x), -1)).ravel()"
   ]
  },
  {
   "cell_type": "code",
   "execution_count": 28,
   "id": "asian-migration",
   "metadata": {},
   "outputs": [],
   "source": [
    "train_x[['PassengerId', 'Fare']].to_feather('../features/nn/fare_train_std_te.feather')\n",
    "test_x[['PassengerId', 'Fare']].to_feather('../features/nn/fare_test_std_te.feather')"
   ]
  },
  {
   "cell_type": "markdown",
   "id": "correct-canal",
   "metadata": {},
   "source": [
    "#### Fill na with average"
   ]
  },
  {
   "cell_type": "code",
   "execution_count": 29,
   "id": "increasing-chart",
   "metadata": {},
   "outputs": [],
   "source": [
    "train_x, train_y, test_x = load_data()"
   ]
  },
  {
   "cell_type": "code",
   "execution_count": 30,
   "id": "grand-knife",
   "metadata": {},
   "outputs": [],
   "source": [
    "all_x = pd.concat([train_x, test_x])\n",
    "mean = all_x['Fare'].mean()"
   ]
  },
  {
   "cell_type": "code",
   "execution_count": 31,
   "id": "blind-strain",
   "metadata": {},
   "outputs": [],
   "source": [
    "index_nan = test_x['Fare'].isna()\n",
    "test_x.loc[index_nan, 'Fare'] = mean"
   ]
  },
  {
   "cell_type": "code",
   "execution_count": 32,
   "id": "brutal-beginning",
   "metadata": {},
   "outputs": [],
   "source": [
    "scaler = StandardScaler()\n",
    "train_x['Fare'] = scaler.fit_transform(train_x['Fare'].values.reshape(len(train_x), -1)).ravel()\n",
    "test_x['Fare'] = scaler.transform(test_x['Fare'].values.reshape(len(test_x), -1)).ravel()"
   ]
  },
  {
   "cell_type": "code",
   "execution_count": 33,
   "id": "mounted-reward",
   "metadata": {},
   "outputs": [],
   "source": [
    "train_x[['PassengerId', 'Fare']].to_feather('../features/nn/fare_train_std_mean.feather')\n",
    "test_x[['PassengerId', 'Fare']].to_feather('../features/nn/fare_test_std_mean.feather')"
   ]
  },
  {
   "cell_type": "markdown",
   "id": "sustainable-membrane",
   "metadata": {},
   "source": [
    "#### Under 10"
   ]
  },
  {
   "cell_type": "code",
   "execution_count": 67,
   "id": "sexual-butler",
   "metadata": {},
   "outputs": [],
   "source": [
    "train_x, train_y, test_x = load_data()"
   ]
  },
  {
   "cell_type": "code",
   "execution_count": 68,
   "id": "french-absence",
   "metadata": {},
   "outputs": [],
   "source": [
    "train_x['Fare_<10'] = train_x['Fare'].apply(lambda x: 0 if x > 10 else 1)\n",
    "test_x['Fare_<10'] = test_x['Fare'].apply(lambda x: 0 if x > 10 else 1)"
   ]
  },
  {
   "cell_type": "code",
   "execution_count": 69,
   "id": "perceived-parade",
   "metadata": {},
   "outputs": [],
   "source": [
    "train_x[['PassengerId', 'Fare_<10']].to_feather('../features/nn/fare_train_<10.feather')\n",
    "test_x[['PassengerId', 'Fare_<10']].to_feather('../features/nn/fare_test_<10.feather')"
   ]
  },
  {
   "cell_type": "markdown",
   "id": "better-prevention",
   "metadata": {},
   "source": [
    "#### Over 50"
   ]
  },
  {
   "cell_type": "code",
   "execution_count": 63,
   "id": "wooden-karma",
   "metadata": {},
   "outputs": [],
   "source": [
    "train_x, train_y, test_x = load_data()"
   ]
  },
  {
   "cell_type": "code",
   "execution_count": 64,
   "id": "dimensional-colombia",
   "metadata": {},
   "outputs": [],
   "source": [
    "train_x['Fare_>50'] = train_x['Fare'].apply(lambda x: 0 if x < 50 else 1)\n",
    "test_x['Fare_>50'] = test_x['Fare'].apply(lambda x: 0 if x < 50 else 1)"
   ]
  },
  {
   "cell_type": "code",
   "execution_count": 66,
   "id": "common-legend",
   "metadata": {},
   "outputs": [],
   "source": [
    "train_x[['PassengerId', 'Fare_>50']].to_feather('../features/nn/fare_train_>50.feather')\n",
    "test_x[['PassengerId', 'Fare_>50']].to_feather('../features/nn/fare_test_>50.feather')"
   ]
  },
  {
   "cell_type": "markdown",
   "id": "solid-hughes",
   "metadata": {},
   "source": [
    "## Cols to one hot encode"
   ]
  },
  {
   "cell_type": "code",
   "execution_count": 34,
   "id": "portuguese-duration",
   "metadata": {},
   "outputs": [
    {
     "name": "stdout",
     "output_type": "stream",
     "text": [
      "Cols to one hot encode:\n",
      "['Pclass', 'Name', 'Sex', 'Ticket', 'Cabin', 'Embarked']\n"
     ]
    }
   ],
   "source": [
    "train_x, train_y, test_x = load_data()\n",
    "cat_cols = ['Pclass'] + train_x.dtypes[\n",
    "                ~train_x.dtypes.isin([np.dtype('int64'), np.dtype('float64')])\n",
    "            ].index.to_list()\n",
    "print('Cols to one hot encode:')\n",
    "print(cat_cols)"
   ]
  },
  {
   "cell_type": "code",
   "execution_count": 35,
   "id": "willing-female",
   "metadata": {},
   "outputs": [
    {
     "data": {
      "text/plain": [
       "Pclass      False\n",
       "Name        False\n",
       "Sex         False\n",
       "Ticket      False\n",
       "Cabin        True\n",
       "Embarked     True\n",
       "dtype: bool"
      ]
     },
     "execution_count": 35,
     "metadata": {},
     "output_type": "execute_result"
    }
   ],
   "source": [
    "train_x[cat_cols].isna().any()"
   ]
  },
  {
   "cell_type": "markdown",
   "id": "needed-charleston",
   "metadata": {},
   "source": [
    "### Pclass, Sex, Ticket"
   ]
  },
  {
   "cell_type": "code",
   "execution_count": 36,
   "id": "tight-video",
   "metadata": {},
   "outputs": [],
   "source": [
    "train_x, train_y, test_x = load_data()"
   ]
  },
  {
   "cell_type": "code",
   "execution_count": 37,
   "id": "terminal-audience",
   "metadata": {},
   "outputs": [],
   "source": [
    "cols_to_ohe = ['Pclass', 'Sex', 'Ticket']\n",
    "all_x = pd.concat([train_x, test_x])\n",
    "all_x = all_x[['PassengerId'] + cols_to_ohe]\n",
    "all_x = pd.get_dummies(all_x, columns=cols_to_ohe)"
   ]
  },
  {
   "cell_type": "code",
   "execution_count": 38,
   "id": "little-intention",
   "metadata": {},
   "outputs": [],
   "source": [
    "is_in_train = all_x['PassengerId'].isin(train_x['PassengerId'])\n",
    "is_in_test = all_x['PassengerId'].isin(test_x['PassengerId'])"
   ]
  },
  {
   "cell_type": "code",
   "execution_count": 39,
   "id": "soviet-tennis",
   "metadata": {},
   "outputs": [],
   "source": [
    "all_x[is_in_train].to_feather('../features/nn/train_ohe.feather')\n",
    "all_x[is_in_test].to_feather('../features/nn/test_ohe.feather')"
   ]
  },
  {
   "cell_type": "markdown",
   "id": "balanced-azerbaijan",
   "metadata": {},
   "source": [
    "### Cabin, Embarked"
   ]
  },
  {
   "cell_type": "code",
   "execution_count": 40,
   "id": "environmental-shooting",
   "metadata": {},
   "outputs": [],
   "source": [
    "train_x, train_y, test_x = load_data()"
   ]
  },
  {
   "cell_type": "code",
   "execution_count": 41,
   "id": "traditional-question",
   "metadata": {},
   "outputs": [],
   "source": [
    "cols_to_ohe = ['Cabin', 'Embarked']\n",
    "all_x = pd.concat([train_x, test_x])\n",
    "all_x = all_x[['PassengerId'] + cols_to_ohe]"
   ]
  },
  {
   "cell_type": "code",
   "execution_count": 42,
   "id": "fixed-small",
   "metadata": {},
   "outputs": [],
   "source": [
    "all_x['Cabin'] = all_x['Cabin'].apply(\n",
    "    lambda x: 'Z' if type(x) == 'float' and np.isnan(x) else x\n",
    ")\n",
    "all_x['Embarked'] = all_x['Embarked'].apply(\n",
    "    lambda x: 'Z' if type(x) == 'float' and np.isnan(x) else x\n",
    ")"
   ]
  },
  {
   "cell_type": "code",
   "execution_count": 43,
   "id": "manufactured-peter",
   "metadata": {},
   "outputs": [],
   "source": [
    "all_x = pd.get_dummies(all_x, columns=cols_to_ohe)"
   ]
  },
  {
   "cell_type": "code",
   "execution_count": 44,
   "id": "treated-telling",
   "metadata": {},
   "outputs": [],
   "source": [
    "is_in_train = all_x['PassengerId'].isin(train_x['PassengerId'])\n",
    "is_in_test = all_x['PassengerId'].isin(test_x['PassengerId'])"
   ]
  },
  {
   "cell_type": "code",
   "execution_count": 45,
   "id": "outdoor-dress",
   "metadata": {},
   "outputs": [],
   "source": [
    "all_x[is_in_train].to_feather('../features/nn/train_ohe_2_z.feather')\n",
    "all_x[is_in_test].to_feather('../features/nn/test_ohe_2_z.feather')"
   ]
  },
  {
   "cell_type": "markdown",
   "id": "closing-wrapping",
   "metadata": {},
   "source": [
    "### Cabin"
   ]
  },
  {
   "cell_type": "markdown",
   "id": "popular-drain",
   "metadata": {},
   "source": [
    "If exist"
   ]
  },
  {
   "cell_type": "code",
   "execution_count": 72,
   "id": "global-overall",
   "metadata": {},
   "outputs": [],
   "source": [
    "train_x, train_y, test_x = load_data()"
   ]
  },
  {
   "cell_type": "code",
   "execution_count": 73,
   "id": "stretch-acquisition",
   "metadata": {},
   "outputs": [],
   "source": [
    "train_x['Cabin_exist'] = train_x['Cabin'].apply(lambda x: 0 if type(x) == float and np.isnan(x) else 1)\n",
    "test_x['Cabin_exist'] = test_x['Cabin'].apply(lambda x: 0 if type(x) == float and np.isnan(x) else 1)"
   ]
  },
  {
   "cell_type": "code",
   "execution_count": 74,
   "id": "related-knitting",
   "metadata": {},
   "outputs": [],
   "source": [
    "train_x[['PassengerId', 'Cabin_exist']].to_feather('../features/nn/cabin_train_exist.feather')\n",
    "test_x[['PassengerId', 'Cabin_exist']].to_feather('../features/nn/cabin_test_exist.feather')"
   ]
  },
  {
   "cell_type": "markdown",
   "id": "liked-aaron",
   "metadata": {},
   "source": [
    "If in [B, C, D, E, F]"
   ]
  },
  {
   "cell_type": "code",
   "execution_count": 78,
   "id": "structural-stock",
   "metadata": {},
   "outputs": [],
   "source": [
    "train_x, train_y, test_x = load_data()"
   ]
  },
  {
   "cell_type": "code",
   "execution_count": 79,
   "id": "comparative-enforcement",
   "metadata": {},
   "outputs": [],
   "source": [
    "train_x['Cabin_B-F'] = train_x['Cabin'].apply(lambda x:\n",
    "                                                  0 if type(x) == float and np.isnan(x) else\n",
    "                                                  0 if x[0] not in ['B', 'C', 'D', 'E', 'F'] else\n",
    "                                                  1\n",
    "                                             )\n",
    "test_x['Cabin_B-F'] = train_x['Cabin'].apply(lambda x:\n",
    "                                                 0 if type(x) == float and np.isnan(x) else\n",
    "                                                 0 if x[0] not in ['B', 'C', 'D', 'E', 'F'] else\n",
    "                                                 1\n",
    "                                            )"
   ]
  },
  {
   "cell_type": "code",
   "execution_count": 80,
   "id": "dimensional-footwear",
   "metadata": {},
   "outputs": [],
   "source": [
    "train_x[['PassengerId', 'Cabin_B-F']].to_feather('../features/nn/cabin_train_B-F.feather')\n",
    "test_x[['PassengerId', 'Cabin_B-F']].to_feather('../features/nn/cabin_test_B-F.feather')"
   ]
  },
  {
   "cell_type": "code",
   "execution_count": null,
   "id": "greek-baseball",
   "metadata": {},
   "outputs": [],
   "source": []
  },
  {
   "cell_type": "code",
   "execution_count": null,
   "id": "coral-recorder",
   "metadata": {},
   "outputs": [],
   "source": []
  }
 ],
 "metadata": {
  "kernelspec": {
   "display_name": "Python 3",
   "language": "python",
   "name": "python3"
  },
  "language_info": {
   "codemirror_mode": {
    "name": "ipython",
    "version": 3
   },
   "file_extension": ".py",
   "mimetype": "text/x-python",
   "name": "python",
   "nbconvert_exporter": "python",
   "pygments_lexer": "ipython3",
   "version": "3.7.9"
  }
 },
 "nbformat": 4,
 "nbformat_minor": 5
}
