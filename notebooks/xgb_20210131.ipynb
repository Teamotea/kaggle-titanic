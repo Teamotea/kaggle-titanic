{
 "cells": [
  {
   "cell_type": "code",
   "execution_count": 1,
   "metadata": {},
   "outputs": [],
   "source": [
    "# 一つ上の階層からモジュールを参照できるようにする\n",
    "import sys\n",
    "sys.path.append('..')"
   ]
  },
  {
   "cell_type": "code",
   "execution_count": 2,
   "metadata": {},
   "outputs": [],
   "source": [
    "# モジュールの変更を自動的に反映する\n",
    "%load_ext autoreload\n",
    "%autoreload 2"
   ]
  },
  {
   "cell_type": "code",
   "execution_count": 3,
   "metadata": {},
   "outputs": [],
   "source": [
    "# loggingの設定を行う\n",
    "from datetime import datetime, timezone, timedelta\n",
    "today = datetime.now(timezone(timedelta(hours=9)))\n",
    "exp_version = today.strftime('%Y%m%d')\n",
    "\n",
    "import os\n",
    "os.environ['exp_version'] = exp_version\n",
    "\n",
    "from logs.logger import create_logger\n",
    "create_logger(exp_version)"
   ]
  },
  {
   "cell_type": "code",
   "execution_count": 33,
   "metadata": {},
   "outputs": [],
   "source": [
    "import numpy as np\n",
    "import pandas as pd\n",
    "from features.funcs import load_feather\n",
    "from evals.funcs import get_pred_result, get_acc_and_logloss, print_conf_matrix\n",
    "from models.xgb import ModelXGB, ModelXGBSklearn\n",
    "import xgboost as xgb"
   ]
  },
  {
   "cell_type": "code",
   "execution_count": 5,
   "metadata": {},
   "outputs": [
    {
     "name": "stdout",
     "output_type": "stream",
     "text": [
      "['test.csv', 'train.csv', 'gender_submission.csv']\n"
     ]
    }
   ],
   "source": [
    "input_files = os.listdir('../input/')\n",
    "print(input_files)"
   ]
  },
  {
   "cell_type": "code",
   "execution_count": 6,
   "metadata": {},
   "outputs": [
    {
     "name": "stdout",
     "output_type": "stream",
     "text": [
      "Columns in the training data (12):\n",
      "Index(['PassengerId', 'Survived', 'Pclass', 'Name', 'Sex', 'Age', 'SibSp',\n",
      "       'Parch', 'Ticket', 'Fare', 'Cabin', 'Embarked'],\n",
      "      dtype='object')\n",
      "\n",
      "Columns in the test data (11):\n",
      "Index(['PassengerId', 'Pclass', 'Name', 'Sex', 'Age', 'SibSp', 'Parch',\n",
      "       'Ticket', 'Fare', 'Cabin', 'Embarked'],\n",
      "      dtype='object')\n"
     ]
    }
   ],
   "source": [
    "base_path = '../input/'\n",
    "train_df = pd.read_csv(base_path + 'train.csv')\n",
    "test_df = pd.read_csv(base_path + 'test.csv')\n",
    "print(f'Columns in the training data ({train_df.shape[1]}):')\n",
    "print(train_df.columns)\n",
    "print()\n",
    "print(f'Columns in the test data ({test_df.shape[1]}):')\n",
    "print(test_df.columns)"
   ]
  },
  {
   "cell_type": "code",
   "execution_count": 7,
   "metadata": {},
   "outputs": [],
   "source": [
    "def load_data():\n",
    "    train_x = train_df.drop(['Survived'], axis=1)\n",
    "    train_y = train_df['Survived']\n",
    "    test_x = test_df\n",
    "    return train_x, train_y, test_x"
   ]
  },
  {
   "cell_type": "markdown",
   "metadata": {},
   "source": [
    "### Base"
   ]
  },
  {
   "cell_type": "code",
   "execution_count": 8,
   "metadata": {},
   "outputs": [],
   "source": [
    "os.environ['model_name'] = 'BASE MODEL'"
   ]
  },
  {
   "cell_type": "code",
   "execution_count": 9,
   "metadata": {},
   "outputs": [],
   "source": [
    "train_x, train_y, test_x = load_data()\n",
    "train_x = train_x.drop(['Name', 'Cabin', 'Ticket'], axis=1)\n",
    "test_x = test_x.drop(['Name', 'Cabin', 'Ticket'], axis=1)\n",
    "\n",
    "base_path = '../features/'\n",
    "\n",
    "train_x = load_feather(train_x, base_path + 'sex_train.feather', 'Sex')\n",
    "test_x = load_feather(test_x, base_path + 'sex_test.feather', 'Sex')\n",
    "\n",
    "train_x = load_feather(train_x, base_path + 'embarked_train.feather', 'Embarked')\n",
    "test_x = load_feather(test_x, base_path + 'embarked_test.feather', 'Embarked')"
   ]
  },
  {
   "cell_type": "code",
   "execution_count": 10,
   "metadata": {},
   "outputs": [
    {
     "name": "stdout",
     "output_type": "stream",
     "text": [
      "[0]\ttrain-logloss:0.54032\teval-logloss:0.58476\n",
      "[1]\ttrain-logloss:0.45127\teval-logloss:0.53676\n",
      "[2]\ttrain-logloss:0.39128\teval-logloss:0.50857\n",
      "[3]\ttrain-logloss:0.34878\teval-logloss:0.49415\n",
      "[4]\ttrain-logloss:0.31972\teval-logloss:0.49030\n",
      "[5]\ttrain-logloss:0.29561\teval-logloss:0.48866\n",
      "[6]\ttrain-logloss:0.27656\teval-logloss:0.49654\n",
      "[7]\ttrain-logloss:0.26086\teval-logloss:0.50617\n",
      "[8]\ttrain-logloss:0.24263\teval-logloss:0.50667\n",
      "[9]\ttrain-logloss:0.22808\teval-logloss:0.51274\n",
      "[0]\ttrain-logloss:0.54673\teval-logloss:0.58209\n",
      "[1]\ttrain-logloss:0.46331\teval-logloss:0.52585\n",
      "[2]\ttrain-logloss:0.40880\teval-logloss:0.49644\n",
      "[3]\ttrain-logloss:0.36922\teval-logloss:0.47830\n",
      "[4]\ttrain-logloss:0.33897\teval-logloss:0.46656\n",
      "[5]\ttrain-logloss:0.31576\teval-logloss:0.46058\n",
      "[6]\ttrain-logloss:0.29641\teval-logloss:0.45693\n",
      "[7]\ttrain-logloss:0.28004\teval-logloss:0.45260\n",
      "[8]\ttrain-logloss:0.26846\teval-logloss:0.44551\n",
      "[9]\ttrain-logloss:0.25781\teval-logloss:0.44293\n",
      "[0]\ttrain-logloss:0.55261\teval-logloss:0.56436\n",
      "[1]\ttrain-logloss:0.46820\teval-logloss:0.49086\n",
      "[2]\ttrain-logloss:0.41672\teval-logloss:0.44540\n",
      "[3]\ttrain-logloss:0.37840\teval-logloss:0.42236\n",
      "[4]\ttrain-logloss:0.35220\teval-logloss:0.40774\n",
      "[5]\ttrain-logloss:0.33108\teval-logloss:0.39698\n",
      "[6]\ttrain-logloss:0.31575\teval-logloss:0.39007\n",
      "[7]\ttrain-logloss:0.29944\teval-logloss:0.38476\n",
      "[8]\ttrain-logloss:0.28595\teval-logloss:0.37838\n",
      "[9]\ttrain-logloss:0.27798\teval-logloss:0.38187\n",
      "[0]\ttrain-logloss:0.54864\teval-logloss:0.56603\n",
      "[1]\ttrain-logloss:0.46776\teval-logloss:0.50468\n",
      "[2]\ttrain-logloss:0.41141\teval-logloss:0.45855\n",
      "[3]\ttrain-logloss:0.37347\teval-logloss:0.44021\n",
      "[4]\ttrain-logloss:0.34740\teval-logloss:0.42711\n",
      "[5]\ttrain-logloss:0.32252\teval-logloss:0.42172\n",
      "[6]\ttrain-logloss:0.29901\teval-logloss:0.40974\n",
      "[7]\ttrain-logloss:0.28411\teval-logloss:0.40577\n",
      "[8]\ttrain-logloss:0.26819\teval-logloss:0.41452\n",
      "[9]\ttrain-logloss:0.25557\teval-logloss:0.41348\n"
     ]
    }
   ],
   "source": [
    "model = ModelXGB()\n",
    "pred_train1, preds_test1 = get_pred_result(model, train_x, train_y, test_x)"
   ]
  },
  {
   "cell_type": "code",
   "execution_count": 11,
   "metadata": {},
   "outputs": [
    {
     "name": "stdout",
     "output_type": "stream",
     "text": [
      "data size: 891\n",
      "correct predictions: 729\n",
      "accuracy: 0.8181818182\n",
      "logloss: 0.4377829715\n",
      "[[492  57]\n",
      " [105 237]]\n"
     ]
    }
   ],
   "source": [
    "get_acc_and_logloss(pred_train1, train_y)\n",
    "print_conf_matrix(pred_train1, train_y)"
   ]
  },
  {
   "cell_type": "markdown",
   "metadata": {},
   "source": [
    "### Cols without Embarked"
   ]
  },
  {
   "cell_type": "code",
   "execution_count": 12,
   "metadata": {},
   "outputs": [],
   "source": [
    "os.environ['model_name'] = 'MODEL WITHOUT EMBARKED'"
   ]
  },
  {
   "cell_type": "code",
   "execution_count": 13,
   "metadata": {},
   "outputs": [],
   "source": [
    "train_x, train_y, test_x = load_data()\n",
    "train_x = train_x.drop(['Name', 'Cabin', 'Ticket', 'Embarked'], axis=1)\n",
    "test_x = test_x.drop(['Name', 'Cabin', 'Ticket', 'Embarked'], axis=1)\n",
    "\n",
    "base_path = '../features/'\n",
    "\n",
    "train_x = load_feather(train_x, base_path + 'sex_train.feather', 'Sex')\n",
    "test_x = load_feather(test_x, base_path + 'sex_test.feather', 'Sex')"
   ]
  },
  {
   "cell_type": "code",
   "execution_count": 14,
   "metadata": {},
   "outputs": [
    {
     "name": "stdout",
     "output_type": "stream",
     "text": [
      "[0]\ttrain-logloss:0.54220\teval-logloss:0.59055\n",
      "[1]\ttrain-logloss:0.45272\teval-logloss:0.54021\n",
      "[2]\ttrain-logloss:0.39321\teval-logloss:0.51694\n",
      "[3]\ttrain-logloss:0.35435\teval-logloss:0.50316\n",
      "[4]\ttrain-logloss:0.32421\teval-logloss:0.49580\n",
      "[5]\ttrain-logloss:0.30211\teval-logloss:0.49630\n",
      "[6]\ttrain-logloss:0.28496\teval-logloss:0.49979\n",
      "[7]\ttrain-logloss:0.27057\teval-logloss:0.50552\n",
      "[8]\ttrain-logloss:0.25138\teval-logloss:0.50684\n",
      "[9]\ttrain-logloss:0.23777\teval-logloss:0.51587\n",
      "[0]\ttrain-logloss:0.54673\teval-logloss:0.58209\n",
      "[1]\ttrain-logloss:0.46331\teval-logloss:0.52585\n",
      "[2]\ttrain-logloss:0.40891\teval-logloss:0.49481\n",
      "[3]\ttrain-logloss:0.36968\teval-logloss:0.47818\n",
      "[4]\ttrain-logloss:0.34233\teval-logloss:0.46233\n",
      "[5]\ttrain-logloss:0.31821\teval-logloss:0.46253\n",
      "[6]\ttrain-logloss:0.29912\teval-logloss:0.46465\n",
      "[7]\ttrain-logloss:0.28159\teval-logloss:0.46842\n",
      "[8]\ttrain-logloss:0.27014\teval-logloss:0.45922\n",
      "[9]\ttrain-logloss:0.25800\teval-logloss:0.46113\n",
      "[0]\ttrain-logloss:0.55764\teval-logloss:0.56199\n",
      "[1]\ttrain-logloss:0.47570\teval-logloss:0.49126\n",
      "[2]\ttrain-logloss:0.42482\teval-logloss:0.44605\n",
      "[3]\ttrain-logloss:0.38340\teval-logloss:0.41837\n",
      "[4]\ttrain-logloss:0.35596\teval-logloss:0.40724\n",
      "[5]\ttrain-logloss:0.33432\teval-logloss:0.39895\n",
      "[6]\ttrain-logloss:0.31760\teval-logloss:0.38572\n",
      "[7]\ttrain-logloss:0.30574\teval-logloss:0.38220\n",
      "[8]\ttrain-logloss:0.29316\teval-logloss:0.37938\n",
      "[9]\ttrain-logloss:0.28263\teval-logloss:0.37934\n",
      "[0]\ttrain-logloss:0.54920\teval-logloss:0.56422\n",
      "[1]\ttrain-logloss:0.46876\teval-logloss:0.50278\n",
      "[2]\ttrain-logloss:0.41250\teval-logloss:0.45876\n",
      "[3]\ttrain-logloss:0.37452\teval-logloss:0.43894\n",
      "[4]\ttrain-logloss:0.34985\teval-logloss:0.42494\n",
      "[5]\ttrain-logloss:0.32128\teval-logloss:0.42511\n",
      "[6]\ttrain-logloss:0.30236\teval-logloss:0.41592\n",
      "[7]\ttrain-logloss:0.28309\teval-logloss:0.41022\n",
      "[8]\ttrain-logloss:0.27232\teval-logloss:0.40609\n",
      "[9]\ttrain-logloss:0.26116\teval-logloss:0.40660\n"
     ]
    }
   ],
   "source": [
    "model = ModelXGB()\n",
    "pred_train1, preds_test1 = get_pred_result(model, train_x, train_y, test_x)"
   ]
  },
  {
   "cell_type": "code",
   "execution_count": 15,
   "metadata": {},
   "outputs": [
    {
     "name": "stdout",
     "output_type": "stream",
     "text": [
      "data size: 891\n",
      "correct predictions: 729\n",
      "accuracy: 0.8181818182\n",
      "logloss: 0.4407730976\n"
     ]
    }
   ],
   "source": [
    "get_acc_and_logloss(pred_train1, train_y)"
   ]
  },
  {
   "cell_type": "markdown",
   "metadata": {},
   "source": [
    "### Cols with AgeGroup"
   ]
  },
  {
   "cell_type": "code",
   "execution_count": 16,
   "metadata": {},
   "outputs": [],
   "source": [
    "os.environ['model_name'] = 'MODEL WITH AGEGROUP'"
   ]
  },
  {
   "cell_type": "code",
   "execution_count": 17,
   "metadata": {},
   "outputs": [],
   "source": [
    "train_x, train_y, test_x = load_data()\n",
    "train_x = train_x.drop(['Name', 'Cabin', 'Ticket'], axis=1)\n",
    "test_x = test_x.drop(['Name', 'Cabin', 'Ticket'], axis=1)\n",
    "\n",
    "base_path = '../features/'\n",
    "\n",
    "train_x = load_feather(train_x, base_path + 'sex_train.feather', 'Sex')\n",
    "test_x = load_feather(test_x, base_path + 'sex_test.feather', 'Sex')\n",
    "\n",
    "train_x = load_feather(train_x, base_path + 'embarked_train.feather', 'Embarked')\n",
    "test_x = load_feather(test_x, base_path + 'embarked_test.feather', 'Embarked')\n",
    "\n",
    "train_x = load_feather(train_x, base_path + 'age_train.feather', 'AgeGroup')\n",
    "test_x = load_feather(test_x, base_path + 'age_test.feather', 'AgeGroup')"
   ]
  },
  {
   "cell_type": "code",
   "execution_count": 18,
   "metadata": {},
   "outputs": [
    {
     "name": "stdout",
     "output_type": "stream",
     "text": [
      "[0]\ttrain-logloss:0.54032\teval-logloss:0.58476\n",
      "[1]\ttrain-logloss:0.45127\teval-logloss:0.53676\n",
      "[2]\ttrain-logloss:0.39128\teval-logloss:0.50857\n",
      "[3]\ttrain-logloss:0.34878\teval-logloss:0.49415\n",
      "[4]\ttrain-logloss:0.31972\teval-logloss:0.49030\n",
      "[5]\ttrain-logloss:0.29561\teval-logloss:0.48866\n",
      "[6]\ttrain-logloss:0.27656\teval-logloss:0.49654\n",
      "[7]\ttrain-logloss:0.26086\teval-logloss:0.50617\n",
      "[8]\ttrain-logloss:0.24263\teval-logloss:0.50667\n",
      "[9]\ttrain-logloss:0.22808\teval-logloss:0.51274\n",
      "[0]\ttrain-logloss:0.54673\teval-logloss:0.58209\n",
      "[1]\ttrain-logloss:0.46331\teval-logloss:0.52585\n",
      "[2]\ttrain-logloss:0.40880\teval-logloss:0.49644\n",
      "[3]\ttrain-logloss:0.36922\teval-logloss:0.47830\n",
      "[4]\ttrain-logloss:0.33897\teval-logloss:0.46656\n",
      "[5]\ttrain-logloss:0.31576\teval-logloss:0.46058\n",
      "[6]\ttrain-logloss:0.29641\teval-logloss:0.45693\n",
      "[7]\ttrain-logloss:0.28004\teval-logloss:0.45260\n",
      "[8]\ttrain-logloss:0.26846\teval-logloss:0.44551\n",
      "[9]\ttrain-logloss:0.25781\teval-logloss:0.44293\n",
      "[0]\ttrain-logloss:0.55261\teval-logloss:0.56436\n",
      "[1]\ttrain-logloss:0.46820\teval-logloss:0.49086\n",
      "[2]\ttrain-logloss:0.41672\teval-logloss:0.44540\n",
      "[3]\ttrain-logloss:0.37840\teval-logloss:0.42236\n",
      "[4]\ttrain-logloss:0.35220\teval-logloss:0.40774\n",
      "[5]\ttrain-logloss:0.33108\teval-logloss:0.39698\n",
      "[6]\ttrain-logloss:0.31575\teval-logloss:0.39007\n",
      "[7]\ttrain-logloss:0.29944\teval-logloss:0.38476\n",
      "[8]\ttrain-logloss:0.28595\teval-logloss:0.37838\n",
      "[9]\ttrain-logloss:0.27798\teval-logloss:0.38187\n",
      "[0]\ttrain-logloss:0.54864\teval-logloss:0.56603\n",
      "[1]\ttrain-logloss:0.46776\teval-logloss:0.50468\n",
      "[2]\ttrain-logloss:0.41141\teval-logloss:0.45855\n",
      "[3]\ttrain-logloss:0.37347\teval-logloss:0.44021\n",
      "[4]\ttrain-logloss:0.34740\teval-logloss:0.42711\n",
      "[5]\ttrain-logloss:0.32252\teval-logloss:0.42172\n",
      "[6]\ttrain-logloss:0.29901\teval-logloss:0.40974\n",
      "[7]\ttrain-logloss:0.28411\teval-logloss:0.40577\n",
      "[8]\ttrain-logloss:0.26819\teval-logloss:0.41452\n",
      "[9]\ttrain-logloss:0.25557\teval-logloss:0.41348\n"
     ]
    }
   ],
   "source": [
    "model = ModelXGB()\n",
    "pred_train, preds_test = get_pred_result(model, train_x, train_y, test_x)"
   ]
  },
  {
   "cell_type": "code",
   "execution_count": 19,
   "metadata": {},
   "outputs": [
    {
     "name": "stdout",
     "output_type": "stream",
     "text": [
      "data size: 891\n",
      "correct predictions: 729\n",
      "accuracy: 0.8181818182\n",
      "logloss: 0.4377829715\n"
     ]
    }
   ],
   "source": [
    "get_acc_and_logloss(pred_train, train_y)"
   ]
  },
  {
   "cell_type": "code",
   "execution_count": 20,
   "metadata": {},
   "outputs": [
    {
     "data": {
      "text/plain": [
       "<AxesSubplot:title={'center':'Feature importance'}, xlabel='F score', ylabel='Features'>"
      ]
     },
     "execution_count": 20,
     "metadata": {},
     "output_type": "execute_result"
    },
    {
     "data": {
      "image/png": "[encoded data removed]",
      "text/plain": [
       "<Figure size 432x288 with 1 Axes>"
      ]
     },
     "metadata": {
      "needs_background": "light"
     },
     "output_type": "display_data"
    }
   ],
   "source": [
    "xgb.plot_importance(model.get_model())"
   ]
  },
  {
   "cell_type": "markdown",
   "metadata": {},
   "source": [
    "#### different params"
   ]
  },
  {
   "cell_type": "code",
   "execution_count": 21,
   "metadata": {},
   "outputs": [],
   "source": [
    "os.environ['model_name'] = 'MODEL WITH AGEGROUP WITH NUM ROUND CHANGED'"
   ]
  },
  {
   "cell_type": "code",
   "execution_count": 22,
   "metadata": {},
   "outputs": [],
   "source": [
    "model = ModelXGB(num_round=15, verbose_eval=False)\n",
    "pred_train, preds_test = get_pred_result(model, train_x, train_y, test_x)"
   ]
  },
  {
   "cell_type": "code",
   "execution_count": 23,
   "metadata": {},
   "outputs": [
    {
     "name": "stdout",
     "output_type": "stream",
     "text": [
      "data size: 891\n",
      "correct predictions: 725\n",
      "accuracy: 0.8136924804\n",
      "logloss: 0.4540425585\n"
     ]
    }
   ],
   "source": [
    "get_acc_and_logloss(pred_train, train_y)"
   ]
  },
  {
   "cell_type": "markdown",
   "metadata": {},
   "source": [
    "### Sklearn API"
   ]
  },
  {
   "cell_type": "code",
   "execution_count": 87,
   "metadata": {},
   "outputs": [
    {
     "name": "stdout",
     "output_type": "stream",
     "text": [
      "data size: 891\n",
      "correct predictions: 730\n",
      "accuracy: 0.8193041526\n",
      "logloss: 2.9124730335\n"
     ]
    }
   ],
   "source": [
    "model = ModelXGBSklearn(n_estimators=15, learning_rate=0.2, verbose=False)\n",
    "pred_train, preds_test = get_pred_result(model, train_x, train_y, test_x)\n",
    "get_acc_and_logloss(pred_train, train_y)"
   ]
  },
  {
   "cell_type": "code",
   "execution_count": 69,
   "metadata": {},
   "outputs": [
    {
     "data": {
      "text/plain": [
       "<AxesSubplot:title={'center':'Feature importance'}, xlabel='F score', ylabel='Features'>"
      ]
     },
     "execution_count": 69,
     "metadata": {},
     "output_type": "execute_result"
    },
    {
     "data": {
      "image/png": "[encoded data removed]",
      "text/plain": [
       "<Figure size 432x288 with 1 Axes>"
      ]
     },
     "metadata": {
      "needs_background": "light"
     },
     "output_type": "display_data"
    }
   ],
   "source": [
    "xgb.plot_importance(model.get_model())"
   ]
  },
  {
   "cell_type": "code",
   "execution_count": 64,
   "metadata": {},
   "outputs": [
    {
     "name": "stdout",
     "output_type": "stream",
     "text": [
      "data size: 891\n",
      "correct predictions: 730\n",
      "accuracy: 0.8193041526\n",
      "logloss: 2.9124730335\n"
     ]
    }
   ],
   "source": [
    "model = ModelXGBSklearn(n_estimators=100, learning_rate=0.03, verbose=False)\n",
    "pred_train, preds_test = get_pred_result(model, train_x, train_y, test_x)\n",
    "get_acc_and_logloss(pred_train, train_y)"
   ]
  },
  {
   "cell_type": "code",
   "execution_count": 66,
   "metadata": {},
   "outputs": [
    {
     "data": {
      "text/plain": [
       "<AxesSubplot:title={'center':'Feature importance'}, xlabel='F score', ylabel='Features'>"
      ]
     },
     "execution_count": 66,
     "metadata": {},
     "output_type": "execute_result"
    },
    {
     "data": {
      "image/png": "[encoded data removed]",
      "text/plain": [
       "<Figure size 432x288 with 1 Axes>"
      ]
     },
     "metadata": {
      "needs_background": "light"
     },
     "output_type": "display_data"
    }
   ],
   "source": [
    "xgb.plot_importance(model.get_model())"
   ]
  },
  {
   "cell_type": "code",
   "execution_count": 85,
   "metadata": {},
   "outputs": [
    {
     "name": "stdout",
     "output_type": "stream",
     "text": [
      "data size: 891\n",
      "correct predictions: 733\n",
      "accuracy: 0.8226711560\n",
      "logloss: 2.8582033515\n"
     ]
    }
   ],
   "source": [
    "model = ModelXGBSklearn(n_estimators=20, learning_rate=0.2, verbose=False, max_depth=None)\n",
    "pred_train, preds_test = get_pred_result(model, train_x.drop('PassengerId', axis=1), train_y, test_x.drop('PassengerId', axis=1))\n",
    "get_acc_and_logloss(pred_train, train_y)"
   ]
  },
  {
   "cell_type": "code",
   "execution_count": 77,
   "metadata": {},
   "outputs": [
    {
     "data": {
      "text/plain": [
       "<AxesSubplot:title={'center':'Feature importance'}, xlabel='F score', ylabel='Features'>"
      ]
     },
     "execution_count": 77,
     "metadata": {},
     "output_type": "execute_result"
    },
    {
     "data": {
      "image/png": "[encoded data removed]",
      "text/plain": [
       "<Figure size 432x288 with 1 Axes>"
      ]
     },
     "metadata": {
      "needs_background": "light"
     },
     "output_type": "display_data"
    }
   ],
   "source": [
    "xgb.plot_importance(model.get_model())"
   ]
  },
  {
   "cell_type": "markdown",
   "metadata": {},
   "source": [
    "It seems that Age is the most deciding factor in this model. This is understandable if we recall the scene of the famous Titanic movie."
   ]
  },
  {
   "cell_type": "markdown",
   "metadata": {},
   "source": [
    "### GridSearchCV"
   ]
  },
  {
   "cell_type": "code",
   "execution_count": 113,
   "metadata": {},
   "outputs": [],
   "source": [
    "from sklearn.model_selection import GridSearchCV\n",
    "\n",
    "params = {\n",
    "    'objective':['binary:logistic'],\n",
    "    'learning_rate': [0.025, 0.05, 0.1, 0.2, 0.3],\n",
    "    'max_depth': [5, 10, 15, 20, 40, 60, 100],\n",
    "    'silent': [1],\n",
    "    'n_estimators': [5, 10, 15, 20, 40, 60, 100, 1000],\n",
    "    'seed': [1]\n",
    "}"
   ]
  },
  {
   "cell_type": "code",
   "execution_count": 120,
   "metadata": {},
   "outputs": [
    {
     "name": "stdout",
     "output_type": "stream",
     "text": [
      "Fitting 5 folds for each of 280 candidates, totalling 1400 fits\n"
     ]
    },
    {
     "name": "stderr",
     "output_type": "stream",
     "text": [
      "[Parallel(n_jobs=5)]: Using backend LokyBackend with 5 concurrent workers.\n",
      "[Parallel(n_jobs=5)]: Done  74 tasks      | elapsed:    1.5s\n",
      "[Parallel(n_jobs=5)]: Done 314 tasks      | elapsed:   12.3s\n",
      "[Parallel(n_jobs=5)]: Done 720 tasks      | elapsed:   28.2s\n",
      "[Parallel(n_jobs=5)]: Done 1286 tasks      | elapsed:   46.0s\n",
      "[Parallel(n_jobs=5)]: Done 1400 out of 1400 | elapsed:   50.4s finished\n"
     ]
    },
    {
     "data": {
      "text/plain": [
       "GridSearchCV(estimator=XGBClassifier(base_score=None, booster=None,\n",
       "                                     colsample_bylevel=None,\n",
       "                                     colsample_bynode=None,\n",
       "                                     colsample_bytree=None, gamma=None,\n",
       "                                     gpu_id=None, importance_type='gain',\n",
       "                                     interaction_constraints=None,\n",
       "                                     learning_rate=None, max_delta_step=None,\n",
       "                                     max_depth=None, min_child_weight=None,\n",
       "                                     missing=nan, monotone_constraints=None,\n",
       "                                     n_estimators=100, n_jobs=None...\n",
       "                                     reg_alpha=None, reg_lambda=None,\n",
       "                                     scale_pos_weight=None, subsample=None,\n",
       "                                     tree_method=None, validate_parameters=None,\n",
       "                                     verbosity=None),\n",
       "             n_jobs=5,\n",
       "             param_grid={'learning_rate': [0.025, 0.05, 0.1, 0.2, 0.3],\n",
       "                         'max_depth': [5, 10, 15, 20, 40, 60, 100],\n",
       "                         'n_estimators': [5, 10, 15, 20, 40, 60, 100, 1000],\n",
       "                         'objective': ['binary:logistic'], 'seed': [1],\n",
       "                         'silent': [1]},\n",
       "             refit=False, scoring='accuracy', verbose=2)"
      ]
     },
     "execution_count": 120,
     "metadata": {},
     "output_type": "execute_result"
    }
   ],
   "source": [
    "model = xgb.XGBClassifier()\n",
    "clf = GridSearchCV(model, params, n_jobs=5, scoring='accuracy', verbose=2, refit=False)\n",
    "clf.fit(train_x, train_y)"
   ]
  },
  {
   "cell_type": "code",
   "execution_count": 121,
   "metadata": {},
   "outputs": [
    {
     "data": {
      "text/plain": [
       "0.8193710375996485"
      ]
     },
     "execution_count": 121,
     "metadata": {},
     "output_type": "execute_result"
    }
   ],
   "source": [
    "clf.best_score_"
   ]
  },
  {
   "cell_type": "code",
   "execution_count": 122,
   "metadata": {},
   "outputs": [
    {
     "data": {
      "text/plain": [
       "{'learning_rate': 0.3,\n",
       " 'max_depth': 15,\n",
       " 'n_estimators': 5,\n",
       " 'objective': 'binary:logistic',\n",
       " 'seed': 1,\n",
       " 'silent': 1}"
      ]
     },
     "execution_count": 122,
     "metadata": {},
     "output_type": "execute_result"
    }
   ],
   "source": [
    "clf.best_params_"
   ]
  },
  {
   "cell_type": "code",
   "execution_count": 123,
   "metadata": {},
   "outputs": [
    {
     "name": "stderr",
     "output_type": "stream",
     "text": [
      "[Parallel(n_jobs=5)]: Using backend LokyBackend with 5 concurrent workers.\n"
     ]
    },
    {
     "name": "stdout",
     "output_type": "stream",
     "text": [
      "Fitting 5 folds for each of 280 candidates, totalling 1400 fits\n"
     ]
    },
    {
     "name": "stderr",
     "output_type": "stream",
     "text": [
      "[Parallel(n_jobs=5)]: Done  82 tasks      | elapsed:    1.6s\n",
      "[Parallel(n_jobs=5)]: Done 399 tasks      | elapsed:   16.1s\n",
      "[Parallel(n_jobs=5)]: Done 805 tasks      | elapsed:   32.3s\n",
      "[Parallel(n_jobs=5)]: Done 1371 tasks      | elapsed:   52.3s\n",
      "[Parallel(n_jobs=5)]: Done 1391 out of 1400 | elapsed:   53.1s remaining:    0.3s\n",
      "[Parallel(n_jobs=5)]: Done 1400 out of 1400 | elapsed:   54.4s finished\n"
     ]
    },
    {
     "data": {
      "text/plain": [
       "GridSearchCV(estimator=XGBClassifier(base_score=None, booster=None,\n",
       "                                     colsample_bylevel=None,\n",
       "                                     colsample_bynode=None,\n",
       "                                     colsample_bytree=None, gamma=None,\n",
       "                                     gpu_id=None, importance_type='gain',\n",
       "                                     interaction_constraints=None,\n",
       "                                     learning_rate=None, max_delta_step=None,\n",
       "                                     max_depth=None, min_child_weight=None,\n",
       "                                     missing=nan, monotone_constraints=None,\n",
       "                                     n_estimators=100, n_jobs=None...\n",
       "                                     reg_alpha=None, reg_lambda=None,\n",
       "                                     scale_pos_weight=None, subsample=None,\n",
       "                                     tree_method=None, validate_parameters=None,\n",
       "                                     verbosity=None),\n",
       "             n_jobs=5,\n",
       "             param_grid={'learning_rate': [0.025, 0.05, 0.1, 0.2, 0.3],\n",
       "                         'max_depth': [5, 10, 15, 20, 40, 60, 100],\n",
       "                         'n_estimators': [5, 10, 15, 20, 40, 60, 100, 1000],\n",
       "                         'objective': ['binary:logistic'], 'seed': [1],\n",
       "                         'silent': [1]},\n",
       "             refit=False, scoring='accuracy', verbose=2)"
      ]
     },
     "execution_count": 123,
     "metadata": {},
     "output_type": "execute_result"
    }
   ],
   "source": [
    "clf_2 = GridSearchCV(model, params, n_jobs=5, scoring='accuracy', verbose=2, refit=False)\n",
    "clf_2.fit(train_x.drop('PassengerId', axis=1), train_y)"
   ]
  },
  {
   "cell_type": "code",
   "execution_count": 125,
   "metadata": {},
   "outputs": [
    {
     "data": {
      "text/plain": [
       "0.831680371602536"
      ]
     },
     "execution_count": 125,
     "metadata": {},
     "output_type": "execute_result"
    }
   ],
   "source": [
    "clf_2.best_score_"
   ]
  },
  {
   "cell_type": "code",
   "execution_count": 124,
   "metadata": {},
   "outputs": [
    {
     "data": {
      "text/plain": [
       "{'learning_rate': 0.05,\n",
       " 'max_depth': 20,\n",
       " 'n_estimators': 60,\n",
       " 'objective': 'binary:logistic',\n",
       " 'seed': 1,\n",
       " 'silent': 1}"
      ]
     },
     "execution_count": 124,
     "metadata": {},
     "output_type": "execute_result"
    }
   ],
   "source": [
    "clf_2.best_params_"
   ]
  },
  {
   "cell_type": "code",
   "execution_count": 135,
   "metadata": {},
   "outputs": [
    {
     "name": "stdout",
     "output_type": "stream",
     "text": [
      "Fitting 5 folds for each of 280 candidates, totalling 1400 fits\n"
     ]
    },
    {
     "name": "stderr",
     "output_type": "stream",
     "text": [
      "[Parallel(n_jobs=5)]: Using backend LokyBackend with 5 concurrent workers.\n",
      "[Parallel(n_jobs=5)]: Done  31 tasks      | elapsed:    2.7s\n",
      "[Parallel(n_jobs=5)]: Done 428 tasks      | elapsed:   13.7s\n",
      "[Parallel(n_jobs=5)]: Done 1240 tasks      | elapsed:   35.1s\n",
      "[Parallel(n_jobs=5)]: Done 1400 out of 1400 | elapsed:   40.5s finished\n",
      "[Parallel(n_jobs=5)]: Using backend LokyBackend with 5 concurrent workers.\n"
     ]
    },
    {
     "name": "stdout",
     "output_type": "stream",
     "text": [
      "Fitting 5 folds for each of 280 candidates, totalling 1400 fits\n"
     ]
    },
    {
     "name": "stderr",
     "output_type": "stream",
     "text": [
      "[Parallel(n_jobs=5)]: Done  82 tasks      | elapsed:    1.4s\n",
      "[Parallel(n_jobs=5)]: Done 404 tasks      | elapsed:   11.8s\n",
      "[Parallel(n_jobs=5)]: Done 810 tasks      | elapsed:   23.7s\n",
      "[Parallel(n_jobs=5)]: Done 1376 tasks      | elapsed:   38.1s\n",
      "[Parallel(n_jobs=5)]: Done 1400 out of 1400 | elapsed:   39.6s finished\n",
      "[Parallel(n_jobs=5)]: Using backend LokyBackend with 5 concurrent workers.\n"
     ]
    },
    {
     "name": "stdout",
     "output_type": "stream",
     "text": [
      "Fitting 5 folds for each of 280 candidates, totalling 1400 fits\n"
     ]
    },
    {
     "name": "stderr",
     "output_type": "stream",
     "text": [
      "[Parallel(n_jobs=5)]: Done  74 tasks      | elapsed:    1.3s\n",
      "[Parallel(n_jobs=5)]: Done 558 tasks      | elapsed:   17.8s\n",
      "[Parallel(n_jobs=5)]: Done 1370 tasks      | elapsed:   40.1s\n",
      "[Parallel(n_jobs=5)]: Done 1391 out of 1400 | elapsed:   40.9s remaining:    0.3s\n",
      "[Parallel(n_jobs=5)]: Done 1400 out of 1400 | elapsed:   41.7s finished\n",
      "[Parallel(n_jobs=5)]: Using backend LokyBackend with 5 concurrent workers.\n"
     ]
    },
    {
     "name": "stdout",
     "output_type": "stream",
     "text": [
      "Fitting 5 folds for each of 280 candidates, totalling 1400 fits\n"
     ]
    },
    {
     "name": "stderr",
     "output_type": "stream",
     "text": [
      "[Parallel(n_jobs=5)]: Done  82 tasks      | elapsed:    1.4s\n",
      "[Parallel(n_jobs=5)]: Done 404 tasks      | elapsed:   12.0s\n",
      "[Parallel(n_jobs=5)]: Done 810 tasks      | elapsed:   24.3s\n",
      "[Parallel(n_jobs=5)]: Done 1376 tasks      | elapsed:   39.1s\n",
      "[Parallel(n_jobs=5)]: Done 1400 out of 1400 | elapsed:   40.6s finished\n"
     ]
    }
   ],
   "source": [
    "from sklearn.model_selection import KFold\n",
    "\n",
    "best_params_lst = []\n",
    "kf = KFold(n_splits=4, shuffle=True, random_state=1)\n",
    "\n",
    "for tr_idx, va_idx in kf.split(train_x):\n",
    "    tr_x, va_x = train_x.iloc[tr_idx], train_x.iloc[va_idx]\n",
    "    tr_y, va_y = train_y.iloc[tr_idx], train_y.iloc[va_idx]\n",
    "    \n",
    "    model = xgb.XGBClassifier()\n",
    "    clf_3 = GridSearchCV(model, params, n_jobs=5, scoring='accuracy', verbose=2, refit=False)\n",
    "    clf_3.fit(tr_x.drop('PassengerId', axis=1), tr_y)\n",
    "\n",
    "    best_params_lst.append({'best_params': clf_3.best_params_, 'best_score': clf_3.best_score_})"
   ]
  },
  {
   "cell_type": "code",
   "execution_count": 136,
   "metadata": {},
   "outputs": [
    {
     "data": {
      "text/plain": [
       "[{'best_params': {'learning_rate': 0.2,\n",
       "   'max_depth': 5,\n",
       "   'n_estimators': 5,\n",
       "   'objective': 'binary:logistic',\n",
       "   'seed': 1,\n",
       "   'silent': 1},\n",
       "  'best_score': 0.848793625855684},\n",
       " {'best_params': {'learning_rate': 0.1,\n",
       "   'max_depth': 5,\n",
       "   'n_estimators': 60,\n",
       "   'objective': 'binary:logistic',\n",
       "   'seed': 1,\n",
       "   'silent': 1},\n",
       "  'best_score': 0.8457973291437548},\n",
       " {'best_params': {'learning_rate': 0.1,\n",
       "   'max_depth': 5,\n",
       "   'n_estimators': 100,\n",
       "   'objective': 'binary:logistic',\n",
       "   'seed': 1,\n",
       "   'silent': 1},\n",
       "  'best_score': 0.812894175737852},\n",
       " {'best_params': {'learning_rate': 0.2,\n",
       "   'max_depth': 5,\n",
       "   'n_estimators': 40,\n",
       "   'objective': 'binary:logistic',\n",
       "   'seed': 1,\n",
       "   'silent': 1},\n",
       "  'best_score': 0.8221860621703513}]"
      ]
     },
     "execution_count": 136,
     "metadata": {},
     "output_type": "execute_result"
    }
   ],
   "source": [
    "best_params_lst"
   ]
  },
  {
   "cell_type": "code",
   "execution_count": 137,
   "metadata": {},
   "outputs": [
    {
     "name": "stdout",
     "output_type": "stream",
     "text": [
      "learning_rate: 0.1/0.2\n",
      "max_depth: 5\n",
      "n_estimator: 5/60\n"
     ]
    }
   ],
   "source": [
    "print('learning_rate: 0.1/0.2')\n",
    "print('max_depth: 5')\n",
    "print('n_estimator: 5/60')"
   ]
  },
  {
   "cell_type": "code",
   "execution_count": 140,
   "metadata": {},
   "outputs": [
    {
     "name": "stdout",
     "output_type": "stream",
     "text": [
      "data size: 891\n",
      "correct predictions: 732\n",
      "accuracy: 0.8215488215\n",
      "logloss: 2.8762932455\n"
     ]
    }
   ],
   "source": [
    "model = ModelXGBSklearn(n_estimators=5, learning_rate=0.2, verbose=False, max_depth=5)\n",
    "pred_train, preds_test = get_pred_result(model, train_x.drop('PassengerId', axis=1), train_y, test_x.drop('PassengerId', axis=1))\n",
    "get_acc_and_logloss(pred_train, train_y)"
   ]
  },
  {
   "cell_type": "code",
   "execution_count": 141,
   "metadata": {},
   "outputs": [
    {
     "name": "stdout",
     "output_type": "stream",
     "text": [
      "data size: 891\n",
      "correct predictions: 737\n",
      "accuracy: 0.8271604938\n",
      "logloss: 2.7858437755\n"
     ]
    }
   ],
   "source": [
    "model = ModelXGBSklearn(n_estimators=60, learning_rate=0.1, verbose=False, max_depth=5)\n",
    "pred_train, preds_test = get_pred_result(model, train_x.drop('PassengerId', axis=1), train_y, test_x.drop('PassengerId', axis=1))\n",
    "get_acc_and_logloss(pred_train, train_y)"
   ]
  },
  {
   "cell_type": "code",
   "execution_count": 142,
   "metadata": {},
   "outputs": [
    {
     "name": "stdout",
     "output_type": "stream",
     "text": [
      "data size: 891\n",
      "correct predictions: 728\n",
      "accuracy: 0.8170594837\n",
      "logloss: 2.9486528215\n"
     ]
    }
   ],
   "source": [
    "model = ModelXGBSklearn(n_estimators=100, learning_rate=0.1, verbose=False, max_depth=5)\n",
    "pred_train, preds_test = get_pred_result(model, train_x.drop('PassengerId', axis=1), train_y, test_x.drop('PassengerId', axis=1))\n",
    "get_acc_and_logloss(pred_train, train_y)"
   ]
  },
  {
   "cell_type": "code",
   "execution_count": 143,
   "metadata": {},
   "outputs": [
    {
     "name": "stdout",
     "output_type": "stream",
     "text": [
      "data size: 891\n",
      "correct predictions: 733\n",
      "accuracy: 0.8226711560\n",
      "logloss: 2.8582033515\n"
     ]
    }
   ],
   "source": [
    "model = ModelXGBSklearn(n_estimators=40, learning_rate=0.2, verbose=False, max_depth=5)\n",
    "pred_train, preds_test = get_pred_result(model, train_x.drop('PassengerId', axis=1), train_y, test_x.drop('PassengerId', axis=1))\n",
    "get_acc_and_logloss(pred_train, train_y)"
   ]
  },
  {
   "cell_type": "markdown",
   "metadata": {},
   "source": [
    "### Submission"
   ]
  },
  {
   "cell_type": "code",
   "execution_count": 149,
   "metadata": {},
   "outputs": [
    {
     "name": "stdout",
     "output_type": "stream",
     "text": [
      "[0]\tvalidation_0-logloss:0.64268\n",
      "[1]\tvalidation_0-logloss:0.60161\n",
      "[2]\tvalidation_0-logloss:0.56772\n",
      "[3]\tvalidation_0-logloss:0.53779\n",
      "[4]\tvalidation_0-logloss:0.51350\n",
      "[5]\tvalidation_0-logloss:0.49171\n",
      "[6]\tvalidation_0-logloss:0.47331\n",
      "[7]\tvalidation_0-logloss:0.45640\n",
      "[8]\tvalidation_0-logloss:0.44233\n",
      "[9]\tvalidation_0-logloss:0.42905\n",
      "[10]\tvalidation_0-logloss:0.41744\n",
      "[11]\tvalidation_0-logloss:0.40714\n",
      "[12]\tvalidation_0-logloss:0.39810\n",
      "[13]\tvalidation_0-logloss:0.38976\n",
      "[14]\tvalidation_0-logloss:0.38226\n",
      "[15]\tvalidation_0-logloss:0.37616\n",
      "[16]\tvalidation_0-logloss:0.37089\n",
      "[17]\tvalidation_0-logloss:0.36514\n",
      "[18]\tvalidation_0-logloss:0.35965\n",
      "[19]\tvalidation_0-logloss:0.35392\n",
      "[20]\tvalidation_0-logloss:0.34987\n",
      "[21]\tvalidation_0-logloss:0.34662\n",
      "[22]\tvalidation_0-logloss:0.34216\n",
      "[23]\tvalidation_0-logloss:0.33912\n",
      "[24]\tvalidation_0-logloss:0.33610\n",
      "[25]\tvalidation_0-logloss:0.33264\n",
      "[26]\tvalidation_0-logloss:0.33007\n",
      "[27]\tvalidation_0-logloss:0.32802\n",
      "[28]\tvalidation_0-logloss:0.32505\n",
      "[29]\tvalidation_0-logloss:0.32322\n",
      "[30]\tvalidation_0-logloss:0.32155\n",
      "[31]\tvalidation_0-logloss:0.32003\n",
      "[32]\tvalidation_0-logloss:0.31854\n",
      "[33]\tvalidation_0-logloss:0.31578\n",
      "[34]\tvalidation_0-logloss:0.31449\n",
      "[35]\tvalidation_0-logloss:0.31201\n",
      "[36]\tvalidation_0-logloss:0.31089\n",
      "[37]\tvalidation_0-logloss:0.30959\n",
      "[38]\tvalidation_0-logloss:0.30865\n",
      "[39]\tvalidation_0-logloss:0.30568\n",
      "[40]\tvalidation_0-logloss:0.30484\n",
      "[41]\tvalidation_0-logloss:0.30410\n",
      "[42]\tvalidation_0-logloss:0.30207\n",
      "[43]\tvalidation_0-logloss:0.30135\n",
      "[44]\tvalidation_0-logloss:0.29899\n",
      "[45]\tvalidation_0-logloss:0.29817\n",
      "[46]\tvalidation_0-logloss:0.29709\n",
      "[47]\tvalidation_0-logloss:0.29550\n",
      "[48]\tvalidation_0-logloss:0.29373\n",
      "[49]\tvalidation_0-logloss:0.29238\n",
      "[50]\tvalidation_0-logloss:0.29045\n",
      "[51]\tvalidation_0-logloss:0.28903\n",
      "[52]\tvalidation_0-logloss:0.28819\n",
      "[53]\tvalidation_0-logloss:0.28702\n",
      "[54]\tvalidation_0-logloss:0.28546\n",
      "[55]\tvalidation_0-logloss:0.28368\n",
      "[56]\tvalidation_0-logloss:0.28318\n",
      "[57]\tvalidation_0-logloss:0.28170\n",
      "[58]\tvalidation_0-logloss:0.28131\n",
      "[59]\tvalidation_0-logloss:0.27918\n"
     ]
    },
    {
     "data": {
      "text/plain": [
       "XGBClassifier(base_score=0.5, booster='gbtree', colsample_bylevel=1,\n",
       "              colsample_bynode=1, colsample_bytree=1, gamma=0, gpu_id=-1,\n",
       "              importance_type='gain', interaction_constraints='',\n",
       "              learning_rate=0.1, max_delta_step=0, max_depth=5,\n",
       "              min_child_weight=1, missing=nan, monotone_constraints='()',\n",
       "              n_estimators=60, n_jobs=0, num_parallel_tree=1, random_state=1,\n",
       "              reg_alpha=0, reg_lambda=1, scale_pos_weight=1, subsample=1,\n",
       "              tree_method='exact', validate_parameters=1, verbosity=None)"
      ]
     },
     "execution_count": 149,
     "metadata": {},
     "output_type": "execute_result"
    }
   ],
   "source": [
    "model = ModelXGBSklearn(n_estimators=60, learning_rate=0.1, verbose=False, max_depth=5)\n",
    "model.model.fit(train_x.drop('PassengerId', axis=1), train_y, eval_metric='logloss', eval_set=[(train_x.drop('PassengerId', axis=1), train_y)], verbose=True)"
   ]
  },
  {
   "cell_type": "code",
   "execution_count": 151,
   "metadata": {},
   "outputs": [],
   "source": [
    "prediction = model.predict(test_x.drop('PassengerId', axis=1))"
   ]
  },
  {
   "cell_type": "code",
   "execution_count": 154,
   "metadata": {},
   "outputs": [],
   "source": [
    "submission = pd.DataFrame({'PassengerId': test_x['PassengerId'].values, 'Survived': prediction})"
   ]
  },
  {
   "cell_type": "code",
   "execution_count": 158,
   "metadata": {},
   "outputs": [],
   "source": [
    "submission.to_csv('submission.csv', index=False)"
   ]
  }
 ],
 "metadata": {
  "kernelspec": {
   "display_name": "Python 3",
   "language": "python",
   "name": "python3"
  },
  "language_info": {
   "codemirror_mode": {
    "name": "ipython",
    "version": 3
   },
   "file_extension": ".py",
   "mimetype": "text/x-python",
   "name": "python",
   "nbconvert_exporter": "python",
   "pygments_lexer": "ipython3",
   "version": "3.7.4"
  }
 },
 "nbformat": 4,
 "nbformat_minor": 4
}
