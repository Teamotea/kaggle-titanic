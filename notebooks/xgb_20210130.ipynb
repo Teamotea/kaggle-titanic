{
 "cells": [
  {
   "cell_type": "code",
   "execution_count": 1,
   "metadata": {},
   "outputs": [],
   "source": [
    "import sys\n",
    "sys.path.append('..')"
   ]
  },
  {
   "cell_type": "code",
   "execution_count": 2,
   "metadata": {},
   "outputs": [],
   "source": [
    "%load_ext autoreload\n",
    "%autoreload 2"
   ]
  },
  {
   "cell_type": "code",
   "execution_count": 3,
   "metadata": {},
   "outputs": [],
   "source": [
    "from datetime import datetime, timezone, timedelta\n",
    "today = datetime.now(timezone(timedelta(hours=9)))\n",
    "exp_version = today.strftime('%Y%m%d')\n",
    "\n",
    "import os\n",
    "os.environ['exp_version'] = exp_version\n",
    "\n",
    "from logs.logger import create_logger\n",
    "create_logger(exp_version)"
   ]
  },
  {
   "cell_type": "code",
   "execution_count": 4,
   "metadata": {},
   "outputs": [],
   "source": [
    "import numpy as np\n",
    "import pandas as pd"
   ]
  },
  {
   "cell_type": "code",
   "execution_count": 5,
   "metadata": {},
   "outputs": [],
   "source": [
    "from features.funcs import load_feather\n",
    "from evals.funcs import get_pred_result, get_acc_and_logloss, print_conf_matrix\n",
    "from models.xgb import ModelXGB"
   ]
  },
  {
   "cell_type": "code",
   "execution_count": 6,
   "metadata": {},
   "outputs": [
    {
     "name": "stdout",
     "output_type": "stream",
     "text": [
      "['test.csv', 'train.csv', 'gender_submission.csv']\n"
     ]
    }
   ],
   "source": [
    "import os\n",
    "\n",
    "input_files = os.listdir('../input/')\n",
    "print(input_files)"
   ]
  },
  {
   "cell_type": "code",
   "execution_count": 7,
   "metadata": {},
   "outputs": [
    {
     "name": "stdout",
     "output_type": "stream",
     "text": [
      "Columns in the training data (12):\n",
      "Index(['PassengerId', 'Survived', 'Pclass', 'Name', 'Sex', 'Age', 'SibSp',\n",
      "       'Parch', 'Ticket', 'Fare', 'Cabin', 'Embarked'],\n",
      "      dtype='object')\n",
      "\n",
      "Columns in the test data (11):\n",
      "Index(['PassengerId', 'Pclass', 'Name', 'Sex', 'Age', 'SibSp', 'Parch',\n",
      "       'Ticket', 'Fare', 'Cabin', 'Embarked'],\n",
      "      dtype='object')\n"
     ]
    }
   ],
   "source": [
    "base_path = '../input/'\n",
    "train_df = pd.read_csv(base_path + 'train.csv')\n",
    "test_df = pd.read_csv(base_path + 'test.csv')\n",
    "print(f'Columns in the training data ({train_df.shape[1]}):')\n",
    "print(train_df.columns)\n",
    "print()\n",
    "print(f'Columns in the test data ({test_df.shape[1]}):')\n",
    "print(test_df.columns)"
   ]
  },
  {
   "cell_type": "code",
   "execution_count": 8,
   "metadata": {},
   "outputs": [],
   "source": [
    "def load_data():\n",
    "    train_x = train_df.drop(['Survived'], axis=1)\n",
    "    train_y = train_df['Survived']\n",
    "    test_x = test_df\n",
    "    return train_x, train_y, test_x"
   ]
  },
  {
   "cell_type": "markdown",
   "metadata": {},
   "source": [
    "### Base"
   ]
  },
  {
   "cell_type": "code",
   "execution_count": 9,
   "metadata": {},
   "outputs": [],
   "source": [
    "os.environ['model_name'] = 'BASE MODEL'"
   ]
  },
  {
   "cell_type": "code",
   "execution_count": 10,
   "metadata": {},
   "outputs": [],
   "source": [
    "train_x, train_y, test_x = load_data()\n",
    "train_x = train_x.drop(['Name', 'Cabin', 'Ticket'], axis=1)\n",
    "test_x = test_x.drop(['Name', 'Cabin', 'Ticket'], axis=1)\n",
    "\n",
    "base_path = '../features/'\n",
    "\n",
    "train_x = load_feather(train_x, base_path + 'sex_train.feather', 'Sex')\n",
    "test_x = load_feather(test_x, base_path + 'sex_test.feather', 'Sex')\n",
    "\n",
    "train_x = load_feather(train_x, base_path + 'embarked_train.feather', 'Embarked')\n",
    "test_x = load_feather(test_x, base_path + 'embarked_test.feather', 'Embarked')"
   ]
  },
  {
   "cell_type": "code",
   "execution_count": 11,
   "metadata": {},
   "outputs": [
    {
     "name": "stdout",
     "output_type": "stream",
     "text": [
      "[0]\ttrain-logloss:0.54032\teval-logloss:0.58476\n",
      "[1]\ttrain-logloss:0.45127\teval-logloss:0.53676\n",
      "[2]\ttrain-logloss:0.39128\teval-logloss:0.50857\n",
      "[3]\ttrain-logloss:0.34878\teval-logloss:0.49415\n",
      "[4]\ttrain-logloss:0.31972\teval-logloss:0.49030\n",
      "[5]\ttrain-logloss:0.29561\teval-logloss:0.48866\n",
      "[6]\ttrain-logloss:0.27656\teval-logloss:0.49654\n",
      "[7]\ttrain-logloss:0.26086\teval-logloss:0.50617\n",
      "[8]\ttrain-logloss:0.24263\teval-logloss:0.50667\n",
      "[9]\ttrain-logloss:0.22808\teval-logloss:0.51274\n",
      "[0]\ttrain-logloss:0.54673\teval-logloss:0.58209\n",
      "[1]\ttrain-logloss:0.46331\teval-logloss:0.52585\n",
      "[2]\ttrain-logloss:0.40880\teval-logloss:0.49644\n",
      "[3]\ttrain-logloss:0.36922\teval-logloss:0.47830\n",
      "[4]\ttrain-logloss:0.33897\teval-logloss:0.46656\n",
      "[5]\ttrain-logloss:0.31576\teval-logloss:0.46058\n",
      "[6]\ttrain-logloss:0.29641\teval-logloss:0.45693\n",
      "[7]\ttrain-logloss:0.28004\teval-logloss:0.45260\n",
      "[8]\ttrain-logloss:0.26846\teval-logloss:0.44551\n",
      "[9]\ttrain-logloss:0.25781\teval-logloss:0.44293\n",
      "[0]\ttrain-logloss:0.55261\teval-logloss:0.56436\n",
      "[1]\ttrain-logloss:0.46820\teval-logloss:0.49086\n",
      "[2]\ttrain-logloss:0.41672\teval-logloss:0.44540\n",
      "[3]\ttrain-logloss:0.37840\teval-logloss:0.42236\n",
      "[4]\ttrain-logloss:0.35220\teval-logloss:0.40774\n",
      "[5]\ttrain-logloss:0.33108\teval-logloss:0.39698\n",
      "[6]\ttrain-logloss:0.31575\teval-logloss:0.39007\n",
      "[7]\ttrain-logloss:0.29944\teval-logloss:0.38476\n",
      "[8]\ttrain-logloss:0.28595\teval-logloss:0.37838\n",
      "[9]\ttrain-logloss:0.27798\teval-logloss:0.38187\n",
      "[0]\ttrain-logloss:0.54864\teval-logloss:0.56603\n",
      "[1]\ttrain-logloss:0.46776\teval-logloss:0.50468\n",
      "[2]\ttrain-logloss:0.41141\teval-logloss:0.45855\n",
      "[3]\ttrain-logloss:0.37347\teval-logloss:0.44021\n",
      "[4]\ttrain-logloss:0.34740\teval-logloss:0.42711\n",
      "[5]\ttrain-logloss:0.32252\teval-logloss:0.42172\n",
      "[6]\ttrain-logloss:0.29901\teval-logloss:0.40974\n",
      "[7]\ttrain-logloss:0.28411\teval-logloss:0.40577\n",
      "[8]\ttrain-logloss:0.26819\teval-logloss:0.41452\n",
      "[9]\ttrain-logloss:0.25557\teval-logloss:0.41348\n"
     ]
    }
   ],
   "source": [
    "model = ModelXGB()\n",
    "pred_train1, preds_test1 = get_pred_result(model,train_x, train_y, test_x)"
   ]
  },
  {
   "cell_type": "code",
   "execution_count": 12,
   "metadata": {},
   "outputs": [
    {
     "name": "stdout",
     "output_type": "stream",
     "text": [
      "accuracy: 0.8181818182\n",
      "logloss: 0.4377829715\n",
      "[[492  57]\n",
      " [105 237]]\n"
     ]
    }
   ],
   "source": [
    "get_acc_and_logloss(pred_train1, train_y)\n",
    "print_conf_matrix(pred_train1, train_y)"
   ]
  },
  {
   "cell_type": "markdown",
   "metadata": {},
   "source": [
    "### Cols without Embarked"
   ]
  },
  {
   "cell_type": "code",
   "execution_count": 13,
   "metadata": {},
   "outputs": [],
   "source": [
    "os.environ['model_name'] = 'MODEL WITHOUT EMBARKED'"
   ]
  },
  {
   "cell_type": "code",
   "execution_count": 14,
   "metadata": {},
   "outputs": [],
   "source": [
    "train_x, train_y, test_x = load_data()\n",
    "train_x = train_x.drop(['Name', 'Cabin', 'Ticket', 'Embarked'], axis=1)\n",
    "test_x = test_x.drop(['Name', 'Cabin', 'Ticket', 'Embarked'], axis=1)\n",
    "\n",
    "base_path = '../features/'\n",
    "\n",
    "train_x = load_feather(train_x, base_path + 'sex_train.feather', 'Sex')\n",
    "test_x = load_feather(test_x, base_path + 'sex_test.feather', 'Sex')"
   ]
  },
  {
   "cell_type": "code",
   "execution_count": 15,
   "metadata": {},
   "outputs": [
    {
     "name": "stdout",
     "output_type": "stream",
     "text": [
      "[0]\ttrain-logloss:0.54220\teval-logloss:0.59055\n",
      "[1]\ttrain-logloss:0.45272\teval-logloss:0.54021\n",
      "[2]\ttrain-logloss:0.39321\teval-logloss:0.51694\n",
      "[3]\ttrain-logloss:0.35435\teval-logloss:0.50316\n",
      "[4]\ttrain-logloss:0.32421\teval-logloss:0.49580\n",
      "[5]\ttrain-logloss:0.30211\teval-logloss:0.49630\n",
      "[6]\ttrain-logloss:0.28496\teval-logloss:0.49979\n",
      "[7]\ttrain-logloss:0.27057\teval-logloss:0.50552\n",
      "[8]\ttrain-logloss:0.25138\teval-logloss:0.50684\n",
      "[9]\ttrain-logloss:0.23777\teval-logloss:0.51587\n",
      "[0]\ttrain-logloss:0.54673\teval-logloss:0.58209\n",
      "[1]\ttrain-logloss:0.46331\teval-logloss:0.52585\n",
      "[2]\ttrain-logloss:0.40891\teval-logloss:0.49481\n",
      "[3]\ttrain-logloss:0.36968\teval-logloss:0.47818\n",
      "[4]\ttrain-logloss:0.34233\teval-logloss:0.46233\n",
      "[5]\ttrain-logloss:0.31821\teval-logloss:0.46253\n",
      "[6]\ttrain-logloss:0.29912\teval-logloss:0.46465\n",
      "[7]\ttrain-logloss:0.28159\teval-logloss:0.46842\n",
      "[8]\ttrain-logloss:0.27014\teval-logloss:0.45922\n",
      "[9]\ttrain-logloss:0.25800\teval-logloss:0.46113\n",
      "[0]\ttrain-logloss:0.55764\teval-logloss:0.56199\n",
      "[1]\ttrain-logloss:0.47570\teval-logloss:0.49126\n",
      "[2]\ttrain-logloss:0.42482\teval-logloss:0.44605\n",
      "[3]\ttrain-logloss:0.38340\teval-logloss:0.41837\n",
      "[4]\ttrain-logloss:0.35596\teval-logloss:0.40724\n",
      "[5]\ttrain-logloss:0.33432\teval-logloss:0.39895\n",
      "[6]\ttrain-logloss:0.31760\teval-logloss:0.38572\n",
      "[7]\ttrain-logloss:0.30574\teval-logloss:0.38220\n",
      "[8]\ttrain-logloss:0.29316\teval-logloss:0.37938\n",
      "[9]\ttrain-logloss:0.28263\teval-logloss:0.37934\n",
      "[0]\ttrain-logloss:0.54920\teval-logloss:0.56422\n",
      "[1]\ttrain-logloss:0.46876\teval-logloss:0.50278\n",
      "[2]\ttrain-logloss:0.41250\teval-logloss:0.45876\n",
      "[3]\ttrain-logloss:0.37452\teval-logloss:0.43894\n",
      "[4]\ttrain-logloss:0.34985\teval-logloss:0.42494\n",
      "[5]\ttrain-logloss:0.32128\teval-logloss:0.42511\n",
      "[6]\ttrain-logloss:0.30236\teval-logloss:0.41592\n",
      "[7]\ttrain-logloss:0.28309\teval-logloss:0.41022\n",
      "[8]\ttrain-logloss:0.27232\teval-logloss:0.40609\n",
      "[9]\ttrain-logloss:0.26116\teval-logloss:0.40660\n"
     ]
    }
   ],
   "source": [
    "model = ModelXGB()\n",
    "pred_train1, preds_test1 = get_pred_result(model, train_x, train_y, test_x)"
   ]
  },
  {
   "cell_type": "code",
   "execution_count": 16,
   "metadata": {},
   "outputs": [
    {
     "name": "stdout",
     "output_type": "stream",
     "text": [
      "accuracy: 0.8181818182\n",
      "logloss: 0.4407730976\n"
     ]
    }
   ],
   "source": [
    "get_acc_and_logloss(pred_train1, train_y)"
   ]
  },
  {
   "cell_type": "markdown",
   "metadata": {},
   "source": [
    "### Cols with AgeGroup"
   ]
  },
  {
   "cell_type": "code",
   "execution_count": 17,
   "metadata": {},
   "outputs": [],
   "source": [
    "os.environ['model_name'] = 'MODEL WITH AGEGROUP'"
   ]
  },
  {
   "cell_type": "code",
   "execution_count": 18,
   "metadata": {},
   "outputs": [],
   "source": [
    "train_x, train_y, test_x = load_data()\n",
    "train_x = train_x.drop(['Name', 'Cabin', 'Ticket'], axis=1)\n",
    "test_x = test_x.drop(['Name', 'Cabin', 'Ticket'], axis=1)\n",
    "\n",
    "base_path = '../features/'\n",
    "\n",
    "train_x = load_feather(train_x, base_path + 'sex_train.feather', 'Sex')\n",
    "test_x = load_feather(test_x, base_path + 'sex_test.feather', 'Sex')\n",
    "\n",
    "train_x = load_feather(train_x, base_path + 'embarked_train.feather', 'Embarked')\n",
    "test_x = load_feather(test_x, base_path + 'embarked_test.feather', 'Embarked')\n",
    "\n",
    "train_x = load_feather(train_x, base_path + 'age_train.feather', 'AgeGroup')\n",
    "test_x = load_feather(test_x, base_path + 'age_test.feather', 'AgeGroup')"
   ]
  },
  {
   "cell_type": "code",
   "execution_count": 19,
   "metadata": {},
   "outputs": [
    {
     "name": "stdout",
     "output_type": "stream",
     "text": [
      "[0]\ttrain-logloss:0.54032\teval-logloss:0.58476\n",
      "[1]\ttrain-logloss:0.45127\teval-logloss:0.53676\n",
      "[2]\ttrain-logloss:0.39128\teval-logloss:0.50857\n",
      "[3]\ttrain-logloss:0.34878\teval-logloss:0.49415\n",
      "[4]\ttrain-logloss:0.31972\teval-logloss:0.49030\n",
      "[5]\ttrain-logloss:0.29561\teval-logloss:0.48866\n",
      "[6]\ttrain-logloss:0.27656\teval-logloss:0.49654\n",
      "[7]\ttrain-logloss:0.26086\teval-logloss:0.50617\n",
      "[8]\ttrain-logloss:0.24263\teval-logloss:0.50667\n",
      "[9]\ttrain-logloss:0.22808\teval-logloss:0.51274\n",
      "[0]\ttrain-logloss:0.54673\teval-logloss:0.58209\n",
      "[1]\ttrain-logloss:0.46331\teval-logloss:0.52585\n",
      "[2]\ttrain-logloss:0.40880\teval-logloss:0.49644\n",
      "[3]\ttrain-logloss:0.36922\teval-logloss:0.47830\n",
      "[4]\ttrain-logloss:0.33897\teval-logloss:0.46656\n",
      "[5]\ttrain-logloss:0.31576\teval-logloss:0.46058\n",
      "[6]\ttrain-logloss:0.29641\teval-logloss:0.45693\n",
      "[7]\ttrain-logloss:0.28004\teval-logloss:0.45260\n",
      "[8]\ttrain-logloss:0.26846\teval-logloss:0.44551\n",
      "[9]\ttrain-logloss:0.25781\teval-logloss:0.44293\n",
      "[0]\ttrain-logloss:0.55261\teval-logloss:0.56436\n",
      "[1]\ttrain-logloss:0.46820\teval-logloss:0.49086\n",
      "[2]\ttrain-logloss:0.41672\teval-logloss:0.44540\n",
      "[3]\ttrain-logloss:0.37840\teval-logloss:0.42236\n",
      "[4]\ttrain-logloss:0.35220\teval-logloss:0.40774\n",
      "[5]\ttrain-logloss:0.33108\teval-logloss:0.39698\n",
      "[6]\ttrain-logloss:0.31575\teval-logloss:0.39007\n",
      "[7]\ttrain-logloss:0.29944\teval-logloss:0.38476\n",
      "[8]\ttrain-logloss:0.28595\teval-logloss:0.37838\n",
      "[9]\ttrain-logloss:0.27798\teval-logloss:0.38187\n",
      "[0]\ttrain-logloss:0.54864\teval-logloss:0.56603\n",
      "[1]\ttrain-logloss:0.46776\teval-logloss:0.50468\n",
      "[2]\ttrain-logloss:0.41141\teval-logloss:0.45855\n",
      "[3]\ttrain-logloss:0.37347\teval-logloss:0.44021\n",
      "[4]\ttrain-logloss:0.34740\teval-logloss:0.42711\n",
      "[5]\ttrain-logloss:0.32252\teval-logloss:0.42172\n",
      "[6]\ttrain-logloss:0.29901\teval-logloss:0.40974\n",
      "[7]\ttrain-logloss:0.28411\teval-logloss:0.40577\n",
      "[8]\ttrain-logloss:0.26819\teval-logloss:0.41452\n",
      "[9]\ttrain-logloss:0.25557\teval-logloss:0.41348\n"
     ]
    }
   ],
   "source": [
    "model = ModelXGB()\n",
    "pred_train, preds_test = get_pred_result(model,train_x, train_y, test_x)"
   ]
  },
  {
   "cell_type": "code",
   "execution_count": 20,
   "metadata": {},
   "outputs": [
    {
     "name": "stdout",
     "output_type": "stream",
     "text": [
      "accuracy: 0.8181818182\n",
      "logloss: 0.4377829715\n"
     ]
    }
   ],
   "source": [
    "get_acc_and_logloss(pred_train, train_y)"
   ]
  },
  {
   "cell_type": "markdown",
   "metadata": {},
   "source": [
    "#### different params"
   ]
  },
  {
   "cell_type": "code",
   "execution_count": 35,
   "metadata": {},
   "outputs": [],
   "source": [
    "os.environ['model_name'] = 'MODEL WITH AGEGROUP WITH NUM ROUND CHANGED'"
   ]
  },
  {
   "cell_type": "code",
   "execution_count": 36,
   "metadata": {},
   "outputs": [],
   "source": [
    "model = ModelXGB(num_round=15, verbose_eval=False)\n",
    "pred_train, preds_test = get_pred_result(model,train_x, train_y, test_x)"
   ]
  },
  {
   "cell_type": "code",
   "execution_count": 38,
   "metadata": {},
   "outputs": [
    {
     "name": "stdout",
     "output_type": "stream",
     "text": [
      "data size: 891\n",
      "correct predictions: 725\n",
      "accuracy: 0.8136924804\n",
      "logloss: 0.4540425585\n"
     ]
    }
   ],
   "source": [
    "get_acc_and_logloss(pred_train, train_y)"
   ]
  },
  {
   "cell_type": "code",
   "execution_count": null,
   "metadata": {},
   "outputs": [],
   "source": []
  }
 ],
 "metadata": {
  "kernelspec": {
   "display_name": "Python 3",
   "language": "python",
   "name": "python3"
  },
  "language_info": {
   "codemirror_mode": {
    "name": "ipython",
    "version": 3
   },
   "file_extension": ".py",
   "mimetype": "text/x-python",
   "name": "python",
   "nbconvert_exporter": "python",
   "pygments_lexer": "ipython3",
   "version": "3.7.4"
  }
 },
 "nbformat": 4,
 "nbformat_minor": 4
}
