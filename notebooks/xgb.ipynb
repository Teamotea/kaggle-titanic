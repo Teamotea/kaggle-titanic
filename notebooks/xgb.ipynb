{
 "cells": [
  {
   "cell_type": "markdown",
   "metadata": {},
   "source": [
    "## Settings"
   ]
  },
  {
   "cell_type": "code",
   "execution_count": 1,
   "metadata": {},
   "outputs": [],
   "source": [
    "# 一つ上の階層からモジュールを参照できるようにする\n",
    "import sys\n",
    "sys.path.append('..')"
   ]
  },
  {
   "cell_type": "code",
   "execution_count": 2,
   "metadata": {},
   "outputs": [],
   "source": [
    "# ロギング用\n",
    "import os\n",
    "from datetime import datetime, timezone, timedelta\n",
    "from logs.logger import create_logger\n",
    "# モデル作成補助用\n",
    "import numpy as np\n",
    "import pandas as pd\n",
    "import matplotlib.pyplot as plt\n",
    "from features.funcs import load_feather\n",
    "from evals.funcs import get_pred_result, get_acc_and_logloss, print_conf_matrix\n",
    "from inputs.funcs import load_data\n",
    "# モデル作成用\n",
    "import xgboost as xgb\n",
    "from models.xgb import ModelXGB, ModelXGBSklearn\n",
    "from keras.layers import Dense, Dropout\n",
    "from sklearn.model_selection import GridSearchCV\n",
    "from sklearn.model_selection import KFold"
   ]
  },
  {
   "cell_type": "code",
   "execution_count": 3,
   "metadata": {},
   "outputs": [],
   "source": [
    "# モジュールの変更を自動的に反映する\n",
    "%load_ext autoreload\n",
    "%autoreload 2"
   ]
  },
  {
   "cell_type": "code",
   "execution_count": 4,
   "metadata": {},
   "outputs": [],
   "source": [
    "# loggingの設定を行う\n",
    "today = datetime.now(timezone(timedelta(hours=9)))\n",
    "exp_version = today.strftime('%Y%m%d')\n",
    "os.environ['exp_version'] = exp_version\n",
    "create_logger(exp_version)"
   ]
  },
  {
   "cell_type": "markdown",
   "metadata": {},
   "source": [
    "## ModelXGB"
   ]
  },
  {
   "cell_type": "markdown",
   "metadata": {},
   "source": [
    "### Base"
   ]
  },
  {
   "cell_type": "code",
   "execution_count": 24,
   "metadata": {},
   "outputs": [],
   "source": [
    "train_x, train_y, test_x = load_data()"
   ]
  },
  {
   "cell_type": "code",
   "execution_count": 25,
   "metadata": {},
   "outputs": [],
   "source": [
    "train_x = train_x.drop(['Name', 'Cabin', 'Ticket'], axis=1)\n",
    "test_x = test_x.drop(['Name', 'Cabin', 'Ticket'], axis=1)"
   ]
  },
  {
   "cell_type": "code",
   "execution_count": 26,
   "metadata": {},
   "outputs": [],
   "source": [
    "base_path = '../features/xgb/'\n",
    "cols_to_rplc_train = {'Sex': base_path + 'sex_train.feather',\n",
    "                      'Embarked': base_path + 'embarked_train.feather'}\n",
    "train_x = load_feather(train_x, cols_to_rplc_train)"
   ]
  },
  {
   "cell_type": "code",
   "execution_count": 27,
   "metadata": {},
   "outputs": [
    {
     "name": "stderr",
     "output_type": "stream",
     "text": [
      "[INFO] 2021-02-11 20:18:04,416 >>\t=== XGB MODEL ===\n",
      "[INFO] 2021-02-11 20:18:04,417 >>\tPARAMS: {'model_name': 'base_model', 'num_round': 10}\n"
     ]
    }
   ],
   "source": [
    "model = ModelXGB(model_name='base_model', logging=True, verbose_eval=False)\n",
    "pred_train = get_pred_result(model, train_x, train_y)"
   ]
  },
  {
   "cell_type": "code",
   "execution_count": 28,
   "metadata": {},
   "outputs": [
    {
     "name": "stderr",
     "output_type": "stream",
     "text": [
      "[INFO] 2021-02-11 20:18:05,631 >>\tACCURACY: 0.6924803591470258\n",
      "[INFO] 2021-02-11 20:18:05,632 >>\tLOGLOSS: 0.591436999874016\n",
      "[INFO] 2021-02-11 20:18:05,632 >>\tdata size: 891\n",
      "[INFO] 2021-02-11 20:18:05,633 >>\tcorrect predictions: 617\n",
      "[INFO] 2021-02-11 20:18:05,633 >>\t\n"
     ]
    }
   ],
   "source": [
    "get_acc_and_logloss(pred_train, train_y, logging=True)"
   ]
  },
  {
   "cell_type": "markdown",
   "metadata": {},
   "source": [
    "### Without Embarked"
   ]
  },
  {
   "cell_type": "code",
   "execution_count": 67,
   "metadata": {},
   "outputs": [],
   "source": [
    "train_x, train_y, test_x = load_data()"
   ]
  },
  {
   "cell_type": "code",
   "execution_count": 68,
   "metadata": {},
   "outputs": [],
   "source": [
    "train_x = train_x.drop(['Name', 'Cabin', 'Ticket', 'Embarked'], axis=1)"
   ]
  },
  {
   "cell_type": "code",
   "execution_count": 69,
   "metadata": {},
   "outputs": [],
   "source": [
    "base_path = '../features/xgb/'\n",
    "cols_to_rplc_train = {'Sex': base_path + 'sex_train.feather'}\n",
    "train_x = load_feather(train_x, cols_to_rplc_train)\n",
    "train_x = train_x.drop('PassengerId', axis=1)"
   ]
  },
  {
   "cell_type": "code",
   "execution_count": 70,
   "metadata": {},
   "outputs": [
    {
     "name": "stderr",
     "output_type": "stream",
     "text": [
      "[INFO] 2021-02-11 20:28:17,359 >>\t=== XGB MODEL ===\n",
      "[INFO] 2021-02-11 20:28:17,360 >>\tPARAMS: {'model_name': 'without_emberked_col', 'num_round': 10}\n"
     ]
    }
   ],
   "source": [
    "model = ModelXGB(model_name='without_emberked_col', logging=True, verbose_eval=False)\n",
    "pred_train = get_pred_result(model, train_x, train_y)"
   ]
  },
  {
   "cell_type": "code",
   "execution_count": 71,
   "metadata": {},
   "outputs": [
    {
     "name": "stderr",
     "output_type": "stream",
     "text": [
      "[INFO] 2021-02-11 20:28:18,168 >>\tACCURACY: 0.8237934904601572\n",
      "[INFO] 2021-02-11 20:28:18,169 >>\tLOGLOSS: 0.4283875759343975\n",
      "[INFO] 2021-02-11 20:28:18,170 >>\tdata size: 891\n",
      "[INFO] 2021-02-11 20:28:18,170 >>\tcorrect predictions: 734\n",
      "[INFO] 2021-02-11 20:28:18,171 >>\t\n"
     ]
    }
   ],
   "source": [
    "get_acc_and_logloss(pred_train, train_y, logging=True)"
   ]
  },
  {
   "cell_type": "code",
   "execution_count": 72,
   "metadata": {},
   "outputs": [
    {
     "data": {
      "text/plain": [
       "<AxesSubplot:title={'center':'Feature importance'}, xlabel='F score', ylabel='Features'>"
      ]
     },
     "execution_count": 72,
     "metadata": {},
     "output_type": "execute_result"
    },
    {
     "data": {
      "image/png": "[encoded data removed]",
      "text/plain": [
       "<Figure size 432x288 with 1 Axes>"
      ]
     },
     "metadata": {
      "needs_background": "light"
     },
     "output_type": "display_data"
    }
   ],
   "source": [
    "xgb.plot_importance(model.get_model())"
   ]
  },
  {
   "cell_type": "markdown",
   "metadata": {},
   "source": [
    "### Without Embarked with different params"
   ]
  },
  {
   "cell_type": "code",
   "execution_count": 75,
   "metadata": {},
   "outputs": [
    {
     "name": "stderr",
     "output_type": "stream",
     "text": [
      "[INFO] 2021-02-11 20:28:39,383 >>\t=== XGB MODEL ===\n",
      "[INFO] 2021-02-11 20:28:39,385 >>\tPARAMS: {'model_name': 'with_age_group_col_and_more_num_rounds', 'num_round': 15}\n"
     ]
    }
   ],
   "source": [
    "model = ModelXGB(num_round=15, model_name='without_embarked_and_more_num_rounds', logging=True, verbose_eval=False)\n",
    "pred_train = get_pred_result(model, train_x, train_y)"
   ]
  },
  {
   "cell_type": "code",
   "execution_count": 76,
   "metadata": {},
   "outputs": [
    {
     "name": "stderr",
     "output_type": "stream",
     "text": [
      "[INFO] 2021-02-11 20:28:42,794 >>\tACCURACY: 0.8215488215488216\n",
      "[INFO] 2021-02-11 20:28:42,795 >>\tLOGLOSS: 0.43085336870399926\n",
      "[INFO] 2021-02-11 20:28:42,795 >>\tdata size: 891\n",
      "[INFO] 2021-02-11 20:28:42,796 >>\tcorrect predictions: 732\n",
      "[INFO] 2021-02-11 20:28:42,797 >>\t\n"
     ]
    }
   ],
   "source": [
    "get_acc_and_logloss(pred_train, train_y, logging=True)"
   ]
  },
  {
   "cell_type": "markdown",
   "metadata": {},
   "source": [
    "### With AgeGroup"
   ]
  },
  {
   "cell_type": "code",
   "execution_count": 61,
   "metadata": {},
   "outputs": [],
   "source": [
    "train_x, train_y, test_x = load_data()"
   ]
  },
  {
   "cell_type": "code",
   "execution_count": 62,
   "metadata": {},
   "outputs": [],
   "source": [
    "train_x = train_x.drop(['Name', 'Cabin', 'Ticket', 'Embarked'], axis=1)"
   ]
  },
  {
   "cell_type": "code",
   "execution_count": 63,
   "metadata": {},
   "outputs": [],
   "source": [
    "base_path = '../features/xgb/'\n",
    "cols_to_rplc_train = {'Sex': base_path + 'sex_train.feather',\n",
    "                      'AgeGroup': base_path + 'age_train.feather'}\n",
    "train_x = load_feather(train_x, cols_to_rplc_train)\n",
    "train_x = train_x.drop(['PassengerId', 'Age'], axis=1)"
   ]
  },
  {
   "cell_type": "code",
   "execution_count": 64,
   "metadata": {},
   "outputs": [
    {
     "name": "stderr",
     "output_type": "stream",
     "text": [
      "[INFO] 2021-02-11 20:26:32,954 >>\t=== XGB MODEL ===\n",
      "[INFO] 2021-02-11 20:26:32,955 >>\tPARAMS: {'model_name': 'with_age_group_col', 'num_round': 10}\n"
     ]
    }
   ],
   "source": [
    "model = ModelXGB(model_name='with_age_group_col', logging=True, verbose_eval=False)\n",
    "pred_train = get_pred_result(model, train_x, train_y)"
   ]
  },
  {
   "cell_type": "code",
   "execution_count": 65,
   "metadata": {},
   "outputs": [
    {
     "name": "stderr",
     "output_type": "stream",
     "text": [
      "[INFO] 2021-02-11 20:26:34,825 >>\tACCURACY: 0.7227833894500562\n",
      "[INFO] 2021-02-11 20:26:34,826 >>\tLOGLOSS: 0.5756773495990218\n",
      "[INFO] 2021-02-11 20:26:34,827 >>\tdata size: 891\n",
      "[INFO] 2021-02-11 20:26:34,827 >>\tcorrect predictions: 644\n",
      "[INFO] 2021-02-11 20:26:34,828 >>\t\n"
     ]
    }
   ],
   "source": [
    "get_acc_and_logloss(pred_train, train_y, logging=True)"
   ]
  },
  {
   "cell_type": "code",
   "execution_count": 66,
   "metadata": {},
   "outputs": [
    {
     "data": {
      "text/plain": [
       "<AxesSubplot:title={'center':'Feature importance'}, xlabel='F score', ylabel='Features'>"
      ]
     },
     "execution_count": 66,
     "metadata": {},
     "output_type": "execute_result"
    },
    {
     "data": {
      "image/png": "[encoded data removed]",
      "text/plain": [
       "<Figure size 432x288 with 1 Axes>"
      ]
     },
     "metadata": {
      "needs_background": "light"
     },
     "output_type": "display_data"
    }
   ],
   "source": [
    "xgb.plot_importance(model.get_model())"
   ]
  },
  {
   "cell_type": "markdown",
   "metadata": {},
   "source": [
    "## ModelXGBSklearn"
   ]
  },
  {
   "cell_type": "code",
   "execution_count": 78,
   "metadata": {},
   "outputs": [],
   "source": [
    "train_x, train_y, test_x = load_data()"
   ]
  },
  {
   "cell_type": "code",
   "execution_count": 79,
   "metadata": {},
   "outputs": [],
   "source": [
    "train_x = train_x.drop(['Name', 'Cabin', 'Ticket', 'Embarked'], axis=1)"
   ]
  },
  {
   "cell_type": "code",
   "execution_count": 80,
   "metadata": {},
   "outputs": [],
   "source": [
    "base_path = '../features/xgb/'\n",
    "cols_to_rplc_train = {'Sex': base_path + 'sex_train.feather'}\n",
    "train_x = load_feather(train_x, cols_to_rplc_train)\n",
    "train_x = train_x.drop('PassengerId', axis=1)"
   ]
  },
  {
   "cell_type": "markdown",
   "metadata": {},
   "source": [
    "### Base"
   ]
  },
  {
   "cell_type": "code",
   "execution_count": 81,
   "metadata": {},
   "outputs": [
    {
     "name": "stderr",
     "output_type": "stream",
     "text": [
      "[INFO] 2021-02-11 20:31:42,235 >>\t=== XGB SKLEARN MODEL ===\n",
      "[INFO] 2021-02-11 20:31:42,237 >>\tPARAMS: {'model_name': 'sklearn', 'n_estimator': 15, 'learning_rate': 0.2, 'max_depth': None}\n",
      "[INFO] 2021-02-11 20:31:42,331 >>\tACCURACY: 0.8215488215488216\n",
      "[INFO] 2021-02-11 20:31:42,332 >>\tLOGLOSS: 2.8762932454861607\n",
      "[INFO] 2021-02-11 20:31:42,332 >>\tdata size: 891\n",
      "[INFO] 2021-02-11 20:31:42,333 >>\tcorrect predictions: 732\n",
      "[INFO] 2021-02-11 20:31:42,334 >>\t\n"
     ]
    }
   ],
   "source": [
    "model = ModelXGBSklearn(n_estimators=15, learning_rate=0.2, model_name='sklearn', logging=True, verbose=False)\n",
    "pred_train = get_pred_result(model, train_x, train_y)\n",
    "get_acc_and_logloss(pred_train, train_y, logging=True)"
   ]
  },
  {
   "cell_type": "code",
   "execution_count": 82,
   "metadata": {},
   "outputs": [
    {
     "data": {
      "text/plain": [
       "<AxesSubplot:title={'center':'Feature importance'}, xlabel='F score', ylabel='Features'>"
      ]
     },
     "execution_count": 82,
     "metadata": {},
     "output_type": "execute_result"
    },
    {
     "data": {
      "image/png": "[encoded data removed]",
      "text/plain": [
       "<Figure size 432x288 with 1 Axes>"
      ]
     },
     "metadata": {
      "needs_background": "light"
     },
     "output_type": "display_data"
    }
   ],
   "source": [
    "xgb.plot_importance(model.get_model())"
   ]
  },
  {
   "cell_type": "markdown",
   "metadata": {},
   "source": [
    "### With different params"
   ]
  },
  {
   "cell_type": "code",
   "execution_count": 84,
   "metadata": {},
   "outputs": [
    {
     "name": "stderr",
     "output_type": "stream",
     "text": [
      "[INFO] 2021-02-11 20:32:22,330 >>\t=== XGB SKLEARN MODEL ===\n",
      "[INFO] 2021-02-11 20:32:22,331 >>\tPARAMS: {'model_name': 'slearn', 'n_estimator': 100, 'learning_rate': 0.03, 'max_depth': None}\n",
      "[INFO] 2021-02-11 20:32:22,713 >>\tACCURACY: 0.8204264870931538\n",
      "[INFO] 2021-02-11 20:32:22,713 >>\tLOGLOSS: 2.894383139483928\n",
      "[INFO] 2021-02-11 20:32:22,714 >>\tdata size: 891\n",
      "[INFO] 2021-02-11 20:32:22,715 >>\tcorrect predictions: 731\n",
      "[INFO] 2021-02-11 20:32:22,716 >>\t\n"
     ]
    }
   ],
   "source": [
    "model = ModelXGBSklearn(n_estimators=100, learning_rate=0.03, model_name='slearn', logging=True, verbose=False)\n",
    "pred_train = get_pred_result(model, train_x, train_y)\n",
    "get_acc_and_logloss(pred_train, train_y, logging=True)"
   ]
  },
  {
   "cell_type": "code",
   "execution_count": 85,
   "metadata": {},
   "outputs": [
    {
     "data": {
      "text/plain": [
       "<AxesSubplot:title={'center':'Feature importance'}, xlabel='F score', ylabel='Features'>"
      ]
     },
     "execution_count": 85,
     "metadata": {},
     "output_type": "execute_result"
    },
    {
     "data": {
      "image/png": "[encoded data removed]",
      "text/plain": [
       "<Figure size 432x288 with 1 Axes>"
      ]
     },
     "metadata": {
      "needs_background": "light"
     },
     "output_type": "display_data"
    }
   ],
   "source": [
    "xgb.plot_importance(model.get_model())"
   ]
  },
  {
   "cell_type": "markdown",
   "metadata": {},
   "source": [
    "### With different params"
   ]
  },
  {
   "cell_type": "code",
   "execution_count": 86,
   "metadata": {},
   "outputs": [
    {
     "name": "stderr",
     "output_type": "stream",
     "text": [
      "[INFO] 2021-02-11 20:33:35,516 >>\t=== XGB SKLEARN MODEL ===\n",
      "[INFO] 2021-02-11 20:33:35,517 >>\tPARAMS: {'model_name': 'sklearn_without_passenger_id', 'n_estimator': 20, 'learning_rate': 0.2, 'max_depth': None}\n",
      "[INFO] 2021-02-11 20:33:35,615 >>\tACCURACY: 0.8215488215488216\n",
      "[INFO] 2021-02-11 20:33:35,616 >>\tLOGLOSS: 2.876293245487933\n",
      "[INFO] 2021-02-11 20:33:35,616 >>\tdata size: 891\n",
      "[INFO] 2021-02-11 20:33:35,617 >>\tcorrect predictions: 732\n",
      "[INFO] 2021-02-11 20:33:35,618 >>\t\n"
     ]
    }
   ],
   "source": [
    "model = ModelXGBSklearn(n_estimators=20, learning_rate=0.2, max_depth=None, model_name='sklearn_without_passenger_id', verbose=False, logging=True)\n",
    "pred_train = get_pred_result(model, train_x, train_y)\n",
    "get_acc_and_logloss(pred_train, train_y, logging=True)"
   ]
  },
  {
   "cell_type": "code",
   "execution_count": 87,
   "metadata": {},
   "outputs": [
    {
     "data": {
      "text/plain": [
       "<AxesSubplot:title={'center':'Feature importance'}, xlabel='F score', ylabel='Features'>"
      ]
     },
     "execution_count": 87,
     "metadata": {},
     "output_type": "execute_result"
    },
    {
     "data": {
      "image/png": "[encoded data removed]",
      "text/plain": [
       "<Figure size 432x288 with 1 Axes>"
      ]
     },
     "metadata": {
      "needs_background": "light"
     },
     "output_type": "display_data"
    }
   ],
   "source": [
    "xgb.plot_importance(model.get_model())"
   ]
  },
  {
   "cell_type": "markdown",
   "metadata": {},
   "source": [
    "It seems that Age is the most deciding factor in this model. This is understandable if we recall the scene of the famous Titanic movie."
   ]
  },
  {
   "cell_type": "markdown",
   "metadata": {},
   "source": [
    "### GridSearchCV"
   ]
  },
  {
   "cell_type": "markdown",
   "metadata": {},
   "source": [
    "#### Base"
   ]
  },
  {
   "cell_type": "code",
   "execution_count": 92,
   "metadata": {},
   "outputs": [],
   "source": [
    "params = {\n",
    "    'objective':['binary:logistic'],\n",
    "    'learning_rate': [0.025, 0.05, 0.1, 0.2, 0.3],\n",
    "    'max_depth': [5, 10, 15, 20, 40, 60, 100],\n",
    "    'silent': [1],\n",
    "    'n_estimators': [5, 10, 15, 20, 40, 60, 100, 1000],\n",
    "    'seed': [1]\n",
    "}"
   ]
  },
  {
   "cell_type": "code",
   "execution_count": 93,
   "metadata": {},
   "outputs": [
    {
     "name": "stdout",
     "output_type": "stream",
     "text": [
      "Fitting 4 folds for each of 280 candidates, totalling 1120 fits\n"
     ]
    },
    {
     "name": "stderr",
     "output_type": "stream",
     "text": [
      "[Parallel(n_jobs=4)]: Using backend LokyBackend with 4 concurrent workers.\n",
      "[Parallel(n_jobs=4)]: Done  34 tasks      | elapsed:    3.5s\n",
      "[Parallel(n_jobs=4)]: Done 392 tasks      | elapsed:   15.6s\n",
      "[Parallel(n_jobs=4)]: Done 798 tasks      | elapsed:   28.0s\n",
      "[Parallel(n_jobs=4)]: Done 1120 out of 1120 | elapsed:   37.7s finished\n"
     ]
    },
    {
     "data": {
      "text/plain": [
       "GridSearchCV(cv=4,\n",
       "             estimator=XGBClassifier(base_score=None, booster=None,\n",
       "                                     colsample_bylevel=None,\n",
       "                                     colsample_bynode=None,\n",
       "                                     colsample_bytree=None, gamma=None,\n",
       "                                     gpu_id=None, importance_type='gain',\n",
       "                                     interaction_constraints=None,\n",
       "                                     learning_rate=None, max_delta_step=None,\n",
       "                                     max_depth=None, min_child_weight=None,\n",
       "                                     missing=nan, monotone_constraints=None,\n",
       "                                     n_estimators=100, n_jobs...\n",
       "                                     reg_alpha=None, reg_lambda=None,\n",
       "                                     scale_pos_weight=None, subsample=None,\n",
       "                                     tree_method=None, validate_parameters=None,\n",
       "                                     verbosity=None),\n",
       "             n_jobs=4,\n",
       "             param_grid={'learning_rate': [0.025, 0.05, 0.1, 0.2, 0.3],\n",
       "                         'max_depth': [5, 10, 15, 20, 40, 60, 100],\n",
       "                         'n_estimators': [5, 10, 15, 20, 40, 60, 100, 1000],\n",
       "                         'objective': ['binary:logistic'], 'seed': [1],\n",
       "                         'silent': [1]},\n",
       "             refit=False, scoring='accuracy', verbose=2)"
      ]
     },
     "execution_count": 93,
     "metadata": {},
     "output_type": "execute_result"
    }
   ],
   "source": [
    "model = xgb.XGBClassifier()\n",
    "clf = GridSearchCV(model, params, cv=4, n_jobs=4, scoring='accuracy', verbose=2, refit=False)\n",
    "clf.fit(train_x, train_y)"
   ]
  },
  {
   "cell_type": "code",
   "execution_count": 94,
   "metadata": {},
   "outputs": [
    {
     "data": {
      "text/plain": [
       "0.8395295519734981"
      ]
     },
     "execution_count": 94,
     "metadata": {},
     "output_type": "execute_result"
    }
   ],
   "source": [
    "clf.best_score_"
   ]
  },
  {
   "cell_type": "code",
   "execution_count": 95,
   "metadata": {},
   "outputs": [
    {
     "data": {
      "text/plain": [
       "{'learning_rate': 0.2,\n",
       " 'max_depth': 20,\n",
       " 'n_estimators': 15,\n",
       " 'objective': 'binary:logistic',\n",
       " 'seed': 1,\n",
       " 'silent': 1}"
      ]
     },
     "execution_count": 95,
     "metadata": {},
     "output_type": "execute_result"
    }
   ],
   "source": [
    "clf.best_params_"
   ]
  },
  {
   "cell_type": "markdown",
   "metadata": {},
   "source": [
    "### GridSearch against KFold"
   ]
  },
  {
   "cell_type": "code",
   "execution_count": 96,
   "metadata": {},
   "outputs": [
    {
     "name": "stdout",
     "output_type": "stream",
     "text": [
      "Fitting 4 folds for each of 280 candidates, totalling 1120 fits\n"
     ]
    },
    {
     "name": "stderr",
     "output_type": "stream",
     "text": [
      "[Parallel(n_jobs=4)]: Using backend LokyBackend with 4 concurrent workers.\n",
      "[Parallel(n_jobs=4)]: Done 128 tasks      | elapsed:    2.1s\n",
      "[Parallel(n_jobs=4)]: Done 600 tasks      | elapsed:   14.4s\n",
      "[Parallel(n_jobs=4)]: Done 1006 tasks      | elapsed:   25.1s\n",
      "[Parallel(n_jobs=4)]: Done 1120 out of 1120 | elapsed:   28.6s finished\n",
      "[Parallel(n_jobs=4)]: Using backend LokyBackend with 4 concurrent workers.\n"
     ]
    },
    {
     "name": "stdout",
     "output_type": "stream",
     "text": [
      "Fitting 4 folds for each of 280 candidates, totalling 1120 fits\n"
     ]
    },
    {
     "name": "stderr",
     "output_type": "stream",
     "text": [
      "[Parallel(n_jobs=4)]: Done 128 tasks      | elapsed:    2.7s\n",
      "[Parallel(n_jobs=4)]: Done 588 tasks      | elapsed:   17.4s\n",
      "[Parallel(n_jobs=4)]: Done 1113 out of 1120 | elapsed:   30.5s remaining:    0.2s\n",
      "[Parallel(n_jobs=4)]: Done 1120 out of 1120 | elapsed:   31.1s finished\n",
      "[Parallel(n_jobs=4)]: Using backend LokyBackend with 4 concurrent workers.\n"
     ]
    },
    {
     "name": "stdout",
     "output_type": "stream",
     "text": [
      "Fitting 4 folds for each of 280 candidates, totalling 1120 fits\n"
     ]
    },
    {
     "name": "stderr",
     "output_type": "stream",
     "text": [
      "[Parallel(n_jobs=4)]: Done 128 tasks      | elapsed:    2.8s\n",
      "[Parallel(n_jobs=4)]: Done 572 tasks      | elapsed:   16.9s\n",
      "[Parallel(n_jobs=4)]: Done 1113 out of 1120 | elapsed:   31.7s remaining:    0.2s\n",
      "[Parallel(n_jobs=4)]: Done 1120 out of 1120 | elapsed:   32.3s finished\n",
      "[Parallel(n_jobs=4)]: Using backend LokyBackend with 4 concurrent workers.\n"
     ]
    },
    {
     "name": "stdout",
     "output_type": "stream",
     "text": [
      "Fitting 4 folds for each of 280 candidates, totalling 1120 fits\n"
     ]
    },
    {
     "name": "stderr",
     "output_type": "stream",
     "text": [
      "[Parallel(n_jobs=4)]: Done 128 tasks      | elapsed:    3.3s\n",
      "[Parallel(n_jobs=4)]: Done 544 tasks      | elapsed:   17.3s\n",
      "[Parallel(n_jobs=4)]: Done 1113 out of 1120 | elapsed:   33.5s remaining:    0.2s\n",
      "[Parallel(n_jobs=4)]: Done 1120 out of 1120 | elapsed:   33.9s finished\n"
     ]
    }
   ],
   "source": [
    "best_params_lst = []\n",
    "kf = KFold(n_splits=4, shuffle=True, random_state=1)\n",
    "\n",
    "for tr_idx, va_idx in kf.split(train_x):\n",
    "    tr_x, va_x = train_x.iloc[tr_idx], train_x.iloc[va_idx]\n",
    "    tr_y, va_y = train_y.iloc[tr_idx], train_y.iloc[va_idx]\n",
    "    \n",
    "    model = xgb.XGBClassifier()\n",
    "    clf_3 = GridSearchCV(model, params, cv=4, n_jobs=4, scoring='accuracy', verbose=2, refit=False)\n",
    "    clf_3.fit(tr_x, tr_y)\n",
    "\n",
    "    best_params_lst.append({'best_params': clf_3.best_params_, 'best_score': clf_3.best_score_})"
   ]
  },
  {
   "cell_type": "code",
   "execution_count": 97,
   "metadata": {},
   "outputs": [
    {
     "data": {
      "text/plain": [
       "[{'best_params': {'learning_rate': 0.2,\n",
       "   'max_depth': 5,\n",
       "   'n_estimators': 40,\n",
       "   'objective': 'binary:logistic',\n",
       "   'seed': 1,\n",
       "   'silent': 1},\n",
       "  'best_score': 0.841317365269461},\n",
       " {'best_params': {'learning_rate': 0.1,\n",
       "   'max_depth': 15,\n",
       "   'n_estimators': 60,\n",
       "   'objective': 'binary:logistic',\n",
       "   'seed': 1,\n",
       "   'silent': 1},\n",
       "  'best_score': 0.8502994011976048},\n",
       " {'best_params': {'learning_rate': 0.05,\n",
       "   'max_depth': 10,\n",
       "   'n_estimators': 60,\n",
       "   'objective': 'binary:logistic',\n",
       "   'seed': 1,\n",
       "   'silent': 1},\n",
       "  'best_score': 0.8173652694610778},\n",
       " {'best_params': {'learning_rate': 0.025,\n",
       "   'max_depth': 10,\n",
       "   'n_estimators': 15,\n",
       "   'objective': 'binary:logistic',\n",
       "   'seed': 1,\n",
       "   'silent': 1},\n",
       "  'best_score': 0.8132217707442259}]"
      ]
     },
     "execution_count": 97,
     "metadata": {},
     "output_type": "execute_result"
    }
   ],
   "source": [
    "best_params_lst"
   ]
  },
  {
   "cell_type": "code",
   "execution_count": 98,
   "metadata": {},
   "outputs": [
    {
     "name": "stdout",
     "output_type": "stream",
     "text": [
      "learning_rate: 0.1/0.2\n",
      "max_depth: 5/15\n",
      "n_estimator: 40/60\n"
     ]
    }
   ],
   "source": [
    "print('learning_rate: 0.1/0.2')\n",
    "print('max_depth: 5/15')\n",
    "print('n_estimator: 40/60')"
   ]
  },
  {
   "cell_type": "markdown",
   "metadata": {},
   "source": [
    "### Create model based on GridSearch"
   ]
  },
  {
   "cell_type": "code",
   "execution_count": 101,
   "metadata": {},
   "outputs": [
    {
     "name": "stderr",
     "output_type": "stream",
     "text": [
      "[INFO] 2021-02-11 20:46:09,554 >>\t=== XGB SKLEARN MODEL ===\n",
      "[INFO] 2021-02-11 20:46:09,555 >>\tPARAMS: {'model_name': 'grid_search', 'n_estimator': 40, 'learning_rate': 0.2, 'max_depth': 5}\n",
      "[INFO] 2021-02-11 20:46:09,674 >>\tACCURACY: 0.8215488215488216\n",
      "[INFO] 2021-02-11 20:46:09,675 >>\tLOGLOSS: 2.876293245489114\n",
      "[INFO] 2021-02-11 20:46:09,676 >>\tdata size: 891\n",
      "[INFO] 2021-02-11 20:46:09,677 >>\tcorrect predictions: 732\n",
      "[INFO] 2021-02-11 20:46:09,678 >>\t\n",
      "[INFO] 2021-02-11 20:46:09,679 >>\t=== XGB SKLEARN MODEL ===\n",
      "[INFO] 2021-02-11 20:46:09,680 >>\tPARAMS: {'model_name': 'grid_search', 'n_estimator': 60, 'learning_rate': 0.1, 'max_depth': 15}\n",
      "[INFO] 2021-02-11 20:46:09,984 >>\tACCURACY: 0.8249158249158249\n",
      "[INFO] 2021-02-11 20:46:09,985 >>\tLOGLOSS: 2.8220235634987647\n",
      "[INFO] 2021-02-11 20:46:09,986 >>\tdata size: 891\n",
      "[INFO] 2021-02-11 20:46:09,986 >>\tcorrect predictions: 735\n",
      "[INFO] 2021-02-11 20:46:09,987 >>\t\n",
      "[INFO] 2021-02-11 20:46:09,988 >>\t=== XGB SKLEARN MODEL ===\n",
      "[INFO] 2021-02-11 20:46:09,989 >>\tPARAMS: {'model_name': 'grid_search', 'n_estimator': 60, 'learning_rate': 0.05, 'max_depth': 10}\n",
      "[INFO] 2021-02-11 20:46:10,204 >>\tACCURACY: 0.8237934904601572\n",
      "[INFO] 2021-02-11 20:46:10,205 >>\tLOGLOSS: 2.84011345749476\n",
      "[INFO] 2021-02-11 20:46:10,206 >>\tdata size: 891\n",
      "[INFO] 2021-02-11 20:46:10,207 >>\tcorrect predictions: 734\n",
      "[INFO] 2021-02-11 20:46:10,207 >>\t\n",
      "[INFO] 2021-02-11 20:46:10,208 >>\t=== XGB SKLEARN MODEL ===\n",
      "[INFO] 2021-02-11 20:46:10,209 >>\tPARAMS: {'model_name': 'grid_search', 'n_estimator': 15, 'learning_rate': 0.025, 'max_depth': 10}\n",
      "[INFO] 2021-02-11 20:46:10,342 >>\tACCURACY: 0.8092031425364759\n",
      "[INFO] 2021-02-11 20:46:10,343 >>\tLOGLOSS: 3.0752820794551075\n",
      "[INFO] 2021-02-11 20:46:10,343 >>\tdata size: 891\n",
      "[INFO] 2021-02-11 20:46:10,344 >>\tcorrect predictions: 721\n",
      "[INFO] 2021-02-11 20:46:10,345 >>\t\n"
     ]
    }
   ],
   "source": [
    "for best_params in best_params_lst:\n",
    "    best_params = best_params['best_params']\n",
    "    model = ModelXGBSklearn(n_estimators=best_params['n_estimators'],\n",
    "                            learning_rate=best_params['learning_rate'],\n",
    "                            max_depth=best_params['max_depth'],\n",
    "                            model_name='grid_search', logging=True, verbose=False)\n",
    "    pred_train = get_pred_result(model, train_x, train_y)\n",
    "    get_acc_and_logloss(pred_train, train_y, logging=True)"
   ]
  },
  {
   "cell_type": "markdown",
   "metadata": {},
   "source": [
    "### Submission"
   ]
  },
  {
   "cell_type": "code",
   "execution_count": 125,
   "metadata": {},
   "outputs": [
    {
     "data": {
      "text/plain": [
       "XGBClassifier(base_score=0.5, booster='gbtree', colsample_bylevel=1,\n",
       "              colsample_bynode=1, colsample_bytree=1, gamma=0, gpu_id=-1,\n",
       "              importance_type='gain', interaction_constraints='',\n",
       "              learning_rate=0.2, max_delta_step=0, max_depth=5,\n",
       "              min_child_weight=1, missing=nan, monotone_constraints='()',\n",
       "              n_estimators=40, n_jobs=0, num_parallel_tree=1, random_state=1,\n",
       "              reg_alpha=0, reg_lambda=1, scale_pos_weight=1, subsample=1,\n",
       "              tree_method='exact', validate_parameters=1, verbosity=None)"
      ]
     },
     "execution_count": 125,
     "metadata": {},
     "output_type": "execute_result"
    }
   ],
   "source": [
    "model = ModelXGBSklearn(n_estimators=40, learning_rate=0.2, max_depth=5,\n",
    "                        model_name='submission', logging=False, verbose=False)\n",
    "model.model.fit(train_x, train_y, eval_metric='logloss',\n",
    "                eval_set=[(train_x, train_y)], verbose=False)"
   ]
  },
  {
   "cell_type": "code",
   "execution_count": 126,
   "metadata": {},
   "outputs": [],
   "source": [
    "_, _, test_x = load_data()\n",
    "passenger_id = test_x['PassengerId'].values"
   ]
  },
  {
   "cell_type": "code",
   "execution_count": 127,
   "metadata": {},
   "outputs": [],
   "source": [
    "base_path = '../features/xgb/'\n",
    "cols_to_rplc_train = {'Sex': base_path + 'sex_test.feather'}\n",
    "test_x = load_feather(test_x, cols_to_rplc_train)\n",
    "test_x = test_x.drop(['PassengerId', 'Name', 'Cabin', 'Ticket', 'Embarked'], axis=1)"
   ]
  },
  {
   "cell_type": "code",
   "execution_count": 128,
   "metadata": {},
   "outputs": [],
   "source": [
    "prediction = model.predict(test_x)"
   ]
  },
  {
   "cell_type": "code",
   "execution_count": 129,
   "metadata": {},
   "outputs": [],
   "source": [
    "submission = pd.DataFrame({'PassengerId': passenger_id, 'Survived': prediction})"
   ]
  },
  {
   "cell_type": "code",
   "execution_count": 130,
   "metadata": {},
   "outputs": [],
   "source": [
    "submission_file_path = 'submissions/xgb_submission_{}.csv'.format(today.strftime('%Y%m%d'))\n",
    "submission.to_csv(submission_file_path, index=False)"
   ]
  },
  {
   "cell_type": "code",
   "execution_count": null,
   "metadata": {},
   "outputs": [],
   "source": []
  }
 ],
 "metadata": {
  "kernelspec": {
   "display_name": "Python 3",
   "language": "python",
   "name": "python3"
  },
  "language_info": {
   "codemirror_mode": {
    "name": "ipython",
    "version": 3
   },
   "file_extension": ".py",
   "mimetype": "text/x-python",
   "name": "python",
   "nbconvert_exporter": "python",
   "pygments_lexer": "ipython3",
   "version": "3.7.9"
  }
 },
 "nbformat": 4,
 "nbformat_minor": 4
}
