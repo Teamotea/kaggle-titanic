{
 "cells": [
  {
   "cell_type": "markdown",
   "metadata": {},
   "source": [
    "## Settings"
   ]
  },
  {
   "cell_type": "code",
   "execution_count": 1,
   "metadata": {},
   "outputs": [],
   "source": [
    "# 一つ上の階層からモジュールを参照できるようにする\n",
    "import sys\n",
    "sys.path.append('..')"
   ]
  },
  {
   "cell_type": "code",
   "execution_count": 2,
   "metadata": {},
   "outputs": [],
   "source": [
    "# モジュールの変更を自動的に反映する\n",
    "%load_ext autoreload\n",
    "%autoreload 2"
   ]
  },
  {
   "cell_type": "code",
   "execution_count": 3,
   "metadata": {},
   "outputs": [],
   "source": [
    "# loggingの設定を行う\n",
    "from datetime import datetime, timezone, timedelta\n",
    "today = datetime.now(timezone(timedelta(hours=9)))\n",
    "exp_version = today.strftime('%Y%m%d')\n",
    "\n",
    "import os\n",
    "os.environ['exp_version'] = exp_version\n",
    "\n",
    "from logs.logger import create_logger\n",
    "create_logger(exp_version)"
   ]
  },
  {
   "cell_type": "code",
   "execution_count": 4,
   "metadata": {},
   "outputs": [],
   "source": [
    "import numpy as np\n",
    "import pandas as pd\n",
    "from features.funcs import load_feather\n",
    "from evals.funcs import get_pred_result, get_acc_and_logloss, print_conf_matrix\n",
    "from models.xgb import ModelXGB, ModelXGBSklearn\n",
    "import xgboost as xgb"
   ]
  },
  {
   "cell_type": "code",
   "execution_count": 5,
   "metadata": {},
   "outputs": [
    {
     "name": "stdout",
     "output_type": "stream",
     "text": [
      "['test.csv', 'train.csv', 'gender_submission.csv']\n"
     ]
    }
   ],
   "source": [
    "input_files = os.listdir('../input/')\n",
    "print(input_files)"
   ]
  },
  {
   "cell_type": "code",
   "execution_count": 6,
   "metadata": {},
   "outputs": [
    {
     "name": "stdout",
     "output_type": "stream",
     "text": [
      "Columns in the training data (12):\n",
      "Index(['PassengerId', 'Survived', 'Pclass', 'Name', 'Sex', 'Age', 'SibSp',\n",
      "       'Parch', 'Ticket', 'Fare', 'Cabin', 'Embarked'],\n",
      "      dtype='object')\n",
      "\n",
      "Columns in the test data (11):\n",
      "Index(['PassengerId', 'Pclass', 'Name', 'Sex', 'Age', 'SibSp', 'Parch',\n",
      "       'Ticket', 'Fare', 'Cabin', 'Embarked'],\n",
      "      dtype='object')\n"
     ]
    }
   ],
   "source": [
    "base_path = '../input/'\n",
    "train_df = pd.read_csv(base_path + 'train.csv')\n",
    "test_df = pd.read_csv(base_path + 'test.csv')\n",
    "print(f'Columns in the training data ({train_df.shape[1]}):')\n",
    "print(train_df.columns)\n",
    "print()\n",
    "print(f'Columns in the test data ({test_df.shape[1]}):')\n",
    "print(test_df.columns)"
   ]
  },
  {
   "cell_type": "code",
   "execution_count": 7,
   "metadata": {},
   "outputs": [],
   "source": [
    "def load_data():\n",
    "    train_x = train_df.drop(['Survived'], axis=1)\n",
    "    train_y = train_df['Survived']\n",
    "    test_x = test_df\n",
    "    return train_x, train_y, test_x"
   ]
  },
  {
   "cell_type": "markdown",
   "metadata": {},
   "source": [
    "## ModelXGB"
   ]
  },
  {
   "cell_type": "markdown",
   "metadata": {},
   "source": [
    "### Base"
   ]
  },
  {
   "cell_type": "code",
   "execution_count": 8,
   "metadata": {},
   "outputs": [],
   "source": [
    "train_x, train_y, test_x = load_data()\n",
    "train_x = train_x.drop(['Name', 'Cabin', 'Ticket'], axis=1)\n",
    "test_x = test_x.drop(['Name', 'Cabin', 'Ticket'], axis=1)\n",
    "base_path = '../features/'\n",
    "train_x = load_feather(train_x, base_path + 'sex_train.feather', 'Sex')\n",
    "test_x = load_feather(test_x, base_path + 'sex_test.feather', 'Sex')\n",
    "train_x = load_feather(train_x, base_path + 'embarked_train.feather', 'Embarked')\n",
    "test_x = load_feather(test_x, base_path + 'embarked_test.feather', 'Embarked')"
   ]
  },
  {
   "cell_type": "code",
   "execution_count": 9,
   "metadata": {},
   "outputs": [
    {
     "name": "stderr",
     "output_type": "stream",
     "text": [
      "[INFO] 2021-02-07 14:22:36,299 >>\t=== XGB MODEL LOGGING STARTED ===\n",
      "[INFO] 2021-02-07 14:22:36,300 >>\tPARAMS: {'model_name': 'base_model', 'num_round': 10}\n"
     ]
    }
   ],
   "source": [
    "model = ModelXGB(logging=True, model_name='base_model', verbose_eval=False)\n",
    "pred_train1, preds_test1 = get_pred_result(model, train_x, train_y, test_x)"
   ]
  },
  {
   "cell_type": "code",
   "execution_count": 10,
   "metadata": {},
   "outputs": [
    {
     "name": "stderr",
     "output_type": "stream",
     "text": [
      "[INFO] 2021-02-07 14:22:36,415 >>\tACCURACY: 0.8181818181818182\n",
      "[INFO] 2021-02-07 14:22:36,416 >>\tLOGLOSS: 0.43778297150827417\n",
      "[INFO] 2021-02-07 14:22:36,417 >>\tdata size: 891\n",
      "[INFO] 2021-02-07 14:22:36,417 >>\tcorrect predictions: 729\n",
      "[INFO] 2021-02-07 14:22:36,418 >>\t\n"
     ]
    },
    {
     "name": "stdout",
     "output_type": "stream",
     "text": [
      "[[492  57]\n",
      " [105 237]]\n"
     ]
    }
   ],
   "source": [
    "get_acc_and_logloss(pred_train1, train_y, logging=True)\n",
    "print_conf_matrix(pred_train1, train_y)"
   ]
  },
  {
   "cell_type": "markdown",
   "metadata": {},
   "source": [
    "### Without Embarked"
   ]
  },
  {
   "cell_type": "code",
   "execution_count": 11,
   "metadata": {},
   "outputs": [],
   "source": [
    "train_x, train_y, test_x = load_data()\n",
    "train_x = train_x.drop(['Name', 'Cabin', 'Ticket', 'Embarked'], axis=1)\n",
    "test_x = test_x.drop(['Name', 'Cabin', 'Ticket', 'Embarked'], axis=1)\n",
    "base_path = '../features/'\n",
    "train_x = load_feather(train_x, base_path + 'sex_train.feather', 'Sex')\n",
    "test_x = load_feather(test_x, base_path + 'sex_test.feather', 'Sex')"
   ]
  },
  {
   "cell_type": "code",
   "execution_count": 12,
   "metadata": {},
   "outputs": [
    {
     "name": "stderr",
     "output_type": "stream",
     "text": [
      "[INFO] 2021-02-07 14:22:36,566 >>\t=== XGB MODEL LOGGING STARTED ===\n",
      "[INFO] 2021-02-07 14:22:36,568 >>\tPARAMS: {'model_name': 'without_emberked_col', 'num_round': 10}\n"
     ]
    }
   ],
   "source": [
    "model = ModelXGB(logging=True, model_name='without_emberked_col', verbose_eval=False)\n",
    "pred_train1, preds_test1 = get_pred_result(model, train_x, train_y, test_x)"
   ]
  },
  {
   "cell_type": "code",
   "execution_count": 13,
   "metadata": {},
   "outputs": [
    {
     "name": "stderr",
     "output_type": "stream",
     "text": [
      "[INFO] 2021-02-07 14:22:36,691 >>\tACCURACY: 0.8181818181818182\n",
      "[INFO] 2021-02-07 14:22:36,692 >>\tLOGLOSS: 0.44077309764143996\n",
      "[INFO] 2021-02-07 14:22:36,692 >>\tdata size: 891\n",
      "[INFO] 2021-02-07 14:22:36,693 >>\tcorrect predictions: 729\n",
      "[INFO] 2021-02-07 14:22:36,694 >>\t\n"
     ]
    }
   ],
   "source": [
    "get_acc_and_logloss(pred_train1, train_y, logging=True)"
   ]
  },
  {
   "cell_type": "markdown",
   "metadata": {},
   "source": [
    "### With AgeGroup"
   ]
  },
  {
   "cell_type": "code",
   "execution_count": 14,
   "metadata": {},
   "outputs": [],
   "source": [
    "train_x, train_y, test_x = load_data()\n",
    "train_x = train_x.drop(['Name', 'Cabin', 'Ticket'], axis=1)\n",
    "test_x = test_x.drop(['Name', 'Cabin', 'Ticket'], axis=1)\n",
    "base_path = '../features/'\n",
    "train_x = load_feather(train_x, base_path + 'sex_train.feather', 'Sex')\n",
    "test_x = load_feather(test_x, base_path + 'sex_test.feather', 'Sex')\n",
    "train_x = load_feather(train_x, base_path + 'embarked_train.feather', 'Embarked')\n",
    "test_x = load_feather(test_x, base_path + 'embarked_test.feather', 'Embarked')\n",
    "train_x = load_feather(train_x, base_path + 'age_train.feather', 'AgeGroup')\n",
    "test_x = load_feather(test_x, base_path + 'age_test.feather', 'AgeGroup')"
   ]
  },
  {
   "cell_type": "code",
   "execution_count": 15,
   "metadata": {},
   "outputs": [
    {
     "name": "stderr",
     "output_type": "stream",
     "text": [
      "[INFO] 2021-02-07 14:22:36,819 >>\t=== XGB MODEL LOGGING STARTED ===\n",
      "[INFO] 2021-02-07 14:22:36,820 >>\tPARAMS: {'model_name': 'with_age_group_col', 'num_round': 10}\n"
     ]
    }
   ],
   "source": [
    "model = ModelXGB(logging=True, model_name='with_age_group_col', verbose_eval=False)\n",
    "pred_train, preds_test = get_pred_result(model, train_x, train_y, test_x)"
   ]
  },
  {
   "cell_type": "code",
   "execution_count": 16,
   "metadata": {},
   "outputs": [
    {
     "name": "stderr",
     "output_type": "stream",
     "text": [
      "[INFO] 2021-02-07 14:22:36,929 >>\tACCURACY: 0.8181818181818182\n",
      "[INFO] 2021-02-07 14:22:36,930 >>\tLOGLOSS: 0.43778297150827417\n",
      "[INFO] 2021-02-07 14:22:36,930 >>\tdata size: 891\n",
      "[INFO] 2021-02-07 14:22:36,931 >>\tcorrect predictions: 729\n",
      "[INFO] 2021-02-07 14:22:36,932 >>\t\n"
     ]
    }
   ],
   "source": [
    "get_acc_and_logloss(pred_train, train_y, logging=True)"
   ]
  },
  {
   "cell_type": "code",
   "execution_count": 17,
   "metadata": {},
   "outputs": [
    {
     "data": {
      "text/plain": [
       "<AxesSubplot:title={'center':'Feature importance'}, xlabel='F score', ylabel='Features'>"
      ]
     },
     "execution_count": 17,
     "metadata": {},
     "output_type": "execute_result"
    },
    {
     "data": {
      "image/png": "[encoded data removed]",
      "text/plain": [
       "<Figure size 432x288 with 1 Axes>"
      ]
     },
     "metadata": {
      "needs_background": "light"
     },
     "output_type": "display_data"
    }
   ],
   "source": [
    "xgb.plot_importance(model.get_model())"
   ]
  },
  {
   "cell_type": "markdown",
   "metadata": {},
   "source": [
    "### Without Embarked with different params"
   ]
  },
  {
   "cell_type": "code",
   "execution_count": 18,
   "metadata": {},
   "outputs": [
    {
     "name": "stderr",
     "output_type": "stream",
     "text": [
      "[INFO] 2021-02-07 14:22:37,527 >>\t=== XGB MODEL LOGGING STARTED ===\n",
      "[INFO] 2021-02-07 14:22:37,528 >>\tPARAMS: {'model_name': 'with_age_group_col_and_more_num_rounds', 'num_round': 15}\n"
     ]
    }
   ],
   "source": [
    "model = ModelXGB(num_round=15, verbose_eval=False, model_name='with_age_group_col_and_more_num_rounds', logging=True)\n",
    "pred_train, preds_test = get_pred_result(model, train_x, train_y, test_x)"
   ]
  },
  {
   "cell_type": "code",
   "execution_count": 19,
   "metadata": {},
   "outputs": [
    {
     "name": "stderr",
     "output_type": "stream",
     "text": [
      "[INFO] 2021-02-07 14:22:37,643 >>\tACCURACY: 0.813692480359147\n",
      "[INFO] 2021-02-07 14:22:37,644 >>\tLOGLOSS: 0.4540425585102035\n",
      "[INFO] 2021-02-07 14:22:37,644 >>\tdata size: 891\n",
      "[INFO] 2021-02-07 14:22:37,645 >>\tcorrect predictions: 725\n",
      "[INFO] 2021-02-07 14:22:37,646 >>\t\n"
     ]
    }
   ],
   "source": [
    "get_acc_and_logloss(pred_train, train_y, logging=True)"
   ]
  },
  {
   "cell_type": "markdown",
   "metadata": {},
   "source": [
    "## ModelXGBSklearn"
   ]
  },
  {
   "cell_type": "markdown",
   "metadata": {},
   "source": [
    "### Base"
   ]
  },
  {
   "cell_type": "code",
   "execution_count": 20,
   "metadata": {},
   "outputs": [
    {
     "name": "stderr",
     "output_type": "stream",
     "text": [
      "[INFO] 2021-02-07 14:22:37,694 >>\t=== XGB SKLEARN MODEL LOGGING STARTED ===\n",
      "[INFO] 2021-02-07 14:22:37,695 >>\tPARAMS: {'model_name': 'sklearn', 'n_estimator': 15, 'learning_rate': 0.2, 'max_depth': None}\n",
      "[INFO] 2021-02-07 14:22:37,784 >>\tACCURACY: 0.819304152637486\n",
      "[INFO] 2021-02-07 14:22:37,784 >>\tLOGLOSS: 2.9124730334852402\n",
      "[INFO] 2021-02-07 14:22:37,785 >>\tdata size: 891\n",
      "[INFO] 2021-02-07 14:22:37,786 >>\tcorrect predictions: 730\n",
      "[INFO] 2021-02-07 14:22:37,786 >>\t\n"
     ]
    }
   ],
   "source": [
    "model = ModelXGBSklearn(n_estimators=15, learning_rate=0.2, verbose=False, model_name='sklearn', logging=True)\n",
    "pred_train, preds_test = get_pred_result(model, train_x, train_y, test_x)\n",
    "get_acc_and_logloss(pred_train, train_y, logging=True)"
   ]
  },
  {
   "cell_type": "code",
   "execution_count": 21,
   "metadata": {},
   "outputs": [
    {
     "data": {
      "text/plain": [
       "<AxesSubplot:title={'center':'Feature importance'}, xlabel='F score', ylabel='Features'>"
      ]
     },
     "execution_count": 21,
     "metadata": {},
     "output_type": "execute_result"
    },
    {
     "data": {
      "image/png": "[encoded data removed]",
      "text/plain": [
       "<Figure size 432x288 with 1 Axes>"
      ]
     },
     "metadata": {
      "needs_background": "light"
     },
     "output_type": "display_data"
    }
   ],
   "source": [
    "xgb.plot_importance(model.get_model())"
   ]
  },
  {
   "cell_type": "markdown",
   "metadata": {},
   "source": [
    "### With different params"
   ]
  },
  {
   "cell_type": "code",
   "execution_count": 22,
   "metadata": {},
   "outputs": [
    {
     "name": "stderr",
     "output_type": "stream",
     "text": [
      "[INFO] 2021-02-07 14:22:38,046 >>\t=== XGB SKLEARN MODEL LOGGING STARTED ===\n",
      "[INFO] 2021-02-07 14:22:38,047 >>\tPARAMS: {'model_name': 'slearn', 'n_estimator': 100, 'learning_rate': 0.03, 'max_depth': None}\n",
      "[INFO] 2021-02-07 14:22:38,284 >>\tACCURACY: 0.819304152637486\n",
      "[INFO] 2021-02-07 14:22:38,285 >>\tLOGLOSS: 2.9124730334828772\n",
      "[INFO] 2021-02-07 14:22:38,286 >>\tdata size: 891\n",
      "[INFO] 2021-02-07 14:22:38,286 >>\tcorrect predictions: 730\n",
      "[INFO] 2021-02-07 14:22:38,287 >>\t\n"
     ]
    }
   ],
   "source": [
    "model = ModelXGBSklearn(n_estimators=100, learning_rate=0.03, verbose=False, logging=True, model_name='slearn')\n",
    "pred_train, preds_test = get_pred_result(model, train_x, train_y, test_x)\n",
    "get_acc_and_logloss(pred_train, train_y, logging=True)"
   ]
  },
  {
   "cell_type": "code",
   "execution_count": 23,
   "metadata": {},
   "outputs": [
    {
     "data": {
      "text/plain": [
       "<AxesSubplot:title={'center':'Feature importance'}, xlabel='F score', ylabel='Features'>"
      ]
     },
     "execution_count": 23,
     "metadata": {},
     "output_type": "execute_result"
    },
    {
     "data": {
      "image/png": "[encoded data removed]",
      "text/plain": [
       "<Figure size 432x288 with 1 Axes>"
      ]
     },
     "metadata": {
      "needs_background": "light"
     },
     "output_type": "display_data"
    }
   ],
   "source": [
    "xgb.plot_importance(model.get_model())"
   ]
  },
  {
   "cell_type": "markdown",
   "metadata": {},
   "source": [
    "### With different params"
   ]
  },
  {
   "cell_type": "code",
   "execution_count": 24,
   "metadata": {},
   "outputs": [
    {
     "name": "stderr",
     "output_type": "stream",
     "text": [
      "[INFO] 2021-02-07 14:22:38,596 >>\t=== XGB SKLEARN MODEL LOGGING STARTED ===\n",
      "[INFO] 2021-02-07 14:22:38,596 >>\tPARAMS: {'model_name': 'sklearn_without_passenger_id', 'n_estimator': 20, 'learning_rate': 0.2, 'max_depth': None}\n",
      "[INFO] 2021-02-07 14:22:38,709 >>\tACCURACY: 0.8226711560044894\n",
      "[INFO] 2021-02-07 14:22:38,710 >>\tLOGLOSS: 2.858203351492528\n",
      "[INFO] 2021-02-07 14:22:38,711 >>\tdata size: 891\n",
      "[INFO] 2021-02-07 14:22:38,719 >>\tcorrect predictions: 733\n",
      "[INFO] 2021-02-07 14:22:38,721 >>\t\n"
     ]
    }
   ],
   "source": [
    "model = ModelXGBSklearn(n_estimators=20, learning_rate=0.2, verbose=False, max_depth=None, logging=True, model_name='sklearn_without_passenger_id')\n",
    "pred_train, preds_test = get_pred_result(model, train_x.drop('PassengerId', axis=1), train_y, test_x.drop('PassengerId', axis=1))\n",
    "get_acc_and_logloss(pred_train, train_y, logging=True)"
   ]
  },
  {
   "cell_type": "code",
   "execution_count": 25,
   "metadata": {},
   "outputs": [
    {
     "data": {
      "text/plain": [
       "<AxesSubplot:title={'center':'Feature importance'}, xlabel='F score', ylabel='Features'>"
      ]
     },
     "execution_count": 25,
     "metadata": {},
     "output_type": "execute_result"
    },
    {
     "data": {
      "image/png": "[encoded data removed]",
      "text/plain": [
       "<Figure size 432x288 with 1 Axes>"
      ]
     },
     "metadata": {
      "needs_background": "light"
     },
     "output_type": "display_data"
    }
   ],
   "source": [
    "xgb.plot_importance(model.get_model())"
   ]
  },
  {
   "cell_type": "markdown",
   "metadata": {},
   "source": [
    "It seems that Age is the most deciding factor in this model. This is understandable if we recall the scene of the famous Titanic movie."
   ]
  },
  {
   "cell_type": "markdown",
   "metadata": {},
   "source": [
    "### GridSearchCV"
   ]
  },
  {
   "cell_type": "markdown",
   "metadata": {},
   "source": [
    "#### Base"
   ]
  },
  {
   "cell_type": "code",
   "execution_count": 26,
   "metadata": {},
   "outputs": [],
   "source": [
    "from sklearn.model_selection import GridSearchCV\n",
    "\n",
    "params = {\n",
    "    'objective':['binary:logistic'],\n",
    "    'learning_rate': [0.025, 0.05, 0.1, 0.2, 0.3],\n",
    "    'max_depth': [5, 10, 15, 20, 40, 60, 100],\n",
    "    'silent': [1],\n",
    "    'n_estimators': [5, 10, 15, 20, 40, 60, 100, 1000],\n",
    "    'seed': [1]\n",
    "}"
   ]
  },
  {
   "cell_type": "code",
   "execution_count": 27,
   "metadata": {},
   "outputs": [
    {
     "name": "stdout",
     "output_type": "stream",
     "text": [
      "Fitting 5 folds for each of 280 candidates, totalling 1400 fits\n"
     ]
    },
    {
     "name": "stderr",
     "output_type": "stream",
     "text": [
      "[Parallel(n_jobs=5)]: Using backend LokyBackend with 5 concurrent workers.\n",
      "[Parallel(n_jobs=5)]: Done  31 tasks      | elapsed:    2.8s\n",
      "[Parallel(n_jobs=5)]: Done 297 tasks      | elapsed:   16.7s\n",
      "[Parallel(n_jobs=5)]: Done 690 tasks      | elapsed:   33.0s\n",
      "[Parallel(n_jobs=5)]: Done 1256 tasks      | elapsed:   53.8s\n",
      "[Parallel(n_jobs=5)]: Done 1400 out of 1400 | elapsed:   59.8s finished\n"
     ]
    },
    {
     "data": {
      "text/plain": [
       "GridSearchCV(estimator=XGBClassifier(base_score=None, booster=None,\n",
       "                                     colsample_bylevel=None,\n",
       "                                     colsample_bynode=None,\n",
       "                                     colsample_bytree=None, gamma=None,\n",
       "                                     gpu_id=None, importance_type='gain',\n",
       "                                     interaction_constraints=None,\n",
       "                                     learning_rate=None, max_delta_step=None,\n",
       "                                     max_depth=None, min_child_weight=None,\n",
       "                                     missing=nan, monotone_constraints=None,\n",
       "                                     n_estimators=100, n_jobs=None...\n",
       "                                     reg_alpha=None, reg_lambda=None,\n",
       "                                     scale_pos_weight=None, subsample=None,\n",
       "                                     tree_method=None, validate_parameters=None,\n",
       "                                     verbosity=None),\n",
       "             n_jobs=5,\n",
       "             param_grid={'learning_rate': [0.025, 0.05, 0.1, 0.2, 0.3],\n",
       "                         'max_depth': [5, 10, 15, 20, 40, 60, 100],\n",
       "                         'n_estimators': [5, 10, 15, 20, 40, 60, 100, 1000],\n",
       "                         'objective': ['binary:logistic'], 'seed': [1],\n",
       "                         'silent': [1]},\n",
       "             refit=False, scoring='accuracy', verbose=2)"
      ]
     },
     "execution_count": 27,
     "metadata": {},
     "output_type": "execute_result"
    }
   ],
   "source": [
    "model = xgb.XGBClassifier()\n",
    "clf = GridSearchCV(model, params, n_jobs=5, scoring='accuracy', verbose=2, refit=False)\n",
    "clf.fit(train_x, train_y)"
   ]
  },
  {
   "cell_type": "code",
   "execution_count": 28,
   "metadata": {},
   "outputs": [
    {
     "data": {
      "text/plain": [
       "0.8193710375996485"
      ]
     },
     "execution_count": 28,
     "metadata": {},
     "output_type": "execute_result"
    }
   ],
   "source": [
    "clf.best_score_"
   ]
  },
  {
   "cell_type": "code",
   "execution_count": 29,
   "metadata": {},
   "outputs": [
    {
     "data": {
      "text/plain": [
       "{'learning_rate': 0.3,\n",
       " 'max_depth': 15,\n",
       " 'n_estimators': 5,\n",
       " 'objective': 'binary:logistic',\n",
       " 'seed': 1,\n",
       " 'silent': 1}"
      ]
     },
     "execution_count": 29,
     "metadata": {},
     "output_type": "execute_result"
    }
   ],
   "source": [
    "clf.best_params_"
   ]
  },
  {
   "cell_type": "markdown",
   "metadata": {},
   "source": [
    "#### Without PassengerId"
   ]
  },
  {
   "cell_type": "code",
   "execution_count": 30,
   "metadata": {},
   "outputs": [
    {
     "name": "stdout",
     "output_type": "stream",
     "text": [
      "Fitting 5 folds for each of 280 candidates, totalling 1400 fits\n"
     ]
    },
    {
     "name": "stderr",
     "output_type": "stream",
     "text": [
      "[Parallel(n_jobs=5)]: Using backend LokyBackend with 5 concurrent workers.\n",
      "[Parallel(n_jobs=5)]: Done  82 tasks      | elapsed:    1.8s\n",
      "[Parallel(n_jobs=5)]: Done 363 tasks      | elapsed:   15.7s\n",
      "[Parallel(n_jobs=5)]: Done 770 tasks      | elapsed:   33.8s\n",
      "[Parallel(n_jobs=5)]: Done 1336 tasks      | elapsed:   55.7s\n",
      "[Parallel(n_jobs=5)]: Done 1400 out of 1400 | elapsed:   59.1s finished\n"
     ]
    },
    {
     "data": {
      "text/plain": [
       "GridSearchCV(estimator=XGBClassifier(base_score=None, booster=None,\n",
       "                                     colsample_bylevel=None,\n",
       "                                     colsample_bynode=None,\n",
       "                                     colsample_bytree=None, gamma=None,\n",
       "                                     gpu_id=None, importance_type='gain',\n",
       "                                     interaction_constraints=None,\n",
       "                                     learning_rate=None, max_delta_step=None,\n",
       "                                     max_depth=None, min_child_weight=None,\n",
       "                                     missing=nan, monotone_constraints=None,\n",
       "                                     n_estimators=100, n_jobs=None...\n",
       "                                     reg_alpha=None, reg_lambda=None,\n",
       "                                     scale_pos_weight=None, subsample=None,\n",
       "                                     tree_method=None, validate_parameters=None,\n",
       "                                     verbosity=None),\n",
       "             n_jobs=5,\n",
       "             param_grid={'learning_rate': [0.025, 0.05, 0.1, 0.2, 0.3],\n",
       "                         'max_depth': [5, 10, 15, 20, 40, 60, 100],\n",
       "                         'n_estimators': [5, 10, 15, 20, 40, 60, 100, 1000],\n",
       "                         'objective': ['binary:logistic'], 'seed': [1],\n",
       "                         'silent': [1]},\n",
       "             refit=False, scoring='accuracy', verbose=2)"
      ]
     },
     "execution_count": 30,
     "metadata": {},
     "output_type": "execute_result"
    }
   ],
   "source": [
    "clf_2 = GridSearchCV(model, params, n_jobs=5, scoring='accuracy', verbose=2, refit=False)\n",
    "clf_2.fit(train_x.drop('PassengerId', axis=1), train_y)"
   ]
  },
  {
   "cell_type": "code",
   "execution_count": 31,
   "metadata": {},
   "outputs": [
    {
     "data": {
      "text/plain": [
       "0.831680371602536"
      ]
     },
     "execution_count": 31,
     "metadata": {},
     "output_type": "execute_result"
    }
   ],
   "source": [
    "clf_2.best_score_"
   ]
  },
  {
   "cell_type": "code",
   "execution_count": 32,
   "metadata": {},
   "outputs": [
    {
     "data": {
      "text/plain": [
       "{'learning_rate': 0.05,\n",
       " 'max_depth': 20,\n",
       " 'n_estimators': 60,\n",
       " 'objective': 'binary:logistic',\n",
       " 'seed': 1,\n",
       " 'silent': 1}"
      ]
     },
     "execution_count": 32,
     "metadata": {},
     "output_type": "execute_result"
    }
   ],
   "source": [
    "clf_2.best_params_"
   ]
  },
  {
   "cell_type": "markdown",
   "metadata": {},
   "source": [
    "### GridSearch against KFold"
   ]
  },
  {
   "cell_type": "code",
   "execution_count": 33,
   "metadata": {},
   "outputs": [
    {
     "name": "stdout",
     "output_type": "stream",
     "text": [
      "Fitting 5 folds for each of 280 candidates, totalling 1400 fits\n"
     ]
    },
    {
     "name": "stderr",
     "output_type": "stream",
     "text": [
      "[Parallel(n_jobs=5)]: Using backend LokyBackend with 5 concurrent workers.\n",
      "[Parallel(n_jobs=5)]: Done  82 tasks      | elapsed:    1.4s\n",
      "[Parallel(n_jobs=5)]: Done 488 tasks      | elapsed:   13.4s\n",
      "[Parallel(n_jobs=5)]: Done 1300 tasks      | elapsed:   35.0s\n",
      "[Parallel(n_jobs=5)]: Done 1400 out of 1400 | elapsed:   39.1s finished\n",
      "[Parallel(n_jobs=5)]: Using backend LokyBackend with 5 concurrent workers.\n"
     ]
    },
    {
     "name": "stdout",
     "output_type": "stream",
     "text": [
      "Fitting 5 folds for each of 280 candidates, totalling 1400 fits\n"
     ]
    },
    {
     "name": "stderr",
     "output_type": "stream",
     "text": [
      "[Parallel(n_jobs=5)]: Done  82 tasks      | elapsed:    1.5s\n",
      "[Parallel(n_jobs=5)]: Done 404 tasks      | elapsed:   13.3s\n",
      "[Parallel(n_jobs=5)]: Done 810 tasks      | elapsed:   24.9s\n",
      "[Parallel(n_jobs=5)]: Done 1376 tasks      | elapsed:   39.8s\n",
      "[Parallel(n_jobs=5)]: Done 1400 out of 1400 | elapsed:   41.5s finished\n",
      "[Parallel(n_jobs=5)]: Using backend LokyBackend with 5 concurrent workers.\n"
     ]
    },
    {
     "name": "stdout",
     "output_type": "stream",
     "text": [
      "Fitting 5 folds for each of 280 candidates, totalling 1400 fits\n"
     ]
    },
    {
     "name": "stderr",
     "output_type": "stream",
     "text": [
      "[Parallel(n_jobs=5)]: Done  82 tasks      | elapsed:    1.4s\n",
      "[Parallel(n_jobs=5)]: Done 404 tasks      | elapsed:   12.7s\n",
      "[Parallel(n_jobs=5)]: Done 810 tasks      | elapsed:   25.4s\n",
      "[Parallel(n_jobs=5)]: Done 1376 tasks      | elapsed:   40.8s\n",
      "[Parallel(n_jobs=5)]: Done 1400 out of 1400 | elapsed:   42.5s finished\n",
      "[Parallel(n_jobs=5)]: Using backend LokyBackend with 5 concurrent workers.\n"
     ]
    },
    {
     "name": "stdout",
     "output_type": "stream",
     "text": [
      "Fitting 5 folds for each of 280 candidates, totalling 1400 fits\n"
     ]
    },
    {
     "name": "stderr",
     "output_type": "stream",
     "text": [
      "[Parallel(n_jobs=5)]: Done  82 tasks      | elapsed:    1.4s\n",
      "[Parallel(n_jobs=5)]: Done 498 tasks      | elapsed:   15.0s\n",
      "[Parallel(n_jobs=5)]: Done 1310 tasks      | elapsed:   37.0s\n",
      "[Parallel(n_jobs=5)]: Done 1391 out of 1400 | elapsed:   39.5s remaining:    0.3s\n",
      "[Parallel(n_jobs=5)]: Done 1400 out of 1400 | elapsed:   40.3s finished\n"
     ]
    }
   ],
   "source": [
    "from sklearn.model_selection import KFold\n",
    "\n",
    "best_params_lst = []\n",
    "kf = KFold(n_splits=4, shuffle=True, random_state=1)\n",
    "\n",
    "for tr_idx, va_idx in kf.split(train_x):\n",
    "    tr_x, va_x = train_x.iloc[tr_idx], train_x.iloc[va_idx]\n",
    "    tr_y, va_y = train_y.iloc[tr_idx], train_y.iloc[va_idx]\n",
    "    \n",
    "    model = xgb.XGBClassifier()\n",
    "    clf_3 = GridSearchCV(model, params, n_jobs=5, scoring='accuracy', verbose=2, refit=False)\n",
    "    clf_3.fit(tr_x.drop('PassengerId', axis=1), tr_y)\n",
    "\n",
    "    best_params_lst.append({'best_params': clf_3.best_params_, 'best_score': clf_3.best_score_})"
   ]
  },
  {
   "cell_type": "code",
   "execution_count": 34,
   "metadata": {},
   "outputs": [
    {
     "data": {
      "text/plain": [
       "[{'best_params': {'learning_rate': 0.2,\n",
       "   'max_depth': 5,\n",
       "   'n_estimators': 5,\n",
       "   'objective': 'binary:logistic',\n",
       "   'seed': 1,\n",
       "   'silent': 1},\n",
       "  'best_score': 0.848793625855684},\n",
       " {'best_params': {'learning_rate': 0.1,\n",
       "   'max_depth': 5,\n",
       "   'n_estimators': 60,\n",
       "   'objective': 'binary:logistic',\n",
       "   'seed': 1,\n",
       "   'silent': 1},\n",
       "  'best_score': 0.8457973291437548},\n",
       " {'best_params': {'learning_rate': 0.1,\n",
       "   'max_depth': 5,\n",
       "   'n_estimators': 100,\n",
       "   'objective': 'binary:logistic',\n",
       "   'seed': 1,\n",
       "   'silent': 1},\n",
       "  'best_score': 0.812894175737852},\n",
       " {'best_params': {'learning_rate': 0.2,\n",
       "   'max_depth': 5,\n",
       "   'n_estimators': 40,\n",
       "   'objective': 'binary:logistic',\n",
       "   'seed': 1,\n",
       "   'silent': 1},\n",
       "  'best_score': 0.8221860621703513}]"
      ]
     },
     "execution_count": 34,
     "metadata": {},
     "output_type": "execute_result"
    }
   ],
   "source": [
    "best_params_lst"
   ]
  },
  {
   "cell_type": "code",
   "execution_count": 35,
   "metadata": {},
   "outputs": [
    {
     "name": "stdout",
     "output_type": "stream",
     "text": [
      "learning_rate: 0.1/0.2\n",
      "max_depth: 5\n",
      "n_estimator: 5/60\n"
     ]
    }
   ],
   "source": [
    "print('learning_rate: 0.1/0.2')\n",
    "print('max_depth: 5')\n",
    "print('n_estimator: 5/60')"
   ]
  },
  {
   "cell_type": "markdown",
   "metadata": {},
   "source": [
    "### Create model based on GridSearch"
   ]
  },
  {
   "cell_type": "code",
   "execution_count": 36,
   "metadata": {},
   "outputs": [
    {
     "name": "stderr",
     "output_type": "stream",
     "text": [
      "[INFO] 2021-02-07 14:27:22,077 >>\t=== XGB SKLEARN MODEL ===\n",
      "[INFO] 2021-02-07 14:27:22,078 >>\tPARAMS: {'model_name': 'grid_search', 'n_estimator': 5, 'learning_rate': 0.2, 'max_depth': 5}\n",
      "[INFO] 2021-02-07 14:27:22,126 >>\tACCURACY: 0.8215488215488216\n",
      "[INFO] 2021-02-07 14:27:22,127 >>\tLOGLOSS: 2.8762932454855696\n",
      "[INFO] 2021-02-07 14:27:22,128 >>\tdata size: 891\n",
      "[INFO] 2021-02-07 14:27:22,128 >>\tcorrect predictions: 732\n",
      "[INFO] 2021-02-07 14:27:22,129 >>\t\n"
     ]
    }
   ],
   "source": [
    "model = ModelXGBSklearn(n_estimators=5, learning_rate=0.2, verbose=False, max_depth=5, logging=True, model_name='grid_search')\n",
    "pred_train, preds_test = get_pred_result(model, train_x.drop('PassengerId', axis=1), train_y, test_x.drop('PassengerId', axis=1))\n",
    "get_acc_and_logloss(pred_train, train_y, logging=True)"
   ]
  },
  {
   "cell_type": "code",
   "execution_count": 37,
   "metadata": {},
   "outputs": [
    {
     "name": "stderr",
     "output_type": "stream",
     "text": [
      "[INFO] 2021-02-07 14:27:22,177 >>\t=== XGB SKLEARN MODEL ===\n",
      "[INFO] 2021-02-07 14:27:22,178 >>\tPARAMS: {'model_name': 'grid_search', 'n_estimator': 60, 'learning_rate': 0.1, 'max_depth': 5}\n",
      "[INFO] 2021-02-07 14:27:22,309 >>\tACCURACY: 0.8271604938271605\n",
      "[INFO] 2021-02-07 14:27:22,310 >>\tLOGLOSS: 2.78584377550382\n",
      "[INFO] 2021-02-07 14:27:22,311 >>\tdata size: 891\n",
      "[INFO] 2021-02-07 14:27:22,311 >>\tcorrect predictions: 737\n",
      "[INFO] 2021-02-07 14:27:22,312 >>\t\n"
     ]
    }
   ],
   "source": [
    "model = ModelXGBSklearn(n_estimators=60, learning_rate=0.1, verbose=False, max_depth=5, logging=True, model_name='grid_search')\n",
    "pred_train, preds_test = get_pred_result(model, train_x.drop('PassengerId', axis=1), train_y, test_x.drop('PassengerId', axis=1))\n",
    "get_acc_and_logloss(pred_train, train_y, logging=True)"
   ]
  },
  {
   "cell_type": "code",
   "execution_count": 38,
   "metadata": {},
   "outputs": [
    {
     "name": "stderr",
     "output_type": "stream",
     "text": [
      "[INFO] 2021-02-07 14:27:22,360 >>\t=== XGB SKLEARN MODEL ===\n",
      "[INFO] 2021-02-07 14:27:22,361 >>\tPARAMS: {'model_name': 'grid_search', 'n_estimator': 100, 'learning_rate': 0.1, 'max_depth': 5}\n",
      "[INFO] 2021-02-07 14:27:22,553 >>\tACCURACY: 0.8170594837261503\n",
      "[INFO] 2021-02-07 14:27:22,554 >>\tLOGLOSS: 2.9486528214766405\n",
      "[INFO] 2021-02-07 14:27:22,555 >>\tdata size: 891\n",
      "[INFO] 2021-02-07 14:27:22,556 >>\tcorrect predictions: 728\n",
      "[INFO] 2021-02-07 14:27:22,556 >>\t\n"
     ]
    }
   ],
   "source": [
    "model = ModelXGBSklearn(n_estimators=100, learning_rate=0.1, verbose=False, max_depth=5, logging=True, model_name='grid_search')\n",
    "pred_train, preds_test = get_pred_result(model, train_x.drop('PassengerId', axis=1), train_y, test_x.drop('PassengerId', axis=1))\n",
    "get_acc_and_logloss(pred_train, train_y, logging=True)"
   ]
  },
  {
   "cell_type": "code",
   "execution_count": 39,
   "metadata": {},
   "outputs": [
    {
     "name": "stderr",
     "output_type": "stream",
     "text": [
      "[INFO] 2021-02-07 14:27:22,603 >>\t=== XGB SKLEARN MODEL ===\n",
      "[INFO] 2021-02-07 14:27:22,604 >>\tPARAMS: {'model_name': 'grid_search', 'n_estimator': 40, 'learning_rate': 0.2, 'max_depth': 5}\n",
      "[INFO] 2021-02-07 14:27:22,700 >>\tACCURACY: 0.8226711560044894\n",
      "[INFO] 2021-02-07 14:27:22,701 >>\tLOGLOSS: 2.858203351493119\n",
      "[INFO] 2021-02-07 14:27:22,701 >>\tdata size: 891\n",
      "[INFO] 2021-02-07 14:27:22,702 >>\tcorrect predictions: 733\n",
      "[INFO] 2021-02-07 14:27:22,703 >>\t\n"
     ]
    }
   ],
   "source": [
    "model = ModelXGBSklearn(n_estimators=40, learning_rate=0.2, verbose=False, max_depth=5, logging=True, model_name='grid_search')\n",
    "pred_train, preds_test = get_pred_result(model, train_x.drop('PassengerId', axis=1), train_y, test_x.drop('PassengerId', axis=1))\n",
    "get_acc_and_logloss(pred_train, train_y, logging=True)"
   ]
  },
  {
   "cell_type": "markdown",
   "metadata": {},
   "source": [
    "### Submission"
   ]
  },
  {
   "cell_type": "code",
   "execution_count": 40,
   "metadata": {},
   "outputs": [
    {
     "data": {
      "text/plain": [
       "XGBClassifier(base_score=0.5, booster='gbtree', colsample_bylevel=1,\n",
       "              colsample_bynode=1, colsample_bytree=1, gamma=0, gpu_id=-1,\n",
       "              importance_type='gain', interaction_constraints='',\n",
       "              learning_rate=0.1, max_delta_step=0, max_depth=5,\n",
       "              min_child_weight=1, missing=nan, monotone_constraints='()',\n",
       "              n_estimators=60, n_jobs=0, num_parallel_tree=1, random_state=1,\n",
       "              reg_alpha=0, reg_lambda=1, scale_pos_weight=1, subsample=1,\n",
       "              tree_method='exact', validate_parameters=1, verbosity=None)"
      ]
     },
     "execution_count": 40,
     "metadata": {},
     "output_type": "execute_result"
    }
   ],
   "source": [
    "model = ModelXGBSklearn(n_estimators=60, learning_rate=0.1, verbose=False, max_depth=5, logging=False, model_name='submission')\n",
    "model.model.fit(train_x.drop('PassengerId', axis=1), train_y, eval_metric='logloss', eval_set=[(train_x.drop('PassengerId', axis=1), train_y)], verbose=False)"
   ]
  },
  {
   "cell_type": "code",
   "execution_count": 41,
   "metadata": {},
   "outputs": [],
   "source": [
    "prediction = model.predict(test_x.drop('PassengerId', axis=1))"
   ]
  },
  {
   "cell_type": "code",
   "execution_count": 42,
   "metadata": {},
   "outputs": [],
   "source": [
    "submission = pd.DataFrame({'PassengerId': test_x['PassengerId'].values, 'Survived': prediction})"
   ]
  },
  {
   "cell_type": "code",
   "execution_count": 47,
   "metadata": {},
   "outputs": [],
   "source": [
    "submission_file_path = 'submissions/xgb_submission_{}.csv'.format(today.strftime('%Y%m%d'))\n",
    "submission.to_csv(submission_file_path, index=False)"
   ]
  },
  {
   "cell_type": "code",
   "execution_count": null,
   "metadata": {},
   "outputs": [],
   "source": []
  }
 ],
 "metadata": {
  "kernelspec": {
   "display_name": "Python 3",
   "language": "python",
   "name": "python3"
  },
  "language_info": {
   "codemirror_mode": {
    "name": "ipython",
    "version": 3
   },
   "file_extension": ".py",
   "mimetype": "text/x-python",
   "name": "python",
   "nbconvert_exporter": "python",
   "pygments_lexer": "ipython3",
   "version": "3.7.9"
  }
 },
 "nbformat": 4,
 "nbformat_minor": 4
}
